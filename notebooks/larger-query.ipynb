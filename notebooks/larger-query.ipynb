{
 "cells": [
  {
   "cell_type": "code",
   "execution_count": 1,
   "id": "48a9f617",
   "metadata": {},
   "outputs": [],
   "source": [
    "import os\n",
    "import numpy as np\n",
    "import pandas as pd\n",
    "from datetime import datetime\n",
    "import matplotlib.pyplot as plt\n",
    "import sys\n",
    "sys.path.append(\"../scripts/twitter\")\n",
    "from searchTwitter import TwitterDataFrame, TwitterSearchTerm\n",
    "# import utils as ut"
   ]
  },
  {
   "cell_type": "code",
   "execution_count": 5,
   "id": "66c64604",
   "metadata": {},
   "outputs": [
    {
     "name": "stdout",
     "output_type": "stream",
     "text": [
      "===========================================\n",
      "Total tweets for query test -has:links -is:retweet point_radius:[-122.5 37.8 25mi] has:geo lang:en -has:media place_country:us :\n",
      "88\n",
      "===========================================\n"
     ]
    },
    {
     "data": {
      "text/html": [
       "<div>\n",
       "<style scoped>\n",
       "    .dataframe tbody tr th:only-of-type {\n",
       "        vertical-align: middle;\n",
       "    }\n",
       "\n",
       "    .dataframe tbody tr th {\n",
       "        vertical-align: top;\n",
       "    }\n",
       "\n",
       "    .dataframe thead th {\n",
       "        text-align: right;\n",
       "    }\n",
       "</style>\n",
       "<table border=\"1\" class=\"dataframe\">\n",
       "  <thead>\n",
       "    <tr style=\"text-align: right;\">\n",
       "      <th></th>\n",
       "      <th>end</th>\n",
       "      <th>start</th>\n",
       "      <th>tweet_count</th>\n",
       "    </tr>\n",
       "  </thead>\n",
       "  <tbody>\n",
       "    <tr>\n",
       "      <th>0</th>\n",
       "      <td>2018-01-02T00:00:00.000Z</td>\n",
       "      <td>2018-01-01T00:00:00.000Z</td>\n",
       "      <td>6</td>\n",
       "    </tr>\n",
       "    <tr>\n",
       "      <th>1</th>\n",
       "      <td>2018-01-03T00:00:00.000Z</td>\n",
       "      <td>2018-01-02T00:00:00.000Z</td>\n",
       "      <td>11</td>\n",
       "    </tr>\n",
       "    <tr>\n",
       "      <th>2</th>\n",
       "      <td>2018-01-04T00:00:00.000Z</td>\n",
       "      <td>2018-01-03T00:00:00.000Z</td>\n",
       "      <td>14</td>\n",
       "    </tr>\n",
       "    <tr>\n",
       "      <th>3</th>\n",
       "      <td>2018-01-05T00:00:00.000Z</td>\n",
       "      <td>2018-01-04T00:00:00.000Z</td>\n",
       "      <td>14</td>\n",
       "    </tr>\n",
       "    <tr>\n",
       "      <th>4</th>\n",
       "      <td>2018-01-06T00:00:00.000Z</td>\n",
       "      <td>2018-01-05T00:00:00.000Z</td>\n",
       "      <td>9</td>\n",
       "    </tr>\n",
       "    <tr>\n",
       "      <th>5</th>\n",
       "      <td>2018-01-07T00:00:00.000Z</td>\n",
       "      <td>2018-01-06T00:00:00.000Z</td>\n",
       "      <td>10</td>\n",
       "    </tr>\n",
       "    <tr>\n",
       "      <th>6</th>\n",
       "      <td>2018-01-08T00:00:00.000Z</td>\n",
       "      <td>2018-01-07T00:00:00.000Z</td>\n",
       "      <td>7</td>\n",
       "    </tr>\n",
       "    <tr>\n",
       "      <th>7</th>\n",
       "      <td>2018-01-09T00:00:00.000Z</td>\n",
       "      <td>2018-01-08T00:00:00.000Z</td>\n",
       "      <td>9</td>\n",
       "    </tr>\n",
       "    <tr>\n",
       "      <th>8</th>\n",
       "      <td>2018-01-10T00:00:00.000Z</td>\n",
       "      <td>2018-01-09T00:00:00.000Z</td>\n",
       "      <td>8</td>\n",
       "    </tr>\n",
       "  </tbody>\n",
       "</table>\n",
       "</div>"
      ],
      "text/plain": [
       "                        end                     start  tweet_count\n",
       "0  2018-01-02T00:00:00.000Z  2018-01-01T00:00:00.000Z            6\n",
       "1  2018-01-03T00:00:00.000Z  2018-01-02T00:00:00.000Z           11\n",
       "2  2018-01-04T00:00:00.000Z  2018-01-03T00:00:00.000Z           14\n",
       "3  2018-01-05T00:00:00.000Z  2018-01-04T00:00:00.000Z           14\n",
       "4  2018-01-06T00:00:00.000Z  2018-01-05T00:00:00.000Z            9\n",
       "5  2018-01-07T00:00:00.000Z  2018-01-06T00:00:00.000Z           10\n",
       "6  2018-01-08T00:00:00.000Z  2018-01-07T00:00:00.000Z            7\n",
       "7  2018-01-09T00:00:00.000Z  2018-01-08T00:00:00.000Z            9\n",
       "8  2018-01-10T00:00:00.000Z  2018-01-09T00:00:00.000Z            8"
      ]
     },
     "execution_count": 5,
     "metadata": {},
     "output_type": "execute_result"
    }
   ],
   "source": [
    "qt = \"test -has:links -is:retweet point_radius:[-122.5 37.8 25mi] has:geo lang:en -has:media place_country:us\"\n",
    "all_search = TwitterSearchTerm(qt,  \"2018-01-01T00:00:00z\", \"2018-01-10T00:00:00z\")\n",
    "all_search.get_term_count()"
   ]
  },
  {
   "cell_type": "code",
   "execution_count": 6,
   "id": "0222c528",
   "metadata": {},
   "outputs": [
    {
     "name": "stdout",
     "output_type": "stream",
     "text": [
      "Making request 1 of 1\n",
      "Query finished\n"
     ]
    }
   ],
   "source": [
    "test = all_search.get_tweets()"
   ]
  },
  {
   "cell_type": "code",
   "execution_count": 8,
   "id": "0b8c17e2",
   "metadata": {},
   "outputs": [
    {
     "data": {
      "text/html": [
       "<div>\n",
       "<style scoped>\n",
       "    .dataframe tbody tr th:only-of-type {\n",
       "        vertical-align: middle;\n",
       "    }\n",
       "\n",
       "    .dataframe tbody tr th {\n",
       "        vertical-align: top;\n",
       "    }\n",
       "\n",
       "    .dataframe thead th {\n",
       "        text-align: right;\n",
       "    }\n",
       "</style>\n",
       "<table border=\"1\" class=\"dataframe\">\n",
       "  <thead>\n",
       "    <tr style=\"text-align: right;\">\n",
       "      <th></th>\n",
       "      <th>id</th>\n",
       "      <th>author_id</th>\n",
       "      <th>text</th>\n",
       "      <th>geo</th>\n",
       "      <th>created_at</th>\n",
       "      <th>lat</th>\n",
       "      <th>lon</th>\n",
       "    </tr>\n",
       "  </thead>\n",
       "  <tbody>\n",
       "    <tr>\n",
       "      <th>0</th>\n",
       "      <td>950863672133402624</td>\n",
       "      <td>2662477235</td>\n",
       "      <td>Bruce actually passed the California smog test...</td>\n",
       "      <td>{'place_id': '6a71821001635bbd'}</td>\n",
       "      <td>2018-01-09 22:55:40</td>\n",
       "      <td>37.649122</td>\n",
       "      <td>-122.500164</td>\n",
       "    </tr>\n",
       "    <tr>\n",
       "      <th>1</th>\n",
       "      <td>950806070905028608</td>\n",
       "      <td>230592213</td>\n",
       "      <td>@DynastySkyler @Paeno Kind of like, if I take ...</td>\n",
       "      <td>{'place_id': '5a110d312052166f'}</td>\n",
       "      <td>2018-01-09 19:06:47</td>\n",
       "      <td>37.708075</td>\n",
       "      <td>-122.514926</td>\n",
       "    </tr>\n",
       "    <tr>\n",
       "      <th>2</th>\n",
       "      <td>950804225742655488</td>\n",
       "      <td>12767662</td>\n",
       "      <td>@grabbou @AdamRackis @kurtiskemple I think the...</td>\n",
       "      <td>{'place_id': '5a110d312052166f'}</td>\n",
       "      <td>2018-01-09 18:59:27</td>\n",
       "      <td>37.708075</td>\n",
       "      <td>-122.514926</td>\n",
       "    </tr>\n",
       "    <tr>\n",
       "      <th>3</th>\n",
       "      <td>950627299153465344</td>\n",
       "      <td>14993332</td>\n",
       "      <td>@deanboop There should be a test, background c...</td>\n",
       "      <td>{'place_id': 'ab2f2fac83aa388d'}</td>\n",
       "      <td>2018-01-09 07:16:24</td>\n",
       "      <td>37.699279</td>\n",
       "      <td>-122.342660</td>\n",
       "    </tr>\n",
       "    <tr>\n",
       "      <th>4</th>\n",
       "      <td>950617242844086272</td>\n",
       "      <td>823760390249025536</td>\n",
       "      <td>@jeffabender1 @FoxNews I bet you won’t put tha...</td>\n",
       "      <td>{'place_id': '746cc5651750e057'}</td>\n",
       "      <td>2018-01-09 06:36:26</td>\n",
       "      <td>37.634511</td>\n",
       "      <td>-122.471871</td>\n",
       "    </tr>\n",
       "    <tr>\n",
       "      <th>...</th>\n",
       "      <td>...</td>\n",
       "      <td>...</td>\n",
       "      <td>...</td>\n",
       "      <td>...</td>\n",
       "      <td>...</td>\n",
       "      <td>...</td>\n",
       "      <td>...</td>\n",
       "    </tr>\n",
       "    <tr>\n",
       "      <th>82</th>\n",
       "      <td>947838453110095872</td>\n",
       "      <td>90488576</td>\n",
       "      <td>@RobMeaney @copyconstruct Hrm.. *does* it?  😑🤔...</td>\n",
       "      <td>{'place_id': '5a110d312052166f'}</td>\n",
       "      <td>2018-01-01 14:34:31</td>\n",
       "      <td>37.708075</td>\n",
       "      <td>-122.514926</td>\n",
       "    </tr>\n",
       "    <tr>\n",
       "      <th>83</th>\n",
       "      <td>947748211036319744</td>\n",
       "      <td>1253053693</td>\n",
       "      <td>Of all time \\n1)The entire history of you \\n2)...</td>\n",
       "      <td>{'place_id': '101f6a0f4879d8a6'}</td>\n",
       "      <td>2018-01-01 08:35:56</td>\n",
       "      <td>37.497748</td>\n",
       "      <td>-122.328890</td>\n",
       "    </tr>\n",
       "    <tr>\n",
       "      <th>84</th>\n",
       "      <td>947734438711922688</td>\n",
       "      <td>8657052</td>\n",
       "      <td>@puppygames Wait how do you test your builds????</td>\n",
       "      <td>{'place_id': 'ccb1d10a24cf562a'}</td>\n",
       "      <td>2018-01-01 07:41:12</td>\n",
       "      <td>38.041997</td>\n",
       "      <td>-122.199321</td>\n",
       "    </tr>\n",
       "    <tr>\n",
       "      <th>85</th>\n",
       "      <td>947721862544420865</td>\n",
       "      <td>726823645</td>\n",
       "      <td>@CNN watching @Andy and @andersoncooper is aki...</td>\n",
       "      <td>{'place_id': '5a110d312052166f'}</td>\n",
       "      <td>2018-01-01 06:51:14</td>\n",
       "      <td>37.708075</td>\n",
       "      <td>-122.514926</td>\n",
       "    </tr>\n",
       "    <tr>\n",
       "      <th>86</th>\n",
       "      <td>947661287953018880</td>\n",
       "      <td>39200434</td>\n",
       "      <td>@daveambrose @hqtrivia @ScottRogowsky Big test...</td>\n",
       "      <td>{'place_id': '5a110d312052166f'}</td>\n",
       "      <td>2018-01-01 02:50:32</td>\n",
       "      <td>37.708075</td>\n",
       "      <td>-122.514926</td>\n",
       "    </tr>\n",
       "  </tbody>\n",
       "</table>\n",
       "<p>87 rows × 7 columns</p>\n",
       "</div>"
      ],
      "text/plain": [
       "                    id           author_id  \\\n",
       "0   950863672133402624          2662477235   \n",
       "1   950806070905028608           230592213   \n",
       "2   950804225742655488            12767662   \n",
       "3   950627299153465344            14993332   \n",
       "4   950617242844086272  823760390249025536   \n",
       "..                 ...                 ...   \n",
       "82  947838453110095872            90488576   \n",
       "83  947748211036319744          1253053693   \n",
       "84  947734438711922688             8657052   \n",
       "85  947721862544420865           726823645   \n",
       "86  947661287953018880            39200434   \n",
       "\n",
       "                                                 text  \\\n",
       "0   Bruce actually passed the California smog test...   \n",
       "1   @DynastySkyler @Paeno Kind of like, if I take ...   \n",
       "2   @grabbou @AdamRackis @kurtiskemple I think the...   \n",
       "3   @deanboop There should be a test, background c...   \n",
       "4   @jeffabender1 @FoxNews I bet you won’t put tha...   \n",
       "..                                                ...   \n",
       "82  @RobMeaney @copyconstruct Hrm.. *does* it?  😑🤔...   \n",
       "83  Of all time \\n1)The entire history of you \\n2)...   \n",
       "84   @puppygames Wait how do you test your builds????   \n",
       "85  @CNN watching @Andy and @andersoncooper is aki...   \n",
       "86  @daveambrose @hqtrivia @ScottRogowsky Big test...   \n",
       "\n",
       "                                 geo          created_at        lat  \\\n",
       "0   {'place_id': '6a71821001635bbd'} 2018-01-09 22:55:40  37.649122   \n",
       "1   {'place_id': '5a110d312052166f'} 2018-01-09 19:06:47  37.708075   \n",
       "2   {'place_id': '5a110d312052166f'} 2018-01-09 18:59:27  37.708075   \n",
       "3   {'place_id': 'ab2f2fac83aa388d'} 2018-01-09 07:16:24  37.699279   \n",
       "4   {'place_id': '746cc5651750e057'} 2018-01-09 06:36:26  37.634511   \n",
       "..                               ...                 ...        ...   \n",
       "82  {'place_id': '5a110d312052166f'} 2018-01-01 14:34:31  37.708075   \n",
       "83  {'place_id': '101f6a0f4879d8a6'} 2018-01-01 08:35:56  37.497748   \n",
       "84  {'place_id': 'ccb1d10a24cf562a'} 2018-01-01 07:41:12  38.041997   \n",
       "85  {'place_id': '5a110d312052166f'} 2018-01-01 06:51:14  37.708075   \n",
       "86  {'place_id': '5a110d312052166f'} 2018-01-01 02:50:32  37.708075   \n",
       "\n",
       "           lon  \n",
       "0  -122.500164  \n",
       "1  -122.514926  \n",
       "2  -122.514926  \n",
       "3  -122.342660  \n",
       "4  -122.471871  \n",
       "..         ...  \n",
       "82 -122.514926  \n",
       "83 -122.328890  \n",
       "84 -122.199321  \n",
       "85 -122.514926  \n",
       "86 -122.514926  \n",
       "\n",
       "[87 rows x 7 columns]"
      ]
     },
     "execution_count": 8,
     "metadata": {},
     "output_type": "execute_result"
    }
   ],
   "source": [
    "t2 = TwitterDataFrame(test)\n",
    "t2"
   ]
  },
  {
   "cell_type": "code",
   "execution_count": 9,
   "id": "db4be9d5",
   "metadata": {},
   "outputs": [
    {
     "data": {
      "text/html": [
       "<div>\n",
       "<style scoped>\n",
       "    .dataframe tbody tr th:only-of-type {\n",
       "        vertical-align: middle;\n",
       "    }\n",
       "\n",
       "    .dataframe tbody tr th {\n",
       "        vertical-align: top;\n",
       "    }\n",
       "\n",
       "    .dataframe thead th {\n",
       "        text-align: right;\n",
       "    }\n",
       "</style>\n",
       "<table border=\"1\" class=\"dataframe\">\n",
       "  <thead>\n",
       "    <tr style=\"text-align: right;\">\n",
       "      <th></th>\n",
       "      <th>text</th>\n",
       "    </tr>\n",
       "    <tr>\n",
       "      <th>date</th>\n",
       "      <th></th>\n",
       "    </tr>\n",
       "  </thead>\n",
       "  <tbody>\n",
       "    <tr>\n",
       "      <th>2018-01-01</th>\n",
       "      <td>2018 is starting off with a bang. Around 3am I...</td>\n",
       "    </tr>\n",
       "    <tr>\n",
       "      <th>2018-01-02</th>\n",
       "      <td>I play dumb to see if you try to test my intel...</td>\n",
       "    </tr>\n",
       "    <tr>\n",
       "      <th>2018-01-03</th>\n",
       "      <td>@fbartho @nevercodeHQ Nice to meet you @fbarth...</td>\n",
       "    </tr>\n",
       "    <tr>\n",
       "      <th>2018-01-04</th>\n",
       "      <td>@SuperUnisonBand @leg_dog dis the shit right h...</td>\n",
       "    </tr>\n",
       "    <tr>\n",
       "      <th>2018-01-05</th>\n",
       "      <td>@sanjaymanjrekar Completely agree with you. Wh...</td>\n",
       "    </tr>\n",
       "    <tr>\n",
       "      <th>2018-01-06</th>\n",
       "      <td>Diet ProTip - When at restaurant, tell your se...</td>\n",
       "    </tr>\n",
       "    <tr>\n",
       "      <th>2018-01-07</th>\n",
       "      <td>@JspiderSF @eean @daguilarcanabal Supervisor J...</td>\n",
       "    </tr>\n",
       "    <tr>\n",
       "      <th>2018-01-08</th>\n",
       "      <td>@Jaxidian Let me test again. I've never had au...</td>\n",
       "    </tr>\n",
       "    <tr>\n",
       "      <th>2018-01-09</th>\n",
       "      <td>Bruce actually passed the California smog test...</td>\n",
       "    </tr>\n",
       "  </tbody>\n",
       "</table>\n",
       "</div>"
      ],
      "text/plain": [
       "                                                         text\n",
       "date                                                         \n",
       "2018-01-01  2018 is starting off with a bang. Around 3am I...\n",
       "2018-01-02  I play dumb to see if you try to test my intel...\n",
       "2018-01-03  @fbartho @nevercodeHQ Nice to meet you @fbarth...\n",
       "2018-01-04  @SuperUnisonBand @leg_dog dis the shit right h...\n",
       "2018-01-05  @sanjaymanjrekar Completely agree with you. Wh...\n",
       "2018-01-06  Diet ProTip - When at restaurant, tell your se...\n",
       "2018-01-07  @JspiderSF @eean @daguilarcanabal Supervisor J...\n",
       "2018-01-08  @Jaxidian Let me test again. I've never had au...\n",
       "2018-01-09  Bruce actually passed the California smog test..."
      ]
     },
     "execution_count": 9,
     "metadata": {},
     "output_type": "execute_result"
    }
   ],
   "source": [
    "t2.group_by_day()"
   ]
  },
  {
   "cell_type": "code",
   "execution_count": 4,
   "id": "1b24f069",
   "metadata": {},
   "outputs": [
    {
     "data": {
      "text/html": [
       "<div>\n",
       "<style scoped>\n",
       "    .dataframe tbody tr th:only-of-type {\n",
       "        vertical-align: middle;\n",
       "    }\n",
       "\n",
       "    .dataframe tbody tr th {\n",
       "        vertical-align: top;\n",
       "    }\n",
       "\n",
       "    .dataframe thead th {\n",
       "        text-align: right;\n",
       "    }\n",
       "</style>\n",
       "<table border=\"1\" class=\"dataframe\">\n",
       "  <thead>\n",
       "    <tr style=\"text-align: right;\">\n",
       "      <th></th>\n",
       "      <th>id</th>\n",
       "      <th>author_id</th>\n",
       "      <th>text</th>\n",
       "      <th>geo</th>\n",
       "      <th>created_at</th>\n",
       "      <th>lat</th>\n",
       "      <th>lon</th>\n",
       "    </tr>\n",
       "  </thead>\n",
       "  <tbody>\n",
       "    <tr>\n",
       "      <th>0</th>\n",
       "      <td>947947806441971712</td>\n",
       "      <td>39554451</td>\n",
       "      <td>2018 is starting off with a bang. Around 3am I...</td>\n",
       "      <td>{'place_id': '61f1d75eb5064808'}</td>\n",
       "      <td>2018-01-01 21:49:03</td>\n",
       "      <td>37.667637</td>\n",
       "      <td>-122.202424</td>\n",
       "    </tr>\n",
       "    <tr>\n",
       "      <th>1</th>\n",
       "      <td>947838453110095872</td>\n",
       "      <td>90488576</td>\n",
       "      <td>@RobMeaney @copyconstruct Hrm.. *does* it?  😑🤔...</td>\n",
       "      <td>{'place_id': '5a110d312052166f'}</td>\n",
       "      <td>2018-01-01 14:34:31</td>\n",
       "      <td>37.708075</td>\n",
       "      <td>-122.514926</td>\n",
       "    </tr>\n",
       "    <tr>\n",
       "      <th>2</th>\n",
       "      <td>947748211036319744</td>\n",
       "      <td>1253053693</td>\n",
       "      <td>Of all time \\n1)The entire history of you \\n2)...</td>\n",
       "      <td>{'place_id': '101f6a0f4879d8a6'}</td>\n",
       "      <td>2018-01-01 08:35:56</td>\n",
       "      <td>37.497748</td>\n",
       "      <td>-122.328890</td>\n",
       "    </tr>\n",
       "    <tr>\n",
       "      <th>3</th>\n",
       "      <td>947734438711922688</td>\n",
       "      <td>8657052</td>\n",
       "      <td>@puppygames Wait how do you test your builds????</td>\n",
       "      <td>{'place_id': 'ccb1d10a24cf562a'}</td>\n",
       "      <td>2018-01-01 07:41:12</td>\n",
       "      <td>38.041997</td>\n",
       "      <td>-122.199321</td>\n",
       "    </tr>\n",
       "    <tr>\n",
       "      <th>4</th>\n",
       "      <td>947721862544420865</td>\n",
       "      <td>726823645</td>\n",
       "      <td>@CNN watching @Andy and @andersoncooper is aki...</td>\n",
       "      <td>{'place_id': '5a110d312052166f'}</td>\n",
       "      <td>2018-01-01 06:51:14</td>\n",
       "      <td>37.708075</td>\n",
       "      <td>-122.514926</td>\n",
       "    </tr>\n",
       "    <tr>\n",
       "      <th>5</th>\n",
       "      <td>947661287953018880</td>\n",
       "      <td>39200434</td>\n",
       "      <td>@daveambrose @hqtrivia @ScottRogowsky Big test...</td>\n",
       "      <td>{'place_id': '5a110d312052166f'}</td>\n",
       "      <td>2018-01-01 02:50:32</td>\n",
       "      <td>37.708075</td>\n",
       "      <td>-122.514926</td>\n",
       "    </tr>\n",
       "  </tbody>\n",
       "</table>\n",
       "</div>"
      ],
      "text/plain": [
       "                   id   author_id  \\\n",
       "0  947947806441971712    39554451   \n",
       "1  947838453110095872    90488576   \n",
       "2  947748211036319744  1253053693   \n",
       "3  947734438711922688     8657052   \n",
       "4  947721862544420865   726823645   \n",
       "5  947661287953018880    39200434   \n",
       "\n",
       "                                                text  \\\n",
       "0  2018 is starting off with a bang. Around 3am I...   \n",
       "1  @RobMeaney @copyconstruct Hrm.. *does* it?  😑🤔...   \n",
       "2  Of all time \\n1)The entire history of you \\n2)...   \n",
       "3   @puppygames Wait how do you test your builds????   \n",
       "4  @CNN watching @Andy and @andersoncooper is aki...   \n",
       "5  @daveambrose @hqtrivia @ScottRogowsky Big test...   \n",
       "\n",
       "                                geo          created_at        lat         lon  \n",
       "0  {'place_id': '61f1d75eb5064808'} 2018-01-01 21:49:03  37.667637 -122.202424  \n",
       "1  {'place_id': '5a110d312052166f'} 2018-01-01 14:34:31  37.708075 -122.514926  \n",
       "2  {'place_id': '101f6a0f4879d8a6'} 2018-01-01 08:35:56  37.497748 -122.328890  \n",
       "3  {'place_id': 'ccb1d10a24cf562a'} 2018-01-01 07:41:12  38.041997 -122.199321  \n",
       "4  {'place_id': '5a110d312052166f'} 2018-01-01 06:51:14  37.708075 -122.514926  \n",
       "5  {'place_id': '5a110d312052166f'} 2018-01-01 02:50:32  37.708075 -122.514926  "
      ]
     },
     "execution_count": 4,
     "metadata": {},
     "output_type": "execute_result"
    }
   ],
   "source": [
    "test"
   ]
  },
  {
   "cell_type": "code",
   "execution_count": 3,
   "id": "cd2e84e8",
   "metadata": {},
   "outputs": [
    {
     "name": "stdout",
     "output_type": "stream",
     "text": [
      "===========================================\n",
      "Total tweets for query -has:links -is:retweet point_radius:[-122.5 37.8 25mi] has:geo lang:en -has:media place_country:us :\n",
      "2734221\n",
      "===========================================\n"
     ]
    },
    {
     "data": {
      "text/html": [
       "<div>\n",
       "<style scoped>\n",
       "    .dataframe tbody tr th:only-of-type {\n",
       "        vertical-align: middle;\n",
       "    }\n",
       "\n",
       "    .dataframe tbody tr th {\n",
       "        vertical-align: top;\n",
       "    }\n",
       "\n",
       "    .dataframe thead th {\n",
       "        text-align: right;\n",
       "    }\n",
       "</style>\n",
       "<table border=\"1\" class=\"dataframe\">\n",
       "  <thead>\n",
       "    <tr style=\"text-align: right;\">\n",
       "      <th></th>\n",
       "      <th>end</th>\n",
       "      <th>start</th>\n",
       "      <th>tweet_count</th>\n",
       "    </tr>\n",
       "  </thead>\n",
       "  <tbody>\n",
       "    <tr>\n",
       "      <th>0</th>\n",
       "      <td>2018-12-18T00:00:00.000Z</td>\n",
       "      <td>2018-12-17T00:00:00.000Z</td>\n",
       "      <td>6378</td>\n",
       "    </tr>\n",
       "    <tr>\n",
       "      <th>1</th>\n",
       "      <td>2018-12-19T00:00:00.000Z</td>\n",
       "      <td>2018-12-18T00:00:00.000Z</td>\n",
       "      <td>6834</td>\n",
       "    </tr>\n",
       "    <tr>\n",
       "      <th>2</th>\n",
       "      <td>2018-12-20T00:00:00.000Z</td>\n",
       "      <td>2018-12-19T00:00:00.000Z</td>\n",
       "      <td>6934</td>\n",
       "    </tr>\n",
       "    <tr>\n",
       "      <th>3</th>\n",
       "      <td>2018-12-21T00:00:00.000Z</td>\n",
       "      <td>2018-12-20T00:00:00.000Z</td>\n",
       "      <td>6864</td>\n",
       "    </tr>\n",
       "    <tr>\n",
       "      <th>4</th>\n",
       "      <td>2018-12-22T00:00:00.000Z</td>\n",
       "      <td>2018-12-21T00:00:00.000Z</td>\n",
       "      <td>7095</td>\n",
       "    </tr>\n",
       "    <tr>\n",
       "      <th>...</th>\n",
       "      <td>...</td>\n",
       "      <td>...</td>\n",
       "      <td>...</td>\n",
       "    </tr>\n",
       "    <tr>\n",
       "      <th>6</th>\n",
       "      <td>2018-01-08T00:00:00.000Z</td>\n",
       "      <td>2018-01-07T00:00:00.000Z</td>\n",
       "      <td>7458</td>\n",
       "    </tr>\n",
       "    <tr>\n",
       "      <th>7</th>\n",
       "      <td>2018-01-09T00:00:00.000Z</td>\n",
       "      <td>2018-01-08T00:00:00.000Z</td>\n",
       "      <td>7800</td>\n",
       "    </tr>\n",
       "    <tr>\n",
       "      <th>8</th>\n",
       "      <td>2018-01-10T00:00:00.000Z</td>\n",
       "      <td>2018-01-09T00:00:00.000Z</td>\n",
       "      <td>8659</td>\n",
       "    </tr>\n",
       "    <tr>\n",
       "      <th>9</th>\n",
       "      <td>2018-01-11T00:00:00.000Z</td>\n",
       "      <td>2018-01-10T00:00:00.000Z</td>\n",
       "      <td>7279</td>\n",
       "    </tr>\n",
       "    <tr>\n",
       "      <th>10</th>\n",
       "      <td>2018-01-12T00:00:00.000Z</td>\n",
       "      <td>2018-01-11T00:00:00.000Z</td>\n",
       "      <td>7558</td>\n",
       "    </tr>\n",
       "  </tbody>\n",
       "</table>\n",
       "<p>365 rows × 3 columns</p>\n",
       "</div>"
      ],
      "text/plain": [
       "                         end                     start  tweet_count\n",
       "0   2018-12-18T00:00:00.000Z  2018-12-17T00:00:00.000Z         6378\n",
       "1   2018-12-19T00:00:00.000Z  2018-12-18T00:00:00.000Z         6834\n",
       "2   2018-12-20T00:00:00.000Z  2018-12-19T00:00:00.000Z         6934\n",
       "3   2018-12-21T00:00:00.000Z  2018-12-20T00:00:00.000Z         6864\n",
       "4   2018-12-22T00:00:00.000Z  2018-12-21T00:00:00.000Z         7095\n",
       "..                       ...                       ...          ...\n",
       "6   2018-01-08T00:00:00.000Z  2018-01-07T00:00:00.000Z         7458\n",
       "7   2018-01-09T00:00:00.000Z  2018-01-08T00:00:00.000Z         7800\n",
       "8   2018-01-10T00:00:00.000Z  2018-01-09T00:00:00.000Z         8659\n",
       "9   2018-01-11T00:00:00.000Z  2018-01-10T00:00:00.000Z         7279\n",
       "10  2018-01-12T00:00:00.000Z  2018-01-11T00:00:00.000Z         7558\n",
       "\n",
       "[365 rows x 3 columns]"
      ]
     },
     "execution_count": 3,
     "metadata": {},
     "output_type": "execute_result"
    }
   ],
   "source": [
    "qt = \"-has:links -is:retweet point_radius:[-122.5 37.8 25mi] has:geo lang:en -has:media place_country:us\"\n",
    "\n",
    "all_search = TwitterSearchTerm(qt,  \"2018-01-01T00:00:00z\", \"2019-01-01T00:00:00z\")\n",
    "\n",
    "all_search.get_term_count()"
   ]
  },
  {
   "cell_type": "markdown",
   "id": "8ee24830",
   "metadata": {},
   "source": [
    "This seems like a much more reasonable number. Let's make sure that the code is updated to pick up more information about the user, too."
   ]
  },
  {
   "cell_type": "markdown",
   "id": "a9e0704c",
   "metadata": {},
   "source": [
    "# Looking at this data"
   ]
  },
  {
   "cell_type": "code",
   "execution_count": 3,
   "id": "d6a1b138",
   "metadata": {},
   "outputs": [],
   "source": [
    "df = pd.read_csv('../data/san_francisco/2018-06.csv')"
   ]
  },
  {
   "cell_type": "code",
   "execution_count": 21,
   "id": "eeb76d60",
   "metadata": {},
   "outputs": [
    {
     "data": {
      "text/plain": [
       "10.964813800657174"
      ]
     },
     "execution_count": 21,
     "metadata": {},
     "output_type": "execute_result"
    }
   ],
   "source": [
    "#pd.pivot_table(df, index='author_id',columns=\"None\",aggfunc='count')\n",
    "np.mean(df.groupby(\"author_id\").count()['id'])"
   ]
  },
  {
   "cell_type": "code",
   "execution_count": 23,
   "id": "ae325fa4",
   "metadata": {},
   "outputs": [
    {
     "data": {
      "text/plain": [
       "21912"
      ]
     },
     "execution_count": 23,
     "metadata": {},
     "output_type": "execute_result"
    }
   ],
   "source": [
    "len(set(df['author_id']))"
   ]
  },
  {
   "cell_type": "markdown",
   "id": "b1c3fc56",
   "metadata": {},
   "source": [
    "So we have ~22,000 users in this month, each averaging about 11 tweets per month."
   ]
  },
  {
   "cell_type": "code",
   "execution_count": 28,
   "id": "37d12096",
   "metadata": {},
   "outputs": [
    {
     "data": {
      "text/plain": [
       "(array([14129.,  3211.,  1337.,   756.,   476.,   336.,   262.,   193.,\n",
       "          149.,   136.]),\n",
       " array([ 0.,  5., 10., 15., 20., 25., 30., 35., 40., 45., 50.]),\n",
       " <BarContainer object of 10 artists>)"
      ]
     },
     "execution_count": 28,
     "metadata": {},
     "output_type": "execute_result"
    },
    {
     "data": {
      "image/png": "[encoded data removed]",
      "text/plain": [
       "<Figure size 432x288 with 1 Axes>"
      ]
     },
     "metadata": {
      "needs_background": "light"
     },
     "output_type": "display_data"
    }
   ],
   "source": [
    "plt.hist(df.groupby(\"author_id\").count()['id'], range=(0,50))"
   ]
  },
  {
   "cell_type": "code",
   "execution_count": 2,
   "id": "8865745a",
   "metadata": {},
   "outputs": [
    {
     "name": "stderr",
     "output_type": "stream",
     "text": [
      "/opt/conda/lib/python3.7/site-packages/IPython/core/interactiveshell.py:3441: DtypeWarning: Columns (0,1) have mixed types.Specify dtype option on import or set low_memory=False.\n",
      "  exec(code_obj, self.user_global_ns, self.user_ns)\n"
     ]
    }
   ],
   "source": [
    "months = ['05','06','07','08','09','10','11','12']\n",
    "all_df = []\n",
    "for m in months:\n",
    "    all_df.append(pd.read_csv('../data/san_francisco/2018-'+m+'.csv'))\n",
    "    \n",
    "all_df = pd.concat(all_df)"
   ]
  },
  {
   "cell_type": "code",
   "execution_count": 3,
   "id": "2bafe14d",
   "metadata": {},
   "outputs": [],
   "source": [
    "from nltk.tokenize import TweetTokenizer\n",
    "import spacy\n",
    "import nltk\n",
    "from nltk.stem import WordNetLemmatizer\n",
    "import re"
   ]
  },
  {
   "cell_type": "code",
   "execution_count": 4,
   "id": "dd5945f7",
   "metadata": {},
   "outputs": [],
   "source": [
    "all_df = all_df.dropna()\n",
    "# not_date = [d for d in all_df['created_at'] if type(d) ==float]\n",
    "all_df['date'] = [datetime.strptime(d,'%Y-%m-%d %H:%M:%S').date() for d in all_df['created_at']]"
   ]
  },
  {
   "cell_type": "code",
   "execution_count": 64,
   "id": "1cf09295",
   "metadata": {},
   "outputs": [],
   "source": [
    "pseudo_docs = pd.pivot_table(all_df,values=\"text\",index=\"date\",aggfunc=\" \".join)\n",
    "docs = pseudo_docs['text']"
   ]
  },
  {
   "cell_type": "code",
   "execution_count": 69,
   "id": "f982b0b0",
   "metadata": {},
   "outputs": [],
   "source": [
    "cleaned_tweets = []\n",
    "lemmatizer = WordNetLemmatizer()\n",
    "tt = TweetTokenizer()\n",
    "stopword_list = nltk.corpus.stopwords.words(\"english\")\n",
    "\n",
    "for d in docs:\n",
    "    t = d.lower()\n",
    "#     t = remove_special_characters(t)\n",
    "    t = tt.tokenize(t)\n",
    "    t = [w for w in t if w.isalpha()]\n",
    "    t = [lemmatizer.lemmatize(w) for w in t]\n",
    "    t = [w for w in t if w not in stopword_list]\n",
    "    cleaned_tweets.append(t)\n",
    "# This is so we can pass this value into the count vectorizer\n",
    "ct = [\" \".join(t) for t in cleaned_tweets]"
   ]
  },
  {
   "cell_type": "code",
   "execution_count": 72,
   "id": "f6f73fee",
   "metadata": {},
   "outputs": [],
   "source": [
    "# Let's see how we can extract feature counts\n",
    "from sklearn.feature_extraction.text import CountVectorizer, TfidfVectorizer\n",
    "# cv = CountVectorizer(stop_words='english', max_df=.9, min_df=5)\n",
    "tf = TfidfVectorizer(stop_words='english', max_df=.7, min_df=5)\n",
    "# termFrequency = cv.fit_transform(ct)\n",
    "# feature_names = cv.get_feature_names_out()\n",
    "tfTermFreq = tf.fit_transform(ct)\n",
    "tf_feature_names = tf.get_feature_names_out()"
   ]
  },
  {
   "cell_type": "code",
   "execution_count": 75,
   "id": "82ea6fb2",
   "metadata": {},
   "outputs": [],
   "source": [
    "from sklearn.decomposition import LatentDirichletAllocation\n",
    "n_components = 10\n",
    "lda = LatentDirichletAllocation(max_iter=1000, n_components=n_components, random_state=42)\n",
    "\n",
    "topic_assignment = lda.fit_transform(tfTermFreq)"
   ]
  },
  {
   "cell_type": "code",
   "execution_count": 76,
   "id": "fb952c6d",
   "metadata": {},
   "outputs": [
    {
     "name": "stdout",
     "output_type": "stream",
     "text": [
      "Topic 0 pyle trenchcoat nestled aspires jumpshots tmrws geological wyte douse helpfully fuerza authorizing munger redic fireeee annexed waif looooooong yusss sala\n",
      "Topic 1 pyle trenchcoat nestled aspires jumpshots tmrws geological wyte douse helpfully fuerza authorizing munger redic fireeee annexed waif looooooong yusss sala\n",
      "Topic 2 pyle trenchcoat nestled aspires jumpshots tmrws geological wyte douse helpfully fuerza authorizing munger redic fireeee annexed waif looooooong yusss sala\n",
      "Topic 3 pyle trenchcoat nestled aspires jumpshots tmrws geological wyte douse helpfully fuerza authorizing munger redic fireeee annexed waif looooooong yusss sala\n",
      "Topic 4 kavanaugh thanksgiving cavs jul patchy aug hazy dec jun sep mccain thu tue merry firework fri oct wed harden saudi\n",
      "Topic 5 pyle trenchcoat nestled aspires jumpshots tmrws geological wyte douse helpfully fuerza authorizing munger redic fireeee annexed waif looooooong yusss sala\n",
      "Topic 6 pyle trenchcoat nestled aspires jumpshots tmrws geological wyte douse helpfully fuerza authorizing munger redic fireeee annexed waif looooooong yusss sala\n",
      "Topic 7 pyle trenchcoat nestled aspires jumpshots tmrws geological wyte douse helpfully fuerza authorizing munger redic fireeee annexed waif looooooong yusss sala\n",
      "Topic 8 pyle trenchcoat nestled aspires jumpshots tmrws geological wyte douse helpfully fuerza authorizing munger redic fireeee annexed waif looooooong yusss sala\n",
      "Topic 9 pyle trenchcoat nestled aspires jumpshots tmrws geological wyte douse helpfully fuerza authorizing munger redic fireeee annexed waif looooooong yusss sala\n"
     ]
    }
   ],
   "source": [
    "for idx, topic in enumerate(lda.components_):\n",
    "    print(\"Topic\", idx,\" \".join(tf_feature_names[i] for i in np.argsort(topic)[:-20 - 1 : -1]))"
   ]
  },
  {
   "cell_type": "markdown",
   "id": "94266639",
   "metadata": {},
   "source": [
    "Looks like these documents are potentially too incoherent for specific words to be assigned.\n",
    "### Now, let's try creating pseudo-docs by group over users."
   ]
  },
  {
   "cell_type": "code",
   "execution_count": 5,
   "id": "431e6b0e",
   "metadata": {},
   "outputs": [],
   "source": [
    "pseudo_docs = pd.pivot_table(all_df,values=\"text\",index=\"author_id\",aggfunc=\" \".join)\n",
    "docs = pseudo_docs['text']"
   ]
  },
  {
   "cell_type": "code",
   "execution_count": 6,
   "id": "749c0d5d",
   "metadata": {},
   "outputs": [],
   "source": [
    "cleaned_tweets = []\n",
    "lemmatizer = WordNetLemmatizer()\n",
    "tt = TweetTokenizer()\n",
    "stopword_list = nltk.corpus.stopwords.words(\"english\")\n",
    "\n",
    "for d in docs:\n",
    "    t = d.lower()\n",
    "#     t = remove_special_characters(t)\n",
    "    t = tt.tokenize(t)\n",
    "    t = [w for w in t if w.isalpha()]\n",
    "    t = [lemmatizer.lemmatize(w) for w in t]\n",
    "    t = [w for w in t if w not in stopword_list]\n",
    "    cleaned_tweets.append(t)\n",
    "# This is so we can pass this value into the count vectorizer\n",
    "ct = [\" \".join(t) for t in cleaned_tweets]"
   ]
  },
  {
   "cell_type": "code",
   "execution_count": 7,
   "id": "2ab1d0a1",
   "metadata": {},
   "outputs": [],
   "source": [
    "# Let's see how we can extract feature counts\n",
    "from sklearn.feature_extraction.text import CountVectorizer, TfidfVectorizer\n",
    "# cv = CountVectorizer(stop_words='english', max_df=.9, min_df=5)\n",
    "tf = TfidfVectorizer(stop_words='english', max_df=.7, min_df=5)\n",
    "# termFrequency = cv.fit_transform(ct)\n",
    "# feature_names = cv.get_feature_names_out()\n",
    "tfTermFreq = tf.fit_transform(ct)\n",
    "tf_feature_names = tf.get_feature_names_out()"
   ]
  },
  {
   "cell_type": "code",
   "execution_count": null,
   "id": "0bffa089",
   "metadata": {},
   "outputs": [],
   "source": [
    "from sklearn.decomposition import LatentDirichletAllocation\n",
    "n_components = 100\n",
    "lda = LatentDirichletAllocation(max_iter=1000, n_components=n_components, random_state=42)\n",
    "\n",
    "topic_assignment = lda.fit_transform(tfTermFreq)"
   ]
  },
  {
   "cell_type": "code",
   "execution_count": null,
   "id": "70f571f0",
   "metadata": {},
   "outputs": [],
   "source": [
    "for idx, topic in enumerate(lda.components_):\n",
    "    print(\"Topic\", idx,\" \".join(tf_feature_names[i] for i in np.argsort(topic)[:-20 - 1 : -1]))"
   ]
  }
 ],
 "metadata": {
  "kernelspec": {
   "display_name": "Python 3 (ipykernel)",
   "language": "python",
   "name": "python3"
  },
  "language_info": {
   "codemirror_mode": {
    "name": "ipython",
    "version": 3
   },
   "file_extension": ".py",
   "mimetype": "text/x-python",
   "name": "python",
   "nbconvert_exporter": "python",
   "pygments_lexer": "ipython3",
   "version": "3.7.11"
  }
 },
 "nbformat": 4,
 "nbformat_minor": 5
}
