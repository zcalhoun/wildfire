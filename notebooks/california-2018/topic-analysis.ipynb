{
 "cells": [
  {
   "cell_type": "code",
   "execution_count": 6,
   "id": "ece4f84d",
   "metadata": {},
   "outputs": [
    {
     "data": {
      "text/html": [
       "<div>\n",
       "<style scoped>\n",
       "    .dataframe tbody tr th:only-of-type {\n",
       "        vertical-align: middle;\n",
       "    }\n",
       "\n",
       "    .dataframe tbody tr th {\n",
       "        vertical-align: top;\n",
       "    }\n",
       "\n",
       "    .dataframe thead th {\n",
       "        text-align: right;\n",
       "    }\n",
       "</style>\n",
       "<table border=\"1\" class=\"dataframe\">\n",
       "  <thead>\n",
       "    <tr style=\"text-align: right;\">\n",
       "      <th></th>\n",
       "      <th>Unnamed: 0</th>\n",
       "      <th>id</th>\n",
       "      <th>text</th>\n",
       "      <th>geo</th>\n",
       "      <th>created_at</th>\n",
       "      <th>lat</th>\n",
       "      <th>lon</th>\n",
       "      <th>date</th>\n",
       "    </tr>\n",
       "  </thead>\n",
       "  <tbody>\n",
       "    <tr>\n",
       "      <th>0</th>\n",
       "      <td>13</td>\n",
       "      <td>1091061532023173121</td>\n",
       "      <td>@kapono_lucas All their soups are pretty fire....</td>\n",
       "      <td>{'place_id': '8fa6d7a33b83ef26'}</td>\n",
       "      <td>2019-01-31 19:51:54</td>\n",
       "      <td>35.984784</td>\n",
       "      <td>-115.209254</td>\n",
       "      <td>2019-01-31</td>\n",
       "    </tr>\n",
       "    <tr>\n",
       "      <th>1</th>\n",
       "      <td>17</td>\n",
       "      <td>1091043370649116672</td>\n",
       "      <td>PG&amp;amp;E attorney: Goal is to establish a trus...</td>\n",
       "      <td>{'place_id': '5a110d312052166f'}</td>\n",
       "      <td>2019-01-31 18:39:44</td>\n",
       "      <td>37.708075</td>\n",
       "      <td>-122.514926</td>\n",
       "      <td>2019-01-31</td>\n",
       "    </tr>\n",
       "    <tr>\n",
       "      <th>2</th>\n",
       "      <td>18</td>\n",
       "      <td>1091043339292487680</td>\n",
       "      <td>Attending 411 sen hearing on wildfires. 140 de...</td>\n",
       "      <td>{'place_id': 'b71fac2ee9792cbe'}</td>\n",
       "      <td>2019-01-31 18:39:37</td>\n",
       "      <td>38.437920</td>\n",
       "      <td>-121.576613</td>\n",
       "      <td>2019-01-31</td>\n",
       "    </tr>\n",
       "    <tr>\n",
       "      <th>3</th>\n",
       "      <td>19</td>\n",
       "      <td>1091041883151712257</td>\n",
       "      <td>In bankruptcy court for PG&amp;amp;E hearing. PG&amp;a...</td>\n",
       "      <td>{'place_id': '5a110d312052166f'}</td>\n",
       "      <td>2019-01-31 18:33:50</td>\n",
       "      <td>37.708075</td>\n",
       "      <td>-122.514926</td>\n",
       "      <td>2019-01-31</td>\n",
       "    </tr>\n",
       "    <tr>\n",
       "      <th>4</th>\n",
       "      <td>21</td>\n",
       "      <td>1091020007805317120</td>\n",
       "      <td>@BrandiKruse @waDNR @Hilary_FranzCPL Nope. The...</td>\n",
       "      <td>{'place_id': '3b36422b848153f4'}</td>\n",
       "      <td>2019-01-31 17:06:54</td>\n",
       "      <td>36.527438</td>\n",
       "      <td>-119.430683</td>\n",
       "      <td>2019-01-31</td>\n",
       "    </tr>\n",
       "  </tbody>\n",
       "</table>\n",
       "</div>"
      ],
      "text/plain": [
       "   Unnamed: 0                   id  \\\n",
       "0          13  1091061532023173121   \n",
       "1          17  1091043370649116672   \n",
       "2          18  1091043339292487680   \n",
       "3          19  1091041883151712257   \n",
       "4          21  1091020007805317120   \n",
       "\n",
       "                                                text  \\\n",
       "0  @kapono_lucas All their soups are pretty fire....   \n",
       "1  PG&amp;E attorney: Goal is to establish a trus...   \n",
       "2  Attending 411 sen hearing on wildfires. 140 de...   \n",
       "3  In bankruptcy court for PG&amp;E hearing. PG&a...   \n",
       "4  @BrandiKruse @waDNR @Hilary_FranzCPL Nope. The...   \n",
       "\n",
       "                                geo           created_at        lat  \\\n",
       "0  {'place_id': '8fa6d7a33b83ef26'}  2019-01-31 19:51:54  35.984784   \n",
       "1  {'place_id': '5a110d312052166f'}  2019-01-31 18:39:44  37.708075   \n",
       "2  {'place_id': 'b71fac2ee9792cbe'}  2019-01-31 18:39:37  38.437920   \n",
       "3  {'place_id': '5a110d312052166f'}  2019-01-31 18:33:50  37.708075   \n",
       "4  {'place_id': '3b36422b848153f4'}  2019-01-31 17:06:54  36.527438   \n",
       "\n",
       "          lon        date  \n",
       "0 -115.209254  2019-01-31  \n",
       "1 -122.514926  2019-01-31  \n",
       "2 -121.576613  2019-01-31  \n",
       "3 -122.514926  2019-01-31  \n",
       "4 -119.430683  2019-01-31  "
      ]
     },
     "execution_count": 6,
     "metadata": {},
     "output_type": "execute_result"
    }
   ],
   "source": [
    "import pandas as pd\n",
    "tweets = pd.read_csv('mendocino.csv')\n",
    "tweets.head()"
   ]
  },
  {
   "cell_type": "code",
   "execution_count": 7,
   "id": "ebea532e",
   "metadata": {},
   "outputs": [],
   "source": [
    "from nltk.tokenize import TweetTokenizer"
   ]
  },
  {
   "cell_type": "code",
   "execution_count": 8,
   "id": "79c82d40",
   "metadata": {},
   "outputs": [],
   "source": [
    "from matplotlib import pyplot as plt\n",
    "from nltk.corpus import stopwords\n",
    "import nltk\n",
    "from collections import Counter"
   ]
  },
  {
   "cell_type": "code",
   "execution_count": 9,
   "id": "c7fef217",
   "metadata": {},
   "outputs": [],
   "source": [
    "from sklearn.feature_extraction.text import TfidfVectorizer\n",
    "from sklearn.decomposition import LatentDirichletAllocation"
   ]
  },
  {
   "cell_type": "code",
   "execution_count": 10,
   "id": "3bb16716",
   "metadata": {},
   "outputs": [],
   "source": [
    "tweet_text = tweets['text']"
   ]
  },
  {
   "cell_type": "code",
   "execution_count": 12,
   "id": "78b330b5",
   "metadata": {},
   "outputs": [],
   "source": [
    "tokenizer = TweetTokenizer()\n",
    "\n",
    "tokens = [tokenizer.tokenize(t) for t in tweet_text]"
   ]
  },
  {
   "cell_type": "code",
   "execution_count": 15,
   "id": "e4ea7fda",
   "metadata": {},
   "outputs": [],
   "source": [
    "clean_tweets = []\n",
    "for t in tokens:\n",
    "    # lower case\n",
    "    words = [w.lower() for w in t]\n",
    "    # Only keep alphanumeric words\n",
    "    words = [w for w in words if w.isalpha()]\n",
    "    clean_tweets.append(words)"
   ]
  },
  {
   "cell_type": "code",
   "execution_count": 61,
   "id": "2396571f",
   "metadata": {},
   "outputs": [],
   "source": [
    "tfidf = TfidfVectorizer(stop_words=\"english\", max_df=0.6, min_df=.1)"
   ]
  },
  {
   "cell_type": "code",
   "execution_count": 62,
   "id": "a083cf61",
   "metadata": {},
   "outputs": [],
   "source": [
    "tweet_tfidf = tfidf.fit_transform(tweet_text)"
   ]
  },
  {
   "cell_type": "code",
   "execution_count": 57,
   "id": "cffdb452",
   "metadata": {},
   "outputs": [
    {
     "data": {
      "text/plain": [
       "<5567x1321 sparse matrix of type '<class 'numpy.float64'>'\n",
       "\twith 51030 stored elements in Compressed Sparse Row format>"
      ]
     },
     "execution_count": 57,
     "metadata": {},
     "output_type": "execute_result"
    }
   ],
   "source": [
    "tweet_tfidf"
   ]
  },
  {
   "cell_type": "code",
   "execution_count": 63,
   "id": "9e50e80e",
   "metadata": {},
   "outputs": [],
   "source": [
    "lda = LatentDirichletAllocation(n_components=5, random_state=1).fit(tweet_tfidf)"
   ]
  },
  {
   "cell_type": "code",
   "execution_count": 64,
   "id": "60407429",
   "metadata": {},
   "outputs": [
    {
     "name": "stdout",
     "output_type": "stream",
     "text": [
      "Topic 0:\n",
      "smoke fires like wildfires california wild wildfire forest\n",
      "Topic 1:\n",
      "california wild wildfires fires like forest wildfire smoke\n",
      "Topic 2:\n",
      "fires forest wild like california smoke wildfires wildfire\n",
      "Topic 3:\n",
      "wildfires like smoke fires wild forest california wildfire\n",
      "Topic 4:\n",
      "wildfire like california smoke fires forest wildfires wild\n"
     ]
    }
   ],
   "source": [
    "# n_features=1000\n",
    "n_components=5\n",
    "n_top_words=20\n",
    "feature_names = tfidf.get_feature_names_out()\n",
    "def display_topics(model, feature_names, no_top_words):\n",
    "    for topic_idx, topic in enumerate(model.components_):\n",
    "        print(\"Topic %d:\" % (topic_idx))\n",
    "        print(\" \".join([feature_names[i] for i in topic.argsort()[:-no_top_words - 1:-1]]))\n",
    "        \n",
    "        \n",
    "no_top_words = 40\n",
    "display_topics(lda, feature_names, no_top_words)"
   ]
  },
  {
   "cell_type": "code",
   "execution_count": null,
   "id": "bf32f53c",
   "metadata": {},
   "outputs": [],
   "source": []
  },
  {
   "cell_type": "code",
   "execution_count": 43,
   "id": "dc8514fc",
   "metadata": {},
   "outputs": [
    {
     "data": {
      "text/plain": [
       "array([[0.03732274, 0.03732264, 0.03732228, 0.03732658, 0.0373263 ,\n",
       "        0.03732962, 0.66407573, 0.03732145, 0.03732563, 0.03732703]])"
      ]
     },
     "execution_count": 43,
     "metadata": {},
     "output_type": "execute_result"
    }
   ],
   "source": [
    "lda.transform(tweet_tfidf[0])"
   ]
  },
  {
   "cell_type": "code",
   "execution_count": 46,
   "id": "1396c20d",
   "metadata": {},
   "outputs": [
    {
     "data": {
      "text/plain": [
       "array(['000', '10', '100', ..., 'yr', 'zero', 'zone'], dtype=object)"
      ]
     },
     "execution_count": 46,
     "metadata": {},
     "output_type": "execute_result"
    }
   ],
   "source": [
    "tfidf.get_feature_names_out()"
   ]
  }
 ],
 "metadata": {
  "kernelspec": {
   "display_name": "Python 3 (ipykernel)",
   "language": "python",
   "name": "python3"
  },
  "language_info": {
   "codemirror_mode": {
    "name": "ipython",
    "version": 3
   },
   "file_extension": ".py",
   "mimetype": "text/x-python",
   "name": "python",
   "nbconvert_exporter": "python",
   "pygments_lexer": "ipython3",
   "version": "3.7.11"
  }
 },
 "nbformat": 4,
 "nbformat_minor": 5
}
