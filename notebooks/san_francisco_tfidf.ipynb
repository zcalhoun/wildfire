{
 "cells": [
  {
   "cell_type": "code",
   "execution_count": 1,
   "id": "a2b4cefe",
   "metadata": {},
   "outputs": [],
   "source": [
    "import os\n",
    "import numpy as np\n",
    "import pandas as pd\n",
    "from datetime import datetime\n",
    "import matplotlib.pyplot as plt\n",
    "import seaborn as sns\n",
    "import sys\n",
    "sys.path.append(\"../scripts/twitter\")\n",
    "from searchTwitter import TwitterDataFrame\n",
    "# import utils as ut\n",
    "\n",
    "# ML imports\n",
    "from sklearn.model_selection import train_test_split\n",
    "from sklearn.feature_extraction.text import TfidfVectorizer\n",
    "# from sklearn.decomposition import TruncatedSVD\n",
    "# from sklearn.ensemble import RandomForestClassifier\n",
    "# from sklearn.linear_model import LinearRegression\n",
    "# from sklearn.neighbors import KNeighborsRegressor"
   ]
  },
  {
   "cell_type": "code",
   "execution_count": 2,
   "id": "ace94da6",
   "metadata": {},
   "outputs": [
    {
     "name": "stderr",
     "output_type": "stream",
     "text": [
      "/opt/conda/lib/python3.7/site-packages/IPython/core/interactiveshell.py:3441: DtypeWarning: Columns (0,1) have mixed types.Specify dtype option on import or set low_memory=False.\n",
      "  exec(code_obj, self.user_global_ns, self.user_ns)\n"
     ]
    }
   ],
   "source": [
    "# Load the san francisco data\n",
    "months = ['05','06','07','08','09','10','11','12']\n",
    "all_df = []\n",
    "for m in months:\n",
    "    all_df.append(pd.read_csv('../data/san_francisco/2018-'+m+'.csv'))\n",
    "    \n",
    "all_df = pd.concat(all_df)"
   ]
  },
  {
   "cell_type": "code",
   "execution_count": 3,
   "id": "da8e62b8",
   "metadata": {},
   "outputs": [],
   "source": [
    "# Append the data\n",
    "all_df = all_df.dropna()\n",
    "# not_date = [d for d in all_df['created_at'] if type(d) ==float]\n",
    "all_df['date'] = [datetime.strptime(d,'%Y-%m-%d %H:%M:%S').date() for d in all_df['created_at']]"
   ]
  },
  {
   "cell_type": "code",
   "execution_count": 4,
   "id": "90c15d25",
   "metadata": {},
   "outputs": [
    {
     "data": {
      "text/plain": [
       "18010.77"
      ]
     },
     "execution_count": 4,
     "metadata": {},
     "output_type": "execute_result"
    }
   ],
   "source": [
    "len(all_df)/10**2"
   ]
  },
  {
   "cell_type": "markdown",
   "id": "622a5a32",
   "metadata": {},
   "source": [
    "So if we divided up the tweets into chunks of 100, we should be able to create a model that is a little more robust, and specifically looks for words that account for AQI.\n",
    "\n",
    "Before we do that, let's just see if we can apply TFIDF straight up to the word counts of the documents to predict AQI."
   ]
  },
  {
   "cell_type": "code",
   "execution_count": 4,
   "id": "fa06c53e",
   "metadata": {},
   "outputs": [],
   "source": [
    "import random\n",
    "\n",
    "def agg_tweets_by_date(docs, n_tweets=100):\n",
    "    '''\n",
    "    This function aggreggates tweets based on date, in clusters of the number of\n",
    "    tweets specified in the arguments.\n",
    "    \n",
    "    docs: a dataframe with text and date\n",
    "    n_tweets: the number of tweets to aggreggate\n",
    "    '''\n",
    "    random.seed(1)\n",
    "    # Come up with a label for each tweet.\n",
    "    agg_docs = []\n",
    "    \n",
    "    for d in set(docs['date']):\n",
    "        date_docs = docs[docs['date'] == d]\n",
    "        num_docs = int(len(date_docs)/n_tweets)*n_tweets\n",
    "        \n",
    "        # Discard any extras in this implementation...not ideal, \n",
    "        # but necessary for this quick prototype.\n",
    "        text = date_docs['text'].to_numpy()[:num_docs].reshape(-1,100)\n",
    "        summed_text = np.sum(text, axis=1)\n",
    "        for t in summed_text:\n",
    "            agg_docs.append([d, t])\n",
    "    \n",
    "    return pd.DataFrame(agg_docs, columns=['date','text'])\n",
    "    \n",
    "    \n",
    "dd = agg_tweets_by_date(all_df)"
   ]
  },
  {
   "cell_type": "code",
   "execution_count": 5,
   "id": "633e9df3",
   "metadata": {},
   "outputs": [],
   "source": [
    "# is it possible that these results can create a linear model with AQI?\n",
    "aqi_2018 = pd.read_csv('../data/aqi_data/daily_aqi_by_county_2018.csv')\n",
    "ca_aqi = aqi_2018[aqi_2018['State Name']==\"California\"]\n",
    "\n",
    "# Add in the san francisco county\n",
    "sf_aqi = ca_aqi[ca_aqi['county Name'] == 'San Francisco']\n"
   ]
  },
  {
   "cell_type": "code",
   "execution_count": 6,
   "id": "fe58b410",
   "metadata": {},
   "outputs": [
    {
     "name": "stderr",
     "output_type": "stream",
     "text": [
      "/opt/conda/lib/python3.7/site-packages/ipykernel_launcher.py:1: SettingWithCopyWarning: \n",
      "A value is trying to be set on a copy of a slice from a DataFrame.\n",
      "Try using .loc[row_indexer,col_indexer] = value instead\n",
      "\n",
      "See the caveats in the documentation: https://pandas.pydata.org/pandas-docs/stable/user_guide/indexing.html#returning-a-view-versus-a-copy\n",
      "  \"\"\"Entry point for launching an IPython kernel.\n"
     ]
    }
   ],
   "source": [
    "sf_aqi['date'] = pd.to_datetime(sf_aqi['Date'])"
   ]
  },
  {
   "cell_type": "code",
   "execution_count": 7,
   "id": "66b681f3",
   "metadata": {},
   "outputs": [
    {
     "name": "stderr",
     "output_type": "stream",
     "text": [
      "/opt/conda/lib/python3.7/site-packages/ipykernel_launcher.py:1: SettingWithCopyWarning: \n",
      "A value is trying to be set on a copy of a slice from a DataFrame.\n",
      "Try using .loc[row_indexer,col_indexer] = value instead\n",
      "\n",
      "See the caveats in the documentation: https://pandas.pydata.org/pandas-docs/stable/user_guide/indexing.html#returning-a-view-versus-a-copy\n",
      "  \"\"\"Entry point for launching an IPython kernel.\n"
     ]
    }
   ],
   "source": [
    "\n",
    "sf_aqi['date'] = [d.date() for d in sf_aqi['date']]"
   ]
  },
  {
   "cell_type": "code",
   "execution_count": 8,
   "id": "8f764631",
   "metadata": {},
   "outputs": [],
   "source": [
    "sf_mrg = pd.merge(left=dd, right=sf_aqi, left_on='date', right_on='date', how='left')"
   ]
  },
  {
   "cell_type": "code",
   "execution_count": 45,
   "id": "2eed522d",
   "metadata": {},
   "outputs": [],
   "source": [
    "# Apply the tweet token vectorizer first to clean up the words\n",
    "from nltk.tokenize import TweetTokenizer\n",
    "from nltk.stem import WordNetLemmatizer\n",
    "import nltk\n",
    "\n",
    "cleaned_tweets = []\n",
    "lemmatizer = WordNetLemmatizer()\n",
    "tt = TweetTokenizer()\n",
    "stopword_list = nltk.corpus.stopwords.words(\"english\")\n",
    "health_tweets = sf_mrg['text']\n",
    "for tweet in health_tweets:\n",
    "    t = tweet.lower()\n",
    "#     t = remove_special_characters(t)\n",
    "    t = tt.tokenize(t)\n",
    "    t = [w for w in t if w.isalpha()]\n",
    "    t = [lemmatizer.lemmatize(w) for w in t]\n",
    "#     t = [w for w in t if w not in words_to_remove]\n",
    "    cleaned_tweets.append(t)\n",
    "# This is so we can pass this value into the count vectorizer\n",
    "rejoined_tweets = [\" \".join(t) for t in cleaned_tweets]"
   ]
  },
  {
   "cell_type": "code",
   "execution_count": 46,
   "id": "ee7307e8",
   "metadata": {},
   "outputs": [],
   "source": [
    "X_train, X_test, y_train, y_test = train_test_split(sf_mrg['text'], sf_mrg['AQI'], test_size=0.2)"
   ]
  },
  {
   "cell_type": "code",
   "execution_count": 47,
   "id": "2ab65c6f",
   "metadata": {},
   "outputs": [],
   "source": [
    "# Create a tfidf representation of these tweets\n",
    "tf_vect = TfidfVectorizer(max_df=0.01, min_df=5, stop_words=\"english\")\n",
    "X_enc = tf_vect.fit_transform(X_train)\n",
    "X_test_enc = tf_vect.transform(X_test)"
   ]
  },
  {
   "cell_type": "code",
   "execution_count": 13,
   "id": "39ae9302",
   "metadata": {},
   "outputs": [],
   "source": [
    "from sklearn.decomposition import TruncatedSVD\n",
    "\n",
    "# Use many components...remember, we are scaling from a very\n",
    "# large (10,000 features) to this smaller decomposition, so\n",
    "# don't be afraid to scale it down!\n",
    "svd = TruncatedSVD(n_components=100, n_iter=40, random_state=42)\n",
    "x_svd = svd.fit_transform(X_enc)\n"
   ]
  },
  {
   "cell_type": "code",
   "execution_count": 16,
   "id": "25078655",
   "metadata": {},
   "outputs": [],
   "source": [
    "x_svd_test = svd.transform(X_test_enc)"
   ]
  },
  {
   "cell_type": "code",
   "execution_count": 23,
   "id": "3344f507",
   "metadata": {},
   "outputs": [
    {
     "data": {
      "image/png": "[encoded data removed]",
      "text/plain": [
       "<Figure size 432x288 with 1 Axes>"
      ]
     },
     "metadata": {
      "needs_background": "light"
     },
     "output_type": "display_data"
    }
   ],
   "source": [
    "# Create a lasso model to predict the AQI\n",
    "from sklearn.linear_model import Lasso\n",
    "from sklearn.metrics import mean_squared_error\n",
    "\n",
    "model = Lasso(alpha=0.00001)\n",
    "model.fit(x_svd, y_train)\n",
    "\n",
    "preds = model.predict(x_svd)\n",
    "\n",
    "plt.scatter(preds, y_train)\n",
    "plt.show()"
   ]
  },
  {
   "cell_type": "code",
   "execution_count": 18,
   "id": "86ecd763",
   "metadata": {},
   "outputs": [
    {
     "data": {
      "image/png": "[encoded data removed]",
      "text/plain": [
       "<Figure size 432x288 with 1 Axes>"
      ]
     },
     "metadata": {
      "needs_background": "light"
     },
     "output_type": "display_data"
    }
   ],
   "source": [
    "test_pred = model.predict(x_svd_test)\n",
    "plt.scatter(test_pred, y_test)\n",
    "plt.show()"
   ]
  },
  {
   "cell_type": "code",
   "execution_count": 134,
   "id": "bdcfb0fc",
   "metadata": {},
   "outputs": [
    {
     "data": {
      "image/png": "[encoded data removed]",
      "text/plain": [
       "<Figure size 432x288 with 1 Axes>"
      ]
     },
     "metadata": {
      "needs_background": "light"
     },
     "output_type": "display_data"
    }
   ],
   "source": [
    "model = Lasso(alpha=0.001)\n",
    "model.fit(X_enc, y_train)\n",
    "preds = model.predict(X_enc)\n",
    "\n",
    "plt.scatter(preds, y_train)\n",
    "plt.show()"
   ]
  },
  {
   "cell_type": "code",
   "execution_count": null,
   "id": "e3fbe2ca",
   "metadata": {},
   "outputs": [],
   "source": [
    "model = Lasso(alpha=0.001)\n",
    "model.fit(X_enc, y_train)\n",
    "preds = model.predict(X_enc)\n",
    "\n",
    "plt.scatter(preds, y_train)\n",
    "plt.show()"
   ]
  },
  {
   "cell_type": "code",
   "execution_count": null,
   "id": "0217f406",
   "metadata": {},
   "outputs": [],
   "source": [
    "# Create a lasso model to predict the AQI\n",
    "from sklearn.linear_model import ElasticNet\n",
    "from sklearn.metrics import mean_squared_error\n",
    "\n",
    "model = ElasticNet(alpha=0.001)\n",
    "model.fit(x_svd, y_train)\n",
    "\n",
    "preds = model.predict(x_svd)\n",
    "\n",
    "plt.scatter(preds, y_train)\n",
    "plt.show()"
   ]
  },
  {
   "cell_type": "code",
   "execution_count": 152,
   "id": "08ea18f0",
   "metadata": {},
   "outputs": [
    {
     "data": {
      "image/png": "[encoded data removed]",
      "text/plain": [
       "<Figure size 432x288 with 1 Axes>"
      ]
     },
     "metadata": {
      "needs_background": "light"
     },
     "output_type": "display_data"
    }
   ],
   "source": [
    "from sklearn.neighbors import KNeighborsRegressor\n",
    "\n",
    "model = KNeighborsRegressor(30)\n",
    "\n",
    "model.fit(X_enc, y_train)\n",
    "\n",
    "preds = model.predict(X_test_enc)\n",
    "plt.scatter(preds, y_test)\n",
    "plt.show()"
   ]
  },
  {
   "cell_type": "code",
   "execution_count": null,
   "id": "20d8f7f9",
   "metadata": {},
   "outputs": [],
   "source": [
    "from sklearn.ensemble import RandomForestRegressor\n",
    "\n",
    "model = RandomForestRegressor()\n",
    "\n",
    "model.fit(X_enc, y_train)\n",
    "\n",
    "preds = model.predict(X_test_enc)\n",
    "plt.scatter(preds, y_test)\n",
    "plt.show()"
   ]
  },
  {
   "cell_type": "markdown",
   "id": "6da61c87",
   "metadata": {},
   "source": [
    "It appears that in this method, our word vectors are just too big. We can likely reduce the max_df to 0.5, or even lower...look how often words like \"cough\" appear in a document broken up into 100 tweets.\n",
    "\n",
    "Also, it looks like there might be a problem with how tfidf is creating the vectors. Seems like we need to do some preprocessing before trying this method out."
   ]
  },
  {
   "cell_type": "code",
   "execution_count": 26,
   "id": "28058a79",
   "metadata": {},
   "outputs": [
    {
     "data": {
      "text/plain": [
       "(17891, 2)"
      ]
     },
     "execution_count": 26,
     "metadata": {},
     "output_type": "execute_result"
    }
   ],
   "source": [
    "dd.shape"
   ]
  },
  {
   "cell_type": "code",
   "execution_count": 20,
   "id": "6b073abe",
   "metadata": {},
   "outputs": [
    {
     "data": {
      "text/plain": [
       "(742228, 922694)"
      ]
     },
     "execution_count": 20,
     "metadata": {},
     "output_type": "execute_result"
    }
   ],
   "source": [
    "X_enc.shape"
   ]
  },
  {
   "cell_type": "markdown",
   "id": "8a1e3a07",
   "metadata": {},
   "source": [
    "## Applying a Log Transform to AQI\n",
    "Professor Carlson recommends trying to fit the data to log-AQI, as we should equally weight a 20% different between an AQI of 50 and a 20% difference of a high AQI."
   ]
  },
  {
   "cell_type": "code",
   "execution_count": 43,
   "id": "3f1b7cda",
   "metadata": {},
   "outputs": [
    {
     "data": {
      "image/png": "[encoded data removed]",
      "text/plain": [
       "<Figure size 720x360 with 2 Axes>"
      ]
     },
     "metadata": {
      "needs_background": "light"
     },
     "output_type": "display_data"
    }
   ],
   "source": [
    "plt.figure(figsize=(10,5))\n",
    "plt.subplot(1,2,1)\n",
    "plt.hist(sf_aqi['AQI'], bins=40)\n",
    "plt.xlabel(\"AQI\")\n",
    "plt.ylabel(\"Frequency\")\n",
    "plt.subplot(1,2,2)\n",
    "plt.hist(np.log10(sf_aqi['AQI']), bins=40)\n",
    "plt.xlabel(\"$\\log_{10}(AQI)$\")\n",
    "plt.title(\"Comparing Non-Log Transform with Log Transform of AQI data\", fontdict={'horizontalalignment':'right'})\n",
    "plt.show()"
   ]
  },
  {
   "cell_type": "markdown",
   "id": "b7fb7c99",
   "metadata": {},
   "source": [
    "As shown above, the density of AQI appears more Gaussian through the Log-Transform, which suggests that our data is indeed log-normal. "
   ]
  },
  {
   "cell_type": "code",
   "execution_count": 52,
   "id": "baafdfa7",
   "metadata": {},
   "outputs": [
    {
     "data": {
      "image/png": "[encoded data removed]",
      "text/plain": [
       "<Figure size 432x288 with 1 Axes>"
      ]
     },
     "metadata": {
      "needs_background": "light"
     },
     "output_type": "display_data"
    }
   ],
   "source": [
    "from sklearn.neighbors import KNeighborsRegressor\n",
    "\n",
    "model = KNeighborsRegressor(5)\n",
    "\n",
    "model.fit(X_enc, np.log10(y_train))\n",
    "\n",
    "preds = model.predict(X_test_enc)\n",
    "plt.scatter(preds, np.log10(y_test))\n",
    "plt.show()"
   ]
  },
  {
   "cell_type": "markdown",
   "id": "ff87a2fb",
   "metadata": {},
   "source": [
    "The log transform appears to work OK in this case, with a clear linear relationship between predicted and actual log(AQI)."
   ]
  }
 ],
 "metadata": {
  "kernelspec": {
   "display_name": "Python 3 (ipykernel)",
   "language": "python",
   "name": "python3"
  },
  "language_info": {
   "codemirror_mode": {
    "name": "ipython",
    "version": 3
   },
   "file_extension": ".py",
   "mimetype": "text/x-python",
   "name": "python",
   "nbconvert_exporter": "python",
   "pygments_lexer": "ipython3",
   "version": "3.7.11"
  }
 },
 "nbformat": 4,
 "nbformat_minor": 5
}
