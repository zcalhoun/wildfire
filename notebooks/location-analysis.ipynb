{
 "cells": [
  {
   "cell_type": "code",
   "execution_count": 1,
   "id": "6ec3c406",
   "metadata": {},
   "outputs": [],
   "source": [
    "import os\n",
    "import numpy as np\n",
    "import pandas as pd\n",
    "import matplotlib.pyplot as plt"
   ]
  },
  {
   "cell_type": "markdown",
   "id": "cb568a5e",
   "metadata": {},
   "source": [
    "Let's look at the Kincade fire specifically -- we want to look at the tweets during, before, and after the fire for that region. This fire occurred primarily in Sonoma county."
   ]
  },
  {
   "cell_type": "code",
   "execution_count": 3,
   "id": "9e00d094",
   "metadata": {},
   "outputs": [],
   "source": [
    "# Get a single file\n",
    "df = pd.read_csv('/hpc/home/zdc6/wildfires/data/wildfire_tweets/2019-10.csv')"
   ]
  },
  {
   "cell_type": "code",
   "execution_count": 22,
   "id": "af6551fd",
   "metadata": {},
   "outputs": [],
   "source": [
    "from datetime import datetime\n",
    "df['day'] = [datetime.strptime(d, '%Y-%m-%dT%H:%M:%S.%fZ').date() for d in df['created_at']]"
   ]
  },
  {
   "cell_type": "code",
   "execution_count": 27,
   "id": "9a55837b",
   "metadata": {},
   "outputs": [
    {
     "data": {
      "text/plain": [
       "[<matplotlib.lines.Line2D at 0x7efd04932550>]"
      ]
     },
     "execution_count": 27,
     "metadata": {},
     "output_type": "execute_result"
    },
    {
     "data": {
      "image/png": "[encoded data removed]",
      "text/plain": [
       "<Figure size 432x288 with 1 Axes>"
      ]
     },
     "metadata": {
      "needs_background": "light"
     },
     "output_type": "display_data"
    }
   ],
   "source": [
    "plt.plot(df.groupby('day')['id'].count())"
   ]
  },
  {
   "cell_type": "code",
   "execution_count": 6,
   "id": "f2399ff1",
   "metadata": {},
   "outputs": [
    {
     "data": {
      "text/html": [
       "<div>\n",
       "<style scoped>\n",
       "    .dataframe tbody tr th:only-of-type {\n",
       "        vertical-align: middle;\n",
       "    }\n",
       "\n",
       "    .dataframe tbody tr th {\n",
       "        vertical-align: top;\n",
       "    }\n",
       "\n",
       "    .dataframe thead th {\n",
       "        text-align: right;\n",
       "    }\n",
       "</style>\n",
       "<table border=\"1\" class=\"dataframe\">\n",
       "  <thead>\n",
       "    <tr style=\"text-align: right;\">\n",
       "      <th></th>\n",
       "      <th>id</th>\n",
       "      <th>text</th>\n",
       "      <th>geo</th>\n",
       "      <th>created_at</th>\n",
       "      <th>lat</th>\n",
       "      <th>lon</th>\n",
       "    </tr>\n",
       "  </thead>\n",
       "  <tbody>\n",
       "    <tr>\n",
       "      <th>0</th>\n",
       "      <td>1190055427045593088</td>\n",
       "      <td>\"PG&amp;amp;E donated millions to Ca politicians a...</td>\n",
       "      <td>{'place_id': '5a110d312052166f'}</td>\n",
       "      <td>2019-10-31T23:58:18.000Z</td>\n",
       "      <td>37.708075</td>\n",
       "      <td>-122.514926</td>\n",
       "    </tr>\n",
       "    <tr>\n",
       "      <th>1</th>\n",
       "      <td>1190049936487800832</td>\n",
       "      <td>@patrick22475 Next Wednesday! I was planning t...</td>\n",
       "      <td>{'place_id': '3dc5823629ba0580'}</td>\n",
       "      <td>2019-10-31T23:36:29.000Z</td>\n",
       "      <td>38.667730</td>\n",
       "      <td>-121.373031</td>\n",
       "    </tr>\n",
       "    <tr>\n",
       "      <th>2</th>\n",
       "      <td>1190043911948865536</td>\n",
       "      <td>@1deserthottie @TheReal_Crayon Are you expecti...</td>\n",
       "      <td>{'place_id': '895f19a3c08d3d35'}</td>\n",
       "      <td>2019-10-31T23:12:33.000Z</td>\n",
       "      <td>33.997213</td>\n",
       "      <td>-117.683600</td>\n",
       "    </tr>\n",
       "    <tr>\n",
       "      <th>3</th>\n",
       "      <td>1190039125338083328</td>\n",
       "      <td>@NicoletteGlazer Thanks for spreading the word...</td>\n",
       "      <td>{'place_id': '015b658472edd3dc'}</td>\n",
       "      <td>2019-10-31T22:53:31.000Z</td>\n",
       "      <td>33.955517</td>\n",
       "      <td>-117.551185</td>\n",
       "    </tr>\n",
       "    <tr>\n",
       "      <th>4</th>\n",
       "      <td>1190036857326833666</td>\n",
       "      <td>@JayInslee @AOC WRONG. These fires are not sta...</td>\n",
       "      <td>{'place_id': '3b77caf94bfc81fe'}</td>\n",
       "      <td>2019-10-31T22:44:31.000Z</td>\n",
       "      <td>33.704538</td>\n",
       "      <td>-118.668404</td>\n",
       "    </tr>\n",
       "    <tr>\n",
       "      <th>...</th>\n",
       "      <td>...</td>\n",
       "      <td>...</td>\n",
       "      <td>...</td>\n",
       "      <td>...</td>\n",
       "      <td>...</td>\n",
       "      <td>...</td>\n",
       "    </tr>\n",
       "    <tr>\n",
       "      <th>2287</th>\n",
       "      <td>1178906142711275522</td>\n",
       "      <td>ODOR - SMELL ONLY WITH NO SMOKE VISIBLE at 860...</td>\n",
       "      <td>{'coordinates': {'type': 'Point', 'coordinates...</td>\n",
       "      <td>2019-10-01T05:35:02.000Z</td>\n",
       "      <td>45.585511</td>\n",
       "      <td>-122.722106</td>\n",
       "    </tr>\n",
       "    <tr>\n",
       "      <th>2288</th>\n",
       "      <td>1178891845599813633</td>\n",
       "      <td>@TroyWilliamsUT I can wait! I am still figurin...</td>\n",
       "      <td>{'place_id': 'bd7c511e9f8bc5da'}</td>\n",
       "      <td>2019-10-01T04:38:13.000Z</td>\n",
       "      <td>40.699895</td>\n",
       "      <td>-112.038310</td>\n",
       "    </tr>\n",
       "    <tr>\n",
       "      <th>2289</th>\n",
       "      <td>1178861755830685696</td>\n",
       "      <td>Hey @KPCC you should broadcast California Burn...</td>\n",
       "      <td>{'place_id': 'a62e1723395191c7'}</td>\n",
       "      <td>2019-10-01T02:38:39.000Z</td>\n",
       "      <td>40.120651</td>\n",
       "      <td>-122.288934</td>\n",
       "    </tr>\n",
       "    <tr>\n",
       "      <th>2290</th>\n",
       "      <td>1178840372434259968</td>\n",
       "      <td>I'll go watch the rest.  We'll see.   But stan...</td>\n",
       "      <td>{'place_id': '0509a6acb3d27ec4'}</td>\n",
       "      <td>2019-10-01T01:13:41.000Z</td>\n",
       "      <td>34.126875</td>\n",
       "      <td>-119.061758</td>\n",
       "    </tr>\n",
       "    <tr>\n",
       "      <th>2291</th>\n",
       "      <td>1178827627135553536</td>\n",
       "      <td>SMOKEA - SMOKE INVESTIGATION OUTSIDE A STRUCTU...</td>\n",
       "      <td>{'coordinates': {'type': 'Point', 'coordinates...</td>\n",
       "      <td>2019-10-01T00:23:02.000Z</td>\n",
       "      <td>45.503322</td>\n",
       "      <td>-122.669486</td>\n",
       "    </tr>\n",
       "  </tbody>\n",
       "</table>\n",
       "<p>2292 rows × 6 columns</p>\n",
       "</div>"
      ],
      "text/plain": [
       "                       id                                               text  \\\n",
       "0     1190055427045593088  \"PG&amp;E donated millions to Ca politicians a...   \n",
       "1     1190049936487800832  @patrick22475 Next Wednesday! I was planning t...   \n",
       "2     1190043911948865536  @1deserthottie @TheReal_Crayon Are you expecti...   \n",
       "3     1190039125338083328  @NicoletteGlazer Thanks for spreading the word...   \n",
       "4     1190036857326833666  @JayInslee @AOC WRONG. These fires are not sta...   \n",
       "...                   ...                                                ...   \n",
       "2287  1178906142711275522  ODOR - SMELL ONLY WITH NO SMOKE VISIBLE at 860...   \n",
       "2288  1178891845599813633  @TroyWilliamsUT I can wait! I am still figurin...   \n",
       "2289  1178861755830685696  Hey @KPCC you should broadcast California Burn...   \n",
       "2290  1178840372434259968  I'll go watch the rest.  We'll see.   But stan...   \n",
       "2291  1178827627135553536  SMOKEA - SMOKE INVESTIGATION OUTSIDE A STRUCTU...   \n",
       "\n",
       "                                                    geo  \\\n",
       "0                      {'place_id': '5a110d312052166f'}   \n",
       "1                      {'place_id': '3dc5823629ba0580'}   \n",
       "2                      {'place_id': '895f19a3c08d3d35'}   \n",
       "3                      {'place_id': '015b658472edd3dc'}   \n",
       "4                      {'place_id': '3b77caf94bfc81fe'}   \n",
       "...                                                 ...   \n",
       "2287  {'coordinates': {'type': 'Point', 'coordinates...   \n",
       "2288                   {'place_id': 'bd7c511e9f8bc5da'}   \n",
       "2289                   {'place_id': 'a62e1723395191c7'}   \n",
       "2290                   {'place_id': '0509a6acb3d27ec4'}   \n",
       "2291  {'coordinates': {'type': 'Point', 'coordinates...   \n",
       "\n",
       "                    created_at        lat         lon  \n",
       "0     2019-10-31T23:58:18.000Z  37.708075 -122.514926  \n",
       "1     2019-10-31T23:36:29.000Z  38.667730 -121.373031  \n",
       "2     2019-10-31T23:12:33.000Z  33.997213 -117.683600  \n",
       "3     2019-10-31T22:53:31.000Z  33.955517 -117.551185  \n",
       "4     2019-10-31T22:44:31.000Z  33.704538 -118.668404  \n",
       "...                        ...        ...         ...  \n",
       "2287  2019-10-01T05:35:02.000Z  45.585511 -122.722106  \n",
       "2288  2019-10-01T04:38:13.000Z  40.699895 -112.038310  \n",
       "2289  2019-10-01T02:38:39.000Z  40.120651 -122.288934  \n",
       "2290  2019-10-01T01:13:41.000Z  34.126875 -119.061758  \n",
       "2291  2019-10-01T00:23:02.000Z  45.503322 -122.669486  \n",
       "\n",
       "[2292 rows x 6 columns]"
      ]
     },
     "execution_count": 6,
     "metadata": {},
     "output_type": "execute_result"
    }
   ],
   "source": [
    "mask = df['lat'] > "
   ]
  }
 ],
 "metadata": {
  "kernelspec": {
   "display_name": "Python 3 (ipykernel)",
   "language": "python",
   "name": "python3"
  },
  "language_info": {
   "codemirror_mode": {
    "name": "ipython",
    "version": 3
   },
   "file_extension": ".py",
   "mimetype": "text/x-python",
   "name": "python",
   "nbconvert_exporter": "python",
   "pygments_lexer": "ipython3",
   "version": "3.7.11"
  }
 },
 "nbformat": 4,
 "nbformat_minor": 5
}
