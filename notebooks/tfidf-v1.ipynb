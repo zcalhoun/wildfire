{
 "cells": [
  {
   "cell_type": "markdown",
   "id": "4904348d",
   "metadata": {},
   "source": [
    "# TFIDF V1\n",
    "\n",
    "The goal of this notebook is to load data from multiple locations and compare their performance / validate."
   ]
  },
  {
   "cell_type": "code",
   "execution_count": 2,
   "id": "585b0593",
   "metadata": {},
   "outputs": [],
   "source": [
    "import os\n",
    "from datetime import datetime\n",
    "import sys\n",
    "\n",
    "sys.path.append(\"../scripts/twitter\")\n",
    "from searchTwitter import TwitterDataFrame\n",
    "\n",
    "import numpy as np\n",
    "import pandas as pd\n",
    "\n",
    "import matplotlib.pyplot as plt\n",
    "import seaborn as sns\n",
    "\n",
    "import re\n",
    "import emoji\n",
    "\n",
    "from sklearn.feature_extraction.text import TfidfVectorizer\n",
    "from sklearn.model_selection import train_test_split\n",
    "\n",
    "np.random.seed(23)\n",
    "\n",
    "# Set up sns\n",
    "sns.set(rc = {'figure.figsize':(10,10)})\n",
    "sns.set_style(\"whitegrid\")"
   ]
  },
  {
   "cell_type": "code",
   "execution_count": null,
   "id": "6303eb35",
   "metadata": {},
   "outputs": [],
   "source": [
    "# Reads files in a directory as csv and returns dataframe\n",
    "def concat_data(base_dir):\n",
    "    files = os.listdir(base_dir)\n",
    "    dfs = []\n",
    "    for f in files:\n",
    "        if \".csv\" in f:\n",
    "            dfs.append(pd.read_csv(base_dir + f))\n",
    "        \n",
    "    return pd.concat(dfs)"
   ]
  },
  {
   "cell_type": "code",
   "execution_count": 7,
   "id": "185dcdd0",
   "metadata": {},
   "outputs": [
    {
     "name": "stderr",
     "output_type": "stream",
     "text": [
      "C:\\Users\\Nick\\AppData\\Local\\Temp/ipykernel_13752/485934091.py:7: DtypeWarning: Columns (0,1) have mixed types. Specify dtype option on import or set low_memory=False.\n",
      "  dfs.append(pd.read_csv(base_dir + f))\n"
     ]
    },
    {
     "data": {
      "text/html": [
       "<div>\n",
       "<style scoped>\n",
       "    .dataframe tbody tr th:only-of-type {\n",
       "        vertical-align: middle;\n",
       "    }\n",
       "\n",
       "    .dataframe tbody tr th {\n",
       "        vertical-align: top;\n",
       "    }\n",
       "\n",
       "    .dataframe thead th {\n",
       "        text-align: right;\n",
       "    }\n",
       "</style>\n",
       "<table border=\"1\" class=\"dataframe\">\n",
       "  <thead>\n",
       "    <tr style=\"text-align: right;\">\n",
       "      <th></th>\n",
       "      <th>id</th>\n",
       "      <th>author_id</th>\n",
       "      <th>text</th>\n",
       "      <th>geo</th>\n",
       "      <th>created_at</th>\n",
       "      <th>lat</th>\n",
       "      <th>lon</th>\n",
       "      <th>city</th>\n",
       "    </tr>\n",
       "  </thead>\n",
       "  <tbody>\n",
       "    <tr>\n",
       "      <th>0</th>\n",
       "      <td>1024082187115622400</td>\n",
       "      <td>1708905816</td>\n",
       "      <td>Time for Monday Night Raw! #RAW</td>\n",
       "      <td>{'place_id': '5c62ffb0f0f3479d'}</td>\n",
       "      <td>2018-07-30 23:59:54</td>\n",
       "      <td>33.290260</td>\n",
       "      <td>-112.323914</td>\n",
       "      <td>phoenix</td>\n",
       "    </tr>\n",
       "    <tr>\n",
       "      <th>1</th>\n",
       "      <td>1024082144958636037</td>\n",
       "      <td>795028712408293376</td>\n",
       "      <td>@14bigjay88 @tate_slade_obsf they aren't gonna...</td>\n",
       "      <td>{'place_id': '0015d9147cee6907'}</td>\n",
       "      <td>2018-07-30 23:59:44</td>\n",
       "      <td>33.384785</td>\n",
       "      <td>-112.357999</td>\n",
       "      <td>phoenix</td>\n",
       "    </tr>\n",
       "    <tr>\n",
       "      <th>2</th>\n",
       "      <td>1024082071222808577</td>\n",
       "      <td>275357706</td>\n",
       "      <td>@NicoleBarbaro Thanks for sharing! My younger ...</td>\n",
       "      <td>{'place_id': '7cb7440bcf83d464'}</td>\n",
       "      <td>2018-07-30 23:59:26</td>\n",
       "      <td>33.319945</td>\n",
       "      <td>-111.979047</td>\n",
       "      <td>phoenix</td>\n",
       "    </tr>\n",
       "    <tr>\n",
       "      <th>3</th>\n",
       "      <td>1024082016969486337</td>\n",
       "      <td>20756054</td>\n",
       "      <td>@Telegraph I like all the people who are too b...</td>\n",
       "      <td>{'place_id': '5c62ffb0f0f3479d'}</td>\n",
       "      <td>2018-07-30 23:59:14</td>\n",
       "      <td>33.290260</td>\n",
       "      <td>-112.323914</td>\n",
       "      <td>phoenix</td>\n",
       "    </tr>\n",
       "    <tr>\n",
       "      <th>4</th>\n",
       "      <td>1024081978864193536</td>\n",
       "      <td>601192710</td>\n",
       "      <td>Adios, Arizona. Until next time 💔</td>\n",
       "      <td>{'place_id': '006b48995ede9bcc'}</td>\n",
       "      <td>2018-07-30 23:59:04</td>\n",
       "      <td>33.204608</td>\n",
       "      <td>-111.842244</td>\n",
       "      <td>phoenix</td>\n",
       "    </tr>\n",
       "  </tbody>\n",
       "</table>\n",
       "</div>"
      ],
      "text/plain": [
       "                    id           author_id  \\\n",
       "0  1024082187115622400          1708905816   \n",
       "1  1024082144958636037  795028712408293376   \n",
       "2  1024082071222808577           275357706   \n",
       "3  1024082016969486337            20756054   \n",
       "4  1024081978864193536           601192710   \n",
       "\n",
       "                                                text  \\\n",
       "0                    Time for Monday Night Raw! #RAW   \n",
       "1  @14bigjay88 @tate_slade_obsf they aren't gonna...   \n",
       "2  @NicoleBarbaro Thanks for sharing! My younger ...   \n",
       "3  @Telegraph I like all the people who are too b...   \n",
       "4                  Adios, Arizona. Until next time 💔   \n",
       "\n",
       "                                geo           created_at        lat  \\\n",
       "0  {'place_id': '5c62ffb0f0f3479d'}  2018-07-30 23:59:54  33.290260   \n",
       "1  {'place_id': '0015d9147cee6907'}  2018-07-30 23:59:44  33.384785   \n",
       "2  {'place_id': '7cb7440bcf83d464'}  2018-07-30 23:59:26  33.319945   \n",
       "3  {'place_id': '5c62ffb0f0f3479d'}  2018-07-30 23:59:14  33.290260   \n",
       "4  {'place_id': '006b48995ede9bcc'}  2018-07-30 23:59:04  33.204608   \n",
       "\n",
       "          lon     city  \n",
       "0 -112.323914  phoenix  \n",
       "1 -112.357999  phoenix  \n",
       "2 -111.979047  phoenix  \n",
       "3 -112.323914  phoenix  \n",
       "4 -111.842244  phoenix  "
      ]
     },
     "execution_count": 7,
     "metadata": {},
     "output_type": "execute_result"
    }
   ],
   "source": [
    "dfs = []\n",
    "cities = [\"phoenix\", \"portland\", \"san_francisco\", \"seattle\"]\n",
    "for city,_ in cities:\n",
    "    df = concat_data(\"../data/{}/\".format(city))\n",
    "    df['city'] = city\n",
    "    dfs.append(df)\n",
    "    \n",
    "# Turn into a TwitterDataFrame\n",
    "df_raw = TwitterDataFrame(pd.concat(dfs))\n",
    "df_raw.head()"
   ]
  },
  {
   "cell_type": "code",
   "execution_count": 10,
   "id": "45dfe2e3",
   "metadata": {},
   "outputs": [
    {
     "ename": "TypeError",
     "evalue": "strptime() argument 1 must be str, not Timestamp",
     "output_type": "error",
     "traceback": [
      "\u001b[1;31m---------------------------------------------------------------------------\u001b[0m",
      "\u001b[1;31mTypeError\u001b[0m                                 Traceback (most recent call last)",
      "\u001b[1;32m~\\AppData\\Local\\Temp/ipykernel_13752/511200785.py\u001b[0m in \u001b[0;36m<module>\u001b[1;34m\u001b[0m\n\u001b[0;32m      1\u001b[0m \u001b[0mdf_raw\u001b[0m \u001b[1;33m=\u001b[0m \u001b[0mdf_raw\u001b[0m\u001b[1;33m.\u001b[0m\u001b[0mdropna\u001b[0m\u001b[1;33m(\u001b[0m\u001b[1;33m)\u001b[0m\u001b[1;33m.\u001b[0m\u001b[0mreset_index\u001b[0m\u001b[1;33m(\u001b[0m\u001b[0mdrop\u001b[0m\u001b[1;33m=\u001b[0m\u001b[1;32mTrue\u001b[0m\u001b[1;33m)\u001b[0m\u001b[1;33m\u001b[0m\u001b[1;33m\u001b[0m\u001b[0m\n\u001b[1;32m----> 2\u001b[1;33m \u001b[0mdf_raw\u001b[0m\u001b[1;33m[\u001b[0m\u001b[1;34m'created_at'\u001b[0m\u001b[1;33m]\u001b[0m \u001b[1;33m=\u001b[0m \u001b[1;33m[\u001b[0m\u001b[0mdatetime\u001b[0m\u001b[1;33m.\u001b[0m\u001b[0mstrptime\u001b[0m\u001b[1;33m(\u001b[0m\u001b[0md\u001b[0m\u001b[1;33m,\u001b[0m\u001b[1;34m'%Y-%m-%d %H:%M:%S'\u001b[0m\u001b[1;33m)\u001b[0m \u001b[1;32mfor\u001b[0m \u001b[0md\u001b[0m \u001b[1;32min\u001b[0m \u001b[0mdf_raw\u001b[0m\u001b[1;33m[\u001b[0m\u001b[1;34m'created_at'\u001b[0m\u001b[1;33m]\u001b[0m\u001b[1;33m]\u001b[0m\u001b[1;33m\u001b[0m\u001b[1;33m\u001b[0m\u001b[0m\n\u001b[0m\u001b[0;32m      3\u001b[0m \u001b[1;33m\u001b[0m\u001b[0m\n\u001b[0;32m      4\u001b[0m \u001b[1;31m# Subset 5/2018-12/2018\u001b[0m\u001b[1;33m\u001b[0m\u001b[1;33m\u001b[0m\u001b[0m\n\u001b[0;32m      5\u001b[0m \u001b[0mdf_raw\u001b[0m \u001b[1;33m=\u001b[0m \u001b[0mdf_raw\u001b[0m\u001b[1;33m[\u001b[0m\u001b[0mdf_raw\u001b[0m\u001b[1;33m[\u001b[0m\u001b[1;34m'created_at'\u001b[0m\u001b[1;33m]\u001b[0m \u001b[1;33m>\u001b[0m \u001b[0mdatetime\u001b[0m\u001b[1;33m(\u001b[0m\u001b[1;36m2018\u001b[0m\u001b[1;33m,\u001b[0m \u001b[1;36m4\u001b[0m\u001b[1;33m,\u001b[0m \u001b[1;36m30\u001b[0m\u001b[1;33m)\u001b[0m\u001b[1;33m]\u001b[0m\u001b[1;33m\u001b[0m\u001b[1;33m\u001b[0m\u001b[0m\n",
      "\u001b[1;32m~\\AppData\\Local\\Temp/ipykernel_13752/511200785.py\u001b[0m in \u001b[0;36m<listcomp>\u001b[1;34m(.0)\u001b[0m\n\u001b[0;32m      1\u001b[0m \u001b[0mdf_raw\u001b[0m \u001b[1;33m=\u001b[0m \u001b[0mdf_raw\u001b[0m\u001b[1;33m.\u001b[0m\u001b[0mdropna\u001b[0m\u001b[1;33m(\u001b[0m\u001b[1;33m)\u001b[0m\u001b[1;33m.\u001b[0m\u001b[0mreset_index\u001b[0m\u001b[1;33m(\u001b[0m\u001b[0mdrop\u001b[0m\u001b[1;33m=\u001b[0m\u001b[1;32mTrue\u001b[0m\u001b[1;33m)\u001b[0m\u001b[1;33m\u001b[0m\u001b[1;33m\u001b[0m\u001b[0m\n\u001b[1;32m----> 2\u001b[1;33m \u001b[0mdf_raw\u001b[0m\u001b[1;33m[\u001b[0m\u001b[1;34m'created_at'\u001b[0m\u001b[1;33m]\u001b[0m \u001b[1;33m=\u001b[0m \u001b[1;33m[\u001b[0m\u001b[0mdatetime\u001b[0m\u001b[1;33m.\u001b[0m\u001b[0mstrptime\u001b[0m\u001b[1;33m(\u001b[0m\u001b[0md\u001b[0m\u001b[1;33m,\u001b[0m\u001b[1;34m'%Y-%m-%d %H:%M:%S'\u001b[0m\u001b[1;33m)\u001b[0m \u001b[1;32mfor\u001b[0m \u001b[0md\u001b[0m \u001b[1;32min\u001b[0m \u001b[0mdf_raw\u001b[0m\u001b[1;33m[\u001b[0m\u001b[1;34m'created_at'\u001b[0m\u001b[1;33m]\u001b[0m\u001b[1;33m]\u001b[0m\u001b[1;33m\u001b[0m\u001b[1;33m\u001b[0m\u001b[0m\n\u001b[0m\u001b[0;32m      3\u001b[0m \u001b[1;33m\u001b[0m\u001b[0m\n\u001b[0;32m      4\u001b[0m \u001b[1;31m# Subset 5/2018-12/2018\u001b[0m\u001b[1;33m\u001b[0m\u001b[1;33m\u001b[0m\u001b[0m\n\u001b[0;32m      5\u001b[0m \u001b[0mdf_raw\u001b[0m \u001b[1;33m=\u001b[0m \u001b[0mdf_raw\u001b[0m\u001b[1;33m[\u001b[0m\u001b[0mdf_raw\u001b[0m\u001b[1;33m[\u001b[0m\u001b[1;34m'created_at'\u001b[0m\u001b[1;33m]\u001b[0m \u001b[1;33m>\u001b[0m \u001b[0mdatetime\u001b[0m\u001b[1;33m(\u001b[0m\u001b[1;36m2018\u001b[0m\u001b[1;33m,\u001b[0m \u001b[1;36m4\u001b[0m\u001b[1;33m,\u001b[0m \u001b[1;36m30\u001b[0m\u001b[1;33m)\u001b[0m\u001b[1;33m]\u001b[0m\u001b[1;33m\u001b[0m\u001b[1;33m\u001b[0m\u001b[0m\n",
      "\u001b[1;31mTypeError\u001b[0m: strptime() argument 1 must be str, not Timestamp"
     ]
    }
   ],
   "source": [
    "df_raw = df_raw.dropna().reset_index(drop=True)\n",
    "df_raw['created_at'] = [datetime.strptime(d,'%Y-%m-%d %H:%M:%S') for d in df_raw['created_at']]   \n",
    "\n",
    "# Subset 5/2018-12/2018\n",
    "df_raw = df_raw[df_raw['created_at'] > datetime(2018, 4, 30)]\n",
    "\n",
    "# Change date quantum to day\n",
    "df_raw['date'] = df_raw['created_at'].dt.floor('d')\n",
    "\n",
    "df_raw = TwitterDataFrame(df_raw)\n",
    "df_raw.head()"
   ]
  },
  {
   "cell_type": "code",
   "execution_count": 9,
   "id": "8e72a485",
   "metadata": {},
   "outputs": [
    {
     "data": {
      "text/html": [
       "<div>\n",
       "<style scoped>\n",
       "    .dataframe tbody tr th:only-of-type {\n",
       "        vertical-align: middle;\n",
       "    }\n",
       "\n",
       "    .dataframe tbody tr th {\n",
       "        vertical-align: top;\n",
       "    }\n",
       "\n",
       "    .dataframe thead th {\n",
       "        text-align: right;\n",
       "    }\n",
       "</style>\n",
       "<table border=\"1\" class=\"dataframe\">\n",
       "  <thead>\n",
       "    <tr style=\"text-align: right;\">\n",
       "      <th></th>\n",
       "      <th>State Name</th>\n",
       "      <th>county Name</th>\n",
       "      <th>State Code</th>\n",
       "      <th>County Code</th>\n",
       "      <th>Date</th>\n",
       "      <th>AQI</th>\n",
       "      <th>Category</th>\n",
       "      <th>Defining Parameter</th>\n",
       "      <th>Defining Site</th>\n",
       "      <th>Number of Sites Reporting</th>\n",
       "    </tr>\n",
       "  </thead>\n",
       "  <tbody>\n",
       "    <tr>\n",
       "      <th>9213</th>\n",
       "      <td>Arizona</td>\n",
       "      <td>Maricopa</td>\n",
       "      <td>4</td>\n",
       "      <td>13</td>\n",
       "      <td>2018-01-01</td>\n",
       "      <td>249</td>\n",
       "      <td>Very Unhealthy</td>\n",
       "      <td>PM2.5</td>\n",
       "      <td>04-013-0019</td>\n",
       "      <td>30</td>\n",
       "    </tr>\n",
       "    <tr>\n",
       "      <th>9214</th>\n",
       "      <td>Arizona</td>\n",
       "      <td>Maricopa</td>\n",
       "      <td>4</td>\n",
       "      <td>13</td>\n",
       "      <td>2018-01-02</td>\n",
       "      <td>79</td>\n",
       "      <td>Moderate</td>\n",
       "      <td>PM2.5</td>\n",
       "      <td>04-013-0019</td>\n",
       "      <td>30</td>\n",
       "    </tr>\n",
       "    <tr>\n",
       "      <th>9215</th>\n",
       "      <td>Arizona</td>\n",
       "      <td>Maricopa</td>\n",
       "      <td>4</td>\n",
       "      <td>13</td>\n",
       "      <td>2018-01-03</td>\n",
       "      <td>77</td>\n",
       "      <td>Moderate</td>\n",
       "      <td>PM10</td>\n",
       "      <td>04-013-9812</td>\n",
       "      <td>30</td>\n",
       "    </tr>\n",
       "    <tr>\n",
       "      <th>9216</th>\n",
       "      <td>Arizona</td>\n",
       "      <td>Maricopa</td>\n",
       "      <td>4</td>\n",
       "      <td>13</td>\n",
       "      <td>2018-01-04</td>\n",
       "      <td>82</td>\n",
       "      <td>Moderate</td>\n",
       "      <td>PM10</td>\n",
       "      <td>04-013-9812</td>\n",
       "      <td>30</td>\n",
       "    </tr>\n",
       "    <tr>\n",
       "      <th>9217</th>\n",
       "      <td>Arizona</td>\n",
       "      <td>Maricopa</td>\n",
       "      <td>4</td>\n",
       "      <td>13</td>\n",
       "      <td>2018-01-05</td>\n",
       "      <td>73</td>\n",
       "      <td>Moderate</td>\n",
       "      <td>PM10</td>\n",
       "      <td>04-013-4009</td>\n",
       "      <td>30</td>\n",
       "    </tr>\n",
       "  </tbody>\n",
       "</table>\n",
       "</div>"
      ],
      "text/plain": [
       "     State Name county Name  State Code  County Code       Date  AQI  \\\n",
       "9213    Arizona    Maricopa           4           13 2018-01-01  249   \n",
       "9214    Arizona    Maricopa           4           13 2018-01-02   79   \n",
       "9215    Arizona    Maricopa           4           13 2018-01-03   77   \n",
       "9216    Arizona    Maricopa           4           13 2018-01-04   82   \n",
       "9217    Arizona    Maricopa           4           13 2018-01-05   73   \n",
       "\n",
       "            Category Defining Parameter Defining Site  \\\n",
       "9213  Very Unhealthy              PM2.5   04-013-0019   \n",
       "9214        Moderate              PM2.5   04-013-0019   \n",
       "9215        Moderate               PM10   04-013-9812   \n",
       "9216        Moderate               PM10   04-013-9812   \n",
       "9217        Moderate               PM10   04-013-4009   \n",
       "\n",
       "      Number of Sites Reporting  \n",
       "9213                         30  \n",
       "9214                         30  \n",
       "9215                         30  \n",
       "9216                         30  \n",
       "9217                         30  "
      ]
     },
     "execution_count": 9,
     "metadata": {},
     "output_type": "execute_result"
    }
   ],
   "source": [
    "# Read in the daily AQI in 2018 California\n",
    "aqi_2018 = pd.read_csv('../data/daily_aqi_by_county_2018.csv')\n",
    "\n",
    "aqi_df = []\n",
    "for county, state in [(\"Maricopa\", \"Arizona\"), (\"San Francisco\", \"California\"), (\"Multnomah\", \"Oregon\"), (\"King\", \"Washington\")]:\n",
    "    aqi_df.append(aqi_2018[(aqi_2018['State Name']==state) & (aqi_2018['county Name']==county)])\n",
    "\n",
    "# Subset just SF country and extract dates\n",
    "aqi_df = pd.concat(aqi_df)\n",
    "aqi_df['Date'] = pd.to_datetime(aqi_df['Date'])\n",
    "\n",
    "aqi_df.head()"
   ]
  },
  {
   "cell_type": "code",
   "execution_count": 11,
   "id": "c5aeca8a",
   "metadata": {},
   "outputs": [
    {
     "name": "stdout",
     "output_type": "stream",
     "text": [
      "Lenth:  3332806\n",
      "Per day : 9130.975342465754\n"
     ]
    }
   ],
   "source": [
    "# What are the basics of the data set?\n",
    "print(\"Lenth: \", len(df_raw))\n",
    "print(\"Per day :\", len(df_raw)/365)"
   ]
  },
  {
   "cell_type": "code",
   "execution_count": 12,
   "id": "e4172ab3",
   "metadata": {},
   "outputs": [
    {
     "data": {
      "text/html": [
       "<div>\n",
       "<style scoped>\n",
       "    .dataframe tbody tr th:only-of-type {\n",
       "        vertical-align: middle;\n",
       "    }\n",
       "\n",
       "    .dataframe tbody tr th {\n",
       "        vertical-align: top;\n",
       "    }\n",
       "\n",
       "    .dataframe thead th {\n",
       "        text-align: right;\n",
       "    }\n",
       "</style>\n",
       "<table border=\"1\" class=\"dataframe\">\n",
       "  <thead>\n",
       "    <tr style=\"text-align: right;\">\n",
       "      <th></th>\n",
       "      <th>id</th>\n",
       "      <th>author_id</th>\n",
       "      <th>text</th>\n",
       "      <th>geo</th>\n",
       "      <th>created_at</th>\n",
       "      <th>lat</th>\n",
       "      <th>lon</th>\n",
       "      <th>city</th>\n",
       "      <th>date</th>\n",
       "    </tr>\n",
       "  </thead>\n",
       "  <tbody>\n",
       "    <tr>\n",
       "      <th>0</th>\n",
       "      <td>1024082187115622400</td>\n",
       "      <td>1708905816</td>\n",
       "      <td>time for monday night raw! raw</td>\n",
       "      <td>{'place_id': '5c62ffb0f0f3479d'}</td>\n",
       "      <td>2018-07-30 23:59:54</td>\n",
       "      <td>33.290260</td>\n",
       "      <td>-112.323914</td>\n",
       "      <td>phoenix</td>\n",
       "      <td>2018-07-30</td>\n",
       "    </tr>\n",
       "    <tr>\n",
       "      <th>1</th>\n",
       "      <td>1024082144958636037</td>\n",
       "      <td>795028712408293376</td>\n",
       "      <td>@USER @USER slade obsf they aren t gonna say s...</td>\n",
       "      <td>{'place_id': '0015d9147cee6907'}</td>\n",
       "      <td>2018-07-30 23:59:44</td>\n",
       "      <td>33.384785</td>\n",
       "      <td>-112.357999</td>\n",
       "      <td>phoenix</td>\n",
       "      <td>2018-07-30</td>\n",
       "    </tr>\n",
       "    <tr>\n",
       "      <th>2</th>\n",
       "      <td>1024082071222808577</td>\n",
       "      <td>275357706</td>\n",
       "      <td>@USER thanks for sharing! my younger lab mate ...</td>\n",
       "      <td>{'place_id': '7cb7440bcf83d464'}</td>\n",
       "      <td>2018-07-30 23:59:26</td>\n",
       "      <td>33.319945</td>\n",
       "      <td>-111.979047</td>\n",
       "      <td>phoenix</td>\n",
       "      <td>2018-07-30</td>\n",
       "    </tr>\n",
       "    <tr>\n",
       "      <th>3</th>\n",
       "      <td>1024082016969486337</td>\n",
       "      <td>20756054</td>\n",
       "      <td>@USER i like all the people who are too busy w...</td>\n",
       "      <td>{'place_id': '5c62ffb0f0f3479d'}</td>\n",
       "      <td>2018-07-30 23:59:14</td>\n",
       "      <td>33.290260</td>\n",
       "      <td>-112.323914</td>\n",
       "      <td>phoenix</td>\n",
       "      <td>2018-07-30</td>\n",
       "    </tr>\n",
       "    <tr>\n",
       "      <th>4</th>\n",
       "      <td>1024081978864193536</td>\n",
       "      <td>601192710</td>\n",
       "      <td>adios arizona until next time broken heart</td>\n",
       "      <td>{'place_id': '006b48995ede9bcc'}</td>\n",
       "      <td>2018-07-30 23:59:04</td>\n",
       "      <td>33.204608</td>\n",
       "      <td>-111.842244</td>\n",
       "      <td>phoenix</td>\n",
       "      <td>2018-07-30</td>\n",
       "    </tr>\n",
       "  </tbody>\n",
       "</table>\n",
       "</div>"
      ],
      "text/plain": [
       "                    id           author_id  \\\n",
       "0  1024082187115622400          1708905816   \n",
       "1  1024082144958636037  795028712408293376   \n",
       "2  1024082071222808577           275357706   \n",
       "3  1024082016969486337            20756054   \n",
       "4  1024081978864193536           601192710   \n",
       "\n",
       "                                                text  \\\n",
       "0                     time for monday night raw! raw   \n",
       "1  @USER @USER slade obsf they aren t gonna say s...   \n",
       "2  @USER thanks for sharing! my younger lab mate ...   \n",
       "3  @USER i like all the people who are too busy w...   \n",
       "4         adios arizona until next time broken heart   \n",
       "\n",
       "                                geo          created_at        lat  \\\n",
       "0  {'place_id': '5c62ffb0f0f3479d'} 2018-07-30 23:59:54  33.290260   \n",
       "1  {'place_id': '0015d9147cee6907'} 2018-07-30 23:59:44  33.384785   \n",
       "2  {'place_id': '7cb7440bcf83d464'} 2018-07-30 23:59:26  33.319945   \n",
       "3  {'place_id': '5c62ffb0f0f3479d'} 2018-07-30 23:59:14  33.290260   \n",
       "4  {'place_id': '006b48995ede9bcc'} 2018-07-30 23:59:04  33.204608   \n",
       "\n",
       "          lon     city       date  \n",
       "0 -112.323914  phoenix 2018-07-30  \n",
       "1 -112.357999  phoenix 2018-07-30  \n",
       "2 -111.979047  phoenix 2018-07-30  \n",
       "3 -112.323914  phoenix 2018-07-30  \n",
       "4 -111.842244  phoenix 2018-07-30  "
      ]
     },
     "execution_count": 12,
     "metadata": {},
     "output_type": "execute_result"
    }
   ],
   "source": [
    "spec_re = \"[^A-Za-z0-9\\?\\!\\@]+\"\n",
    "http_re = \"https?:\\S+|http?:\\S\"\n",
    "at_re = \"@\\S+\"\n",
    "\n",
    "def process_tweet(tweet):\n",
    "    tweet = str(tweet).lower()\n",
    "    tweet = emoji.demojize(tweet)\n",
    "    tweet = re.sub(spec_re, ' ', tweet)\n",
    "    tweet = re.sub(http_re, 'HTTPURL', tweet)\n",
    "    tweet = re.sub(at_re, '@USER', tweet)\n",
    "    # Tokenize and stem?\n",
    "    tweet = re.sub(r'\\s+', ' ', tweet).strip()\n",
    "    return tweet\n",
    "\n",
    "df_raw['text'] = df_raw['text'].apply(process_tweet)\n",
    "\n",
    "df_raw.head()"
   ]
  },
  {
   "cell_type": "code",
   "execution_count": null,
   "id": "b1855583",
   "metadata": {},
   "outputs": [
    {
     "data": {
      "text/plain": [
       "(1923, 2)"
      ]
     },
     "execution_count": 113,
     "metadata": {},
     "output_type": "execute_result"
    }
   ],
   "source": [
    "df_batch = TwitterDataFrame(df_raw).group_by_days_and_batch(1000)\n",
    "df_batch.shape"
   ]
  },
  {
   "cell_type": "code",
   "execution_count": null,
   "id": "73fd8432",
   "metadata": {},
   "outputs": [],
   "source": [
    "df_mrg = pd.merge(left=df_batch, right=df_raw, left_on='date', right_on='Date', how='inner')\n",
    "print(df_mrg.columns)\n",
    "df_clean = df_mrg.drop(columns=['State Name', 'county Name', 'State Code', 'County Code', 'Date', \"Defining Parameter\", \"Defining Site\", \"Number of Sites Reporting\"])"
   ]
  },
  {
   "cell_type": "code",
   "execution_count": null,
   "id": "363992ce",
   "metadata": {},
   "outputs": [],
   "source": [
    "# write clean csvs for each city\n",
    "for city in cities:\n",
    "    df = df_clean[df_clean['city'] == city]\n",
    "    df.to_csv(\"../data/cleaned/{}_cleaned.csv\".format(city), index=False)"
   ]
  },
  {
   "cell_type": "code",
   "execution_count": null,
   "id": "4b9036a4",
   "metadata": {},
   "outputs": [
    {
     "data": {
      "text/html": [
       "<div>\n",
       "<style scoped>\n",
       "    .dataframe tbody tr th:only-of-type {\n",
       "        vertical-align: middle;\n",
       "    }\n",
       "\n",
       "    .dataframe tbody tr th {\n",
       "        vertical-align: top;\n",
       "    }\n",
       "\n",
       "    .dataframe thead th {\n",
       "        text-align: right;\n",
       "    }\n",
       "</style>\n",
       "<table border=\"1\" class=\"dataframe\">\n",
       "  <thead>\n",
       "    <tr style=\"text-align: right;\">\n",
       "      <th></th>\n",
       "      <th>date</th>\n",
       "      <th>text</th>\n",
       "      <th>AQI</th>\n",
       "      <th>Category</th>\n",
       "    </tr>\n",
       "  </thead>\n",
       "  <tbody>\n",
       "    <tr>\n",
       "      <th>0</th>\n",
       "      <td>2018-05-01</td>\n",
       "      <td>@USER @USER that s the neighborhood i grew up ...</td>\n",
       "      <td>37</td>\n",
       "      <td>Good</td>\n",
       "    </tr>\n",
       "    <tr>\n",
       "      <th>1</th>\n",
       "      <td>2018-05-01</td>\n",
       "      <td>@USER i ain t seen one meme from u smh i m wai...</td>\n",
       "      <td>37</td>\n",
       "      <td>Good</td>\n",
       "    </tr>\n",
       "    <tr>\n",
       "      <th>2</th>\n",
       "      <td>2018-05-01</td>\n",
       "      <td>birthday month love you gesture medium dark sk...</td>\n",
       "      <td>37</td>\n",
       "      <td>Good</td>\n",
       "    </tr>\n",
       "    <tr>\n",
       "      <th>3</th>\n",
       "      <td>2018-05-01</td>\n",
       "      <td>@USER io @USER only problem is it may be too h...</td>\n",
       "      <td>37</td>\n",
       "      <td>Good</td>\n",
       "    </tr>\n",
       "    <tr>\n",
       "      <th>4</th>\n",
       "      <td>2018-05-01</td>\n",
       "      <td>the american dream narrative system wasn t cre...</td>\n",
       "      <td>37</td>\n",
       "      <td>Good</td>\n",
       "    </tr>\n",
       "  </tbody>\n",
       "</table>\n",
       "</div>"
      ],
      "text/plain": [
       "        date                                               text  AQI Category\n",
       "0 2018-05-01  @USER @USER that s the neighborhood i grew up ...   37     Good\n",
       "1 2018-05-01  @USER i ain t seen one meme from u smh i m wai...   37     Good\n",
       "2 2018-05-01  birthday month love you gesture medium dark sk...   37     Good\n",
       "3 2018-05-01  @USER io @USER only problem is it may be too h...   37     Good\n",
       "4 2018-05-01  the american dream narrative system wasn t cre...   37     Good"
      ]
     },
     "execution_count": 116,
     "metadata": {},
     "output_type": "execute_result"
    }
   ],
   "source": [
    "df_clean.to_csv(\"../data/cleaned/four_cities.csv\", index=False)\n",
    "df_clean.head()"
   ]
  },
  {
   "cell_type": "markdown",
   "id": "545904d6",
   "metadata": {},
   "source": [
    "#### Note: to start from previously cleaned data begin here"
   ]
  },
  {
   "cell_type": "code",
   "execution_count": null,
   "id": "50c1c16e",
   "metadata": {},
   "outputs": [
    {
     "data": {
      "text/html": [
       "<div>\n",
       "<style scoped>\n",
       "    .dataframe tbody tr th:only-of-type {\n",
       "        vertical-align: middle;\n",
       "    }\n",
       "\n",
       "    .dataframe tbody tr th {\n",
       "        vertical-align: top;\n",
       "    }\n",
       "\n",
       "    .dataframe thead th {\n",
       "        text-align: right;\n",
       "    }\n",
       "</style>\n",
       "<table border=\"1\" class=\"dataframe\">\n",
       "  <thead>\n",
       "    <tr style=\"text-align: right;\">\n",
       "      <th></th>\n",
       "      <th>date</th>\n",
       "      <th>text</th>\n",
       "      <th>AQI</th>\n",
       "      <th>Category</th>\n",
       "    </tr>\n",
       "  </thead>\n",
       "  <tbody>\n",
       "    <tr>\n",
       "      <th>0</th>\n",
       "      <td>2018-05-01</td>\n",
       "      <td>@USER @USER that s the neighborhood i grew up ...</td>\n",
       "      <td>37</td>\n",
       "      <td>Good</td>\n",
       "    </tr>\n",
       "    <tr>\n",
       "      <th>1</th>\n",
       "      <td>2018-05-01</td>\n",
       "      <td>@USER i ain t seen one meme from u smh i m wai...</td>\n",
       "      <td>37</td>\n",
       "      <td>Good</td>\n",
       "    </tr>\n",
       "    <tr>\n",
       "      <th>2</th>\n",
       "      <td>2018-05-01</td>\n",
       "      <td>birthday month love you gesture medium dark sk...</td>\n",
       "      <td>37</td>\n",
       "      <td>Good</td>\n",
       "    </tr>\n",
       "    <tr>\n",
       "      <th>3</th>\n",
       "      <td>2018-05-01</td>\n",
       "      <td>@USER io @USER only problem is it may be too h...</td>\n",
       "      <td>37</td>\n",
       "      <td>Good</td>\n",
       "    </tr>\n",
       "    <tr>\n",
       "      <th>4</th>\n",
       "      <td>2018-05-01</td>\n",
       "      <td>the american dream narrative system wasn t cre...</td>\n",
       "      <td>37</td>\n",
       "      <td>Good</td>\n",
       "    </tr>\n",
       "  </tbody>\n",
       "</table>\n",
       "</div>"
      ],
      "text/plain": [
       "        date                                               text  AQI Category\n",
       "0 2018-05-01  @USER @USER that s the neighborhood i grew up ...   37     Good\n",
       "1 2018-05-01  @USER i ain t seen one meme from u smh i m wai...   37     Good\n",
       "2 2018-05-01  birthday month love you gesture medium dark sk...   37     Good\n",
       "3 2018-05-01  @USER io @USER only problem is it may be too h...   37     Good\n",
       "4 2018-05-01  the american dream narrative system wasn t cre...   37     Good"
      ]
     },
     "execution_count": 117,
     "metadata": {},
     "output_type": "execute_result"
    }
   ],
   "source": [
    "sf_clean = pd.read_csv(\"../data/four_cities.csv\", parse_dates=['date'])\n",
    "sf_clean.head()"
   ]
  },
  {
   "cell_type": "markdown",
   "id": "51747011",
   "metadata": {},
   "source": [
    "#### Experiment: word counts"
   ]
  },
  {
   "cell_type": "code",
   "execution_count": null,
   "id": "42fe7894",
   "metadata": {},
   "outputs": [
    {
     "data": {
      "text/plain": [
       "@USER            1960725\n",
       "i                 861179\n",
       "the               845483\n",
       "to                637867\n",
       "a                 547576\n",
       "                  ...   \n",
       "biostream?             1\n",
       "wowwwww!!!!!!          1\n",
       "0brien                 1\n",
       "1?!?!?                 1\n",
       "clownstick             1\n",
       "Length: 371168, dtype: int64"
      ]
     },
     "execution_count": 118,
     "metadata": {},
     "output_type": "execute_result"
    }
   ],
   "source": [
    "word_freq = sf_clean.text.str.split(expand=True).stack().value_counts()\n",
    "word_count = word_freq.sum()\n",
    "word_freq"
   ]
  },
  {
   "cell_type": "code",
   "execution_count": null,
   "id": "4705e2ab",
   "metadata": {},
   "outputs": [
    {
     "data": {
      "image/png": "[encoded data removed]",
      "text/plain": [
       "<Figure size 720x720 with 1 Axes>"
      ]
     },
     "metadata": {},
     "output_type": "display_data"
    }
   ],
   "source": [
    "plt.hist(word_freq, bins=50, range=[word_freq.min()+100, word_freq.max()]);"
   ]
  },
  {
   "cell_type": "code",
   "execution_count": null,
   "id": "bf938c31",
   "metadata": {},
   "outputs": [
    {
     "data": {
      "text/plain": [
       "asthma      122\n",
       "lung         92\n",
       "cough       462\n",
       "smoke      3269\n",
       "fire      15374\n",
       "smog         71\n",
       "aqi          73\n",
       "air        4094\n",
       "dtype: int64"
      ]
     },
     "execution_count": 120,
     "metadata": {},
     "output_type": "execute_result"
    }
   ],
   "source": [
    "# Fire increased a lot when I added emojis 🔥\n",
    "key_words = [\"asthma\",\"lung\",\"cough\",\"smoke\",\"fire\", \"smog\",\"aqi\",\"air\"]\n",
    "key_freq = word_freq[key_words]\n",
    "key_freq, word_count"
   ]
  },
  {
   "cell_type": "code",
   "execution_count": null,
   "id": "34356dbf",
   "metadata": {},
   "outputs": [
    {
     "data": {
      "text/plain": [
       "(2.319639835076875e-06, 0.010502283701753126)"
      ]
     },
     "execution_count": 121,
     "metadata": {},
     "output_type": "execute_result"
    }
   ],
   "source": [
    "min_df = key_freq.min() / word_count\n",
    "max_df = key_freq.max() / word_count + 0.05\n",
    "\n",
    "min_df, max_df"
   ]
  },
  {
   "cell_type": "markdown",
   "id": "1a51c3ab",
   "metadata": {},
   "source": [
    "### Model Code below"
   ]
  },
  {
   "cell_type": "code",
   "execution_count": null,
   "id": "8795d9ae",
   "metadata": {},
   "outputs": [],
   "source": [
    "train_df, test_df = train_test_split(sf_clean, test_size=0.2, random_state=23)\n",
    "train_df = train_df.reset_index(drop=True)\n",
    "test_df = test_df.reset_index(drop=True)"
   ]
  },
  {
   "cell_type": "code",
   "execution_count": null,
   "id": "698bc036",
   "metadata": {},
   "outputs": [],
   "source": [
    "# This creates a train-test split based off of days\n",
    "dates = sf_clean.date.unique()\n",
    "np.random.shuffle(dates)\n",
    "train_dates, test_dates = train_test_split(dates, test_size=0.2, random_state=23)\n",
    "train_df = sf_clean[sf_clean['date'].isin(train_dates)]\n",
    "test_df = sf_clean[sf_clean['date'].isin(test_dates)]"
   ]
  },
  {
   "cell_type": "code",
   "execution_count": null,
   "id": "94c45678",
   "metadata": {},
   "outputs": [
    {
     "data": {
      "text/html": [
       "<div>\n",
       "<style scoped>\n",
       "    .dataframe tbody tr th:only-of-type {\n",
       "        vertical-align: middle;\n",
       "    }\n",
       "\n",
       "    .dataframe tbody tr th {\n",
       "        vertical-align: top;\n",
       "    }\n",
       "\n",
       "    .dataframe thead th {\n",
       "        text-align: right;\n",
       "    }\n",
       "</style>\n",
       "<table border=\"1\" class=\"dataframe\">\n",
       "  <thead>\n",
       "    <tr style=\"text-align: right;\">\n",
       "      <th></th>\n",
       "      <th>date</th>\n",
       "      <th>text</th>\n",
       "      <th>AQI</th>\n",
       "      <th>Category</th>\n",
       "    </tr>\n",
       "  </thead>\n",
       "  <tbody>\n",
       "    <tr>\n",
       "      <th>0</th>\n",
       "      <td>2018-05-01</td>\n",
       "      <td>@USER @USER that s the neighborhood i grew up ...</td>\n",
       "      <td>37</td>\n",
       "      <td>Good</td>\n",
       "    </tr>\n",
       "    <tr>\n",
       "      <th>1</th>\n",
       "      <td>2018-05-01</td>\n",
       "      <td>@USER i ain t seen one meme from u smh i m wai...</td>\n",
       "      <td>37</td>\n",
       "      <td>Good</td>\n",
       "    </tr>\n",
       "    <tr>\n",
       "      <th>2</th>\n",
       "      <td>2018-05-01</td>\n",
       "      <td>birthday month love you gesture medium dark sk...</td>\n",
       "      <td>37</td>\n",
       "      <td>Good</td>\n",
       "    </tr>\n",
       "    <tr>\n",
       "      <th>3</th>\n",
       "      <td>2018-05-01</td>\n",
       "      <td>@USER io @USER only problem is it may be too h...</td>\n",
       "      <td>37</td>\n",
       "      <td>Good</td>\n",
       "    </tr>\n",
       "    <tr>\n",
       "      <th>4</th>\n",
       "      <td>2018-05-01</td>\n",
       "      <td>the american dream narrative system wasn t cre...</td>\n",
       "      <td>37</td>\n",
       "      <td>Good</td>\n",
       "    </tr>\n",
       "  </tbody>\n",
       "</table>\n",
       "</div>"
      ],
      "text/plain": [
       "        date                                               text  AQI Category\n",
       "0 2018-05-01  @USER @USER that s the neighborhood i grew up ...   37     Good\n",
       "1 2018-05-01  @USER i ain t seen one meme from u smh i m wai...   37     Good\n",
       "2 2018-05-01  birthday month love you gesture medium dark sk...   37     Good\n",
       "3 2018-05-01  @USER io @USER only problem is it may be too h...   37     Good\n",
       "4 2018-05-01  the american dream narrative system wasn t cre...   37     Good"
      ]
     },
     "execution_count": 124,
     "metadata": {},
     "output_type": "execute_result"
    }
   ],
   "source": [
    "train_df.head()"
   ]
  },
  {
   "cell_type": "code",
   "execution_count": null,
   "id": "902fa58f",
   "metadata": {},
   "outputs": [],
   "source": [
    "X_train = train_df['text']\n",
    "X_test = test_df['text']\n",
    "\n",
    "y_train = train_df['AQI']\n",
    "y_test = test_df['AQI']"
   ]
  },
  {
   "cell_type": "markdown",
   "id": "fde0b144",
   "metadata": {},
   "source": [
    "### Experiment 1: Finding a baseline with K-Means Regression"
   ]
  },
  {
   "cell_type": "code",
   "execution_count": null,
   "id": "518d798b",
   "metadata": {},
   "outputs": [],
   "source": [
    "# min_df sets the min document frequency for accepted words\n",
    "tf_vect = TfidfVectorizer(min_df=min_df, max_df=max_df).fit(X_train)\n",
    "words = tf_vect.get_feature_names_out()\n",
    "X_train_enc = tf_vect.transform(X_train)\n",
    "X_test_enc = tf_vect.transform(X_test)"
   ]
  },
  {
   "cell_type": "code",
   "execution_count": null,
   "id": "ab6c0761",
   "metadata": {},
   "outputs": [
    {
     "data": {
      "text/plain": [
       "((1525, 223218), (1525,))"
      ]
     },
     "execution_count": 128,
     "metadata": {},
     "output_type": "execute_result"
    }
   ],
   "source": [
    "X_train_enc.shape, X_train.shape"
   ]
  },
  {
   "cell_type": "code",
   "execution_count": null,
   "id": "c308de03",
   "metadata": {},
   "outputs": [
    {
     "data": {
      "text/plain": [
       "0       5.209453\n",
       "1       5.209453\n",
       "2       5.209453\n",
       "3       5.209453\n",
       "4       5.209453\n",
       "          ...   \n",
       "1918    4.906891\n",
       "1919    4.906891\n",
       "1920    4.906891\n",
       "1921    4.906891\n",
       "1922    4.906891\n",
       "Name: AQI, Length: 1525, dtype: float64"
      ]
     },
     "execution_count": 129,
     "metadata": {},
     "output_type": "execute_result"
    }
   ],
   "source": [
    "y_train = train_df['AQI'].apply(np.log2)\n",
    "y_test = test_df['AQI'].apply(np.log2)\n",
    "y_train"
   ]
  },
  {
   "cell_type": "code",
   "execution_count": null,
   "id": "bc803656",
   "metadata": {},
   "outputs": [],
   "source": [
    "from sklearn.neighbors import KNeighborsRegressor\n",
    "\n",
    "# Fit Regression model\n",
    "knn_model = KNeighborsRegressor(n_neighbors=5, n_jobs=-1).fit(X_train_enc, y_train)"
   ]
  },
  {
   "cell_type": "code",
   "execution_count": null,
   "id": "a93c799c",
   "metadata": {},
   "outputs": [
    {
     "data": {
      "text/plain": [
       "0.9363091730894646"
      ]
     },
     "execution_count": 76,
     "metadata": {},
     "output_type": "execute_result"
    }
   ],
   "source": [
    "y_pred = knn_model.predict(X_train_enc)\n",
    "knn_model.score(X_train_enc, y_train)\n"
   ]
  },
  {
   "cell_type": "code",
   "execution_count": null,
   "id": "96581f83",
   "metadata": {},
   "outputs": [
    {
     "data": {
      "text/plain": [
       "0.13041171521850436"
      ]
     },
     "execution_count": 77,
     "metadata": {},
     "output_type": "execute_result"
    }
   ],
   "source": [
    "y_pred_test = knn_model.predict(X_test_enc)\n",
    "knn_model.score(X_test_enc, y_test)\n"
   ]
  },
  {
   "cell_type": "code",
   "execution_count": null,
   "id": "eaf4e859",
   "metadata": {},
   "outputs": [
    {
     "data": {
      "image/png": "[encoded data removed]",
      "text/plain": [
       "<Figure size 720x720 with 1 Axes>"
      ]
     },
     "metadata": {},
     "output_type": "display_data"
    }
   ],
   "source": [
    "# Plots predictions by their true value\n",
    "def plot_reference(y_pred, y_train, draw_ref=True):\n",
    "    # Draw reference lines\n",
    "    if draw_ref:\n",
    "        X = np.linspace(0, 240, 240)\n",
    "        plt.plot(X, X, '--', color=\"#cc2727\", linewidth=2)\n",
    "\n",
    "    plot = sns.scatterplot(x=y_pred, y=y_train)\n",
    "\n",
    "    # Set plot style\n",
    "    max_lim = max(y_pred)\n",
    "    min_lim = min(y_pred)\n",
    "    max_lim += (max_lim-min_lim) / 10\n",
    "    min_lim -= (max_lim-min_lim) / 10\n",
    "\n",
    "    plot.set(ylim=(min_lim, max_lim))\n",
    "    plot.set(xlim=(min_lim, max_lim))\n",
    "\n",
    "    plot.set_title(\"Sensor AQI by Predicted AQI\")\n",
    "    plot.set_ylabel(\"Sensor AQI\", fontsize = 12)\n",
    "    plot.set_xlabel(\"Model AQI\", fontsize = 12)\n",
    "\n",
    "# plot_reference(y_pred, y_train)\n",
    "plot_reference(y_pred_test, y_test)"
   ]
  }
 ],
 "metadata": {
  "kernelspec": {
   "display_name": "Python 3 (ipykernel)",
   "language": "python",
   "name": "python3"
  },
  "language_info": {
   "codemirror_mode": {
    "name": "ipython",
    "version": 3
   },
   "file_extension": ".py",
   "mimetype": "text/x-python",
   "name": "python",
   "nbconvert_exporter": "python",
   "pygments_lexer": "ipython3",
   "version": "3.9.7"
  }
 },
 "nbformat": 4,
 "nbformat_minor": 5
}
