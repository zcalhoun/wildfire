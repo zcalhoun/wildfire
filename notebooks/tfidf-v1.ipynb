{
 "cells": [
  {
   "cell_type": "markdown",
   "id": "4904348d",
   "metadata": {},
   "source": [
    "# TFIDF V1\n",
    "\n",
    "The goal of this notebook is to load data from multiple locations and compare their performance / validate."
   ]
  },
  {
   "cell_type": "code",
   "execution_count": 1,
   "id": "585b0593",
   "metadata": {},
   "outputs": [
    {
     "name": "stderr",
     "output_type": "stream",
     "text": [
      "[nltk_data] Downloading package punkt to\n",
      "[nltk_data]     C:\\Users\\Nick\\AppData\\Roaming\\nltk_data...\n",
      "[nltk_data]   Package punkt is already up-to-date!\n"
     ]
    }
   ],
   "source": [
    "import os\n",
    "from datetime import datetime\n",
    "import sys\n",
    "\n",
    "sys.path.append(\"../scripts/twitter\")\n",
    "from searchTwitter import TwitterDataFrame\n",
    "\n",
    "import numpy as np\n",
    "import pandas as pd\n",
    "\n",
    "import matplotlib.pyplot as plt\n",
    "import seaborn as sns\n",
    "\n",
    "import re\n",
    "import emoji\n",
    "import nltk\n",
    "from nltk.stem import WordNetLemmatizer\n",
    "nltk.download('punkt')\n",
    "\n",
    "from sklearn.feature_extraction.text import TfidfVectorizer\n",
    "from sklearn.model_selection import train_test_split\n",
    "\n",
    "np.random.seed(23)\n",
    "\n",
    "# Set up sns\n",
    "sns.set(rc = {'figure.figsize':(10,10)})\n",
    "sns.set_style(\"whitegrid\")"
   ]
  },
  {
   "cell_type": "code",
   "execution_count": 2,
   "id": "6303eb35",
   "metadata": {},
   "outputs": [],
   "source": [
    "# Reads files in a directory as csv and returns dataframe\n",
    "def concat_data(base_dir):\n",
    "    files = os.listdir(base_dir)\n",
    "    dfs = []\n",
    "    for f in files:\n",
    "        if \".csv\" in f:\n",
    "            dfs.append(pd.read_csv(base_dir + f))\n",
    "        \n",
    "    return pd.concat(dfs)"
   ]
  },
  {
   "cell_type": "code",
   "execution_count": 3,
   "id": "185dcdd0",
   "metadata": {},
   "outputs": [
    {
     "name": "stderr",
     "output_type": "stream",
     "text": [
      "C:\\Users\\Nick\\AppData\\Local\\Temp/ipykernel_16380/1943339143.py:7: DtypeWarning: Columns (0,1) have mixed types. Specify dtype option on import or set low_memory=False.\n",
      "  dfs.append(pd.read_csv(base_dir + f))\n"
     ]
    },
    {
     "data": {
      "text/html": [
       "<div>\n",
       "<style scoped>\n",
       "    .dataframe tbody tr th:only-of-type {\n",
       "        vertical-align: middle;\n",
       "    }\n",
       "\n",
       "    .dataframe tbody tr th {\n",
       "        vertical-align: top;\n",
       "    }\n",
       "\n",
       "    .dataframe thead th {\n",
       "        text-align: right;\n",
       "    }\n",
       "</style>\n",
       "<table border=\"1\" class=\"dataframe\">\n",
       "  <thead>\n",
       "    <tr style=\"text-align: right;\">\n",
       "      <th></th>\n",
       "      <th>id</th>\n",
       "      <th>author_id</th>\n",
       "      <th>text</th>\n",
       "      <th>geo</th>\n",
       "      <th>created_at</th>\n",
       "      <th>lat</th>\n",
       "      <th>lon</th>\n",
       "      <th>city</th>\n",
       "    </tr>\n",
       "  </thead>\n",
       "  <tbody>\n",
       "    <tr>\n",
       "      <th>0</th>\n",
       "      <td>1024082187115622400</td>\n",
       "      <td>1708905816</td>\n",
       "      <td>Time for Monday Night Raw! #RAW</td>\n",
       "      <td>{'place_id': '5c62ffb0f0f3479d'}</td>\n",
       "      <td>2018-07-30 23:59:54</td>\n",
       "      <td>33.290260</td>\n",
       "      <td>-112.323914</td>\n",
       "      <td>phoenix</td>\n",
       "    </tr>\n",
       "    <tr>\n",
       "      <th>1</th>\n",
       "      <td>1024082144958636037</td>\n",
       "      <td>795028712408293376</td>\n",
       "      <td>@14bigjay88 @tate_slade_obsf they aren't gonna...</td>\n",
       "      <td>{'place_id': '0015d9147cee6907'}</td>\n",
       "      <td>2018-07-30 23:59:44</td>\n",
       "      <td>33.384785</td>\n",
       "      <td>-112.357999</td>\n",
       "      <td>phoenix</td>\n",
       "    </tr>\n",
       "    <tr>\n",
       "      <th>2</th>\n",
       "      <td>1024082071222808577</td>\n",
       "      <td>275357706</td>\n",
       "      <td>@NicoleBarbaro Thanks for sharing! My younger ...</td>\n",
       "      <td>{'place_id': '7cb7440bcf83d464'}</td>\n",
       "      <td>2018-07-30 23:59:26</td>\n",
       "      <td>33.319945</td>\n",
       "      <td>-111.979047</td>\n",
       "      <td>phoenix</td>\n",
       "    </tr>\n",
       "    <tr>\n",
       "      <th>3</th>\n",
       "      <td>1024082016969486337</td>\n",
       "      <td>20756054</td>\n",
       "      <td>@Telegraph I like all the people who are too b...</td>\n",
       "      <td>{'place_id': '5c62ffb0f0f3479d'}</td>\n",
       "      <td>2018-07-30 23:59:14</td>\n",
       "      <td>33.290260</td>\n",
       "      <td>-112.323914</td>\n",
       "      <td>phoenix</td>\n",
       "    </tr>\n",
       "    <tr>\n",
       "      <th>4</th>\n",
       "      <td>1024081978864193536</td>\n",
       "      <td>601192710</td>\n",
       "      <td>Adios, Arizona. Until next time 💔</td>\n",
       "      <td>{'place_id': '006b48995ede9bcc'}</td>\n",
       "      <td>2018-07-30 23:59:04</td>\n",
       "      <td>33.204608</td>\n",
       "      <td>-111.842244</td>\n",
       "      <td>phoenix</td>\n",
       "    </tr>\n",
       "  </tbody>\n",
       "</table>\n",
       "</div>"
      ],
      "text/plain": [
       "                    id           author_id  \\\n",
       "0  1024082187115622400          1708905816   \n",
       "1  1024082144958636037  795028712408293376   \n",
       "2  1024082071222808577           275357706   \n",
       "3  1024082016969486337            20756054   \n",
       "4  1024081978864193536           601192710   \n",
       "\n",
       "                                                text  \\\n",
       "0                    Time for Monday Night Raw! #RAW   \n",
       "1  @14bigjay88 @tate_slade_obsf they aren't gonna...   \n",
       "2  @NicoleBarbaro Thanks for sharing! My younger ...   \n",
       "3  @Telegraph I like all the people who are too b...   \n",
       "4                  Adios, Arizona. Until next time 💔   \n",
       "\n",
       "                                geo           created_at        lat  \\\n",
       "0  {'place_id': '5c62ffb0f0f3479d'}  2018-07-30 23:59:54  33.290260   \n",
       "1  {'place_id': '0015d9147cee6907'}  2018-07-30 23:59:44  33.384785   \n",
       "2  {'place_id': '7cb7440bcf83d464'}  2018-07-30 23:59:26  33.319945   \n",
       "3  {'place_id': '5c62ffb0f0f3479d'}  2018-07-30 23:59:14  33.290260   \n",
       "4  {'place_id': '006b48995ede9bcc'}  2018-07-30 23:59:04  33.204608   \n",
       "\n",
       "          lon     city  \n",
       "0 -112.323914  phoenix  \n",
       "1 -112.357999  phoenix  \n",
       "2 -111.979047  phoenix  \n",
       "3 -112.323914  phoenix  \n",
       "4 -111.842244  phoenix  "
      ]
     },
     "execution_count": 3,
     "metadata": {},
     "output_type": "execute_result"
    }
   ],
   "source": [
    "dfs = []\n",
    "cities = [\"phoenix\", \"portland\", \"san_francisco\", \"seattle\"]\n",
    "for city in cities:\n",
    "    df = concat_data(\"../data/{}/\".format(city))\n",
    "    df['city'] = city\n",
    "    dfs.append(df)\n",
    "    \n",
    "# Turn into a TwitterDataFrame\n",
    "df_raw = TwitterDataFrame(pd.concat(dfs))\n",
    "df_raw.head()"
   ]
  },
  {
   "cell_type": "code",
   "execution_count": 4,
   "id": "d728e79b",
   "metadata": {},
   "outputs": [
    {
     "data": {
      "text/plain": [
       "3772070"
      ]
     },
     "execution_count": 4,
     "metadata": {},
     "output_type": "execute_result"
    }
   ],
   "source": [
    "len(df_raw)"
   ]
  },
  {
   "cell_type": "code",
   "execution_count": 5,
   "id": "45dfe2e3",
   "metadata": {},
   "outputs": [
    {
     "data": {
      "text/html": [
       "<div>\n",
       "<style scoped>\n",
       "    .dataframe tbody tr th:only-of-type {\n",
       "        vertical-align: middle;\n",
       "    }\n",
       "\n",
       "    .dataframe tbody tr th {\n",
       "        vertical-align: top;\n",
       "    }\n",
       "\n",
       "    .dataframe thead th {\n",
       "        text-align: right;\n",
       "    }\n",
       "</style>\n",
       "<table border=\"1\" class=\"dataframe\">\n",
       "  <thead>\n",
       "    <tr style=\"text-align: right;\">\n",
       "      <th></th>\n",
       "      <th>id</th>\n",
       "      <th>author_id</th>\n",
       "      <th>text</th>\n",
       "      <th>geo</th>\n",
       "      <th>created_at</th>\n",
       "      <th>lat</th>\n",
       "      <th>lon</th>\n",
       "      <th>city</th>\n",
       "      <th>date</th>\n",
       "    </tr>\n",
       "  </thead>\n",
       "  <tbody>\n",
       "    <tr>\n",
       "      <th>0</th>\n",
       "      <td>1024082187115622400</td>\n",
       "      <td>1708905816</td>\n",
       "      <td>Time for Monday Night Raw! #RAW</td>\n",
       "      <td>{'place_id': '5c62ffb0f0f3479d'}</td>\n",
       "      <td>2018-07-30 23:59:54</td>\n",
       "      <td>33.290260</td>\n",
       "      <td>-112.323914</td>\n",
       "      <td>phoenix</td>\n",
       "      <td>2018-07-30</td>\n",
       "    </tr>\n",
       "    <tr>\n",
       "      <th>1</th>\n",
       "      <td>1024082144958636037</td>\n",
       "      <td>795028712408293376</td>\n",
       "      <td>@14bigjay88 @tate_slade_obsf they aren't gonna...</td>\n",
       "      <td>{'place_id': '0015d9147cee6907'}</td>\n",
       "      <td>2018-07-30 23:59:44</td>\n",
       "      <td>33.384785</td>\n",
       "      <td>-112.357999</td>\n",
       "      <td>phoenix</td>\n",
       "      <td>2018-07-30</td>\n",
       "    </tr>\n",
       "    <tr>\n",
       "      <th>2</th>\n",
       "      <td>1024082071222808577</td>\n",
       "      <td>275357706</td>\n",
       "      <td>@NicoleBarbaro Thanks for sharing! My younger ...</td>\n",
       "      <td>{'place_id': '7cb7440bcf83d464'}</td>\n",
       "      <td>2018-07-30 23:59:26</td>\n",
       "      <td>33.319945</td>\n",
       "      <td>-111.979047</td>\n",
       "      <td>phoenix</td>\n",
       "      <td>2018-07-30</td>\n",
       "    </tr>\n",
       "    <tr>\n",
       "      <th>3</th>\n",
       "      <td>1024082016969486337</td>\n",
       "      <td>20756054</td>\n",
       "      <td>@Telegraph I like all the people who are too b...</td>\n",
       "      <td>{'place_id': '5c62ffb0f0f3479d'}</td>\n",
       "      <td>2018-07-30 23:59:14</td>\n",
       "      <td>33.290260</td>\n",
       "      <td>-112.323914</td>\n",
       "      <td>phoenix</td>\n",
       "      <td>2018-07-30</td>\n",
       "    </tr>\n",
       "    <tr>\n",
       "      <th>4</th>\n",
       "      <td>1024081978864193536</td>\n",
       "      <td>601192710</td>\n",
       "      <td>Adios, Arizona. Until next time 💔</td>\n",
       "      <td>{'place_id': '006b48995ede9bcc'}</td>\n",
       "      <td>2018-07-30 23:59:04</td>\n",
       "      <td>33.204608</td>\n",
       "      <td>-111.842244</td>\n",
       "      <td>phoenix</td>\n",
       "      <td>2018-07-30</td>\n",
       "    </tr>\n",
       "  </tbody>\n",
       "</table>\n",
       "</div>"
      ],
      "text/plain": [
       "                    id           author_id  \\\n",
       "0  1024082187115622400          1708905816   \n",
       "1  1024082144958636037  795028712408293376   \n",
       "2  1024082071222808577           275357706   \n",
       "3  1024082016969486337            20756054   \n",
       "4  1024081978864193536           601192710   \n",
       "\n",
       "                                                text  \\\n",
       "0                    Time for Monday Night Raw! #RAW   \n",
       "1  @14bigjay88 @tate_slade_obsf they aren't gonna...   \n",
       "2  @NicoleBarbaro Thanks for sharing! My younger ...   \n",
       "3  @Telegraph I like all the people who are too b...   \n",
       "4                  Adios, Arizona. Until next time 💔   \n",
       "\n",
       "                                geo          created_at        lat  \\\n",
       "0  {'place_id': '5c62ffb0f0f3479d'} 2018-07-30 23:59:54  33.290260   \n",
       "1  {'place_id': '0015d9147cee6907'} 2018-07-30 23:59:44  33.384785   \n",
       "2  {'place_id': '7cb7440bcf83d464'} 2018-07-30 23:59:26  33.319945   \n",
       "3  {'place_id': '5c62ffb0f0f3479d'} 2018-07-30 23:59:14  33.290260   \n",
       "4  {'place_id': '006b48995ede9bcc'} 2018-07-30 23:59:04  33.204608   \n",
       "\n",
       "          lon     city       date  \n",
       "0 -112.323914  phoenix 2018-07-30  \n",
       "1 -112.357999  phoenix 2018-07-30  \n",
       "2 -111.979047  phoenix 2018-07-30  \n",
       "3 -112.323914  phoenix 2018-07-30  \n",
       "4 -111.842244  phoenix 2018-07-30  "
      ]
     },
     "execution_count": 5,
     "metadata": {},
     "output_type": "execute_result"
    }
   ],
   "source": [
    "df_raw = df_raw.dropna().reset_index(drop=True)\n",
    "df_raw['created_at'] = [datetime.strptime(d,'%Y-%m-%d %H:%M:%S') for d in df_raw['created_at']]   \n",
    "\n",
    "# Change date quantum to day\n",
    "df_raw['date'] = df_raw['created_at'].dt.floor('d')\n",
    "\n",
    "df_raw = TwitterDataFrame(df_raw)\n",
    "df_raw.head()"
   ]
  },
  {
   "cell_type": "code",
   "execution_count": 17,
   "id": "8e72a485",
   "metadata": {},
   "outputs": [
    {
     "name": "stderr",
     "output_type": "stream",
     "text": [
      "C:\\Users\\Nick\\AppData\\Local\\Temp/ipykernel_24716/3829494260.py:14: SettingWithCopyWarning: \n",
      "A value is trying to be set on a copy of a slice from a DataFrame.\n",
      "Try using .loc[row_indexer,col_indexer] = value instead\n",
      "\n",
      "See the caveats in the documentation: https://pandas.pydata.org/pandas-docs/stable/user_guide/indexing.html#returning-a-view-versus-a-copy\n",
      "  aqi_temp[\"city\"] = city\n",
      "C:\\Users\\Nick\\AppData\\Local\\Temp/ipykernel_24716/3829494260.py:14: SettingWithCopyWarning: \n",
      "A value is trying to be set on a copy of a slice from a DataFrame.\n",
      "Try using .loc[row_indexer,col_indexer] = value instead\n",
      "\n",
      "See the caveats in the documentation: https://pandas.pydata.org/pandas-docs/stable/user_guide/indexing.html#returning-a-view-versus-a-copy\n",
      "  aqi_temp[\"city\"] = city\n",
      "C:\\Users\\Nick\\AppData\\Local\\Temp/ipykernel_24716/3829494260.py:14: SettingWithCopyWarning: \n",
      "A value is trying to be set on a copy of a slice from a DataFrame.\n",
      "Try using .loc[row_indexer,col_indexer] = value instead\n",
      "\n",
      "See the caveats in the documentation: https://pandas.pydata.org/pandas-docs/stable/user_guide/indexing.html#returning-a-view-versus-a-copy\n",
      "  aqi_temp[\"city\"] = city\n",
      "C:\\Users\\Nick\\AppData\\Local\\Temp/ipykernel_24716/3829494260.py:14: SettingWithCopyWarning: \n",
      "A value is trying to be set on a copy of a slice from a DataFrame.\n",
      "Try using .loc[row_indexer,col_indexer] = value instead\n",
      "\n",
      "See the caveats in the documentation: https://pandas.pydata.org/pandas-docs/stable/user_guide/indexing.html#returning-a-view-versus-a-copy\n",
      "  aqi_temp[\"city\"] = city\n"
     ]
    },
    {
     "data": {
      "text/html": [
       "<div>\n",
       "<style scoped>\n",
       "    .dataframe tbody tr th:only-of-type {\n",
       "        vertical-align: middle;\n",
       "    }\n",
       "\n",
       "    .dataframe tbody tr th {\n",
       "        vertical-align: top;\n",
       "    }\n",
       "\n",
       "    .dataframe thead th {\n",
       "        text-align: right;\n",
       "    }\n",
       "</style>\n",
       "<table border=\"1\" class=\"dataframe\">\n",
       "  <thead>\n",
       "    <tr style=\"text-align: right;\">\n",
       "      <th></th>\n",
       "      <th>State Name</th>\n",
       "      <th>county Name</th>\n",
       "      <th>State Code</th>\n",
       "      <th>County Code</th>\n",
       "      <th>Date</th>\n",
       "      <th>AQI</th>\n",
       "      <th>Category</th>\n",
       "      <th>Defining Parameter</th>\n",
       "      <th>Defining Site</th>\n",
       "      <th>Number of Sites Reporting</th>\n",
       "      <th>city</th>\n",
       "    </tr>\n",
       "  </thead>\n",
       "  <tbody>\n",
       "    <tr>\n",
       "      <th>9213</th>\n",
       "      <td>Arizona</td>\n",
       "      <td>Maricopa</td>\n",
       "      <td>4</td>\n",
       "      <td>13</td>\n",
       "      <td>2018-01-01</td>\n",
       "      <td>249</td>\n",
       "      <td>Very Unhealthy</td>\n",
       "      <td>PM2.5</td>\n",
       "      <td>04-013-0019</td>\n",
       "      <td>30</td>\n",
       "      <td>phoenix</td>\n",
       "    </tr>\n",
       "    <tr>\n",
       "      <th>9214</th>\n",
       "      <td>Arizona</td>\n",
       "      <td>Maricopa</td>\n",
       "      <td>4</td>\n",
       "      <td>13</td>\n",
       "      <td>2018-01-02</td>\n",
       "      <td>79</td>\n",
       "      <td>Moderate</td>\n",
       "      <td>PM2.5</td>\n",
       "      <td>04-013-0019</td>\n",
       "      <td>30</td>\n",
       "      <td>phoenix</td>\n",
       "    </tr>\n",
       "    <tr>\n",
       "      <th>9215</th>\n",
       "      <td>Arizona</td>\n",
       "      <td>Maricopa</td>\n",
       "      <td>4</td>\n",
       "      <td>13</td>\n",
       "      <td>2018-01-03</td>\n",
       "      <td>77</td>\n",
       "      <td>Moderate</td>\n",
       "      <td>PM10</td>\n",
       "      <td>04-013-9812</td>\n",
       "      <td>30</td>\n",
       "      <td>phoenix</td>\n",
       "    </tr>\n",
       "    <tr>\n",
       "      <th>9216</th>\n",
       "      <td>Arizona</td>\n",
       "      <td>Maricopa</td>\n",
       "      <td>4</td>\n",
       "      <td>13</td>\n",
       "      <td>2018-01-04</td>\n",
       "      <td>82</td>\n",
       "      <td>Moderate</td>\n",
       "      <td>PM10</td>\n",
       "      <td>04-013-9812</td>\n",
       "      <td>30</td>\n",
       "      <td>phoenix</td>\n",
       "    </tr>\n",
       "    <tr>\n",
       "      <th>9217</th>\n",
       "      <td>Arizona</td>\n",
       "      <td>Maricopa</td>\n",
       "      <td>4</td>\n",
       "      <td>13</td>\n",
       "      <td>2018-01-05</td>\n",
       "      <td>73</td>\n",
       "      <td>Moderate</td>\n",
       "      <td>PM10</td>\n",
       "      <td>04-013-4009</td>\n",
       "      <td>30</td>\n",
       "      <td>phoenix</td>\n",
       "    </tr>\n",
       "  </tbody>\n",
       "</table>\n",
       "</div>"
      ],
      "text/plain": [
       "     State Name county Name  State Code  County Code       Date  AQI  \\\n",
       "9213    Arizona    Maricopa           4           13 2018-01-01  249   \n",
       "9214    Arizona    Maricopa           4           13 2018-01-02   79   \n",
       "9215    Arizona    Maricopa           4           13 2018-01-03   77   \n",
       "9216    Arizona    Maricopa           4           13 2018-01-04   82   \n",
       "9217    Arizona    Maricopa           4           13 2018-01-05   73   \n",
       "\n",
       "            Category Defining Parameter Defining Site  \\\n",
       "9213  Very Unhealthy              PM2.5   04-013-0019   \n",
       "9214        Moderate              PM2.5   04-013-0019   \n",
       "9215        Moderate               PM10   04-013-9812   \n",
       "9216        Moderate               PM10   04-013-9812   \n",
       "9217        Moderate               PM10   04-013-4009   \n",
       "\n",
       "      Number of Sites Reporting     city  \n",
       "9213                         30  phoenix  \n",
       "9214                         30  phoenix  \n",
       "9215                         30  phoenix  \n",
       "9216                         30  phoenix  \n",
       "9217                         30  phoenix  "
      ]
     },
     "execution_count": 17,
     "metadata": {},
     "output_type": "execute_result"
    }
   ],
   "source": [
    "# Load AQI data for each year\n",
    "years = df_raw['date'].dt.year.unique()\n",
    "aqi_raw = []\n",
    "for year in years:\n",
    "    aqi_raw.append(pd.read_csv('../data/daily_aqi_by_county_{}.csv'.format(year)))\n",
    "aqi_raw = pd.concat(aqi_raw)\n",
    "\n",
    "# Subset AQI to just wanted counties\n",
    "aqi_df = []\n",
    "locations = [(\"Maricopa\", \"Arizona\", \"phoenix\"), (\"San Francisco\", \"California\", \"san_francisco\"), (\"Multnomah\", \"Oregon\", \"portland\"), (\"King\", \"Washington\", \"seattle\")]\n",
    "for county, state, city in locations:\n",
    "    aqi_temp = aqi_raw[(aqi_raw['State Name']==state) & (aqi_raw['county Name']==county)] \n",
    "    # Need to create a city key in AQI df for merging later\n",
    "    aqi_temp[\"city\"] = city\n",
    "    aqi_df.append(aqi_temp)\n",
    "\n",
    "# Subset concat and extract dates\n",
    "aqi_df = pd.concat(aqi_df)\n",
    "aqi_df['Date'] = pd.to_datetime(aqi_df['Date'])\n",
    "\n",
    "aqi_df.head()"
   ]
  },
  {
   "cell_type": "code",
   "execution_count": 7,
   "id": "c5aeca8a",
   "metadata": {},
   "outputs": [
    {
     "name": "stdout",
     "output_type": "stream",
     "text": [
      "Lenth:  3772055\n",
      "Per day : 10334.397260273972\n"
     ]
    }
   ],
   "source": [
    "# What are the basics of the data set?\n",
    "print(\"Lenth: \", len(df_raw))\n",
    "print(\"Per day :\", len(df_raw)/365)"
   ]
  },
  {
   "cell_type": "code",
   "execution_count": 13,
   "id": "e4172ab3",
   "metadata": {},
   "outputs": [
    {
     "data": {
      "text/html": [
       "<div>\n",
       "<style scoped>\n",
       "    .dataframe tbody tr th:only-of-type {\n",
       "        vertical-align: middle;\n",
       "    }\n",
       "\n",
       "    .dataframe tbody tr th {\n",
       "        vertical-align: top;\n",
       "    }\n",
       "\n",
       "    .dataframe thead th {\n",
       "        text-align: right;\n",
       "    }\n",
       "</style>\n",
       "<table border=\"1\" class=\"dataframe\">\n",
       "  <thead>\n",
       "    <tr style=\"text-align: right;\">\n",
       "      <th></th>\n",
       "      <th>id</th>\n",
       "      <th>author_id</th>\n",
       "      <th>text</th>\n",
       "      <th>geo</th>\n",
       "      <th>created_at</th>\n",
       "      <th>lat</th>\n",
       "      <th>lon</th>\n",
       "      <th>city</th>\n",
       "      <th>date</th>\n",
       "    </tr>\n",
       "  </thead>\n",
       "  <tbody>\n",
       "    <tr>\n",
       "      <th>0</th>\n",
       "      <td>1024082187115622400</td>\n",
       "      <td>1708905816</td>\n",
       "      <td>time for monday night raw raw</td>\n",
       "      <td>{'place_id': '5c62ffb0f0f3479d'}</td>\n",
       "      <td>2018-07-30 23:59:54</td>\n",
       "      <td>33.290260</td>\n",
       "      <td>-112.323914</td>\n",
       "      <td>phoenix</td>\n",
       "      <td>2018-07-30</td>\n",
       "    </tr>\n",
       "    <tr>\n",
       "      <th>1</th>\n",
       "      <td>1024082144958636037</td>\n",
       "      <td>795028712408293376</td>\n",
       "      <td>@ USER @ USER slade obsf they aren t gon na sa...</td>\n",
       "      <td>{'place_id': '0015d9147cee6907'}</td>\n",
       "      <td>2018-07-30 23:59:44</td>\n",
       "      <td>33.384785</td>\n",
       "      <td>-112.357999</td>\n",
       "      <td>phoenix</td>\n",
       "      <td>2018-07-30</td>\n",
       "    </tr>\n",
       "    <tr>\n",
       "      <th>2</th>\n",
       "      <td>1024082071222808577</td>\n",
       "      <td>275357706</td>\n",
       "      <td>@ USER thanks for sharing my younger lab mate ...</td>\n",
       "      <td>{'place_id': '7cb7440bcf83d464'}</td>\n",
       "      <td>2018-07-30 23:59:26</td>\n",
       "      <td>33.319945</td>\n",
       "      <td>-111.979047</td>\n",
       "      <td>phoenix</td>\n",
       "      <td>2018-07-30</td>\n",
       "    </tr>\n",
       "    <tr>\n",
       "      <th>3</th>\n",
       "      <td>1024082016969486337</td>\n",
       "      <td>20756054</td>\n",
       "      <td>@ USER i like all the people who are too busy ...</td>\n",
       "      <td>{'place_id': '5c62ffb0f0f3479d'}</td>\n",
       "      <td>2018-07-30 23:59:14</td>\n",
       "      <td>33.290260</td>\n",
       "      <td>-112.323914</td>\n",
       "      <td>phoenix</td>\n",
       "      <td>2018-07-30</td>\n",
       "    </tr>\n",
       "    <tr>\n",
       "      <th>4</th>\n",
       "      <td>1024081978864193536</td>\n",
       "      <td>601192710</td>\n",
       "      <td>adios arizona until next time broken heart</td>\n",
       "      <td>{'place_id': '006b48995ede9bcc'}</td>\n",
       "      <td>2018-07-30 23:59:04</td>\n",
       "      <td>33.204608</td>\n",
       "      <td>-111.842244</td>\n",
       "      <td>phoenix</td>\n",
       "      <td>2018-07-30</td>\n",
       "    </tr>\n",
       "  </tbody>\n",
       "</table>\n",
       "</div>"
      ],
      "text/plain": [
       "                    id           author_id  \\\n",
       "0  1024082187115622400          1708905816   \n",
       "1  1024082144958636037  795028712408293376   \n",
       "2  1024082071222808577           275357706   \n",
       "3  1024082016969486337            20756054   \n",
       "4  1024081978864193536           601192710   \n",
       "\n",
       "                                                text  \\\n",
       "0                      time for monday night raw raw   \n",
       "1  @ USER @ USER slade obsf they aren t gon na sa...   \n",
       "2  @ USER thanks for sharing my younger lab mate ...   \n",
       "3  @ USER i like all the people who are too busy ...   \n",
       "4         adios arizona until next time broken heart   \n",
       "\n",
       "                                geo          created_at        lat  \\\n",
       "0  {'place_id': '5c62ffb0f0f3479d'} 2018-07-30 23:59:54  33.290260   \n",
       "1  {'place_id': '0015d9147cee6907'} 2018-07-30 23:59:44  33.384785   \n",
       "2  {'place_id': '7cb7440bcf83d464'} 2018-07-30 23:59:26  33.319945   \n",
       "3  {'place_id': '5c62ffb0f0f3479d'} 2018-07-30 23:59:14  33.290260   \n",
       "4  {'place_id': '006b48995ede9bcc'} 2018-07-30 23:59:04  33.204608   \n",
       "\n",
       "          lon     city       date  \n",
       "0 -112.323914  phoenix 2018-07-30  \n",
       "1 -112.357999  phoenix 2018-07-30  \n",
       "2 -111.979047  phoenix 2018-07-30  \n",
       "3 -112.323914  phoenix 2018-07-30  \n",
       "4 -111.842244  phoenix 2018-07-30  "
      ]
     },
     "execution_count": 13,
     "metadata": {},
     "output_type": "execute_result"
    }
   ],
   "source": [
    "spec_re = \"[^A-Za-z0-9\\@]+\"\n",
    "http_re = \"https?:\\S+|http?:\\S\"\n",
    "at_re = \"@\\S+\"\n",
    "lem = WordNetLemmatizer()\n",
    "\n",
    "def process_tweet(tweet):\n",
    "    tweet = str(tweet).lower()\n",
    "    tweet = emoji.demojize(tweet)\n",
    "    tweet = re.sub(spec_re, '', tweet)\n",
    "    tweet = re.sub(http_re, 'HTTPURL', tweet)\n",
    "    tweet = re.sub(at_re, '@USER', tweet)\n",
    "    \n",
    "    tokens = []\n",
    "    for token in nltk.word_tokenize(tweet):\n",
    "        tokens.append(lem.lemmatize(token))\n",
    "    tweet = ' '.join(tokens)\n",
    "\n",
    "    tweet = re.sub(r'\\s+', ' ', tweet).strip()\n",
    "    return tweet\n",
    "\n",
    "df_raw['text'] = df_raw['text'].apply(process_tweet)\n",
    "\n",
    "df_raw.head()"
   ]
  },
  {
   "cell_type": "code",
   "execution_count": 10,
   "id": "b1855583",
   "metadata": {},
   "outputs": [
    {
     "name": "stderr",
     "output_type": "stream",
     "text": [
      "c:\\Users\\Nick\\Documents\\P\\bergin\\wildfire\\notebooks\\../scripts/twitter\\searchTwitter.py:70: SettingWithCopyWarning: \n",
      "A value is trying to be set on a copy of a slice from a DataFrame\n",
      "\n",
      "See the caveats in the documentation: https://pandas.pydata.org/pandas-docs/stable/user_guide/indexing.html#returning-a-view-versus-a-copy\n",
      "  city_df.drop(\"city\", inplace=True, axis=1)\n",
      "c:\\Users\\Nick\\Documents\\P\\bergin\\wildfire\\notebooks\\../scripts/twitter\\searchTwitter.py:70: SettingWithCopyWarning: \n",
      "A value is trying to be set on a copy of a slice from a DataFrame\n",
      "\n",
      "See the caveats in the documentation: https://pandas.pydata.org/pandas-docs/stable/user_guide/indexing.html#returning-a-view-versus-a-copy\n",
      "  city_df.drop(\"city\", inplace=True, axis=1)\n",
      "c:\\Users\\Nick\\Documents\\P\\bergin\\wildfire\\notebooks\\../scripts/twitter\\searchTwitter.py:70: SettingWithCopyWarning: \n",
      "A value is trying to be set on a copy of a slice from a DataFrame\n",
      "\n",
      "See the caveats in the documentation: https://pandas.pydata.org/pandas-docs/stable/user_guide/indexing.html#returning-a-view-versus-a-copy\n",
      "  city_df.drop(\"city\", inplace=True, axis=1)\n",
      "c:\\Users\\Nick\\Documents\\P\\bergin\\wildfire\\notebooks\\../scripts/twitter\\searchTwitter.py:70: SettingWithCopyWarning: \n",
      "A value is trying to be set on a copy of a slice from a DataFrame\n",
      "\n",
      "See the caveats in the documentation: https://pandas.pydata.org/pandas-docs/stable/user_guide/indexing.html#returning-a-view-versus-a-copy\n",
      "  city_df.drop(\"city\", inplace=True, axis=1)\n"
     ]
    },
    {
     "data": {
      "text/plain": [
       "(4069, 3)"
      ]
     },
     "execution_count": 10,
     "metadata": {},
     "output_type": "execute_result"
    }
   ],
   "source": [
    "# This is broken\n",
    "df_batch = TwitterDataFrame(df_raw).group_by_day_and_batch(1000)\n",
    "df_batch.shape"
   ]
  },
  {
   "cell_type": "code",
   "execution_count": 13,
   "id": "68ac2908",
   "metadata": {},
   "outputs": [
    {
     "data": {
      "text/html": [
       "<div>\n",
       "<style scoped>\n",
       "    .dataframe tbody tr th:only-of-type {\n",
       "        vertical-align: middle;\n",
       "    }\n",
       "\n",
       "    .dataframe tbody tr th {\n",
       "        vertical-align: top;\n",
       "    }\n",
       "\n",
       "    .dataframe thead th {\n",
       "        text-align: right;\n",
       "    }\n",
       "</style>\n",
       "<table border=\"1\" class=\"dataframe\">\n",
       "  <thead>\n",
       "    <tr style=\"text-align: right;\">\n",
       "      <th></th>\n",
       "      <th>date</th>\n",
       "      <th>text</th>\n",
       "    </tr>\n",
       "    <tr>\n",
       "      <th>city</th>\n",
       "      <th></th>\n",
       "      <th></th>\n",
       "    </tr>\n",
       "  </thead>\n",
       "  <tbody>\n",
       "    <tr>\n",
       "      <th>phoenix</th>\n",
       "      <td>629</td>\n",
       "      <td>629</td>\n",
       "    </tr>\n",
       "    <tr>\n",
       "      <th>portland</th>\n",
       "      <td>255</td>\n",
       "      <td>255</td>\n",
       "    </tr>\n",
       "    <tr>\n",
       "      <th>san_francisco</th>\n",
       "      <td>2391</td>\n",
       "      <td>2391</td>\n",
       "    </tr>\n",
       "    <tr>\n",
       "      <th>seattle</th>\n",
       "      <td>794</td>\n",
       "      <td>794</td>\n",
       "    </tr>\n",
       "  </tbody>\n",
       "</table>\n",
       "</div>"
      ],
      "text/plain": [
       "               date  text\n",
       "city                     \n",
       "phoenix         629   629\n",
       "portland        255   255\n",
       "san_francisco  2391  2391\n",
       "seattle         794   794"
      ]
     },
     "execution_count": 13,
     "metadata": {},
     "output_type": "execute_result"
    }
   ],
   "source": [
    "# Slightly more than expected l / 1000 because array_split uses:\n",
    "# \"For an array of length l that should be split into n sections, it returns l % n sub-arrays of size l//n + 1 and the rest of size l//n.\"\n",
    "df_batch.groupby(\"city\").count()"
   ]
  },
  {
   "cell_type": "code",
   "execution_count": 18,
   "id": "73fd8432",
   "metadata": {},
   "outputs": [
    {
     "name": "stdout",
     "output_type": "stream",
     "text": [
      "Index(['date', 'text', 'city', 'State Name', 'county Name', 'State Code',\n",
      "       'County Code', 'Date', 'AQI', 'Category', 'Defining Parameter',\n",
      "       'Defining Site', 'Number of Sites Reporting'],\n",
      "      dtype='object')\n"
     ]
    }
   ],
   "source": [
    "df_mrg = pd.merge(left=df_batch, right=aqi_df, left_on=['date', 'city'], right_on=['Date', 'city'], how='inner')\n",
    "print(df_mrg.columns)\n",
    "df_clean = df_mrg.drop(columns=['State Name', 'county Name', 'State Code', 'County Code', 'Date', \"Defining Parameter\", \"Defining Site\", \"Number of Sites Reporting\"])"
   ]
  },
  {
   "cell_type": "code",
   "execution_count": 19,
   "id": "363992ce",
   "metadata": {},
   "outputs": [],
   "source": [
    "def save_df(df):\n",
    "    df_clean.to_csv(\"../data/cleaned/four_cities.csv\", index=False)\n",
    "    df_clean.head()\n",
    "    # write clean csvs for each city\n",
    "    for city in df_clean.city.unique():\n",
    "        df = df_clean[df_clean['city'] == city]\n",
    "        df.to_csv(\"../data/cleaned/{}_cleaned.csv\".format(city), index=False)\n",
    "\n",
    "save_df(df_clean)"
   ]
  },
  {
   "cell_type": "markdown",
   "id": "545904d6",
   "metadata": {},
   "source": [
    "#### Note: to start from previously cleaned data begin here"
   ]
  },
  {
   "cell_type": "code",
   "execution_count": 5,
   "id": "50c1c16e",
   "metadata": {},
   "outputs": [
    {
     "data": {
      "text/html": [
       "<div>\n",
       "<style scoped>\n",
       "    .dataframe tbody tr th:only-of-type {\n",
       "        vertical-align: middle;\n",
       "    }\n",
       "\n",
       "    .dataframe tbody tr th {\n",
       "        vertical-align: top;\n",
       "    }\n",
       "\n",
       "    .dataframe thead th {\n",
       "        text-align: right;\n",
       "    }\n",
       "</style>\n",
       "<table border=\"1\" class=\"dataframe\">\n",
       "  <thead>\n",
       "    <tr style=\"text-align: right;\">\n",
       "      <th></th>\n",
       "      <th>date</th>\n",
       "      <th>text</th>\n",
       "      <th>city</th>\n",
       "      <th>AQI</th>\n",
       "      <th>Category</th>\n",
       "    </tr>\n",
       "  </thead>\n",
       "  <tbody>\n",
       "    <tr>\n",
       "      <th>0</th>\n",
       "      <td>2018-07-01</td>\n",
       "      <td>are the giants good now happy bday twins spark...</td>\n",
       "      <td>phoenix</td>\n",
       "      <td>77</td>\n",
       "      <td>Moderate</td>\n",
       "    </tr>\n",
       "    <tr>\n",
       "      <th>1</th>\n",
       "      <td>2018-07-01</td>\n",
       "      <td>kids shoot at least hundred points jump shots ...</td>\n",
       "      <td>phoenix</td>\n",
       "      <td>77</td>\n",
       "      <td>Moderate</td>\n",
       "    </tr>\n",
       "    <tr>\n",
       "      <th>2</th>\n",
       "      <td>2018-07-01</td>\n",
       "      <td>@ christiemack congratulations christie she is...</td>\n",
       "      <td>phoenix</td>\n",
       "      <td>77</td>\n",
       "      <td>Moderate</td>\n",
       "    </tr>\n",
       "    <tr>\n",
       "      <th>3</th>\n",
       "      <td>2018-07-01</td>\n",
       "      <td>@USER @USER aww he looks like an ollie smiling...</td>\n",
       "      <td>phoenix</td>\n",
       "      <td>77</td>\n",
       "      <td>Moderate</td>\n",
       "    </tr>\n",
       "    <tr>\n",
       "      <th>4</th>\n",
       "      <td>2018-07-01</td>\n",
       "      <td>scottsdale is unreal deadass just looked at a ...</td>\n",
       "      <td>phoenix</td>\n",
       "      <td>77</td>\n",
       "      <td>Moderate</td>\n",
       "    </tr>\n",
       "  </tbody>\n",
       "</table>\n",
       "</div>"
      ],
      "text/plain": [
       "        date                                               text     city  AQI  \\\n",
       "0 2018-07-01  are the giants good now happy bday twins spark...  phoenix   77   \n",
       "1 2018-07-01  kids shoot at least hundred points jump shots ...  phoenix   77   \n",
       "2 2018-07-01  @ christiemack congratulations christie she is...  phoenix   77   \n",
       "3 2018-07-01  @USER @USER aww he looks like an ollie smiling...  phoenix   77   \n",
       "4 2018-07-01  scottsdale is unreal deadass just looked at a ...  phoenix   77   \n",
       "\n",
       "   Category  \n",
       "0  Moderate  \n",
       "1  Moderate  \n",
       "2  Moderate  \n",
       "3  Moderate  \n",
       "4  Moderate  "
      ]
     },
     "execution_count": 5,
     "metadata": {},
     "output_type": "execute_result"
    }
   ],
   "source": [
    "df_clean = pd.read_csv(\"../data/cleaned/four_cities.csv\", parse_dates=['date'])\n",
    "df_clean.head()"
   ]
  },
  {
   "cell_type": "markdown",
   "id": "51747011",
   "metadata": {},
   "source": [
    "#### Experiment: word counts"
   ]
  },
  {
   "cell_type": "code",
   "execution_count": 20,
   "id": "42fe7894",
   "metadata": {},
   "outputs": [
    {
     "data": {
      "text/plain": [
       "@                     4212591\n",
       "USER                  4162030\n",
       "i                     1820302\n",
       "the                   1745453\n",
       "to                    1329573\n",
       "                       ...   \n",
       "terryrichardson             1\n",
       "sligh                       1\n",
       "forevvvaa                   1\n",
       "thislooksliketrash          1\n",
       "garasaki                    1\n",
       "Length: 494100, dtype: int64"
      ]
     },
     "execution_count": 20,
     "metadata": {},
     "output_type": "execute_result"
    }
   ],
   "source": [
    "word_freq = df_clean.text.str.split(expand=True).stack().value_counts()\n",
    "word_count = word_freq.sum()\n",
    "word_freq"
   ]
  },
  {
   "cell_type": "code",
   "execution_count": 24,
   "id": "bf938c31",
   "metadata": {},
   "outputs": [
    {
     "data": {
      "text/plain": [
       "(asthma       251\n",
       " lung         829\n",
       " cough       1038\n",
       " smoke       7578\n",
       " smog         127\n",
       " aqi          179\n",
       " air         8599\n",
       " wildfire     735\n",
       " dtype: int64,\n",
       " 68624980)"
      ]
     },
     "execution_count": 24,
     "metadata": {},
     "output_type": "execute_result"
    }
   ],
   "source": [
    "key_words = [\"asthma\",\"lung\",\"cough\",\"smoke\", \"smog\",\"aqi\",\"air\", \"wildfire\"]\n",
    "key_freq = word_freq[key_words]\n",
    "key_freq, word_count"
   ]
  },
  {
   "cell_type": "code",
   "execution_count": 25,
   "id": "34356dbf",
   "metadata": {},
   "outputs": [
    {
     "data": {
      "text/plain": [
       "(127, 8599)"
      ]
     },
     "execution_count": 25,
     "metadata": {},
     "output_type": "execute_result"
    }
   ],
   "source": [
    "min_df = key_freq.min()\n",
    "max_df = key_freq.max()\n",
    "\n",
    "min_df, max_df"
   ]
  },
  {
   "cell_type": "markdown",
   "id": "1a51c3ab",
   "metadata": {},
   "source": [
    "### Model Code below\n",
    "\n",
    "****\n",
    "\n",
    "**Three ways to split the data**\n",
    "1. Random split by batches\n",
    "1. Random split by days\n",
    "1. Random split by cities\n"
   ]
  },
  {
   "cell_type": "code",
   "execution_count": 44,
   "id": "8795d9ae",
   "metadata": {},
   "outputs": [],
   "source": [
    "# 1. split by batches (stratify = date)\n",
    "train_df, test_df = train_test_split(df_clean, test_size=0.2, random_state=23)\n",
    "train_df = train_df.reset_index(drop=True)\n",
    "test_df = test_df.reset_index(drop=True)"
   ]
  },
  {
   "cell_type": "code",
   "execution_count": 45,
   "id": "698bc036",
   "metadata": {},
   "outputs": [],
   "source": [
    "# 2. split based off of days\n",
    "dates = df_clean.date.unique()\n",
    "np.random.shuffle(dates)\n",
    "train_dates, test_dates = train_test_split(dates, test_size=0.2, random_state=23)\n",
    "train_df = df_clean[df_clean['date'].isin(train_dates)]\n",
    "test_df = df_clean[df_clean['date'].isin(test_dates)]"
   ]
  },
  {
   "cell_type": "code",
   "execution_count": 40,
   "id": "efe99ddb",
   "metadata": {},
   "outputs": [],
   "source": [
    "# 3. Split by cities\n",
    "cities = df_clean.city.unique()\n",
    "np.random.shuffle(cities)\n",
    "train_df = df_clean[df_clean.city.isin(cities[1:])]\n",
    "test_df = df_clean[df_clean.city.isin([cities[0]])]"
   ]
  },
  {
   "cell_type": "code",
   "execution_count": 41,
   "id": "94c45678",
   "metadata": {},
   "outputs": [
    {
     "data": {
      "text/html": [
       "<div>\n",
       "<style scoped>\n",
       "    .dataframe tbody tr th:only-of-type {\n",
       "        vertical-align: middle;\n",
       "    }\n",
       "\n",
       "    .dataframe tbody tr th {\n",
       "        vertical-align: top;\n",
       "    }\n",
       "\n",
       "    .dataframe thead th {\n",
       "        text-align: right;\n",
       "    }\n",
       "</style>\n",
       "<table border=\"1\" class=\"dataframe\">\n",
       "  <thead>\n",
       "    <tr style=\"text-align: right;\">\n",
       "      <th></th>\n",
       "      <th>date</th>\n",
       "      <th>text</th>\n",
       "      <th>city</th>\n",
       "      <th>AQI</th>\n",
       "      <th>Category</th>\n",
       "    </tr>\n",
       "  </thead>\n",
       "  <tbody>\n",
       "    <tr>\n",
       "      <th>0</th>\n",
       "      <td>2018-07-01</td>\n",
       "      <td>are the giant good now happy bday twin sparkli...</td>\n",
       "      <td>phoenix</td>\n",
       "      <td>77</td>\n",
       "      <td>Moderate</td>\n",
       "    </tr>\n",
       "    <tr>\n",
       "      <th>1</th>\n",
       "      <td>2018-07-01</td>\n",
       "      <td>kid shoot at least hundred point jump shot at ...</td>\n",
       "      <td>phoenix</td>\n",
       "      <td>77</td>\n",
       "      <td>Moderate</td>\n",
       "    </tr>\n",
       "    <tr>\n",
       "      <th>2</th>\n",
       "      <td>2018-07-01</td>\n",
       "      <td>@ christiemack congratulation christie she is ...</td>\n",
       "      <td>phoenix</td>\n",
       "      <td>77</td>\n",
       "      <td>Moderate</td>\n",
       "    </tr>\n",
       "    <tr>\n",
       "      <th>3</th>\n",
       "      <td>2018-07-01</td>\n",
       "      <td>@ USER @ USER aww he look like an ollie smilin...</td>\n",
       "      <td>phoenix</td>\n",
       "      <td>77</td>\n",
       "      <td>Moderate</td>\n",
       "    </tr>\n",
       "    <tr>\n",
       "      <th>4</th>\n",
       "      <td>2018-07-01</td>\n",
       "      <td>scottsdale is unreal deadass just looked at a ...</td>\n",
       "      <td>phoenix</td>\n",
       "      <td>77</td>\n",
       "      <td>Moderate</td>\n",
       "    </tr>\n",
       "  </tbody>\n",
       "</table>\n",
       "</div>"
      ],
      "text/plain": [
       "        date                                               text     city  AQI  \\\n",
       "0 2018-07-01  are the giant good now happy bday twin sparkli...  phoenix   77   \n",
       "1 2018-07-01  kid shoot at least hundred point jump shot at ...  phoenix   77   \n",
       "2 2018-07-01  @ christiemack congratulation christie she is ...  phoenix   77   \n",
       "3 2018-07-01  @ USER @ USER aww he look like an ollie smilin...  phoenix   77   \n",
       "4 2018-07-01  scottsdale is unreal deadass just looked at a ...  phoenix   77   \n",
       "\n",
       "   Category  \n",
       "0  Moderate  \n",
       "1  Moderate  \n",
       "2  Moderate  \n",
       "3  Moderate  \n",
       "4  Moderate  "
      ]
     },
     "execution_count": 41,
     "metadata": {},
     "output_type": "execute_result"
    }
   ],
   "source": [
    "train_df.head()"
   ]
  },
  {
   "cell_type": "code",
   "execution_count": 42,
   "id": "902fa58f",
   "metadata": {},
   "outputs": [],
   "source": [
    "X_train = train_df['text']\n",
    "X_test = test_df['text']\n",
    "\n",
    "y_train = train_df['AQI']\n",
    "y_test = test_df['AQI']\n",
    "\n",
    "c_train = train_df['city']\n",
    "c_test = test_df['city']"
   ]
  },
  {
   "cell_type": "code",
   "execution_count": 43,
   "id": "fdf30b47",
   "metadata": {},
   "outputs": [
    {
     "data": {
      "text/plain": [
       "1678000"
      ]
     },
     "execution_count": 43,
     "metadata": {},
     "output_type": "execute_result"
    }
   ],
   "source": [
    "len(train_df)*1000"
   ]
  },
  {
   "cell_type": "markdown",
   "id": "fde0b144",
   "metadata": {},
   "source": [
    "### Experiment 1: Finding a baseline with K-Means Regression"
   ]
  },
  {
   "cell_type": "code",
   "execution_count": 44,
   "id": "518d798b",
   "metadata": {},
   "outputs": [],
   "source": [
    "# min_df sets the min document frequency for accepted words\n",
    "tf_vect = TfidfVectorizer(min_df=min_df, max_df=max_df).fit(X_train)\n",
    "words = tf_vect.get_feature_names_out()\n",
    "X_train_enc = tf_vect.transform(X_train)\n",
    "X_test_enc = tf_vect.transform(X_test)"
   ]
  },
  {
   "cell_type": "code",
   "execution_count": 53,
   "id": "355a5db4",
   "metadata": {},
   "outputs": [
    {
     "data": {
      "text/plain": [
       "('vocab size', 7602)"
      ]
     },
     "execution_count": 53,
     "metadata": {},
     "output_type": "execute_result"
    }
   ],
   "source": [
    "\"vocab size\", len(words)"
   ]
  },
  {
   "cell_type": "code",
   "execution_count": 45,
   "id": "ab6c0761",
   "metadata": {},
   "outputs": [
    {
     "data": {
      "text/plain": [
       "((1678, 7602), (1678,))"
      ]
     },
     "execution_count": 45,
     "metadata": {},
     "output_type": "execute_result"
    }
   ],
   "source": [
    "X_train_enc.shape, X_train.shape # double check vocab size"
   ]
  },
  {
   "cell_type": "code",
   "execution_count": 46,
   "id": "de91c582",
   "metadata": {},
   "outputs": [
    {
     "data": {
      "text/plain": [
       "7602"
      ]
     },
     "execution_count": 46,
     "metadata": {},
     "output_type": "execute_result"
    }
   ],
   "source": [
    "len(words)"
   ]
  },
  {
   "cell_type": "code",
   "execution_count": 47,
   "id": "c308de03",
   "metadata": {},
   "outputs": [
    {
     "data": {
      "text/plain": [
       "0       6.266787\n",
       "1       6.266787\n",
       "2       6.266787\n",
       "3       6.266787\n",
       "4       6.266787\n",
       "          ...   \n",
       "4064    5.129283\n",
       "4065    5.129283\n",
       "4066    5.129283\n",
       "4067    5.129283\n",
       "4068    5.129283\n",
       "Name: AQI, Length: 1678, dtype: float64"
      ]
     },
     "execution_count": 47,
     "metadata": {},
     "output_type": "execute_result"
    }
   ],
   "source": [
    "y_train = train_df['AQI'].apply(np.log2)\n",
    "y_test = test_df['AQI'].apply(np.log2)\n",
    "y_train"
   ]
  },
  {
   "cell_type": "code",
   "execution_count": 54,
   "id": "bc803656",
   "metadata": {},
   "outputs": [],
   "source": [
    "from sklearn.neighbors import KNeighborsRegressor\n",
    "\n",
    "# Fit Regression model\n",
    "knn_model = KNeighborsRegressor(n_neighbors=5, n_jobs=-1).fit(X_train_enc, y_train)"
   ]
  },
  {
   "cell_type": "code",
   "execution_count": 55,
   "id": "a93c799c",
   "metadata": {},
   "outputs": [
    {
     "data": {
      "text/plain": [
       "0.43136167659361646"
      ]
     },
     "execution_count": 55,
     "metadata": {},
     "output_type": "execute_result"
    }
   ],
   "source": [
    "y_pred = knn_model.predict(X_train_enc)\n",
    "knn_model.score(X_train_enc, y_train)\n"
   ]
  },
  {
   "cell_type": "code",
   "execution_count": 56,
   "id": "96581f83",
   "metadata": {},
   "outputs": [
    {
     "data": {
      "text/plain": [
       "-1.29725916415323"
      ]
     },
     "execution_count": 56,
     "metadata": {},
     "output_type": "execute_result"
    }
   ],
   "source": [
    "y_pred_test = knn_model.predict(X_test_enc)\n",
    "knn_model.score(X_test_enc, y_test)\n"
   ]
  },
  {
   "cell_type": "code",
   "execution_count": 59,
   "id": "eaf4e859",
   "metadata": {},
   "outputs": [
    {
     "data": {
      "image/png": "[encoded data removed]",
      "text/plain": [
       "<Figure size 720x720 with 1 Axes>"
      ]
     },
     "metadata": {},
     "output_type": "display_data"
    }
   ],
   "source": [
    "# Plots predictions by their true value\n",
    "def plot_reference(y_pred, y_train, hue=None, draw_ref=True):\n",
    "    # Draw reference lines\n",
    "    if draw_ref:\n",
    "        X = np.linspace(0, 240, 240)\n",
    "        plt.plot(X, X, '--', color=\"#cc2727\", linewidth=2)\n",
    "\n",
    "    plot = sns.scatterplot(x=y_pred, y=y_train, hue=hue)\n",
    "\n",
    "    # Set plot style\n",
    "    max_lim = max(y_pred)\n",
    "    min_lim = min(y_pred)\n",
    "    max_lim += (max_lim-min_lim) / 10\n",
    "    min_lim -= (max_lim-min_lim) / 10\n",
    "\n",
    "    plot.set(ylim=(min_lim, max_lim))\n",
    "    plot.set(xlim=(min_lim, max_lim))\n",
    "\n",
    "    plot.set_title(\"Sensor AQI by Predicted AQI\")\n",
    "    plot.set_ylabel(\"Sensor AQI\", fontsize = 12)\n",
    "    plot.set_xlabel(\"Model AQI\", fontsize = 12)\n",
    "\n",
    "plot_reference(y_pred, y_train, hue=c_train)\n",
    "#plot_reference(y_pred_test, y_test, hue=c_test)"
   ]
  },
  {
   "cell_type": "markdown",
   "id": "587626a2",
   "metadata": {},
   "source": [
    "## Experiment 2: Finding optimal vocab size"
   ]
  },
  {
   "cell_type": "code",
   "execution_count": 57,
   "id": "eb5b8bb3",
   "metadata": {},
   "outputs": [],
   "source": [
    "def test_vocab_knn(X_train, X_test, min_df, max_df, scores):\n",
    "    # min_df sets the min document frequency for accepted words\n",
    "    tf_vect = TfidfVectorizer(min_df=min_df, max_df=max_df).fit(X_train)\n",
    "    words = tf_vect.get_feature_names_out()\n",
    "    X_train_enc = tf_vect.transform(X_train)\n",
    "    X_test_enc = tf_vect.transform(X_test)\n",
    "    y_train = train_df['AQI'].apply(np.log2)\n",
    "    y_test = test_df['AQI'].apply(np.log2)\n",
    "\n",
    "    # Fit Regression model\n",
    "    knn_model = KNeighborsRegressor(n_neighbors=5, n_jobs=-1).fit(X_train_enc, y_train)\n",
    "\n",
    "    scores.append((knn_model.score(X_train_enc, y_train), knn_model.score(X_test_enc, y_test), len(words)))\n",
    "    return\n"
   ]
  },
  {
   "cell_type": "code",
   "execution_count": 58,
   "id": "39d5c2c9",
   "metadata": {},
   "outputs": [
    {
     "data": {
      "text/plain": [
       "[(0.4803405684388409, -1.3310793245658554),\n",
       " (0.4803405684388409, -1.3310793245658554),\n",
       " (0.4803405684388409, -1.3310793245658554),\n",
       " (0.4803405684388409, -1.3310793245658554),\n",
       " (0.4886133890743686, -1.313824921270513),\n",
       " (0.4886133890743686, -1.313824921270513),\n",
       " (0.4886133890743686, -1.313824921270513),\n",
       " (0.4886133890743686, -1.313824921270513),\n",
       " (0.49068399040484767, -1.4057341605604803),\n",
       " (0.49068399040484767, -1.4057341605604803),\n",
       " (0.49068399040484767, -1.4057341605604803),\n",
       " (0.49068399040484767, -1.4057341605604803),\n",
       " (0.4968102598501698, -1.4226519941766647),\n",
       " (0.4968102598501698, -1.4226519941766647),\n",
       " (0.4968102598501698, -1.4226519941766647),\n",
       " (0.4968102598501698, -1.4226519941766647)]"
      ]
     },
     "execution_count": 58,
     "metadata": {},
     "output_type": "execute_result"
    }
   ],
   "source": [
    "min_inc = min_df // 4\n",
    "max_inc = max_df // 8\n",
    "scores = []\n",
    "for lo_df in range(min_df - min_inc * 2, min_df + min_inc * 2, min_inc):\n",
    "   for hi_df in range(max_df - max_inc * 2, max_df + max_inc * 2, max_inc):\n",
    "      test_vocab_knn(X_train, X_test, lo_df, hi_df, scores)\n",
    "\n",
    "scores"
   ]
  },
  {
   "cell_type": "markdown",
   "id": "1fe69390",
   "metadata": {},
   "source": [
    "## Experiment 3: Random Forest for word importance extraction"
   ]
  },
  {
   "cell_type": "code",
   "execution_count": 52,
   "id": "658fd67f",
   "metadata": {},
   "outputs": [
    {
     "ename": "KeyboardInterrupt",
     "evalue": "",
     "output_type": "error",
     "traceback": [
      "\u001b[1;31m---------------------------------------------------------------------------\u001b[0m",
      "\u001b[1;31mKeyboardInterrupt\u001b[0m                         Traceback (most recent call last)",
      "\u001b[1;32m~\\AppData\\Local\\Temp/ipykernel_24716/1345523006.py\u001b[0m in \u001b[0;36m<module>\u001b[1;34m\u001b[0m\n\u001b[0;32m      1\u001b[0m \u001b[1;32mfrom\u001b[0m \u001b[0msklearn\u001b[0m\u001b[1;33m.\u001b[0m\u001b[0mensemble\u001b[0m \u001b[1;32mimport\u001b[0m \u001b[0mRandomForestRegressor\u001b[0m\u001b[1;33m\u001b[0m\u001b[1;33m\u001b[0m\u001b[0m\n\u001b[0;32m      2\u001b[0m \u001b[1;33m\u001b[0m\u001b[0m\n\u001b[1;32m----> 3\u001b[1;33m \u001b[0mtree_model\u001b[0m \u001b[1;33m=\u001b[0m \u001b[0mRandomForestRegressor\u001b[0m\u001b[1;33m(\u001b[0m\u001b[0mrandom_state\u001b[0m\u001b[1;33m=\u001b[0m\u001b[1;36m23\u001b[0m\u001b[1;33m,\u001b[0m \u001b[0mn_estimators\u001b[0m\u001b[1;33m=\u001b[0m\u001b[1;36m20\u001b[0m\u001b[1;33m)\u001b[0m\u001b[1;33m.\u001b[0m\u001b[0mfit\u001b[0m\u001b[1;33m(\u001b[0m\u001b[0mX_train_enc\u001b[0m\u001b[1;33m,\u001b[0m \u001b[0my_train\u001b[0m\u001b[1;33m)\u001b[0m\u001b[1;33m\u001b[0m\u001b[1;33m\u001b[0m\u001b[0m\n\u001b[0m",
      "\u001b[1;32m~\\miniconda3\\envs\\bergin\\lib\\site-packages\\sklearn\\ensemble\\_forest.py\u001b[0m in \u001b[0;36mfit\u001b[1;34m(self, X, y, sample_weight)\u001b[0m\n\u001b[0;32m    448\u001b[0m             \u001b[1;31m# parallel_backend contexts set at a higher level,\u001b[0m\u001b[1;33m\u001b[0m\u001b[1;33m\u001b[0m\u001b[0m\n\u001b[0;32m    449\u001b[0m             \u001b[1;31m# since correctness does not rely on using threads.\u001b[0m\u001b[1;33m\u001b[0m\u001b[1;33m\u001b[0m\u001b[0m\n\u001b[1;32m--> 450\u001b[1;33m             trees = Parallel(\n\u001b[0m\u001b[0;32m    451\u001b[0m                 \u001b[0mn_jobs\u001b[0m\u001b[1;33m=\u001b[0m\u001b[0mself\u001b[0m\u001b[1;33m.\u001b[0m\u001b[0mn_jobs\u001b[0m\u001b[1;33m,\u001b[0m\u001b[1;33m\u001b[0m\u001b[1;33m\u001b[0m\u001b[0m\n\u001b[0;32m    452\u001b[0m                 \u001b[0mverbose\u001b[0m\u001b[1;33m=\u001b[0m\u001b[0mself\u001b[0m\u001b[1;33m.\u001b[0m\u001b[0mverbose\u001b[0m\u001b[1;33m,\u001b[0m\u001b[1;33m\u001b[0m\u001b[1;33m\u001b[0m\u001b[0m\n",
      "\u001b[1;32m~\\miniconda3\\envs\\bergin\\lib\\site-packages\\joblib\\parallel.py\u001b[0m in \u001b[0;36m__call__\u001b[1;34m(self, iterable)\u001b[0m\n\u001b[0;32m   1044\u001b[0m                 \u001b[0mself\u001b[0m\u001b[1;33m.\u001b[0m\u001b[0m_iterating\u001b[0m \u001b[1;33m=\u001b[0m \u001b[0mself\u001b[0m\u001b[1;33m.\u001b[0m\u001b[0m_original_iterator\u001b[0m \u001b[1;32mis\u001b[0m \u001b[1;32mnot\u001b[0m \u001b[1;32mNone\u001b[0m\u001b[1;33m\u001b[0m\u001b[1;33m\u001b[0m\u001b[0m\n\u001b[0;32m   1045\u001b[0m \u001b[1;33m\u001b[0m\u001b[0m\n\u001b[1;32m-> 1046\u001b[1;33m             \u001b[1;32mwhile\u001b[0m \u001b[0mself\u001b[0m\u001b[1;33m.\u001b[0m\u001b[0mdispatch_one_batch\u001b[0m\u001b[1;33m(\u001b[0m\u001b[0miterator\u001b[0m\u001b[1;33m)\u001b[0m\u001b[1;33m:\u001b[0m\u001b[1;33m\u001b[0m\u001b[1;33m\u001b[0m\u001b[0m\n\u001b[0m\u001b[0;32m   1047\u001b[0m                 \u001b[1;32mpass\u001b[0m\u001b[1;33m\u001b[0m\u001b[1;33m\u001b[0m\u001b[0m\n\u001b[0;32m   1048\u001b[0m \u001b[1;33m\u001b[0m\u001b[0m\n",
      "\u001b[1;32m~\\miniconda3\\envs\\bergin\\lib\\site-packages\\joblib\\parallel.py\u001b[0m in \u001b[0;36mdispatch_one_batch\u001b[1;34m(self, iterator)\u001b[0m\n\u001b[0;32m    859\u001b[0m                 \u001b[1;32mreturn\u001b[0m \u001b[1;32mFalse\u001b[0m\u001b[1;33m\u001b[0m\u001b[1;33m\u001b[0m\u001b[0m\n\u001b[0;32m    860\u001b[0m             \u001b[1;32melse\u001b[0m\u001b[1;33m:\u001b[0m\u001b[1;33m\u001b[0m\u001b[1;33m\u001b[0m\u001b[0m\n\u001b[1;32m--> 861\u001b[1;33m                 \u001b[0mself\u001b[0m\u001b[1;33m.\u001b[0m\u001b[0m_dispatch\u001b[0m\u001b[1;33m(\u001b[0m\u001b[0mtasks\u001b[0m\u001b[1;33m)\u001b[0m\u001b[1;33m\u001b[0m\u001b[1;33m\u001b[0m\u001b[0m\n\u001b[0m\u001b[0;32m    862\u001b[0m                 \u001b[1;32mreturn\u001b[0m \u001b[1;32mTrue\u001b[0m\u001b[1;33m\u001b[0m\u001b[1;33m\u001b[0m\u001b[0m\n\u001b[0;32m    863\u001b[0m \u001b[1;33m\u001b[0m\u001b[0m\n",
      "\u001b[1;32m~\\miniconda3\\envs\\bergin\\lib\\site-packages\\joblib\\parallel.py\u001b[0m in \u001b[0;36m_dispatch\u001b[1;34m(self, batch)\u001b[0m\n\u001b[0;32m    777\u001b[0m         \u001b[1;32mwith\u001b[0m \u001b[0mself\u001b[0m\u001b[1;33m.\u001b[0m\u001b[0m_lock\u001b[0m\u001b[1;33m:\u001b[0m\u001b[1;33m\u001b[0m\u001b[1;33m\u001b[0m\u001b[0m\n\u001b[0;32m    778\u001b[0m             \u001b[0mjob_idx\u001b[0m \u001b[1;33m=\u001b[0m \u001b[0mlen\u001b[0m\u001b[1;33m(\u001b[0m\u001b[0mself\u001b[0m\u001b[1;33m.\u001b[0m\u001b[0m_jobs\u001b[0m\u001b[1;33m)\u001b[0m\u001b[1;33m\u001b[0m\u001b[1;33m\u001b[0m\u001b[0m\n\u001b[1;32m--> 779\u001b[1;33m             \u001b[0mjob\u001b[0m \u001b[1;33m=\u001b[0m \u001b[0mself\u001b[0m\u001b[1;33m.\u001b[0m\u001b[0m_backend\u001b[0m\u001b[1;33m.\u001b[0m\u001b[0mapply_async\u001b[0m\u001b[1;33m(\u001b[0m\u001b[0mbatch\u001b[0m\u001b[1;33m,\u001b[0m \u001b[0mcallback\u001b[0m\u001b[1;33m=\u001b[0m\u001b[0mcb\u001b[0m\u001b[1;33m)\u001b[0m\u001b[1;33m\u001b[0m\u001b[1;33m\u001b[0m\u001b[0m\n\u001b[0m\u001b[0;32m    780\u001b[0m             \u001b[1;31m# A job can complete so quickly than its callback is\u001b[0m\u001b[1;33m\u001b[0m\u001b[1;33m\u001b[0m\u001b[0m\n\u001b[0;32m    781\u001b[0m             \u001b[1;31m# called before we get here, causing self._jobs to\u001b[0m\u001b[1;33m\u001b[0m\u001b[1;33m\u001b[0m\u001b[0m\n",
      "\u001b[1;32m~\\miniconda3\\envs\\bergin\\lib\\site-packages\\joblib\\_parallel_backends.py\u001b[0m in \u001b[0;36mapply_async\u001b[1;34m(self, func, callback)\u001b[0m\n\u001b[0;32m    206\u001b[0m     \u001b[1;32mdef\u001b[0m \u001b[0mapply_async\u001b[0m\u001b[1;33m(\u001b[0m\u001b[0mself\u001b[0m\u001b[1;33m,\u001b[0m \u001b[0mfunc\u001b[0m\u001b[1;33m,\u001b[0m \u001b[0mcallback\u001b[0m\u001b[1;33m=\u001b[0m\u001b[1;32mNone\u001b[0m\u001b[1;33m)\u001b[0m\u001b[1;33m:\u001b[0m\u001b[1;33m\u001b[0m\u001b[1;33m\u001b[0m\u001b[0m\n\u001b[0;32m    207\u001b[0m         \u001b[1;34m\"\"\"Schedule a func to be run\"\"\"\u001b[0m\u001b[1;33m\u001b[0m\u001b[1;33m\u001b[0m\u001b[0m\n\u001b[1;32m--> 208\u001b[1;33m         \u001b[0mresult\u001b[0m \u001b[1;33m=\u001b[0m \u001b[0mImmediateResult\u001b[0m\u001b[1;33m(\u001b[0m\u001b[0mfunc\u001b[0m\u001b[1;33m)\u001b[0m\u001b[1;33m\u001b[0m\u001b[1;33m\u001b[0m\u001b[0m\n\u001b[0m\u001b[0;32m    209\u001b[0m         \u001b[1;32mif\u001b[0m \u001b[0mcallback\u001b[0m\u001b[1;33m:\u001b[0m\u001b[1;33m\u001b[0m\u001b[1;33m\u001b[0m\u001b[0m\n\u001b[0;32m    210\u001b[0m             \u001b[0mcallback\u001b[0m\u001b[1;33m(\u001b[0m\u001b[0mresult\u001b[0m\u001b[1;33m)\u001b[0m\u001b[1;33m\u001b[0m\u001b[1;33m\u001b[0m\u001b[0m\n",
      "\u001b[1;32m~\\miniconda3\\envs\\bergin\\lib\\site-packages\\joblib\\_parallel_backends.py\u001b[0m in \u001b[0;36m__init__\u001b[1;34m(self, batch)\u001b[0m\n\u001b[0;32m    570\u001b[0m         \u001b[1;31m# Don't delay the application, to avoid keeping the input\u001b[0m\u001b[1;33m\u001b[0m\u001b[1;33m\u001b[0m\u001b[0m\n\u001b[0;32m    571\u001b[0m         \u001b[1;31m# arguments in memory\u001b[0m\u001b[1;33m\u001b[0m\u001b[1;33m\u001b[0m\u001b[0m\n\u001b[1;32m--> 572\u001b[1;33m         \u001b[0mself\u001b[0m\u001b[1;33m.\u001b[0m\u001b[0mresults\u001b[0m \u001b[1;33m=\u001b[0m \u001b[0mbatch\u001b[0m\u001b[1;33m(\u001b[0m\u001b[1;33m)\u001b[0m\u001b[1;33m\u001b[0m\u001b[1;33m\u001b[0m\u001b[0m\n\u001b[0m\u001b[0;32m    573\u001b[0m \u001b[1;33m\u001b[0m\u001b[0m\n\u001b[0;32m    574\u001b[0m     \u001b[1;32mdef\u001b[0m \u001b[0mget\u001b[0m\u001b[1;33m(\u001b[0m\u001b[0mself\u001b[0m\u001b[1;33m)\u001b[0m\u001b[1;33m:\u001b[0m\u001b[1;33m\u001b[0m\u001b[1;33m\u001b[0m\u001b[0m\n",
      "\u001b[1;32m~\\miniconda3\\envs\\bergin\\lib\\site-packages\\joblib\\parallel.py\u001b[0m in \u001b[0;36m__call__\u001b[1;34m(self)\u001b[0m\n\u001b[0;32m    260\u001b[0m         \u001b[1;31m# change the default number of processes to -1\u001b[0m\u001b[1;33m\u001b[0m\u001b[1;33m\u001b[0m\u001b[0m\n\u001b[0;32m    261\u001b[0m         \u001b[1;32mwith\u001b[0m \u001b[0mparallel_backend\u001b[0m\u001b[1;33m(\u001b[0m\u001b[0mself\u001b[0m\u001b[1;33m.\u001b[0m\u001b[0m_backend\u001b[0m\u001b[1;33m,\u001b[0m \u001b[0mn_jobs\u001b[0m\u001b[1;33m=\u001b[0m\u001b[0mself\u001b[0m\u001b[1;33m.\u001b[0m\u001b[0m_n_jobs\u001b[0m\u001b[1;33m)\u001b[0m\u001b[1;33m:\u001b[0m\u001b[1;33m\u001b[0m\u001b[1;33m\u001b[0m\u001b[0m\n\u001b[1;32m--> 262\u001b[1;33m             return [func(*args, **kwargs)\n\u001b[0m\u001b[0;32m    263\u001b[0m                     for func, args, kwargs in self.items]\n\u001b[0;32m    264\u001b[0m \u001b[1;33m\u001b[0m\u001b[0m\n",
      "\u001b[1;32m~\\miniconda3\\envs\\bergin\\lib\\site-packages\\joblib\\parallel.py\u001b[0m in \u001b[0;36m<listcomp>\u001b[1;34m(.0)\u001b[0m\n\u001b[0;32m    260\u001b[0m         \u001b[1;31m# change the default number of processes to -1\u001b[0m\u001b[1;33m\u001b[0m\u001b[1;33m\u001b[0m\u001b[0m\n\u001b[0;32m    261\u001b[0m         \u001b[1;32mwith\u001b[0m \u001b[0mparallel_backend\u001b[0m\u001b[1;33m(\u001b[0m\u001b[0mself\u001b[0m\u001b[1;33m.\u001b[0m\u001b[0m_backend\u001b[0m\u001b[1;33m,\u001b[0m \u001b[0mn_jobs\u001b[0m\u001b[1;33m=\u001b[0m\u001b[0mself\u001b[0m\u001b[1;33m.\u001b[0m\u001b[0m_n_jobs\u001b[0m\u001b[1;33m)\u001b[0m\u001b[1;33m:\u001b[0m\u001b[1;33m\u001b[0m\u001b[1;33m\u001b[0m\u001b[0m\n\u001b[1;32m--> 262\u001b[1;33m             return [func(*args, **kwargs)\n\u001b[0m\u001b[0;32m    263\u001b[0m                     for func, args, kwargs in self.items]\n\u001b[0;32m    264\u001b[0m \u001b[1;33m\u001b[0m\u001b[0m\n",
      "\u001b[1;32m~\\miniconda3\\envs\\bergin\\lib\\site-packages\\sklearn\\utils\\fixes.py\u001b[0m in \u001b[0;36m__call__\u001b[1;34m(self, *args, **kwargs)\u001b[0m\n\u001b[0;32m    214\u001b[0m     \u001b[1;32mdef\u001b[0m \u001b[0m__call__\u001b[0m\u001b[1;33m(\u001b[0m\u001b[0mself\u001b[0m\u001b[1;33m,\u001b[0m \u001b[1;33m*\u001b[0m\u001b[0margs\u001b[0m\u001b[1;33m,\u001b[0m \u001b[1;33m**\u001b[0m\u001b[0mkwargs\u001b[0m\u001b[1;33m)\u001b[0m\u001b[1;33m:\u001b[0m\u001b[1;33m\u001b[0m\u001b[1;33m\u001b[0m\u001b[0m\n\u001b[0;32m    215\u001b[0m         \u001b[1;32mwith\u001b[0m \u001b[0mconfig_context\u001b[0m\u001b[1;33m(\u001b[0m\u001b[1;33m**\u001b[0m\u001b[0mself\u001b[0m\u001b[1;33m.\u001b[0m\u001b[0mconfig\u001b[0m\u001b[1;33m)\u001b[0m\u001b[1;33m:\u001b[0m\u001b[1;33m\u001b[0m\u001b[1;33m\u001b[0m\u001b[0m\n\u001b[1;32m--> 216\u001b[1;33m             \u001b[1;32mreturn\u001b[0m \u001b[0mself\u001b[0m\u001b[1;33m.\u001b[0m\u001b[0mfunction\u001b[0m\u001b[1;33m(\u001b[0m\u001b[1;33m*\u001b[0m\u001b[0margs\u001b[0m\u001b[1;33m,\u001b[0m \u001b[1;33m**\u001b[0m\u001b[0mkwargs\u001b[0m\u001b[1;33m)\u001b[0m\u001b[1;33m\u001b[0m\u001b[1;33m\u001b[0m\u001b[0m\n\u001b[0m\u001b[0;32m    217\u001b[0m \u001b[1;33m\u001b[0m\u001b[0m\n\u001b[0;32m    218\u001b[0m \u001b[1;33m\u001b[0m\u001b[0m\n",
      "\u001b[1;32m~\\miniconda3\\envs\\bergin\\lib\\site-packages\\sklearn\\ensemble\\_forest.py\u001b[0m in \u001b[0;36m_parallel_build_trees\u001b[1;34m(tree, forest, X, y, sample_weight, tree_idx, n_trees, verbose, class_weight, n_samples_bootstrap)\u001b[0m\n\u001b[0;32m    183\u001b[0m             \u001b[0mcurr_sample_weight\u001b[0m \u001b[1;33m*=\u001b[0m \u001b[0mcompute_sample_weight\u001b[0m\u001b[1;33m(\u001b[0m\u001b[1;34m\"balanced\"\u001b[0m\u001b[1;33m,\u001b[0m \u001b[0my\u001b[0m\u001b[1;33m,\u001b[0m \u001b[0mindices\u001b[0m\u001b[1;33m=\u001b[0m\u001b[0mindices\u001b[0m\u001b[1;33m)\u001b[0m\u001b[1;33m\u001b[0m\u001b[1;33m\u001b[0m\u001b[0m\n\u001b[0;32m    184\u001b[0m \u001b[1;33m\u001b[0m\u001b[0m\n\u001b[1;32m--> 185\u001b[1;33m         \u001b[0mtree\u001b[0m\u001b[1;33m.\u001b[0m\u001b[0mfit\u001b[0m\u001b[1;33m(\u001b[0m\u001b[0mX\u001b[0m\u001b[1;33m,\u001b[0m \u001b[0my\u001b[0m\u001b[1;33m,\u001b[0m \u001b[0msample_weight\u001b[0m\u001b[1;33m=\u001b[0m\u001b[0mcurr_sample_weight\u001b[0m\u001b[1;33m,\u001b[0m \u001b[0mcheck_input\u001b[0m\u001b[1;33m=\u001b[0m\u001b[1;32mFalse\u001b[0m\u001b[1;33m)\u001b[0m\u001b[1;33m\u001b[0m\u001b[1;33m\u001b[0m\u001b[0m\n\u001b[0m\u001b[0;32m    186\u001b[0m     \u001b[1;32melse\u001b[0m\u001b[1;33m:\u001b[0m\u001b[1;33m\u001b[0m\u001b[1;33m\u001b[0m\u001b[0m\n\u001b[0;32m    187\u001b[0m         \u001b[0mtree\u001b[0m\u001b[1;33m.\u001b[0m\u001b[0mfit\u001b[0m\u001b[1;33m(\u001b[0m\u001b[0mX\u001b[0m\u001b[1;33m,\u001b[0m \u001b[0my\u001b[0m\u001b[1;33m,\u001b[0m \u001b[0msample_weight\u001b[0m\u001b[1;33m=\u001b[0m\u001b[0msample_weight\u001b[0m\u001b[1;33m,\u001b[0m \u001b[0mcheck_input\u001b[0m\u001b[1;33m=\u001b[0m\u001b[1;32mFalse\u001b[0m\u001b[1;33m)\u001b[0m\u001b[1;33m\u001b[0m\u001b[1;33m\u001b[0m\u001b[0m\n",
      "\u001b[1;32m~\\miniconda3\\envs\\bergin\\lib\\site-packages\\sklearn\\tree\\_classes.py\u001b[0m in \u001b[0;36mfit\u001b[1;34m(self, X, y, sample_weight, check_input, X_idx_sorted)\u001b[0m\n\u001b[0;32m   1313\u001b[0m         \"\"\"\n\u001b[0;32m   1314\u001b[0m \u001b[1;33m\u001b[0m\u001b[0m\n\u001b[1;32m-> 1315\u001b[1;33m         super().fit(\n\u001b[0m\u001b[0;32m   1316\u001b[0m             \u001b[0mX\u001b[0m\u001b[1;33m,\u001b[0m\u001b[1;33m\u001b[0m\u001b[1;33m\u001b[0m\u001b[0m\n\u001b[0;32m   1317\u001b[0m             \u001b[0my\u001b[0m\u001b[1;33m,\u001b[0m\u001b[1;33m\u001b[0m\u001b[1;33m\u001b[0m\u001b[0m\n",
      "\u001b[1;32m~\\miniconda3\\envs\\bergin\\lib\\site-packages\\sklearn\\tree\\_classes.py\u001b[0m in \u001b[0;36mfit\u001b[1;34m(self, X, y, sample_weight, check_input, X_idx_sorted)\u001b[0m\n\u001b[0;32m    418\u001b[0m             )\n\u001b[0;32m    419\u001b[0m \u001b[1;33m\u001b[0m\u001b[0m\n\u001b[1;32m--> 420\u001b[1;33m         \u001b[0mbuilder\u001b[0m\u001b[1;33m.\u001b[0m\u001b[0mbuild\u001b[0m\u001b[1;33m(\u001b[0m\u001b[0mself\u001b[0m\u001b[1;33m.\u001b[0m\u001b[0mtree_\u001b[0m\u001b[1;33m,\u001b[0m \u001b[0mX\u001b[0m\u001b[1;33m,\u001b[0m \u001b[0my\u001b[0m\u001b[1;33m,\u001b[0m \u001b[0msample_weight\u001b[0m\u001b[1;33m)\u001b[0m\u001b[1;33m\u001b[0m\u001b[1;33m\u001b[0m\u001b[0m\n\u001b[0m\u001b[0;32m    421\u001b[0m \u001b[1;33m\u001b[0m\u001b[0m\n\u001b[0;32m    422\u001b[0m         \u001b[1;32mif\u001b[0m \u001b[0mself\u001b[0m\u001b[1;33m.\u001b[0m\u001b[0mn_outputs_\u001b[0m \u001b[1;33m==\u001b[0m \u001b[1;36m1\u001b[0m \u001b[1;32mand\u001b[0m \u001b[0mis_classifier\u001b[0m\u001b[1;33m(\u001b[0m\u001b[0mself\u001b[0m\u001b[1;33m)\u001b[0m\u001b[1;33m:\u001b[0m\u001b[1;33m\u001b[0m\u001b[1;33m\u001b[0m\u001b[0m\n",
      "\u001b[1;31mKeyboardInterrupt\u001b[0m: "
     ]
    }
   ],
   "source": [
    "from sklearn.ensemble import RandomForestRegressor\n",
    "\n",
    "tree_model = RandomForestRegressor(random_state=23, n_estimators=20).fit(X_train_enc, y_train)"
   ]
  },
  {
   "cell_type": "code",
   "execution_count": null,
   "id": "038c8258",
   "metadata": {},
   "outputs": [
    {
     "data": {
      "text/plain": [
       "(-1.2985493966227906, -1.0557215912298288)"
      ]
     },
     "execution_count": 26,
     "metadata": {},
     "output_type": "execute_result"
    }
   ],
   "source": [
    "tree_model.score(X_train_enc, y_train), tree_model.score(X_test_enc, y_test)"
   ]
  },
  {
   "cell_type": "code",
   "execution_count": null,
   "id": "dacef07b",
   "metadata": {},
   "outputs": [
    {
     "name": "stdout",
     "output_type": "stream",
     "text": [
      "braj\n",
      "crazyrichasians\n",
      "langver\n",
      "comicsgate\n",
      "absentia\n",
      "castrothoughts\n",
      "chromedevsummit\n",
      "valentines\n",
      "trumpisadisgrace\n",
      "bhole\n",
      "ceebs\n",
      "draenei\n",
      "oitnb\n",
      "stinky\n",
      "arizonans\n",
      "seattlesmoke\n",
      "asbestos\n",
      "gossiping\n",
      "bxv\n",
      "purifiers\n",
      "ammo\n",
      "kountz\n",
      "romaine\n",
      "sorrytobotheryou\n",
      "pearljam\n",
      "kus\n",
      "bong13\n",
      "casa\n",
      "timeus\n",
      "purifier\n",
      "realdonaldtrump\n",
      "santacon\n",
      "badbunny\n",
      "rackets\n",
      "flyeaglesfly\n",
      "heynow\n",
      "katic\n",
      "gardnerminshew\n",
      "rwc7s\n",
      "safeco\n",
      "lasagna\n",
      "gcu\n",
      "10300\n",
      "machina\n",
      "livermtg18\n",
      "pwa\n",
      "marotta\n",
      "screamlouder\n",
      "khashoggi\n",
      "n95\n",
      "lilluh\n",
      "aqi\n",
      "mcsally\n",
      "octiv\n",
      "monoxide\n",
      "edwindiaz\n",
      "pullman\n",
      "csl\n",
      "monsoon\n",
      "heeey\n",
      "futurecast\n",
      "uranium\n",
      "osl\n",
      "smoky\n",
      "campfire\n",
      "zunino\n",
      "sedona\n",
      "lowertheflag\n",
      "kaveman\n",
      "lmt\n",
      "peoria\n",
      "ilburn\n",
      "generationdbacks\n",
      "maricopa\n",
      "talenti\n"
     ]
    }
   ],
   "source": [
    "for idx in np.argpartition(tree_model.feature_importances_, -75)[-75:]:\n",
    "    print(words[idx])"
   ]
  }
 ],
 "metadata": {
  "kernelspec": {
   "display_name": "Python 3 (ipykernel)",
   "language": "python",
   "name": "python3"
  },
  "language_info": {
   "codemirror_mode": {
    "name": "ipython",
    "version": 3
   },
   "file_extension": ".py",
   "mimetype": "text/x-python",
   "name": "python",
   "nbconvert_exporter": "python",
   "pygments_lexer": "ipython3",
   "version": "3.9.7"
  }
 },
 "nbformat": 4,
 "nbformat_minor": 5
}
