{
 "cells": [
  {
   "cell_type": "code",
   "execution_count": 57,
   "id": "585b0593",
   "metadata": {},
   "outputs": [
    {
     "name": "stderr",
     "output_type": "stream",
     "text": [
      "[nltk_data] Downloading package stopwords to\n",
      "[nltk_data]     C:\\Users\\Nick\\AppData\\Roaming\\nltk_data...\n",
      "[nltk_data]   Package stopwords is already up-to-date!\n"
     ]
    }
   ],
   "source": [
    "import os\n",
    "from datetime import datetime\n",
    "import sys\n",
    "sys.path.append(\"../scripts/twitter\")\n",
    "import utils as ut\n",
    "\n",
    "from searchTwitter import TwitterDataFrame\n",
    "\n",
    "import numpy as np\n",
    "import pandas as pd\n",
    "\n",
    "import matplotlib.pyplot as plt\n",
    "import seaborn as sns\n",
    "\n",
    "import keras\n",
    "from keras.preprocessing.text import Tokenizer\n",
    "from keras.preprocessing.sequence import pad_sequences\n",
    "\n",
    "import re\n",
    "from math import ceil\n",
    "\n",
    "import nltk\n",
    "nltk.download('stopwords')\n",
    "from nltk.corpus import stopwords\n",
    "from nltk.stem import SnowballStemmer\n",
    "\n",
    "from sklearn.model_selection import train_test_split\n",
    "from sklearn.preprocessing import OneHotEncoder\n",
    "from sklearn.metrics import confusion_matrix, accuracy_score, balanced_accuracy_score\n",
    "\n",
    "from imblearn import over_sampling\n",
    "from imblearn import under_sampling\n",
    "\n",
    "np.random.seed(23)\n",
    "\n",
    "# Set up sns\n",
    "sns.set(rc = {'figure.figsize':(10,10)})\n",
    "sns.set_style(\"whitegrid\")"
   ]
  },
  {
   "cell_type": "code",
   "execution_count": 28,
   "id": "185dcdd0",
   "metadata": {},
   "outputs": [
    {
     "name": "stderr",
     "output_type": "stream",
     "text": [
      "C:\\Users\\Nick\\AppData\\Local\\Temp/ipykernel_8280/3815770650.py:6: DtypeWarning: Columns (0,1) have mixed types. Specify dtype option on import or set low_memory=False.\n",
      "  dfs.append(pd.read_csv(base_dir + f))\n"
     ]
    },
    {
     "data": {
      "text/html": [
       "<div>\n",
       "<style scoped>\n",
       "    .dataframe tbody tr th:only-of-type {\n",
       "        vertical-align: middle;\n",
       "    }\n",
       "\n",
       "    .dataframe tbody tr th {\n",
       "        vertical-align: top;\n",
       "    }\n",
       "\n",
       "    .dataframe thead th {\n",
       "        text-align: right;\n",
       "    }\n",
       "</style>\n",
       "<table border=\"1\" class=\"dataframe\">\n",
       "  <thead>\n",
       "    <tr style=\"text-align: right;\">\n",
       "      <th></th>\n",
       "      <th>id</th>\n",
       "      <th>author_id</th>\n",
       "      <th>text</th>\n",
       "      <th>geo</th>\n",
       "      <th>created_at</th>\n",
       "      <th>lat</th>\n",
       "      <th>lon</th>\n",
       "    </tr>\n",
       "  </thead>\n",
       "  <tbody>\n",
       "    <tr>\n",
       "      <th>0</th>\n",
       "      <td>968999128641323008</td>\n",
       "      <td>25624940</td>\n",
       "      <td>@Volker_E Am I hallucinating that you are walk...</td>\n",
       "      <td>{'place_id': '5a110d312052166f'}</td>\n",
       "      <td>2018-02-28 23:59:30</td>\n",
       "      <td>37.708075</td>\n",
       "      <td>-122.514926</td>\n",
       "    </tr>\n",
       "    <tr>\n",
       "      <th>1</th>\n",
       "      <td>968999100757680128</td>\n",
       "      <td>8888</td>\n",
       "      <td>There’s just something weird about living in N...</td>\n",
       "      <td>{'place_id': '5ef5b7f391e30aff'}</td>\n",
       "      <td>2018-02-28 23:59:23</td>\n",
       "      <td>37.845953</td>\n",
       "      <td>-122.324818</td>\n",
       "    </tr>\n",
       "    <tr>\n",
       "      <th>2</th>\n",
       "      <td>968999065273774080</td>\n",
       "      <td>1557223812</td>\n",
       "      <td>Tomorrow’s March sheeeesh I’m basically 24 😕 t...</td>\n",
       "      <td>{'place_id': '5ecbd073f39c00fa'}</td>\n",
       "      <td>2018-02-28 23:59:14</td>\n",
       "      <td>37.592632</td>\n",
       "      <td>-122.160814</td>\n",
       "    </tr>\n",
       "    <tr>\n",
       "      <th>3</th>\n",
       "      <td>968999056537088000</td>\n",
       "      <td>1164993320</td>\n",
       "      <td>Wednesday really be draining 6-6 school day 😴</td>\n",
       "      <td>{'place_id': '5ecbd073f39c00fa'}</td>\n",
       "      <td>2018-02-28 23:59:12</td>\n",
       "      <td>37.592632</td>\n",
       "      <td>-122.160814</td>\n",
       "    </tr>\n",
       "    <tr>\n",
       "      <th>4</th>\n",
       "      <td>968999038493245440</td>\n",
       "      <td>18650764</td>\n",
       "      <td>@remedy415 @Brycesavoy510 This hella dope</td>\n",
       "      <td>{'place_id': 'ab2f2fac83aa388d'}</td>\n",
       "      <td>2018-02-28 23:59:08</td>\n",
       "      <td>37.699279</td>\n",
       "      <td>-122.342660</td>\n",
       "    </tr>\n",
       "  </tbody>\n",
       "</table>\n",
       "</div>"
      ],
      "text/plain": [
       "                   id   author_id  \\\n",
       "0  968999128641323008    25624940   \n",
       "1  968999100757680128        8888   \n",
       "2  968999065273774080  1557223812   \n",
       "3  968999056537088000  1164993320   \n",
       "4  968999038493245440    18650764   \n",
       "\n",
       "                                                text  \\\n",
       "0  @Volker_E Am I hallucinating that you are walk...   \n",
       "1  There’s just something weird about living in N...   \n",
       "2  Tomorrow’s March sheeeesh I’m basically 24 😕 t...   \n",
       "3      Wednesday really be draining 6-6 school day 😴   \n",
       "4          @remedy415 @Brycesavoy510 This hella dope   \n",
       "\n",
       "                                geo           created_at        lat  \\\n",
       "0  {'place_id': '5a110d312052166f'}  2018-02-28 23:59:30  37.708075   \n",
       "1  {'place_id': '5ef5b7f391e30aff'}  2018-02-28 23:59:23  37.845953   \n",
       "2  {'place_id': '5ecbd073f39c00fa'}  2018-02-28 23:59:14  37.592632   \n",
       "3  {'place_id': '5ecbd073f39c00fa'}  2018-02-28 23:59:12  37.592632   \n",
       "4  {'place_id': 'ab2f2fac83aa388d'}  2018-02-28 23:59:08  37.699279   \n",
       "\n",
       "          lon  \n",
       "0 -122.514926  \n",
       "1 -122.324818  \n",
       "2 -122.160814  \n",
       "3 -122.160814  \n",
       "4 -122.342660  "
      ]
     },
     "execution_count": 28,
     "metadata": {},
     "output_type": "execute_result"
    }
   ],
   "source": [
    "# Reads files in a directory as csv and returns dataframe\n",
    "def concat_data(base_dir):\n",
    "    files = os.listdir(base_dir)\n",
    "    dfs = []\n",
    "    for f in files:\n",
    "        dfs.append(pd.read_csv(base_dir + f))\n",
    "        \n",
    "    return pd.concat(dfs)\n",
    "\n",
    "sf_df_raw = concat_data('../data/san_francisco/')\n",
    "\n",
    "# Turn into a TwitterDataFrame and zoom in on san francisco\n",
    "sf_df_raw = TwitterDataFrame(sf_df_raw)\n",
    "\n",
    "sf_df_raw.head()"
   ]
  },
  {
   "cell_type": "code",
   "execution_count": 30,
   "id": "45dfe2e3",
   "metadata": {},
   "outputs": [],
   "source": [
    "sf_df_raw = sf_df_raw.dropna()\n",
    "\n",
    "# Ideally this should be before sampling but this way saves time\n",
    "# Could this happen in TwitterDataFrame?\n",
    "sf_df_raw['created_at'] = [datetime.strptime(d,'%Y-%m-%d %H:%M:%S') for d in sf_df_raw['created_at']]\n",
    "\n",
    "# Subset 5/2018-12/2018\n",
    "sf_df_raw = sf_df_raw[sf_df_raw['created_at'] > datetime(2018, 4, 30)]\n",
    "\n",
    "# Change date quantum to day\n",
    "sf_df_raw['date'] = sf_df_raw['created_at'].dt.floor('d')\n",
    "\n",
    "sf_df = TwitterDataFrame(sf_df_raw)"
   ]
  },
  {
   "cell_type": "code",
   "execution_count": 31,
   "id": "b1855583",
   "metadata": {},
   "outputs": [
    {
     "data": {
      "text/html": [
       "<div>\n",
       "<style scoped>\n",
       "    .dataframe tbody tr th:only-of-type {\n",
       "        vertical-align: middle;\n",
       "    }\n",
       "\n",
       "    .dataframe tbody tr th {\n",
       "        vertical-align: top;\n",
       "    }\n",
       "\n",
       "    .dataframe thead th {\n",
       "        text-align: right;\n",
       "    }\n",
       "</style>\n",
       "<table border=\"1\" class=\"dataframe\">\n",
       "  <thead>\n",
       "    <tr style=\"text-align: right;\">\n",
       "      <th></th>\n",
       "      <th>date</th>\n",
       "      <th>text</th>\n",
       "    </tr>\n",
       "  </thead>\n",
       "  <tbody>\n",
       "    <tr>\n",
       "      <th>0</th>\n",
       "      <td>2018-05-01</td>\n",
       "      <td>Let’s bring back Double Dutch! Kinda sucks for...</td>\n",
       "    </tr>\n",
       "    <tr>\n",
       "      <th>1</th>\n",
       "      <td>2018-05-01</td>\n",
       "      <td>@DumbFlotrack @BlueVennDW @GoSydGo Of course h...</td>\n",
       "    </tr>\n",
       "    <tr>\n",
       "      <th>2</th>\n",
       "      <td>2018-05-01</td>\n",
       "      <td>@screaminggina @SaysDana @gametheorytoday Ever...</td>\n",
       "    </tr>\n",
       "    <tr>\n",
       "      <th>3</th>\n",
       "      <td>2018-05-01</td>\n",
       "      <td>Our quest to find out where each mayoral candi...</td>\n",
       "    </tr>\n",
       "    <tr>\n",
       "      <th>4</th>\n",
       "      <td>2018-05-01</td>\n",
       "      <td>tryna squad out to a Giants game the week of m...</td>\n",
       "    </tr>\n",
       "  </tbody>\n",
       "</table>\n",
       "</div>"
      ],
      "text/plain": [
       "        date                                               text\n",
       "0 2018-05-01  Let’s bring back Double Dutch! Kinda sucks for...\n",
       "1 2018-05-01  @DumbFlotrack @BlueVennDW @GoSydGo Of course h...\n",
       "2 2018-05-01  @screaminggina @SaysDana @gametheorytoday Ever...\n",
       "3 2018-05-01  Our quest to find out where each mayoral candi...\n",
       "4 2018-05-01  tryna squad out to a Giants game the week of m..."
      ]
     },
     "execution_count": 31,
     "metadata": {},
     "output_type": "execute_result"
    }
   ],
   "source": [
    "sf_df = sf_df.group_by_days_and_batch(100)\n",
    "\n",
    "sf_df.head()"
   ]
  },
  {
   "cell_type": "code",
   "execution_count": 32,
   "id": "542d767e",
   "metadata": {},
   "outputs": [
    {
     "data": {
      "text/plain": [
       "(18136, 2)"
      ]
     },
     "execution_count": 32,
     "metadata": {},
     "output_type": "execute_result"
    }
   ],
   "source": [
    "sf_df.shape"
   ]
  },
  {
   "cell_type": "code",
   "execution_count": 5,
   "id": "c5aeca8a",
   "metadata": {},
   "outputs": [
    {
     "name": "stdout",
     "output_type": "stream",
     "text": [
      "Lenth:  8156\n",
      "Per day : 22.345205479452055\n"
     ]
    }
   ],
   "source": [
    "# What are the basics of this data set?\n",
    "print(\"Lenth: \", len(sf_df))\n",
    "print(\"Per day :\", len(sf_df)/365)"
   ]
  },
  {
   "cell_type": "code",
   "execution_count": 6,
   "id": "157749dd",
   "metadata": {},
   "outputs": [
    {
     "ename": "AttributeError",
     "evalue": "'DataFrame' object has no attribute 'count_by_day'",
     "output_type": "error",
     "traceback": [
      "\u001b[1;31m---------------------------------------------------------------------------\u001b[0m",
      "\u001b[1;31mAttributeError\u001b[0m                            Traceback (most recent call last)",
      "\u001b[1;32m~\\AppData\\Local\\Temp/ipykernel_8280/4064677587.py\u001b[0m in \u001b[0;36m<module>\u001b[1;34m\u001b[0m\n\u001b[0;32m      1\u001b[0m \u001b[1;31m# Plot num tweets per day by date\u001b[0m\u001b[1;33m\u001b[0m\u001b[1;33m\u001b[0m\u001b[0m\n\u001b[0;32m      2\u001b[0m \u001b[0mplt\u001b[0m\u001b[1;33m.\u001b[0m\u001b[0mfigure\u001b[0m\u001b[1;33m(\u001b[0m\u001b[0mfigsize\u001b[0m\u001b[1;33m=\u001b[0m\u001b[1;33m(\u001b[0m\u001b[1;36m8\u001b[0m\u001b[1;33m,\u001b[0m\u001b[1;36m5\u001b[0m\u001b[1;33m)\u001b[0m\u001b[1;33m)\u001b[0m\u001b[1;33m\u001b[0m\u001b[1;33m\u001b[0m\u001b[0m\n\u001b[1;32m----> 3\u001b[1;33m \u001b[0mplt\u001b[0m\u001b[1;33m.\u001b[0m\u001b[0mplot\u001b[0m\u001b[1;33m(\u001b[0m\u001b[0msf_df\u001b[0m\u001b[1;33m.\u001b[0m\u001b[0mcount_by_day\u001b[0m\u001b[1;33m(\u001b[0m\u001b[1;33m)\u001b[0m\u001b[1;33m)\u001b[0m\u001b[1;33m\u001b[0m\u001b[1;33m\u001b[0m\u001b[0m\n\u001b[0m\u001b[0;32m      4\u001b[0m \u001b[0max\u001b[0m \u001b[1;33m=\u001b[0m \u001b[0mplt\u001b[0m\u001b[1;33m.\u001b[0m\u001b[0mgca\u001b[0m\u001b[1;33m(\u001b[0m\u001b[1;33m)\u001b[0m\u001b[1;33m\u001b[0m\u001b[1;33m\u001b[0m\u001b[0m\n\u001b[0;32m      5\u001b[0m \u001b[0max\u001b[0m\u001b[1;33m.\u001b[0m\u001b[0mset_ylabel\u001b[0m\u001b[1;33m(\u001b[0m\u001b[1;34m\"Tweets / day\"\u001b[0m\u001b[1;33m)\u001b[0m\u001b[1;33m\u001b[0m\u001b[1;33m\u001b[0m\u001b[0m\n",
      "\u001b[1;32m~\\miniconda3\\envs\\bergin\\lib\\site-packages\\pandas\\core\\generic.py\u001b[0m in \u001b[0;36m__getattr__\u001b[1;34m(self, name)\u001b[0m\n\u001b[0;32m   5581\u001b[0m         ):\n\u001b[0;32m   5582\u001b[0m             \u001b[1;32mreturn\u001b[0m \u001b[0mself\u001b[0m\u001b[1;33m[\u001b[0m\u001b[0mname\u001b[0m\u001b[1;33m]\u001b[0m\u001b[1;33m\u001b[0m\u001b[1;33m\u001b[0m\u001b[0m\n\u001b[1;32m-> 5583\u001b[1;33m         \u001b[1;32mreturn\u001b[0m \u001b[0mobject\u001b[0m\u001b[1;33m.\u001b[0m\u001b[0m__getattribute__\u001b[0m\u001b[1;33m(\u001b[0m\u001b[0mself\u001b[0m\u001b[1;33m,\u001b[0m \u001b[0mname\u001b[0m\u001b[1;33m)\u001b[0m\u001b[1;33m\u001b[0m\u001b[1;33m\u001b[0m\u001b[0m\n\u001b[0m\u001b[0;32m   5584\u001b[0m \u001b[1;33m\u001b[0m\u001b[0m\n\u001b[0;32m   5585\u001b[0m     \u001b[1;32mdef\u001b[0m \u001b[0m__setattr__\u001b[0m\u001b[1;33m(\u001b[0m\u001b[0mself\u001b[0m\u001b[1;33m,\u001b[0m \u001b[0mname\u001b[0m\u001b[1;33m:\u001b[0m \u001b[0mstr\u001b[0m\u001b[1;33m,\u001b[0m \u001b[0mvalue\u001b[0m\u001b[1;33m)\u001b[0m \u001b[1;33m->\u001b[0m \u001b[1;32mNone\u001b[0m\u001b[1;33m:\u001b[0m\u001b[1;33m\u001b[0m\u001b[1;33m\u001b[0m\u001b[0m\n",
      "\u001b[1;31mAttributeError\u001b[0m: 'DataFrame' object has no attribute 'count_by_day'"
     ]
    },
    {
     "data": {
      "text/plain": [
       "<Figure size 576x360 with 0 Axes>"
      ]
     },
     "metadata": {},
     "output_type": "display_data"
    }
   ],
   "source": [
    "# Plot num tweets per day by date\n",
    "plt.figure(figsize=(8,5))\n",
    "plt.plot(sf_df.count_by_day())\n",
    "ax = plt.gca()\n",
    "ax.set_ylabel(\"Tweets / day\")\n",
    "ax.set_xlabel(\"Date\")"
   ]
  },
  {
   "cell_type": "code",
   "execution_count": 33,
   "id": "0f7edbc9",
   "metadata": {},
   "outputs": [
    {
     "name": "stderr",
     "output_type": "stream",
     "text": [
      "C:\\Users\\Nick\\AppData\\Local\\Temp/ipykernel_8280/2893133138.py:6: SettingWithCopyWarning: \n",
      "A value is trying to be set on a copy of a slice from a DataFrame.\n",
      "Try using .loc[row_indexer,col_indexer] = value instead\n",
      "\n",
      "See the caveats in the documentation: https://pandas.pydata.org/pandas-docs/stable/user_guide/indexing.html#returning-a-view-versus-a-copy\n",
      "  sf_aqi['Date'] = pd.to_datetime(sf_aqi['Date'])\n"
     ]
    },
    {
     "data": {
      "text/html": [
       "<div>\n",
       "<style scoped>\n",
       "    .dataframe tbody tr th:only-of-type {\n",
       "        vertical-align: middle;\n",
       "    }\n",
       "\n",
       "    .dataframe tbody tr th {\n",
       "        vertical-align: top;\n",
       "    }\n",
       "\n",
       "    .dataframe thead th {\n",
       "        text-align: right;\n",
       "    }\n",
       "</style>\n",
       "<table border=\"1\" class=\"dataframe\">\n",
       "  <thead>\n",
       "    <tr style=\"text-align: right;\">\n",
       "      <th></th>\n",
       "      <th>State Name</th>\n",
       "      <th>county Name</th>\n",
       "      <th>State Code</th>\n",
       "      <th>County Code</th>\n",
       "      <th>Date</th>\n",
       "      <th>AQI</th>\n",
       "      <th>Category</th>\n",
       "      <th>Defining Parameter</th>\n",
       "      <th>Defining Site</th>\n",
       "      <th>Number of Sites Reporting</th>\n",
       "    </tr>\n",
       "  </thead>\n",
       "  <tbody>\n",
       "    <tr>\n",
       "      <th>27443</th>\n",
       "      <td>California</td>\n",
       "      <td>San Francisco</td>\n",
       "      <td>6</td>\n",
       "      <td>75</td>\n",
       "      <td>2018-01-01</td>\n",
       "      <td>72</td>\n",
       "      <td>Moderate</td>\n",
       "      <td>PM2.5</td>\n",
       "      <td>06-075-0005</td>\n",
       "      <td>1</td>\n",
       "    </tr>\n",
       "    <tr>\n",
       "      <th>27444</th>\n",
       "      <td>California</td>\n",
       "      <td>San Francisco</td>\n",
       "      <td>6</td>\n",
       "      <td>75</td>\n",
       "      <td>2018-01-02</td>\n",
       "      <td>82</td>\n",
       "      <td>Moderate</td>\n",
       "      <td>PM2.5</td>\n",
       "      <td>06-075-0005</td>\n",
       "      <td>1</td>\n",
       "    </tr>\n",
       "    <tr>\n",
       "      <th>27445</th>\n",
       "      <td>California</td>\n",
       "      <td>San Francisco</td>\n",
       "      <td>6</td>\n",
       "      <td>75</td>\n",
       "      <td>2018-01-03</td>\n",
       "      <td>111</td>\n",
       "      <td>Unhealthy for Sensitive Groups</td>\n",
       "      <td>PM2.5</td>\n",
       "      <td>06-075-0005</td>\n",
       "      <td>1</td>\n",
       "    </tr>\n",
       "    <tr>\n",
       "      <th>27446</th>\n",
       "      <td>California</td>\n",
       "      <td>San Francisco</td>\n",
       "      <td>6</td>\n",
       "      <td>75</td>\n",
       "      <td>2018-01-04</td>\n",
       "      <td>58</td>\n",
       "      <td>Moderate</td>\n",
       "      <td>PM2.5</td>\n",
       "      <td>06-075-0005</td>\n",
       "      <td>1</td>\n",
       "    </tr>\n",
       "    <tr>\n",
       "      <th>27447</th>\n",
       "      <td>California</td>\n",
       "      <td>San Francisco</td>\n",
       "      <td>6</td>\n",
       "      <td>75</td>\n",
       "      <td>2018-01-05</td>\n",
       "      <td>26</td>\n",
       "      <td>Good</td>\n",
       "      <td>NO2</td>\n",
       "      <td>06-075-0005</td>\n",
       "      <td>1</td>\n",
       "    </tr>\n",
       "  </tbody>\n",
       "</table>\n",
       "</div>"
      ],
      "text/plain": [
       "       State Name    county Name  State Code  County Code       Date  AQI  \\\n",
       "27443  California  San Francisco           6           75 2018-01-01   72   \n",
       "27444  California  San Francisco           6           75 2018-01-02   82   \n",
       "27445  California  San Francisco           6           75 2018-01-03  111   \n",
       "27446  California  San Francisco           6           75 2018-01-04   58   \n",
       "27447  California  San Francisco           6           75 2018-01-05   26   \n",
       "\n",
       "                             Category Defining Parameter Defining Site  \\\n",
       "27443                        Moderate              PM2.5   06-075-0005   \n",
       "27444                        Moderate              PM2.5   06-075-0005   \n",
       "27445  Unhealthy for Sensitive Groups              PM2.5   06-075-0005   \n",
       "27446                        Moderate              PM2.5   06-075-0005   \n",
       "27447                            Good                NO2   06-075-0005   \n",
       "\n",
       "       Number of Sites Reporting  \n",
       "27443                          1  \n",
       "27444                          1  \n",
       "27445                          1  \n",
       "27446                          1  \n",
       "27447                          1  "
      ]
     },
     "execution_count": 33,
     "metadata": {},
     "output_type": "execute_result"
    }
   ],
   "source": [
    "# Read in the daily AQI in 2018 California\n",
    "aqi_2018 = pd.read_csv('../data/daily_aqi_by_county_2018.csv')\n",
    "\n",
    "# Subset just SF country and extract dates\n",
    "sf_aqi = aqi_2018[(aqi_2018['State Name']=='California') & (aqi_2018['county Name']=='San Francisco')]\n",
    "sf_aqi['Date'] = pd.to_datetime(sf_aqi['Date'])\n",
    "\n",
    "sf_aqi.head()"
   ]
  },
  {
   "cell_type": "code",
   "execution_count": 34,
   "id": "73fd8432",
   "metadata": {},
   "outputs": [
    {
     "data": {
      "text/html": [
       "<div>\n",
       "<style scoped>\n",
       "    .dataframe tbody tr th:only-of-type {\n",
       "        vertical-align: middle;\n",
       "    }\n",
       "\n",
       "    .dataframe tbody tr th {\n",
       "        vertical-align: top;\n",
       "    }\n",
       "\n",
       "    .dataframe thead th {\n",
       "        text-align: right;\n",
       "    }\n",
       "</style>\n",
       "<table border=\"1\" class=\"dataframe\">\n",
       "  <thead>\n",
       "    <tr style=\"text-align: right;\">\n",
       "      <th></th>\n",
       "      <th>date</th>\n",
       "      <th>text</th>\n",
       "      <th>State Name</th>\n",
       "      <th>county Name</th>\n",
       "      <th>State Code</th>\n",
       "      <th>County Code</th>\n",
       "      <th>Date</th>\n",
       "      <th>AQI</th>\n",
       "      <th>Category</th>\n",
       "      <th>Defining Parameter</th>\n",
       "      <th>Defining Site</th>\n",
       "      <th>Number of Sites Reporting</th>\n",
       "    </tr>\n",
       "  </thead>\n",
       "  <tbody>\n",
       "    <tr>\n",
       "      <th>0</th>\n",
       "      <td>2018-05-01</td>\n",
       "      <td>Let’s bring back Double Dutch! Kinda sucks for...</td>\n",
       "      <td>California</td>\n",
       "      <td>San Francisco</td>\n",
       "      <td>6</td>\n",
       "      <td>75</td>\n",
       "      <td>2018-05-01</td>\n",
       "      <td>37</td>\n",
       "      <td>Good</td>\n",
       "      <td>Ozone</td>\n",
       "      <td>06-075-0005</td>\n",
       "      <td>1</td>\n",
       "    </tr>\n",
       "    <tr>\n",
       "      <th>1</th>\n",
       "      <td>2018-05-01</td>\n",
       "      <td>@DumbFlotrack @BlueVennDW @GoSydGo Of course h...</td>\n",
       "      <td>California</td>\n",
       "      <td>San Francisco</td>\n",
       "      <td>6</td>\n",
       "      <td>75</td>\n",
       "      <td>2018-05-01</td>\n",
       "      <td>37</td>\n",
       "      <td>Good</td>\n",
       "      <td>Ozone</td>\n",
       "      <td>06-075-0005</td>\n",
       "      <td>1</td>\n",
       "    </tr>\n",
       "    <tr>\n",
       "      <th>2</th>\n",
       "      <td>2018-05-01</td>\n",
       "      <td>@screaminggina @SaysDana @gametheorytoday Ever...</td>\n",
       "      <td>California</td>\n",
       "      <td>San Francisco</td>\n",
       "      <td>6</td>\n",
       "      <td>75</td>\n",
       "      <td>2018-05-01</td>\n",
       "      <td>37</td>\n",
       "      <td>Good</td>\n",
       "      <td>Ozone</td>\n",
       "      <td>06-075-0005</td>\n",
       "      <td>1</td>\n",
       "    </tr>\n",
       "    <tr>\n",
       "      <th>3</th>\n",
       "      <td>2018-05-01</td>\n",
       "      <td>Our quest to find out where each mayoral candi...</td>\n",
       "      <td>California</td>\n",
       "      <td>San Francisco</td>\n",
       "      <td>6</td>\n",
       "      <td>75</td>\n",
       "      <td>2018-05-01</td>\n",
       "      <td>37</td>\n",
       "      <td>Good</td>\n",
       "      <td>Ozone</td>\n",
       "      <td>06-075-0005</td>\n",
       "      <td>1</td>\n",
       "    </tr>\n",
       "    <tr>\n",
       "      <th>4</th>\n",
       "      <td>2018-05-01</td>\n",
       "      <td>tryna squad out to a Giants game the week of m...</td>\n",
       "      <td>California</td>\n",
       "      <td>San Francisco</td>\n",
       "      <td>6</td>\n",
       "      <td>75</td>\n",
       "      <td>2018-05-01</td>\n",
       "      <td>37</td>\n",
       "      <td>Good</td>\n",
       "      <td>Ozone</td>\n",
       "      <td>06-075-0005</td>\n",
       "      <td>1</td>\n",
       "    </tr>\n",
       "  </tbody>\n",
       "</table>\n",
       "</div>"
      ],
      "text/plain": [
       "        date                                               text  State Name  \\\n",
       "0 2018-05-01  Let’s bring back Double Dutch! Kinda sucks for...  California   \n",
       "1 2018-05-01  @DumbFlotrack @BlueVennDW @GoSydGo Of course h...  California   \n",
       "2 2018-05-01  @screaminggina @SaysDana @gametheorytoday Ever...  California   \n",
       "3 2018-05-01  Our quest to find out where each mayoral candi...  California   \n",
       "4 2018-05-01  tryna squad out to a Giants game the week of m...  California   \n",
       "\n",
       "     county Name  State Code  County Code       Date  AQI Category  \\\n",
       "0  San Francisco           6           75 2018-05-01   37     Good   \n",
       "1  San Francisco           6           75 2018-05-01   37     Good   \n",
       "2  San Francisco           6           75 2018-05-01   37     Good   \n",
       "3  San Francisco           6           75 2018-05-01   37     Good   \n",
       "4  San Francisco           6           75 2018-05-01   37     Good   \n",
       "\n",
       "  Defining Parameter Defining Site  Number of Sites Reporting  \n",
       "0              Ozone   06-075-0005                          1  \n",
       "1              Ozone   06-075-0005                          1  \n",
       "2              Ozone   06-075-0005                          1  \n",
       "3              Ozone   06-075-0005                          1  \n",
       "4              Ozone   06-075-0005                          1  "
      ]
     },
     "execution_count": 34,
     "metadata": {},
     "output_type": "execute_result"
    }
   ],
   "source": [
    "sf_mrg = pd.merge(left=sf_df, right=sf_aqi, left_on='date', right_on='Date', how='inner')\n",
    "\n",
    "sf_mrg.head()"
   ]
  },
  {
   "cell_type": "code",
   "execution_count": 35,
   "id": "e4172ab3",
   "metadata": {},
   "outputs": [],
   "source": [
    "text_cleaning_re = \"@\\S+|https?:\\S+|http?:\\S|[^A-Za-z0-9]+\"\n",
    "stop_words = stopwords.words('english')\n",
    "\n",
    "stemmer = SnowballStemmer('english')\n",
    "\n",
    "def process_tweet(tweet):\n",
    "    tweet = re.sub(text_cleaning_re, ' ', str(tweet).lower()).strip()\n",
    "    tokens = []\n",
    "    for token in tweet.split():\n",
    "        if token not in stop_words:\n",
    "            tokens.append(stemmer.stem(token))\n",
    "    return ' '.join(tokens)\n",
    "\n",
    "sf_mrg['text'] = sf_mrg['text'].apply(process_tweet)"
   ]
  },
  {
   "cell_type": "code",
   "execution_count": 36,
   "id": "2d351299",
   "metadata": {},
   "outputs": [],
   "source": [
    "sf_mrg.to_csv(\"../data/san_francisco/sf_cleaned.csv\")"
   ]
  },
  {
   "cell_type": "code",
   "execution_count": 37,
   "id": "8795d9ae",
   "metadata": {},
   "outputs": [],
   "source": [
    "train_df, test_df = train_test_split(sf_mrg, test_size=0.2, random_state=23)"
   ]
  },
  {
   "cell_type": "code",
   "execution_count": 12,
   "id": "665d6914",
   "metadata": {},
   "outputs": [],
   "source": [
    "vocab_size = 100000\n",
    "\n",
    "emb_size = 100 # glove vectors are 100 dim\n",
    "\n",
    "tweet_len = 5000 # tweets are all standardized to 40 words long"
   ]
  },
  {
   "cell_type": "code",
   "execution_count": 74,
   "id": "66819585",
   "metadata": {},
   "outputs": [
    {
     "data": {
      "text/plain": [
       "((14508, 1000), (3628, 1000), 566400)"
      ]
     },
     "execution_count": 74,
     "metadata": {},
     "output_type": "execute_result"
    }
   ],
   "source": [
    "tokenizer = Tokenizer(num_words=vocab_size, lower=True, oov_token='?')\n",
    "tokenizer.fit_on_texts(train_df['text'])\n",
    "\n",
    "word_index = tokenizer.word_index\n",
    "\n",
    "X_train = pad_sequences(tokenizer.texts_to_sequences(train_df.text), maxlen=tweet_len)\n",
    "X_test = pad_sequences(tokenizer.texts_to_sequences(test_df.text), maxlen=tweet_len)\n",
    "\n",
    "X_train.shape, X_test.shape, len(word_index)"
   ]
  },
  {
   "cell_type": "code",
   "execution_count": 73,
   "id": "518d798b",
   "metadata": {},
   "outputs": [
    {
     "data": {
      "text/plain": [
       "((14508, 5), (3628, 5))"
      ]
     },
     "execution_count": 73,
     "metadata": {},
     "output_type": "execute_result"
    }
   ],
   "source": [
    "enc = OneHotEncoder().fit(train_df['Category'].to_numpy().reshape((-1, 1)))\n",
    "y_train = enc.transform(train_df['Category'].to_numpy().reshape((-1, 1))).todense()\n",
    "y_test = enc.transform(test_df['Category'].to_numpy().reshape((-1, 1))).todense()\n",
    "\n",
    "y_train.shape, y_test.shape"
   ]
  },
  {
   "cell_type": "code",
   "execution_count": 75,
   "id": "8facd458",
   "metadata": {},
   "outputs": [
    {
     "name": "stderr",
     "output_type": "stream",
     "text": [
      "C:\\Users\\Nick\\miniconda3\\envs\\bergin\\lib\\site-packages\\imblearn\\utils\\_validation.py:586: FutureWarning: Pass sampling_strategy=not majority as keyword args. From version 0.9 passing these as positional arguments will result in an error\n",
      "  warnings.warn(\n",
      "C:\\Users\\Nick\\miniconda3\\envs\\bergin\\lib\\site-packages\\sklearn\\utils\\validation.py:993: DataConversionWarning: A column-vector y was passed when a 1d array was expected. Please change the shape of y to (n_samples, ), for example using ravel().\n",
      "  y = column_or_1d(y, warn=True)\n"
     ]
    }
   ],
   "source": [
    "X_train, y_train = over_sampling.RandomOverSampler('not majority').fit_resample(X_train, y_train)\n",
    "#X_train, y_train = under_sampling.RandomUnderSampler('majority').fit_resample(X_train, y_train)"
   ]
  },
  {
   "cell_type": "code",
   "execution_count": 76,
   "id": "9d25bca0",
   "metadata": {},
   "outputs": [
    {
     "data": {
      "text/plain": [
       "array([11334, 11334, 11334, 11334, 11334])"
      ]
     },
     "execution_count": 76,
     "metadata": {},
     "output_type": "execute_result"
    }
   ],
   "source": [
    "y_train.sum(axis=0)"
   ]
  },
  {
   "cell_type": "code",
   "execution_count": 42,
   "id": "ad497493",
   "metadata": {},
   "outputs": [
    {
     "name": "stdout",
     "output_type": "stream",
     "text": [
      "1193514 words loaded\n"
     ]
    }
   ],
   "source": [
    "# https://nlp.stanford.edu/projects/glove/\n",
    "# a function to load vector model as dictionary\n",
    "def load_glove_model(File):\n",
    "    glove_model = {}\n",
    "    with open(File,'r',encoding='utf-8') as f:\n",
    "        for line in f:\n",
    "            split_line = line.split()\n",
    "            word = split_line[0]\n",
    "            embedding = np.array(split_line[1:], dtype=np.float64)\n",
    "            glove_model[word] = embedding\n",
    "    print(f\"{len(glove_model)} words loaded\")\n",
    "    return glove_model\n",
    "\n",
    "glove = load_glove_model('../data/glove.twitter.27B.100d.txt')"
   ]
  },
  {
   "cell_type": "code",
   "execution_count": 43,
   "id": "1244f02e",
   "metadata": {},
   "outputs": [],
   "source": [
    "# Generate embedding layer for ml model\n",
    "embedding_matrix = np.zeros((vocab_size, emb_size))\n",
    "for word, i in word_index.items():\n",
    "  if i >= vocab_size:\n",
    "    break\n",
    "  embedding_vector = glove.get(word)\n",
    "  if embedding_vector is not None:\n",
    "    embedding_matrix[i] = embedding_vector"
   ]
  },
  {
   "cell_type": "code",
   "execution_count": 77,
   "id": "121e7bcf",
   "metadata": {},
   "outputs": [
    {
     "name": "stdout",
     "output_type": "stream",
     "text": [
      "Model: \"sequential_5\"\n",
      "_________________________________________________________________\n",
      "Layer (type)                 Output Shape              Param #   \n",
      "=================================================================\n",
      "embedding_5 (Embedding)      (None, 1000, 100)         10000000  \n",
      "_________________________________________________________________\n",
      "spatial_dropout1d_5 (Spatial (None, 1000, 100)         0         \n",
      "_________________________________________________________________\n",
      "conv1d_10 (Conv1D)           (None, 996, 128)          64128     \n",
      "_________________________________________________________________\n",
      "max_pooling1d_5 (MaxPooling1 (None, 498, 128)          0         \n",
      "_________________________________________________________________\n",
      "conv1d_11 (Conv1D)           (None, 494, 64)           41024     \n",
      "_________________________________________________________________\n",
      "global_average_pooling1d_5 ( (None, 64)                0         \n",
      "_________________________________________________________________\n",
      "dense_10 (Dense)             (None, 32)                2080      \n",
      "_________________________________________________________________\n",
      "dense_11 (Dense)             (None, 5)                 165       \n",
      "=================================================================\n",
      "Total params: 10,107,397\n",
      "Trainable params: 107,397\n",
      "Non-trainable params: 10,000,000\n",
      "_________________________________________________________________\n",
      "Model: \"sequential_5\"\n",
      "_________________________________________________________________\n",
      "Layer (type)                 Output Shape              Param #   \n",
      "=================================================================\n",
      "embedding_5 (Embedding)      (None, 1000, 100)         10000000  \n",
      "_________________________________________________________________\n",
      "spatial_dropout1d_5 (Spatial (None, 1000, 100)         0         \n",
      "_________________________________________________________________\n",
      "conv1d_10 (Conv1D)           (None, 996, 128)          64128     \n",
      "_________________________________________________________________\n",
      "max_pooling1d_5 (MaxPooling1 (None, 498, 128)          0         \n",
      "_________________________________________________________________\n",
      "conv1d_11 (Conv1D)           (None, 494, 64)           41024     \n",
      "_________________________________________________________________\n",
      "global_average_pooling1d_5 ( (None, 64)                0         \n",
      "_________________________________________________________________\n",
      "dense_10 (Dense)             (None, 32)                2080      \n",
      "_________________________________________________________________\n",
      "dense_11 (Dense)             (None, 5)                 165       \n",
      "=================================================================\n",
      "Total params: 10,107,397\n",
      "Trainable params: 107,397\n",
      "Non-trainable params: 10,000,000\n",
      "_________________________________________________________________\n"
     ]
    }
   ],
   "source": [
    "cnn_model = keras.models.Sequential()\n",
    "\n",
    "embed_layer = keras.layers.Embedding(vocab_size, emb_size, weights=[embedding_matrix], input_length=tweet_len, trainable=False)\n",
    "cnn_model.add(embed_layer)\n",
    "cnn_model.add(keras.layers.SpatialDropout1D(0.10))\n",
    "cnn_model.add(keras.layers.Conv1D(128, 5, activation='relu'))\n",
    "cnn_model.add(keras.layers.MaxPooling1D(2))\n",
    "cnn_model.add(keras.layers.Conv1D(64, 5, activation='relu'))\n",
    "cnn_model.add(keras.layers.GlobalAveragePooling1D())\n",
    "cnn_model.add(keras.layers.Dense(32, activation = \"relu\"))\n",
    "cnn_model.add(keras.layers.Dense(5, activation=\"softmax\")) \n",
    "\n",
    "cnn_model.summary()\n",
    "\n",
    "cnn_model.summary()\n",
    "cnn_model.compile(optimizer='adam', loss='categorical_crossentropy', metrics=['accuracy'])\n",
    "\n",
    "callbacks = [keras.callbacks.ReduceLROnPlateau(monitor='val_loss', patience=5, cooldown=0),\n",
    "             keras.callbacks.EarlyStopping(monitor='val_acc', min_delta=1e-4, patience=5)]"
   ]
  },
  {
   "cell_type": "code",
   "execution_count": 78,
   "id": "b3ec1bef",
   "metadata": {},
   "outputs": [
    {
     "name": "stdout",
     "output_type": "stream",
     "text": [
      "111/111 [==============================] - 427s 4s/step - loss: 1.3990 - accuracy: 0.3898 - val_loss: 1.3285 - val_accuracy: 0.3630\n",
      "WARNING:tensorflow:Early stopping conditioned on metric `val_acc` which is not available. Available metrics are: loss,accuracy,val_loss,val_accuracy,lr\n"
     ]
    }
   ],
   "source": [
    "history = cnn_model.fit(X_train, y_train, batch_size=512, epochs=1, validation_data=(X_test, y_test), callbacks=callbacks)\n",
    "#cnn_model = keras.models.load_model('../data/models/final_model.h5')"
   ]
  },
  {
   "cell_type": "code",
   "execution_count": 79,
   "id": "acaec43c",
   "metadata": {},
   "outputs": [],
   "source": [
    "cnn_model.save('../data/models/model_batch_resample.h5')"
   ]
  },
  {
   "cell_type": "code",
   "execution_count": 80,
   "id": "7398b92f",
   "metadata": {},
   "outputs": [
    {
     "data": {
      "image/png": "[encoded data removed]",
      "text/plain": [
       "<Figure size 720x432 with 1 Axes>"
      ]
     },
     "metadata": {},
     "output_type": "display_data"
    },
    {
     "data": {
      "image/png": "[encoded data removed]",
      "text/plain": [
       "<Figure size 720x432 with 1 Axes>"
      ]
     },
     "metadata": {},
     "output_type": "display_data"
    }
   ],
   "source": [
    "# show the learning process\n",
    "accuracy = history.history['accuracy']\n",
    "val_accuracy = history.history['val_accuracy']\n",
    "loss = history.history['loss']\n",
    "val_loss = history.history['val_loss']\n",
    "epoch_range = range(len(accuracy))\n",
    "\n",
    "plt.figure(figsize=(10, 6))\n",
    "plt.plot(epoch_range, accuracy, 'bo', label='Training')\n",
    "plt.plot(epoch_range, val_accuracy, 'r', label='Test')\n",
    "plt.xlabel('Epoch', size=18)\n",
    "plt.ylabel('Accuracy', size=18)\n",
    "plt.legend()\n",
    "plt.show()\n",
    "\n",
    "plt.figure(figsize=(10, 6))\n",
    "plt.plot(epoch_range, loss, 'bo', label='Training')\n",
    "plt.plot(epoch_range, val_loss, 'r', label='Test')\n",
    "plt.xlabel('Epoch', size=18)\n",
    "plt.ylabel('Loss', size=18)\n",
    "plt.legend()\n",
    "plt.show()"
   ]
  },
  {
   "cell_type": "code",
   "execution_count": 81,
   "id": "af0ccd97",
   "metadata": {},
   "outputs": [],
   "source": [
    "y_pred = cnn_model.predict(X_test)"
   ]
  },
  {
   "cell_type": "code",
   "execution_count": 82,
   "id": "7d90ef03",
   "metadata": {},
   "outputs": [
    {
     "data": {
      "text/plain": [
       "(0.3630099228224917, 0.5692168321866109)"
      ]
     },
     "execution_count": 82,
     "metadata": {},
     "output_type": "execute_result"
    }
   ],
   "source": [
    "y_test_ = np.argmax(y_test, axis = 1)\n",
    "y_pred_ = np.argmax(y_pred, axis = 1)\n",
    "\n",
    "\n",
    "accuracy_score(y_test_, y_pred_), balanced_accuracy_score(y_test_, y_pred_)"
   ]
  },
  {
   "cell_type": "code",
   "execution_count": 83,
   "id": "c4597aa3",
   "metadata": {},
   "outputs": [
    {
     "data": {
      "image/png": "[encoded data removed]",
      "text/plain": [
       "<Figure size 648x648 with 2 Axes>"
      ]
     },
     "metadata": {},
     "output_type": "display_data"
    }
   ],
   "source": [
    "cm1 = confusion_matrix(y_test_, y_pred_)\n",
    "\n",
    "plt.figure(figsize=(9,9))\n",
    "sns.heatmap(cm1, annot=True, fmt=\".0f\", linewidths=.5, square=True, cmap='Blues_r')\n",
    "plt.ylabel('true number', size=17)\n",
    "plt.xlabel('predicted number', size=17)\n",
    "plt.show()\n",
    "\n"
   ]
  }
 ],
 "metadata": {
  "kernelspec": {
   "display_name": "Python 3 (ipykernel)",
   "language": "python",
   "name": "python3"
  },
  "language_info": {
   "codemirror_mode": {
    "name": "ipython",
    "version": 3
   },
   "file_extension": ".py",
   "mimetype": "text/x-python",
   "name": "python",
   "nbconvert_exporter": "python",
   "pygments_lexer": "ipython3",
   "version": "3.9.7"
  }
 },
 "nbformat": 4,
 "nbformat_minor": 5
}
