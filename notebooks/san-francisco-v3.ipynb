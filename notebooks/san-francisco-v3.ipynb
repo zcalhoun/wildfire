{
 "cells": [
  {
   "cell_type": "code",
   "execution_count": 14,
   "id": "585b0593",
   "metadata": {},
   "outputs": [
    {
     "name": "stderr",
     "output_type": "stream",
     "text": [
      "[nltk_data] Downloading package stopwords to\n",
      "[nltk_data]     C:\\Users\\Nick\\AppData\\Roaming\\nltk_data...\n",
      "[nltk_data]   Package stopwords is already up-to-date!\n"
     ]
    }
   ],
   "source": [
    "import os\n",
    "from datetime import datetime\n",
    "import sys\n",
    "sys.path.append(\"../scripts/twitter\")\n",
    "import utils as ut\n",
    "\n",
    "from searchTwitter import TwitterDataFrame\n",
    "\n",
    "import numpy as np\n",
    "import pandas as pd\n",
    "\n",
    "import matplotlib.pyplot as plt\n",
    "import seaborn as sns\n",
    "\n",
    "import keras\n",
    "from keras.preprocessing.text import Tokenizer\n",
    "from keras.preprocessing.sequence import pad_sequences\n",
    "\n",
    "import re\n",
    "from math import ceil\n",
    "\n",
    "import nltk\n",
    "nltk.download('stopwords')\n",
    "from nltk.corpus import stopwords\n",
    "from nltk.stem import SnowballStemmer\n",
    "\n",
    "from sklearn.model_selection import train_test_split\n",
    "from sklearn.preprocessing import OneHotEncoder\n",
    "from sklearn.metrics import confusion_matrix, accuracy_score, balanced_accuracy_score\n",
    "\n",
    "from imblearn import over_sampling\n",
    "from imblearn import under_sampling\n",
    "\n",
    "np.random.seed(23)\n",
    "\n",
    "# Set up sns\n",
    "sns.set(rc = {'figure.figsize':(10,10)})\n",
    "sns.set_style(\"whitegrid\")"
   ]
  },
  {
   "cell_type": "code",
   "execution_count": 40,
   "id": "185dcdd0",
   "metadata": {},
   "outputs": [
    {
     "name": "stderr",
     "output_type": "stream",
     "text": [
      "C:\\Users\\Nick\\AppData\\Local\\Temp/ipykernel_17100/3815770650.py:6: DtypeWarning: Columns (0,1) have mixed types. Specify dtype option on import or set low_memory=False.\n",
      "  dfs.append(pd.read_csv(base_dir + f))\n"
     ]
    },
    {
     "data": {
      "text/html": [
       "<div>\n",
       "<style scoped>\n",
       "    .dataframe tbody tr th:only-of-type {\n",
       "        vertical-align: middle;\n",
       "    }\n",
       "\n",
       "    .dataframe tbody tr th {\n",
       "        vertical-align: top;\n",
       "    }\n",
       "\n",
       "    .dataframe thead th {\n",
       "        text-align: right;\n",
       "    }\n",
       "</style>\n",
       "<table border=\"1\" class=\"dataframe\">\n",
       "  <thead>\n",
       "    <tr style=\"text-align: right;\">\n",
       "      <th></th>\n",
       "      <th>id</th>\n",
       "      <th>author_id</th>\n",
       "      <th>text</th>\n",
       "      <th>geo</th>\n",
       "      <th>created_at</th>\n",
       "      <th>lat</th>\n",
       "      <th>lon</th>\n",
       "    </tr>\n",
       "  </thead>\n",
       "  <tbody>\n",
       "    <tr>\n",
       "      <th>0</th>\n",
       "      <td>968999128641323008</td>\n",
       "      <td>25624940</td>\n",
       "      <td>@Volker_E Am I hallucinating that you are walk...</td>\n",
       "      <td>{'place_id': '5a110d312052166f'}</td>\n",
       "      <td>2018-02-28 23:59:30</td>\n",
       "      <td>37.708075</td>\n",
       "      <td>-122.514926</td>\n",
       "    </tr>\n",
       "    <tr>\n",
       "      <th>1</th>\n",
       "      <td>968999100757680128</td>\n",
       "      <td>8888</td>\n",
       "      <td>There’s just something weird about living in N...</td>\n",
       "      <td>{'place_id': '5ef5b7f391e30aff'}</td>\n",
       "      <td>2018-02-28 23:59:23</td>\n",
       "      <td>37.845953</td>\n",
       "      <td>-122.324818</td>\n",
       "    </tr>\n",
       "    <tr>\n",
       "      <th>2</th>\n",
       "      <td>968999065273774080</td>\n",
       "      <td>1557223812</td>\n",
       "      <td>Tomorrow’s March sheeeesh I’m basically 24 😕 t...</td>\n",
       "      <td>{'place_id': '5ecbd073f39c00fa'}</td>\n",
       "      <td>2018-02-28 23:59:14</td>\n",
       "      <td>37.592632</td>\n",
       "      <td>-122.160814</td>\n",
       "    </tr>\n",
       "    <tr>\n",
       "      <th>3</th>\n",
       "      <td>968999056537088000</td>\n",
       "      <td>1164993320</td>\n",
       "      <td>Wednesday really be draining 6-6 school day 😴</td>\n",
       "      <td>{'place_id': '5ecbd073f39c00fa'}</td>\n",
       "      <td>2018-02-28 23:59:12</td>\n",
       "      <td>37.592632</td>\n",
       "      <td>-122.160814</td>\n",
       "    </tr>\n",
       "    <tr>\n",
       "      <th>4</th>\n",
       "      <td>968999038493245440</td>\n",
       "      <td>18650764</td>\n",
       "      <td>@remedy415 @Brycesavoy510 This hella dope</td>\n",
       "      <td>{'place_id': 'ab2f2fac83aa388d'}</td>\n",
       "      <td>2018-02-28 23:59:08</td>\n",
       "      <td>37.699279</td>\n",
       "      <td>-122.342660</td>\n",
       "    </tr>\n",
       "  </tbody>\n",
       "</table>\n",
       "</div>"
      ],
      "text/plain": [
       "                   id   author_id  \\\n",
       "0  968999128641323008    25624940   \n",
       "1  968999100757680128        8888   \n",
       "2  968999065273774080  1557223812   \n",
       "3  968999056537088000  1164993320   \n",
       "4  968999038493245440    18650764   \n",
       "\n",
       "                                                text  \\\n",
       "0  @Volker_E Am I hallucinating that you are walk...   \n",
       "1  There’s just something weird about living in N...   \n",
       "2  Tomorrow’s March sheeeesh I’m basically 24 😕 t...   \n",
       "3      Wednesday really be draining 6-6 school day 😴   \n",
       "4          @remedy415 @Brycesavoy510 This hella dope   \n",
       "\n",
       "                                geo           created_at        lat  \\\n",
       "0  {'place_id': '5a110d312052166f'}  2018-02-28 23:59:30  37.708075   \n",
       "1  {'place_id': '5ef5b7f391e30aff'}  2018-02-28 23:59:23  37.845953   \n",
       "2  {'place_id': '5ecbd073f39c00fa'}  2018-02-28 23:59:14  37.592632   \n",
       "3  {'place_id': '5ecbd073f39c00fa'}  2018-02-28 23:59:12  37.592632   \n",
       "4  {'place_id': 'ab2f2fac83aa388d'}  2018-02-28 23:59:08  37.699279   \n",
       "\n",
       "          lon  \n",
       "0 -122.514926  \n",
       "1 -122.324818  \n",
       "2 -122.160814  \n",
       "3 -122.160814  \n",
       "4 -122.342660  "
      ]
     },
     "execution_count": 40,
     "metadata": {},
     "output_type": "execute_result"
    }
   ],
   "source": [
    "# Reads files in a directory as csv and returns dataframe\n",
    "def concat_data(base_dir):\n",
    "    files = os.listdir(base_dir)\n",
    "    dfs = []\n",
    "    for f in files:\n",
    "        dfs.append(pd.read_csv(base_dir + f))\n",
    "        \n",
    "    return pd.concat(dfs)\n",
    "\n",
    "sf_df_raw = concat_data('../data/san_francisco/')\n",
    "\n",
    "# Turn into a TwitterDataFrame and zoom in on san francisco\n",
    "sf_df_raw = TwitterDataFrame(sf_df_raw)\n",
    "\n",
    "sf_df_raw.head()"
   ]
  },
  {
   "cell_type": "code",
   "execution_count": 41,
   "id": "45dfe2e3",
   "metadata": {},
   "outputs": [
    {
     "data": {
      "text/html": [
       "<div>\n",
       "<style scoped>\n",
       "    .dataframe tbody tr th:only-of-type {\n",
       "        vertical-align: middle;\n",
       "    }\n",
       "\n",
       "    .dataframe tbody tr th {\n",
       "        vertical-align: top;\n",
       "    }\n",
       "\n",
       "    .dataframe thead th {\n",
       "        text-align: right;\n",
       "    }\n",
       "</style>\n",
       "<table border=\"1\" class=\"dataframe\">\n",
       "  <thead>\n",
       "    <tr style=\"text-align: right;\">\n",
       "      <th></th>\n",
       "      <th>id</th>\n",
       "      <th>author_id</th>\n",
       "      <th>text</th>\n",
       "      <th>geo</th>\n",
       "      <th>created_at</th>\n",
       "      <th>lat</th>\n",
       "      <th>lon</th>\n",
       "      <th>date</th>\n",
       "    </tr>\n",
       "  </thead>\n",
       "  <tbody>\n",
       "    <tr>\n",
       "      <th>439249</th>\n",
       "      <td>1002338864273346561</td>\n",
       "      <td>1637084264</td>\n",
       "      <td>mines the 86 for MBTA and the 33 for MUNI</td>\n",
       "      <td>{'place_id': '5a110d312052166f'}</td>\n",
       "      <td>2018-05-31 23:59:42</td>\n",
       "      <td>37.708075</td>\n",
       "      <td>-122.514926</td>\n",
       "      <td>2018-05-31</td>\n",
       "    </tr>\n",
       "    <tr>\n",
       "      <th>439250</th>\n",
       "      <td>1002338849979187201</td>\n",
       "      <td>2276720725</td>\n",
       "      <td>If you don’t need work over the summer conside...</td>\n",
       "      <td>{'place_id': '5a110d312052166f'}</td>\n",
       "      <td>2018-05-31 23:59:39</td>\n",
       "      <td>37.708075</td>\n",
       "      <td>-122.514926</td>\n",
       "      <td>2018-05-31</td>\n",
       "    </tr>\n",
       "    <tr>\n",
       "      <th>439251</th>\n",
       "      <td>1002338749919870976</td>\n",
       "      <td>391204136</td>\n",
       "      <td>@varadhjain 1. Practice 2. Observe those who a...</td>\n",
       "      <td>{'place_id': '5a110d312052166f'}</td>\n",
       "      <td>2018-05-31 23:59:15</td>\n",
       "      <td>37.708075</td>\n",
       "      <td>-122.514926</td>\n",
       "      <td>2018-05-31</td>\n",
       "    </tr>\n",
       "    <tr>\n",
       "      <th>439252</th>\n",
       "      <td>1002338701127573504</td>\n",
       "      <td>111136252</td>\n",
       "      <td>I heard one of the coldest things in a long ti...</td>\n",
       "      <td>{'place_id': '5a110d312052166f'}</td>\n",
       "      <td>2018-05-31 23:59:03</td>\n",
       "      <td>37.708075</td>\n",
       "      <td>-122.514926</td>\n",
       "      <td>2018-05-31</td>\n",
       "    </tr>\n",
       "    <tr>\n",
       "      <th>439253</th>\n",
       "      <td>1002338641505443841</td>\n",
       "      <td>783713395</td>\n",
       "      <td>@realDonaldTrump Talking about being treated u...</td>\n",
       "      <td>{'place_id': 'a769d8f00b12878d'}</td>\n",
       "      <td>2018-05-31 23:58:49</td>\n",
       "      <td>37.565624</td>\n",
       "      <td>-122.515276</td>\n",
       "      <td>2018-05-31</td>\n",
       "    </tr>\n",
       "  </tbody>\n",
       "</table>\n",
       "</div>"
      ],
      "text/plain": [
       "                         id   author_id  \\\n",
       "439249  1002338864273346561  1637084264   \n",
       "439250  1002338849979187201  2276720725   \n",
       "439251  1002338749919870976   391204136   \n",
       "439252  1002338701127573504   111136252   \n",
       "439253  1002338641505443841   783713395   \n",
       "\n",
       "                                                     text  \\\n",
       "439249          mines the 86 for MBTA and the 33 for MUNI   \n",
       "439250  If you don’t need work over the summer conside...   \n",
       "439251  @varadhjain 1. Practice 2. Observe those who a...   \n",
       "439252  I heard one of the coldest things in a long ti...   \n",
       "439253  @realDonaldTrump Talking about being treated u...   \n",
       "\n",
       "                                     geo          created_at        lat  \\\n",
       "439249  {'place_id': '5a110d312052166f'} 2018-05-31 23:59:42  37.708075   \n",
       "439250  {'place_id': '5a110d312052166f'} 2018-05-31 23:59:39  37.708075   \n",
       "439251  {'place_id': '5a110d312052166f'} 2018-05-31 23:59:15  37.708075   \n",
       "439252  {'place_id': '5a110d312052166f'} 2018-05-31 23:59:03  37.708075   \n",
       "439253  {'place_id': 'a769d8f00b12878d'} 2018-05-31 23:58:49  37.565624   \n",
       "\n",
       "               lon       date  \n",
       "439249 -122.514926 2018-05-31  \n",
       "439250 -122.514926 2018-05-31  \n",
       "439251 -122.514926 2018-05-31  \n",
       "439252 -122.514926 2018-05-31  \n",
       "439253 -122.515276 2018-05-31  "
      ]
     },
     "execution_count": 41,
     "metadata": {},
     "output_type": "execute_result"
    }
   ],
   "source": [
    "sf_df_raw = sf_df_raw.dropna().reset_index(drop=True)\n",
    "\n",
    "# Ideally this should be before sampling but this way saves time\n",
    "# Could this happen in TwitterDataFrame?\n",
    "sf_df_raw['created_at'] = [datetime.strptime(d,'%Y-%m-%d %H:%M:%S') for d in sf_df_raw['created_at']]\n",
    "\n",
    "# Subset 5/2018-12/2018\n",
    "sf_df_raw = sf_df_raw[sf_df_raw['created_at'] > datetime(2018, 4, 30)]\n",
    "\n",
    "# Change date quantum to day\n",
    "sf_df_raw['date'] = sf_df_raw['created_at'].dt.floor('d')\n",
    "\n",
    "sf_df = TwitterDataFrame(sf_df_raw)\n",
    "sf_df.head()"
   ]
  },
  {
   "cell_type": "code",
   "execution_count": 42,
   "id": "b1855583",
   "metadata": {},
   "outputs": [
    {
     "data": {
      "text/plain": [
       "(18136, 2)"
      ]
     },
     "execution_count": 42,
     "metadata": {},
     "output_type": "execute_result"
    }
   ],
   "source": [
    "sf_df = sf_df.group_by_days_and_batch(100)\n",
    "\n",
    "sf_df.shape"
   ]
  },
  {
   "cell_type": "code",
   "execution_count": null,
   "id": "c5aeca8a",
   "metadata": {},
   "outputs": [
    {
     "name": "stdout",
     "output_type": "stream",
     "text": [
      "Lenth:  8156\n",
      "Per day : 22.345205479452055\n"
     ]
    }
   ],
   "source": [
    "# What are the basics of this data set?\n",
    "print(\"Lenth: \", len(sf_df))\n",
    "print(\"Per day :\", len(sf_df)/365)"
   ]
  },
  {
   "cell_type": "code",
   "execution_count": 17,
   "id": "157749dd",
   "metadata": {},
   "outputs": [
    {
     "data": {
      "text/plain": [
       "Text(0.5, 0, 'Date')"
      ]
     },
     "execution_count": 17,
     "metadata": {},
     "output_type": "execute_result"
    },
    {
     "data": {
      "image/png": "[encoded data removed]",
      "text/plain": [
       "<Figure size 576x360 with 1 Axes>"
      ]
     },
     "metadata": {},
     "output_type": "display_data"
    }
   ],
   "source": [
    "# Plot num tweets per day by date\n",
    "plt.figure(figsize=(8,5))\n",
    "plt.plot(TwitterDataFrame(sf_df).count_by_day())\n",
    "ax = plt.gca()\n",
    "ax.set_ylabel(\"Tweets / day\")\n",
    "ax.set_xlabel(\"Date\")"
   ]
  },
  {
   "cell_type": "code",
   "execution_count": 43,
   "id": "0f7edbc9",
   "metadata": {},
   "outputs": [
    {
     "name": "stderr",
     "output_type": "stream",
     "text": [
      "C:\\Users\\Nick\\AppData\\Local\\Temp/ipykernel_17100/2893133138.py:6: SettingWithCopyWarning: \n",
      "A value is trying to be set on a copy of a slice from a DataFrame.\n",
      "Try using .loc[row_indexer,col_indexer] = value instead\n",
      "\n",
      "See the caveats in the documentation: https://pandas.pydata.org/pandas-docs/stable/user_guide/indexing.html#returning-a-view-versus-a-copy\n",
      "  sf_aqi['Date'] = pd.to_datetime(sf_aqi['Date'])\n"
     ]
    },
    {
     "data": {
      "text/html": [
       "<div>\n",
       "<style scoped>\n",
       "    .dataframe tbody tr th:only-of-type {\n",
       "        vertical-align: middle;\n",
       "    }\n",
       "\n",
       "    .dataframe tbody tr th {\n",
       "        vertical-align: top;\n",
       "    }\n",
       "\n",
       "    .dataframe thead th {\n",
       "        text-align: right;\n",
       "    }\n",
       "</style>\n",
       "<table border=\"1\" class=\"dataframe\">\n",
       "  <thead>\n",
       "    <tr style=\"text-align: right;\">\n",
       "      <th></th>\n",
       "      <th>State Name</th>\n",
       "      <th>county Name</th>\n",
       "      <th>State Code</th>\n",
       "      <th>County Code</th>\n",
       "      <th>Date</th>\n",
       "      <th>AQI</th>\n",
       "      <th>Category</th>\n",
       "      <th>Defining Parameter</th>\n",
       "      <th>Defining Site</th>\n",
       "      <th>Number of Sites Reporting</th>\n",
       "    </tr>\n",
       "  </thead>\n",
       "  <tbody>\n",
       "    <tr>\n",
       "      <th>27443</th>\n",
       "      <td>California</td>\n",
       "      <td>San Francisco</td>\n",
       "      <td>6</td>\n",
       "      <td>75</td>\n",
       "      <td>2018-01-01</td>\n",
       "      <td>72</td>\n",
       "      <td>Moderate</td>\n",
       "      <td>PM2.5</td>\n",
       "      <td>06-075-0005</td>\n",
       "      <td>1</td>\n",
       "    </tr>\n",
       "    <tr>\n",
       "      <th>27444</th>\n",
       "      <td>California</td>\n",
       "      <td>San Francisco</td>\n",
       "      <td>6</td>\n",
       "      <td>75</td>\n",
       "      <td>2018-01-02</td>\n",
       "      <td>82</td>\n",
       "      <td>Moderate</td>\n",
       "      <td>PM2.5</td>\n",
       "      <td>06-075-0005</td>\n",
       "      <td>1</td>\n",
       "    </tr>\n",
       "    <tr>\n",
       "      <th>27445</th>\n",
       "      <td>California</td>\n",
       "      <td>San Francisco</td>\n",
       "      <td>6</td>\n",
       "      <td>75</td>\n",
       "      <td>2018-01-03</td>\n",
       "      <td>111</td>\n",
       "      <td>Unhealthy for Sensitive Groups</td>\n",
       "      <td>PM2.5</td>\n",
       "      <td>06-075-0005</td>\n",
       "      <td>1</td>\n",
       "    </tr>\n",
       "    <tr>\n",
       "      <th>27446</th>\n",
       "      <td>California</td>\n",
       "      <td>San Francisco</td>\n",
       "      <td>6</td>\n",
       "      <td>75</td>\n",
       "      <td>2018-01-04</td>\n",
       "      <td>58</td>\n",
       "      <td>Moderate</td>\n",
       "      <td>PM2.5</td>\n",
       "      <td>06-075-0005</td>\n",
       "      <td>1</td>\n",
       "    </tr>\n",
       "    <tr>\n",
       "      <th>27447</th>\n",
       "      <td>California</td>\n",
       "      <td>San Francisco</td>\n",
       "      <td>6</td>\n",
       "      <td>75</td>\n",
       "      <td>2018-01-05</td>\n",
       "      <td>26</td>\n",
       "      <td>Good</td>\n",
       "      <td>NO2</td>\n",
       "      <td>06-075-0005</td>\n",
       "      <td>1</td>\n",
       "    </tr>\n",
       "  </tbody>\n",
       "</table>\n",
       "</div>"
      ],
      "text/plain": [
       "       State Name    county Name  State Code  County Code       Date  AQI  \\\n",
       "27443  California  San Francisco           6           75 2018-01-01   72   \n",
       "27444  California  San Francisco           6           75 2018-01-02   82   \n",
       "27445  California  San Francisco           6           75 2018-01-03  111   \n",
       "27446  California  San Francisco           6           75 2018-01-04   58   \n",
       "27447  California  San Francisco           6           75 2018-01-05   26   \n",
       "\n",
       "                             Category Defining Parameter Defining Site  \\\n",
       "27443                        Moderate              PM2.5   06-075-0005   \n",
       "27444                        Moderate              PM2.5   06-075-0005   \n",
       "27445  Unhealthy for Sensitive Groups              PM2.5   06-075-0005   \n",
       "27446                        Moderate              PM2.5   06-075-0005   \n",
       "27447                            Good                NO2   06-075-0005   \n",
       "\n",
       "       Number of Sites Reporting  \n",
       "27443                          1  \n",
       "27444                          1  \n",
       "27445                          1  \n",
       "27446                          1  \n",
       "27447                          1  "
      ]
     },
     "execution_count": 43,
     "metadata": {},
     "output_type": "execute_result"
    }
   ],
   "source": [
    "# Read in the daily AQI in 2018 California\n",
    "aqi_2018 = pd.read_csv('../data/daily_aqi_by_county_2018.csv')\n",
    "\n",
    "# Subset just SF country and extract dates\n",
    "sf_aqi = aqi_2018[(aqi_2018['State Name']=='California') & (aqi_2018['county Name']=='San Francisco')]\n",
    "sf_aqi['Date'] = pd.to_datetime(sf_aqi['Date'])\n",
    "\n",
    "sf_aqi.head()"
   ]
  },
  {
   "cell_type": "code",
   "execution_count": 44,
   "id": "73fd8432",
   "metadata": {},
   "outputs": [
    {
     "data": {
      "text/html": [
       "<div>\n",
       "<style scoped>\n",
       "    .dataframe tbody tr th:only-of-type {\n",
       "        vertical-align: middle;\n",
       "    }\n",
       "\n",
       "    .dataframe tbody tr th {\n",
       "        vertical-align: top;\n",
       "    }\n",
       "\n",
       "    .dataframe thead th {\n",
       "        text-align: right;\n",
       "    }\n",
       "</style>\n",
       "<table border=\"1\" class=\"dataframe\">\n",
       "  <thead>\n",
       "    <tr style=\"text-align: right;\">\n",
       "      <th></th>\n",
       "      <th>date</th>\n",
       "      <th>text</th>\n",
       "      <th>State Name</th>\n",
       "      <th>county Name</th>\n",
       "      <th>State Code</th>\n",
       "      <th>County Code</th>\n",
       "      <th>Date</th>\n",
       "      <th>AQI</th>\n",
       "      <th>Category</th>\n",
       "      <th>Defining Parameter</th>\n",
       "      <th>Defining Site</th>\n",
       "      <th>Number of Sites Reporting</th>\n",
       "    </tr>\n",
       "  </thead>\n",
       "  <tbody>\n",
       "    <tr>\n",
       "      <th>0</th>\n",
       "      <td>2018-05-01</td>\n",
       "      <td>@FlowerInFaith @resister1313 @SethAbramson And...</td>\n",
       "      <td>California</td>\n",
       "      <td>San Francisco</td>\n",
       "      <td>6</td>\n",
       "      <td>75</td>\n",
       "      <td>2018-05-01</td>\n",
       "      <td>37</td>\n",
       "      <td>Good</td>\n",
       "      <td>Ozone</td>\n",
       "      <td>06-075-0005</td>\n",
       "      <td>1</td>\n",
       "    </tr>\n",
       "    <tr>\n",
       "      <th>1</th>\n",
       "      <td>2018-05-01</td>\n",
       "      <td>@alicia_minshew @ginatognoni @AnyaLiesnik @sha...</td>\n",
       "      <td>California</td>\n",
       "      <td>San Francisco</td>\n",
       "      <td>6</td>\n",
       "      <td>75</td>\n",
       "      <td>2018-05-01</td>\n",
       "      <td>37</td>\n",
       "      <td>Good</td>\n",
       "      <td>Ozone</td>\n",
       "      <td>06-075-0005</td>\n",
       "      <td>1</td>\n",
       "    </tr>\n",
       "    <tr>\n",
       "      <th>2</th>\n",
       "      <td>2018-05-01</td>\n",
       "      <td>@NYTSports @SteveKerr In 1991 I was released o...</td>\n",
       "      <td>California</td>\n",
       "      <td>San Francisco</td>\n",
       "      <td>6</td>\n",
       "      <td>75</td>\n",
       "      <td>2018-05-01</td>\n",
       "      <td>37</td>\n",
       "      <td>Good</td>\n",
       "      <td>Ozone</td>\n",
       "      <td>06-075-0005</td>\n",
       "      <td>1</td>\n",
       "    </tr>\n",
       "    <tr>\n",
       "      <th>3</th>\n",
       "      <td>2018-05-01</td>\n",
       "      <td>Karma for me is literally having the dumbest s...</td>\n",
       "      <td>California</td>\n",
       "      <td>San Francisco</td>\n",
       "      <td>6</td>\n",
       "      <td>75</td>\n",
       "      <td>2018-05-01</td>\n",
       "      <td>37</td>\n",
       "      <td>Good</td>\n",
       "      <td>Ozone</td>\n",
       "      <td>06-075-0005</td>\n",
       "      <td>1</td>\n",
       "    </tr>\n",
       "    <tr>\n",
       "      <th>4</th>\n",
       "      <td>2018-05-01</td>\n",
       "      <td>the \"santa did you fuck my mom\" scene from its...</td>\n",
       "      <td>California</td>\n",
       "      <td>San Francisco</td>\n",
       "      <td>6</td>\n",
       "      <td>75</td>\n",
       "      <td>2018-05-01</td>\n",
       "      <td>37</td>\n",
       "      <td>Good</td>\n",
       "      <td>Ozone</td>\n",
       "      <td>06-075-0005</td>\n",
       "      <td>1</td>\n",
       "    </tr>\n",
       "  </tbody>\n",
       "</table>\n",
       "</div>"
      ],
      "text/plain": [
       "        date                                               text  State Name  \\\n",
       "0 2018-05-01  @FlowerInFaith @resister1313 @SethAbramson And...  California   \n",
       "1 2018-05-01  @alicia_minshew @ginatognoni @AnyaLiesnik @sha...  California   \n",
       "2 2018-05-01  @NYTSports @SteveKerr In 1991 I was released o...  California   \n",
       "3 2018-05-01  Karma for me is literally having the dumbest s...  California   \n",
       "4 2018-05-01  the \"santa did you fuck my mom\" scene from its...  California   \n",
       "\n",
       "     county Name  State Code  County Code       Date  AQI Category  \\\n",
       "0  San Francisco           6           75 2018-05-01   37     Good   \n",
       "1  San Francisco           6           75 2018-05-01   37     Good   \n",
       "2  San Francisco           6           75 2018-05-01   37     Good   \n",
       "3  San Francisco           6           75 2018-05-01   37     Good   \n",
       "4  San Francisco           6           75 2018-05-01   37     Good   \n",
       "\n",
       "  Defining Parameter Defining Site  Number of Sites Reporting  \n",
       "0              Ozone   06-075-0005                          1  \n",
       "1              Ozone   06-075-0005                          1  \n",
       "2              Ozone   06-075-0005                          1  \n",
       "3              Ozone   06-075-0005                          1  \n",
       "4              Ozone   06-075-0005                          1  "
      ]
     },
     "execution_count": 44,
     "metadata": {},
     "output_type": "execute_result"
    }
   ],
   "source": [
    "sf_mrg = pd.merge(left=sf_df, right=sf_aqi, left_on='date', right_on='Date', how='inner')\n",
    "\n",
    "sf_mrg.head()"
   ]
  },
  {
   "cell_type": "code",
   "execution_count": 45,
   "id": "e4172ab3",
   "metadata": {},
   "outputs": [],
   "source": [
    "text_cleaning_re = \"@\\S+|https?:\\S+|http?:\\S|[^A-Za-z0-9]+\"\n",
    "stop_words = stopwords.words('english')\n",
    "\n",
    "stemmer = SnowballStemmer('english')\n",
    "\n",
    "def process_tweet(tweet):\n",
    "    tweet = re.sub(text_cleaning_re, ' ', str(tweet).lower()).strip()\n",
    "    tokens = []\n",
    "    for token in tweet.split():\n",
    "        if token not in stop_words:\n",
    "            tokens.append(stemmer.stem(token))\n",
    "    return ' '.join(tokens)\n",
    "\n",
    "sf_mrg['text'] = sf_mrg['text'].apply(process_tweet)"
   ]
  },
  {
   "cell_type": "code",
   "execution_count": 46,
   "id": "2d351299",
   "metadata": {},
   "outputs": [
    {
     "ename": "OSError",
     "evalue": "Cannot save file into a non-existent directory: '..\\data\\sf_cleaned'",
     "output_type": "error",
     "traceback": [
      "\u001b[1;31m---------------------------------------------------------------------------\u001b[0m",
      "\u001b[1;31mOSError\u001b[0m                                   Traceback (most recent call last)",
      "\u001b[1;32m~\\AppData\\Local\\Temp/ipykernel_17100/2023203865.py\u001b[0m in \u001b[0;36m<module>\u001b[1;34m\u001b[0m\n\u001b[1;32m----> 1\u001b[1;33m \u001b[0msf_mrg\u001b[0m\u001b[1;33m.\u001b[0m\u001b[0mto_csv\u001b[0m\u001b[1;33m(\u001b[0m\u001b[1;34m\"../data/sf_cleaned/sf_cleaned.csv\"\u001b[0m\u001b[1;33m)\u001b[0m\u001b[1;33m\u001b[0m\u001b[1;33m\u001b[0m\u001b[0m\n\u001b[0m",
      "\u001b[1;32m~\\miniconda3\\envs\\bergin\\lib\\site-packages\\pandas\\core\\generic.py\u001b[0m in \u001b[0;36mto_csv\u001b[1;34m(self, path_or_buf, sep, na_rep, float_format, columns, header, index, index_label, mode, encoding, compression, quoting, quotechar, line_terminator, chunksize, date_format, doublequote, escapechar, decimal, errors, storage_options)\u001b[0m\n\u001b[0;32m   3561\u001b[0m         )\n\u001b[0;32m   3562\u001b[0m \u001b[1;33m\u001b[0m\u001b[0m\n\u001b[1;32m-> 3563\u001b[1;33m         return DataFrameRenderer(formatter).to_csv(\n\u001b[0m\u001b[0;32m   3564\u001b[0m             \u001b[0mpath_or_buf\u001b[0m\u001b[1;33m,\u001b[0m\u001b[1;33m\u001b[0m\u001b[1;33m\u001b[0m\u001b[0m\n\u001b[0;32m   3565\u001b[0m             \u001b[0mline_terminator\u001b[0m\u001b[1;33m=\u001b[0m\u001b[0mline_terminator\u001b[0m\u001b[1;33m,\u001b[0m\u001b[1;33m\u001b[0m\u001b[1;33m\u001b[0m\u001b[0m\n",
      "\u001b[1;32m~\\miniconda3\\envs\\bergin\\lib\\site-packages\\pandas\\io\\formats\\format.py\u001b[0m in \u001b[0;36mto_csv\u001b[1;34m(self, path_or_buf, encoding, sep, columns, index_label, mode, compression, quoting, quotechar, line_terminator, chunksize, date_format, doublequote, escapechar, errors, storage_options)\u001b[0m\n\u001b[0;32m   1178\u001b[0m             \u001b[0mformatter\u001b[0m\u001b[1;33m=\u001b[0m\u001b[0mself\u001b[0m\u001b[1;33m.\u001b[0m\u001b[0mfmt\u001b[0m\u001b[1;33m,\u001b[0m\u001b[1;33m\u001b[0m\u001b[1;33m\u001b[0m\u001b[0m\n\u001b[0;32m   1179\u001b[0m         )\n\u001b[1;32m-> 1180\u001b[1;33m         \u001b[0mcsv_formatter\u001b[0m\u001b[1;33m.\u001b[0m\u001b[0msave\u001b[0m\u001b[1;33m(\u001b[0m\u001b[1;33m)\u001b[0m\u001b[1;33m\u001b[0m\u001b[1;33m\u001b[0m\u001b[0m\n\u001b[0m\u001b[0;32m   1181\u001b[0m \u001b[1;33m\u001b[0m\u001b[0m\n\u001b[0;32m   1182\u001b[0m         \u001b[1;32mif\u001b[0m \u001b[0mcreated_buffer\u001b[0m\u001b[1;33m:\u001b[0m\u001b[1;33m\u001b[0m\u001b[1;33m\u001b[0m\u001b[0m\n",
      "\u001b[1;32m~\\miniconda3\\envs\\bergin\\lib\\site-packages\\pandas\\io\\formats\\csvs.py\u001b[0m in \u001b[0;36msave\u001b[1;34m(self)\u001b[0m\n\u001b[0;32m    239\u001b[0m         \"\"\"\n\u001b[0;32m    240\u001b[0m         \u001b[1;31m# apply compression and byte/text conversion\u001b[0m\u001b[1;33m\u001b[0m\u001b[1;33m\u001b[0m\u001b[0m\n\u001b[1;32m--> 241\u001b[1;33m         with get_handle(\n\u001b[0m\u001b[0;32m    242\u001b[0m             \u001b[0mself\u001b[0m\u001b[1;33m.\u001b[0m\u001b[0mfilepath_or_buffer\u001b[0m\u001b[1;33m,\u001b[0m\u001b[1;33m\u001b[0m\u001b[1;33m\u001b[0m\u001b[0m\n\u001b[0;32m    243\u001b[0m             \u001b[0mself\u001b[0m\u001b[1;33m.\u001b[0m\u001b[0mmode\u001b[0m\u001b[1;33m,\u001b[0m\u001b[1;33m\u001b[0m\u001b[1;33m\u001b[0m\u001b[0m\n",
      "\u001b[1;32m~\\miniconda3\\envs\\bergin\\lib\\site-packages\\pandas\\io\\common.py\u001b[0m in \u001b[0;36mget_handle\u001b[1;34m(path_or_buf, mode, encoding, compression, memory_map, is_text, errors, storage_options)\u001b[0m\n\u001b[0;32m    695\u001b[0m     \u001b[1;31m# Only for write methods\u001b[0m\u001b[1;33m\u001b[0m\u001b[1;33m\u001b[0m\u001b[0m\n\u001b[0;32m    696\u001b[0m     \u001b[1;32mif\u001b[0m \u001b[1;34m\"r\"\u001b[0m \u001b[1;32mnot\u001b[0m \u001b[1;32min\u001b[0m \u001b[0mmode\u001b[0m \u001b[1;32mand\u001b[0m \u001b[0mis_path\u001b[0m\u001b[1;33m:\u001b[0m\u001b[1;33m\u001b[0m\u001b[1;33m\u001b[0m\u001b[0m\n\u001b[1;32m--> 697\u001b[1;33m         \u001b[0mcheck_parent_directory\u001b[0m\u001b[1;33m(\u001b[0m\u001b[0mstr\u001b[0m\u001b[1;33m(\u001b[0m\u001b[0mhandle\u001b[0m\u001b[1;33m)\u001b[0m\u001b[1;33m)\u001b[0m\u001b[1;33m\u001b[0m\u001b[1;33m\u001b[0m\u001b[0m\n\u001b[0m\u001b[0;32m    698\u001b[0m \u001b[1;33m\u001b[0m\u001b[0m\n\u001b[0;32m    699\u001b[0m     \u001b[1;32mif\u001b[0m \u001b[0mcompression\u001b[0m\u001b[1;33m:\u001b[0m\u001b[1;33m\u001b[0m\u001b[1;33m\u001b[0m\u001b[0m\n",
      "\u001b[1;32m~\\miniconda3\\envs\\bergin\\lib\\site-packages\\pandas\\io\\common.py\u001b[0m in \u001b[0;36mcheck_parent_directory\u001b[1;34m(path)\u001b[0m\n\u001b[0;32m    569\u001b[0m     \u001b[0mparent\u001b[0m \u001b[1;33m=\u001b[0m \u001b[0mPath\u001b[0m\u001b[1;33m(\u001b[0m\u001b[0mpath\u001b[0m\u001b[1;33m)\u001b[0m\u001b[1;33m.\u001b[0m\u001b[0mparent\u001b[0m\u001b[1;33m\u001b[0m\u001b[1;33m\u001b[0m\u001b[0m\n\u001b[0;32m    570\u001b[0m     \u001b[1;32mif\u001b[0m \u001b[1;32mnot\u001b[0m \u001b[0mparent\u001b[0m\u001b[1;33m.\u001b[0m\u001b[0mis_dir\u001b[0m\u001b[1;33m(\u001b[0m\u001b[1;33m)\u001b[0m\u001b[1;33m:\u001b[0m\u001b[1;33m\u001b[0m\u001b[1;33m\u001b[0m\u001b[0m\n\u001b[1;32m--> 571\u001b[1;33m         \u001b[1;32mraise\u001b[0m \u001b[0mOSError\u001b[0m\u001b[1;33m(\u001b[0m\u001b[1;34mfr\"Cannot save file into a non-existent directory: '{parent}'\"\u001b[0m\u001b[1;33m)\u001b[0m\u001b[1;33m\u001b[0m\u001b[1;33m\u001b[0m\u001b[0m\n\u001b[0m\u001b[0;32m    572\u001b[0m \u001b[1;33m\u001b[0m\u001b[0m\n\u001b[0;32m    573\u001b[0m \u001b[1;33m\u001b[0m\u001b[0m\n",
      "\u001b[1;31mOSError\u001b[0m: Cannot save file into a non-existent directory: '..\\data\\sf_cleaned'"
     ]
    }
   ],
   "source": [
    "sf_mrg.to_csv(\"../data/sf_cleaned/sf_cleaned.csv\")"
   ]
  },
  {
   "cell_type": "code",
   "execution_count": 47,
   "id": "8795d9ae",
   "metadata": {},
   "outputs": [],
   "source": [
    "train_df, test_df = train_test_split(sf_mrg, test_size=0.2, random_state=23)"
   ]
  },
  {
   "cell_type": "code",
   "execution_count": 48,
   "id": "665d6914",
   "metadata": {},
   "outputs": [],
   "source": [
    "vocab_size = 100000\n",
    "\n",
    "emb_size = 100 # glove vectors are 100 dim\n",
    "\n",
    "tweet_len = 5000 # tweets are all standardized to 40 words long"
   ]
  },
  {
   "cell_type": "code",
   "execution_count": 64,
   "id": "66819585",
   "metadata": {},
   "outputs": [
    {
     "data": {
      "text/plain": [
       "((14508, 5000), (3628, 5000), 566364)"
      ]
     },
     "execution_count": 64,
     "metadata": {},
     "output_type": "execute_result"
    }
   ],
   "source": [
    "tokenizer = Tokenizer(num_words=vocab_size, lower=True, oov_token='?')\n",
    "tokenizer.fit_on_texts(train_df['text'])\n",
    "\n",
    "word_index = tokenizer.word_index\n",
    "\n",
    "X_train = pad_sequences(tokenizer.texts_to_sequences(train_df.text), maxlen=tweet_len)\n",
    "X_test = pad_sequences(tokenizer.texts_to_sequences(test_df.text), maxlen=tweet_len)\n",
    "\n",
    "X_train.shape, X_test.shape, len(word_index)"
   ]
  },
  {
   "cell_type": "code",
   "execution_count": 65,
   "id": "518d798b",
   "metadata": {},
   "outputs": [
    {
     "data": {
      "text/plain": [
       "((14508, 5), (3628, 5))"
      ]
     },
     "execution_count": 65,
     "metadata": {},
     "output_type": "execute_result"
    }
   ],
   "source": [
    "enc = OneHotEncoder().fit(train_df['Category'].to_numpy().reshape((-1, 1)))\n",
    "y_train = enc.transform(train_df['Category'].to_numpy().reshape((-1, 1))).todense()\n",
    "y_test = enc.transform(test_df['Category'].to_numpy().reshape((-1, 1))).todense()\n",
    "\n",
    "y_train.shape, y_test.shape"
   ]
  },
  {
   "cell_type": "code",
   "execution_count": 66,
   "id": "8facd458",
   "metadata": {},
   "outputs": [
    {
     "name": "stderr",
     "output_type": "stream",
     "text": [
      "C:\\Users\\Nick\\miniconda3\\envs\\bergin\\lib\\site-packages\\imblearn\\utils\\_validation.py:586: FutureWarning: Pass sampling_strategy=not majority as keyword args. From version 0.9 passing these as positional arguments will result in an error\n",
      "  warnings.warn(\n",
      "C:\\Users\\Nick\\miniconda3\\envs\\bergin\\lib\\site-packages\\sklearn\\utils\\validation.py:993: DataConversionWarning: A column-vector y was passed when a 1d array was expected. Please change the shape of y to (n_samples, ), for example using ravel().\n",
      "  y = column_or_1d(y, warn=True)\n"
     ]
    }
   ],
   "source": [
    "X_train, y_train = over_sampling.RandomOverSampler('not majority').fit_resample(X_train, y_train)\n",
    "#X_train, y_train = under_sampling.RandomUnderSampler('majority').fit_resample(X_train, y_train)"
   ]
  },
  {
   "cell_type": "code",
   "execution_count": 67,
   "id": "9d25bca0",
   "metadata": {},
   "outputs": [
    {
     "data": {
      "text/plain": [
       "array([11334, 11334, 11334, 11334, 11334])"
      ]
     },
     "execution_count": 67,
     "metadata": {},
     "output_type": "execute_result"
    }
   ],
   "source": [
    "y_train.sum(axis=0)"
   ]
  },
  {
   "cell_type": "code",
   "execution_count": 68,
   "id": "ad497493",
   "metadata": {},
   "outputs": [
    {
     "name": "stdout",
     "output_type": "stream",
     "text": [
      "1193514 words loaded\n"
     ]
    }
   ],
   "source": [
    "# https://nlp.stanford.edu/projects/glove/\n",
    "# a function to load vector model as dictionary\n",
    "def load_glove_model(File):\n",
    "    glove_model = {}\n",
    "    with open(File,'r',encoding='utf-8') as f:\n",
    "        for line in f:\n",
    "            split_line = line.split()\n",
    "            word = split_line[0]\n",
    "            embedding = np.array(split_line[1:], dtype=np.float64)\n",
    "            glove_model[word] = embedding\n",
    "    print(f\"{len(glove_model)} words loaded\")\n",
    "    return glove_model\n",
    "\n",
    "glove = load_glove_model('../data/glove.twitter.27B.100d.txt')"
   ]
  },
  {
   "cell_type": "code",
   "execution_count": 69,
   "id": "1244f02e",
   "metadata": {},
   "outputs": [],
   "source": [
    "# Generate embedding layer for ml model\n",
    "embedding_matrix = np.zeros((vocab_size, emb_size))\n",
    "for word, i in word_index.items():\n",
    "  if i >= vocab_size:\n",
    "    break\n",
    "  embedding_vector = glove.get(word)\n",
    "  if embedding_vector is not None:\n",
    "    embedding_matrix[i] = embedding_vector"
   ]
  },
  {
   "cell_type": "code",
   "execution_count": 78,
   "id": "121e7bcf",
   "metadata": {},
   "outputs": [
    {
     "name": "stdout",
     "output_type": "stream",
     "text": [
      "Model: \"model_2\"\n",
      "__________________________________________________________________________________________________\n",
      "Layer (type)                    Output Shape         Param #     Connected to                     \n",
      "==================================================================================================\n",
      "input_3 (InputLayer)            [(None, 5000)]       0                                            \n",
      "__________________________________________________________________________________________________\n",
      "embedding_2 (Embedding)         (None, 5000, 100)    10000000    input_3[0][0]                    \n",
      "__________________________________________________________________________________________________\n",
      "spatial_dropout1d_2 (SpatialDro (None, 5000, 100)    0           embedding_2[0][0]                \n",
      "__________________________________________________________________________________________________\n",
      "batch_normalization_3 (BatchNor (None, 5000, 100)    400         spatial_dropout1d_2[0][0]        \n",
      "__________________________________________________________________________________________________\n",
      "conv1d_3 (Conv1D)               (None, 5000, 64)     19264       batch_normalization_3[0][0]      \n",
      "__________________________________________________________________________________________________\n",
      "conv1d_4 (Conv1D)               (None, 5000, 64)     32064       batch_normalization_3[0][0]      \n",
      "__________________________________________________________________________________________________\n",
      "batch_normalization_4 (BatchNor (None, 5000, 64)     256         conv1d_3[0][0]                   \n",
      "__________________________________________________________________________________________________\n",
      "batch_normalization_5 (BatchNor (None, 5000, 64)     256         conv1d_4[0][0]                   \n",
      "__________________________________________________________________________________________________\n",
      "add_1 (Add)                     (None, 5000, 64)     0           batch_normalization_4[0][0]      \n",
      "                                                                 batch_normalization_5[0][0]      \n",
      "__________________________________________________________________________________________________\n",
      "global_average_pooling1d_2 (Glo (None, 64)           0           add_1[0][0]                      \n",
      "__________________________________________________________________________________________________\n",
      "dense_6 (Dense)                 (None, 64)           4160        global_average_pooling1d_2[0][0] \n",
      "__________________________________________________________________________________________________\n",
      "dropout_4 (Dropout)             (None, 64)           0           dense_6[0][0]                    \n",
      "__________________________________________________________________________________________________\n",
      "dense_7 (Dense)                 (None, 32)           2080        dropout_4[0][0]                  \n",
      "__________________________________________________________________________________________________\n",
      "dropout_5 (Dropout)             (None, 32)           0           dense_7[0][0]                    \n",
      "__________________________________________________________________________________________________\n",
      "dense_8 (Dense)                 (None, 5)            165         dropout_5[0][0]                  \n",
      "==================================================================================================\n",
      "Total params: 10,058,645\n",
      "Trainable params: 58,189\n",
      "Non-trainable params: 10,000,456\n",
      "__________________________________________________________________________________________________\n"
     ]
    }
   ],
   "source": [
    "input = keras.layers.Input(shape=(tweet_len,), dtype='int32')\n",
    "embed_layer = keras.layers.Embedding(vocab_size, emb_size, weights=[embedding_matrix], input_length=tweet_len, trainable=False)(input)\n",
    "embed_layer = keras.layers.SpatialDropout1D(0.1)(embed_layer)\n",
    "embed_layer = keras.layers.BatchNormalization()(embed_layer)\n",
    "\n",
    "layers = []\n",
    "for kernel_size in [3, 5]:\n",
    "    temp = keras.layers.Conv1D(64, kernel_size, padding='same', kernel_initializer='he_uniform')(embed_layer)\n",
    "    temp = keras.layers.BatchNormalization()(temp)\n",
    "    layers.append(temp)\n",
    "\n",
    "x = keras.layers.add(layers)\n",
    "# x = keras.layers.Conv1D(64, 5, activation='relu', kernel_initializer='he_uniform')(embed_layer)\n",
    "x = keras.layers.GlobalAveragePooling1D()(x)\n",
    "x = keras.layers.Dense(64, activation='relu')(x)\n",
    "x = keras.layers.Dropout(0.2)(x)\n",
    "x = keras.layers.Dense(32, activation='relu')(x)\n",
    "x = keras.layers.Dropout(0.2)(x)\n",
    "output = keras.layers.Dense(5, activation='softmax')(x)\n",
    "\n",
    "cnn_model = keras.Model(input, output)\n",
    "cnn_model.summary()\n",
    "\n",
    "cnn_model.compile(optimizer='adam', loss='categorical_crossentropy', metrics=['accuracy'])\n",
    "\n",
    "callbacks = [keras.callbacks.ReduceLROnPlateau(monitor='val_loss', patience=5, cooldown=0),\n",
    "             keras.callbacks.EarlyStopping(monitor='val_acc', min_delta=1e-4, patience=5)]"
   ]
  },
  {
   "cell_type": "code",
   "execution_count": 79,
   "id": "b3ec1bef",
   "metadata": {},
   "outputs": [
    {
     "name": "stdout",
     "output_type": "stream",
     "text": [
      " 84/111 [=====================>........] - ETA: 15:41 - loss: 1.4084 - accuracy: 0.3852"
     ]
    },
    {
     "ename": "KeyboardInterrupt",
     "evalue": "",
     "output_type": "error",
     "traceback": [
      "\u001b[1;31m---------------------------------------------------------------------------\u001b[0m",
      "\u001b[1;31mKeyboardInterrupt\u001b[0m                         Traceback (most recent call last)",
      "\u001b[1;32m~\\AppData\\Local\\Temp/ipykernel_17100/1845343789.py\u001b[0m in \u001b[0;36m<module>\u001b[1;34m\u001b[0m\n\u001b[1;32m----> 1\u001b[1;33m \u001b[0mhistory\u001b[0m \u001b[1;33m=\u001b[0m \u001b[0mcnn_model\u001b[0m\u001b[1;33m.\u001b[0m\u001b[0mfit\u001b[0m\u001b[1;33m(\u001b[0m\u001b[0mX_train\u001b[0m\u001b[1;33m,\u001b[0m \u001b[0my_train\u001b[0m\u001b[1;33m,\u001b[0m \u001b[0mbatch_size\u001b[0m\u001b[1;33m=\u001b[0m\u001b[1;36m512\u001b[0m\u001b[1;33m,\u001b[0m \u001b[0mepochs\u001b[0m\u001b[1;33m=\u001b[0m\u001b[1;36m1\u001b[0m\u001b[1;33m,\u001b[0m \u001b[0mvalidation_data\u001b[0m\u001b[1;33m=\u001b[0m\u001b[1;33m(\u001b[0m\u001b[0mX_test\u001b[0m\u001b[1;33m,\u001b[0m \u001b[0my_test\u001b[0m\u001b[1;33m)\u001b[0m\u001b[1;33m,\u001b[0m \u001b[0mcallbacks\u001b[0m\u001b[1;33m=\u001b[0m\u001b[0mcallbacks\u001b[0m\u001b[1;33m)\u001b[0m\u001b[1;33m\u001b[0m\u001b[1;33m\u001b[0m\u001b[0m\n\u001b[0m\u001b[0;32m      2\u001b[0m \u001b[1;31m#cnn_model = keras.models.load_model('../data/models/final_model.h5')\u001b[0m\u001b[1;33m\u001b[0m\u001b[1;33m\u001b[0m\u001b[0m\n",
      "\u001b[1;32m~\\miniconda3\\envs\\bergin\\lib\\site-packages\\keras\\engine\\training.py\u001b[0m in \u001b[0;36mfit\u001b[1;34m(self, x, y, batch_size, epochs, verbose, callbacks, validation_split, validation_data, shuffle, class_weight, sample_weight, initial_epoch, steps_per_epoch, validation_steps, validation_batch_size, validation_freq, max_queue_size, workers, use_multiprocessing)\u001b[0m\n\u001b[0;32m   1182\u001b[0m                 _r=1):\n\u001b[0;32m   1183\u001b[0m               \u001b[0mcallbacks\u001b[0m\u001b[1;33m.\u001b[0m\u001b[0mon_train_batch_begin\u001b[0m\u001b[1;33m(\u001b[0m\u001b[0mstep\u001b[0m\u001b[1;33m)\u001b[0m\u001b[1;33m\u001b[0m\u001b[1;33m\u001b[0m\u001b[0m\n\u001b[1;32m-> 1184\u001b[1;33m               \u001b[0mtmp_logs\u001b[0m \u001b[1;33m=\u001b[0m \u001b[0mself\u001b[0m\u001b[1;33m.\u001b[0m\u001b[0mtrain_function\u001b[0m\u001b[1;33m(\u001b[0m\u001b[0miterator\u001b[0m\u001b[1;33m)\u001b[0m\u001b[1;33m\u001b[0m\u001b[1;33m\u001b[0m\u001b[0m\n\u001b[0m\u001b[0;32m   1185\u001b[0m               \u001b[1;32mif\u001b[0m \u001b[0mdata_handler\u001b[0m\u001b[1;33m.\u001b[0m\u001b[0mshould_sync\u001b[0m\u001b[1;33m:\u001b[0m\u001b[1;33m\u001b[0m\u001b[1;33m\u001b[0m\u001b[0m\n\u001b[0;32m   1186\u001b[0m                 \u001b[0mcontext\u001b[0m\u001b[1;33m.\u001b[0m\u001b[0masync_wait\u001b[0m\u001b[1;33m(\u001b[0m\u001b[1;33m)\u001b[0m\u001b[1;33m\u001b[0m\u001b[1;33m\u001b[0m\u001b[0m\n",
      "\u001b[1;32m~\\miniconda3\\envs\\bergin\\lib\\site-packages\\tensorflow\\python\\eager\\def_function.py\u001b[0m in \u001b[0;36m__call__\u001b[1;34m(self, *args, **kwds)\u001b[0m\n\u001b[0;32m    883\u001b[0m \u001b[1;33m\u001b[0m\u001b[0m\n\u001b[0;32m    884\u001b[0m       \u001b[1;32mwith\u001b[0m \u001b[0mOptionalXlaContext\u001b[0m\u001b[1;33m(\u001b[0m\u001b[0mself\u001b[0m\u001b[1;33m.\u001b[0m\u001b[0m_jit_compile\u001b[0m\u001b[1;33m)\u001b[0m\u001b[1;33m:\u001b[0m\u001b[1;33m\u001b[0m\u001b[1;33m\u001b[0m\u001b[0m\n\u001b[1;32m--> 885\u001b[1;33m         \u001b[0mresult\u001b[0m \u001b[1;33m=\u001b[0m \u001b[0mself\u001b[0m\u001b[1;33m.\u001b[0m\u001b[0m_call\u001b[0m\u001b[1;33m(\u001b[0m\u001b[1;33m*\u001b[0m\u001b[0margs\u001b[0m\u001b[1;33m,\u001b[0m \u001b[1;33m**\u001b[0m\u001b[0mkwds\u001b[0m\u001b[1;33m)\u001b[0m\u001b[1;33m\u001b[0m\u001b[1;33m\u001b[0m\u001b[0m\n\u001b[0m\u001b[0;32m    886\u001b[0m \u001b[1;33m\u001b[0m\u001b[0m\n\u001b[0;32m    887\u001b[0m       \u001b[0mnew_tracing_count\u001b[0m \u001b[1;33m=\u001b[0m \u001b[0mself\u001b[0m\u001b[1;33m.\u001b[0m\u001b[0mexperimental_get_tracing_count\u001b[0m\u001b[1;33m(\u001b[0m\u001b[1;33m)\u001b[0m\u001b[1;33m\u001b[0m\u001b[1;33m\u001b[0m\u001b[0m\n",
      "\u001b[1;32m~\\miniconda3\\envs\\bergin\\lib\\site-packages\\tensorflow\\python\\eager\\def_function.py\u001b[0m in \u001b[0;36m_call\u001b[1;34m(self, *args, **kwds)\u001b[0m\n\u001b[0;32m    915\u001b[0m       \u001b[1;31m# In this case we have created variables on the first call, so we run the\u001b[0m\u001b[1;33m\u001b[0m\u001b[1;33m\u001b[0m\u001b[0m\n\u001b[0;32m    916\u001b[0m       \u001b[1;31m# defunned version which is guaranteed to never create variables.\u001b[0m\u001b[1;33m\u001b[0m\u001b[1;33m\u001b[0m\u001b[0m\n\u001b[1;32m--> 917\u001b[1;33m       \u001b[1;32mreturn\u001b[0m \u001b[0mself\u001b[0m\u001b[1;33m.\u001b[0m\u001b[0m_stateless_fn\u001b[0m\u001b[1;33m(\u001b[0m\u001b[1;33m*\u001b[0m\u001b[0margs\u001b[0m\u001b[1;33m,\u001b[0m \u001b[1;33m**\u001b[0m\u001b[0mkwds\u001b[0m\u001b[1;33m)\u001b[0m  \u001b[1;31m# pylint: disable=not-callable\u001b[0m\u001b[1;33m\u001b[0m\u001b[1;33m\u001b[0m\u001b[0m\n\u001b[0m\u001b[0;32m    918\u001b[0m     \u001b[1;32melif\u001b[0m \u001b[0mself\u001b[0m\u001b[1;33m.\u001b[0m\u001b[0m_stateful_fn\u001b[0m \u001b[1;32mis\u001b[0m \u001b[1;32mnot\u001b[0m \u001b[1;32mNone\u001b[0m\u001b[1;33m:\u001b[0m\u001b[1;33m\u001b[0m\u001b[1;33m\u001b[0m\u001b[0m\n\u001b[0;32m    919\u001b[0m       \u001b[1;31m# Release the lock early so that multiple threads can perform the call\u001b[0m\u001b[1;33m\u001b[0m\u001b[1;33m\u001b[0m\u001b[0m\n",
      "\u001b[1;32m~\\miniconda3\\envs\\bergin\\lib\\site-packages\\tensorflow\\python\\eager\\function.py\u001b[0m in \u001b[0;36m__call__\u001b[1;34m(self, *args, **kwargs)\u001b[0m\n\u001b[0;32m   3037\u001b[0m       (graph_function,\n\u001b[0;32m   3038\u001b[0m        filtered_flat_args) = self._maybe_define_function(args, kwargs)\n\u001b[1;32m-> 3039\u001b[1;33m     return graph_function._call_flat(\n\u001b[0m\u001b[0;32m   3040\u001b[0m         filtered_flat_args, captured_inputs=graph_function.captured_inputs)  # pylint: disable=protected-access\n\u001b[0;32m   3041\u001b[0m \u001b[1;33m\u001b[0m\u001b[0m\n",
      "\u001b[1;32m~\\miniconda3\\envs\\bergin\\lib\\site-packages\\tensorflow\\python\\eager\\function.py\u001b[0m in \u001b[0;36m_call_flat\u001b[1;34m(self, args, captured_inputs, cancellation_manager)\u001b[0m\n\u001b[0;32m   1961\u001b[0m         and executing_eagerly):\n\u001b[0;32m   1962\u001b[0m       \u001b[1;31m# No tape is watching; skip to running the function.\u001b[0m\u001b[1;33m\u001b[0m\u001b[1;33m\u001b[0m\u001b[0m\n\u001b[1;32m-> 1963\u001b[1;33m       return self._build_call_outputs(self._inference_function.call(\n\u001b[0m\u001b[0;32m   1964\u001b[0m           ctx, args, cancellation_manager=cancellation_manager))\n\u001b[0;32m   1965\u001b[0m     forward_backward = self._select_forward_and_backward_functions(\n",
      "\u001b[1;32m~\\miniconda3\\envs\\bergin\\lib\\site-packages\\tensorflow\\python\\eager\\function.py\u001b[0m in \u001b[0;36mcall\u001b[1;34m(self, ctx, args, cancellation_manager)\u001b[0m\n\u001b[0;32m    589\u001b[0m       \u001b[1;32mwith\u001b[0m \u001b[0m_InterpolateFunctionError\u001b[0m\u001b[1;33m(\u001b[0m\u001b[0mself\u001b[0m\u001b[1;33m)\u001b[0m\u001b[1;33m:\u001b[0m\u001b[1;33m\u001b[0m\u001b[1;33m\u001b[0m\u001b[0m\n\u001b[0;32m    590\u001b[0m         \u001b[1;32mif\u001b[0m \u001b[0mcancellation_manager\u001b[0m \u001b[1;32mis\u001b[0m \u001b[1;32mNone\u001b[0m\u001b[1;33m:\u001b[0m\u001b[1;33m\u001b[0m\u001b[1;33m\u001b[0m\u001b[0m\n\u001b[1;32m--> 591\u001b[1;33m           outputs = execute.execute(\n\u001b[0m\u001b[0;32m    592\u001b[0m               \u001b[0mstr\u001b[0m\u001b[1;33m(\u001b[0m\u001b[0mself\u001b[0m\u001b[1;33m.\u001b[0m\u001b[0msignature\u001b[0m\u001b[1;33m.\u001b[0m\u001b[0mname\u001b[0m\u001b[1;33m)\u001b[0m\u001b[1;33m,\u001b[0m\u001b[1;33m\u001b[0m\u001b[1;33m\u001b[0m\u001b[0m\n\u001b[0;32m    593\u001b[0m               \u001b[0mnum_outputs\u001b[0m\u001b[1;33m=\u001b[0m\u001b[0mself\u001b[0m\u001b[1;33m.\u001b[0m\u001b[0m_num_outputs\u001b[0m\u001b[1;33m,\u001b[0m\u001b[1;33m\u001b[0m\u001b[1;33m\u001b[0m\u001b[0m\n",
      "\u001b[1;32m~\\miniconda3\\envs\\bergin\\lib\\site-packages\\tensorflow\\python\\eager\\execute.py\u001b[0m in \u001b[0;36mquick_execute\u001b[1;34m(op_name, num_outputs, inputs, attrs, ctx, name)\u001b[0m\n\u001b[0;32m     57\u001b[0m   \u001b[1;32mtry\u001b[0m\u001b[1;33m:\u001b[0m\u001b[1;33m\u001b[0m\u001b[1;33m\u001b[0m\u001b[0m\n\u001b[0;32m     58\u001b[0m     \u001b[0mctx\u001b[0m\u001b[1;33m.\u001b[0m\u001b[0mensure_initialized\u001b[0m\u001b[1;33m(\u001b[0m\u001b[1;33m)\u001b[0m\u001b[1;33m\u001b[0m\u001b[1;33m\u001b[0m\u001b[0m\n\u001b[1;32m---> 59\u001b[1;33m     tensors = pywrap_tfe.TFE_Py_Execute(ctx._handle, device_name, op_name,\n\u001b[0m\u001b[0;32m     60\u001b[0m                                         inputs, attrs, num_outputs)\n\u001b[0;32m     61\u001b[0m   \u001b[1;32mexcept\u001b[0m \u001b[0mcore\u001b[0m\u001b[1;33m.\u001b[0m\u001b[0m_NotOkStatusException\u001b[0m \u001b[1;32mas\u001b[0m \u001b[0me\u001b[0m\u001b[1;33m:\u001b[0m\u001b[1;33m\u001b[0m\u001b[1;33m\u001b[0m\u001b[0m\n",
      "\u001b[1;31mKeyboardInterrupt\u001b[0m: "
     ]
    }
   ],
   "source": [
    "history = cnn_model.fit(X_train, y_train, batch_size=512, epochs=1, validation_data=(X_test, y_test), callbacks=callbacks)\n",
    "#cnn_model = keras.models.load_model('../data/models/final_model.h5')"
   ]
  },
  {
   "cell_type": "code",
   "execution_count": 72,
   "id": "acaec43c",
   "metadata": {},
   "outputs": [],
   "source": [
    "cnn_model.save('../data/models/model_batch_resample.h5')"
   ]
  },
  {
   "cell_type": "code",
   "execution_count": 73,
   "id": "7398b92f",
   "metadata": {},
   "outputs": [
    {
     "data": {
      "image/png": "[encoded data removed]",
      "text/plain": [
       "<Figure size 720x432 with 1 Axes>"
      ]
     },
     "metadata": {},
     "output_type": "display_data"
    },
    {
     "data": {
      "image/png": "[encoded data removed]",
      "text/plain": [
       "<Figure size 720x432 with 1 Axes>"
      ]
     },
     "metadata": {},
     "output_type": "display_data"
    }
   ],
   "source": [
    "# show the learning process\n",
    "accuracy = history.history['accuracy']\n",
    "val_accuracy = history.history['val_accuracy']\n",
    "loss = history.history['loss']\n",
    "val_loss = history.history['val_loss']\n",
    "epoch_range = range(len(accuracy))\n",
    "\n",
    "plt.figure(figsize=(10, 6))\n",
    "plt.plot(epoch_range, accuracy, 'bo', label='Training')\n",
    "plt.plot(epoch_range, val_accuracy, 'r', label='Test')\n",
    "plt.xlabel('Epoch', size=18)\n",
    "plt.ylabel('Accuracy', size=18)\n",
    "plt.legend()\n",
    "plt.show()\n",
    "\n",
    "plt.figure(figsize=(10, 6))\n",
    "plt.plot(epoch_range, loss, 'bo', label='Training')\n",
    "plt.plot(epoch_range, val_loss, 'r', label='Test')\n",
    "plt.xlabel('Epoch', size=18)\n",
    "plt.ylabel('Loss', size=18)\n",
    "plt.legend()\n",
    "plt.show()"
   ]
  },
  {
   "cell_type": "code",
   "execution_count": 74,
   "id": "af0ccd97",
   "metadata": {},
   "outputs": [],
   "source": [
    "y_pred = cnn_model.predict(X_test)"
   ]
  },
  {
   "cell_type": "code",
   "execution_count": 75,
   "id": "7d90ef03",
   "metadata": {},
   "outputs": [
    {
     "data": {
      "text/plain": [
       "(0.18770672546857772, 0.3719006145066571)"
      ]
     },
     "execution_count": 75,
     "metadata": {},
     "output_type": "execute_result"
    }
   ],
   "source": [
    "y_test_ = np.argmax(y_test, axis = 1)\n",
    "y_pred_ = np.argmax(y_pred, axis = 1)\n",
    "\n",
    "\n",
    "accuracy_score(y_test_, y_pred_), balanced_accuracy_score(y_test_, y_pred_)"
   ]
  },
  {
   "cell_type": "code",
   "execution_count": 76,
   "id": "c4597aa3",
   "metadata": {},
   "outputs": [
    {
     "data": {
      "image/png": "[encoded data removed]",
      "text/plain": [
       "<Figure size 648x648 with 2 Axes>"
      ]
     },
     "metadata": {},
     "output_type": "display_data"
    }
   ],
   "source": [
    "cm1 = confusion_matrix(y_test_, y_pred_)\n",
    "\n",
    "plt.figure(figsize=(9,9))\n",
    "sns.heatmap(cm1, annot=True, fmt=\".0f\", linewidths=.5, square=True, cmap='Blues_r')\n",
    "plt.ylabel('true number', size=17)\n",
    "plt.xlabel('predicted number', size=17)\n",
    "plt.show()\n",
    "\n"
   ]
  }
 ],
 "metadata": {
  "kernelspec": {
   "display_name": "Python 3 (ipykernel)",
   "language": "python",
   "name": "python3"
  },
  "language_info": {
   "codemirror_mode": {
    "name": "ipython",
    "version": 3
   },
   "file_extension": ".py",
   "mimetype": "text/x-python",
   "name": "python",
   "nbconvert_exporter": "python",
   "pygments_lexer": "ipython3",
   "version": "3.9.7"
  }
 },
 "nbformat": 4,
 "nbformat_minor": 5
}
