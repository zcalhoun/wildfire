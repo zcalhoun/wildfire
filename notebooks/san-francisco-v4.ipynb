{
 "cells": [
  {
   "cell_type": "markdown",
   "id": "4904348d",
   "metadata": {},
   "source": [
    "# San Francisco v4\n",
    "\n",
    "The goal of this notebook is to explore using bert embeddings for Tweet pseudo-docs and compare them to a baseline.\n",
    "\n",
    "Changes / Ideas:\n",
    "- No stop words because our approach is similar to sentiment analysis"
   ]
  },
  {
   "cell_type": "code",
   "execution_count": 1,
   "id": "585b0593",
   "metadata": {},
   "outputs": [],
   "source": [
    "import os\n",
    "from datetime import datetime\n",
    "import sys\n",
    "\n",
    "sys.path.append(\"../scripts/twitter\")\n",
    "from searchTwitter import TwitterDataFrame\n",
    "\n",
    "import numpy as np\n",
    "import pandas as pd\n",
    "\n",
    "import matplotlib.pyplot as plt\n",
    "import seaborn as sns\n",
    "\n",
    "import keras\n",
    "from keras.preprocessing.text import Tokenizer\n",
    "from keras.preprocessing.sequence import pad_sequences\n",
    "\n",
    "import re\n",
    "\n",
    "from nltk.stem import SnowballStemmer\n",
    "\n",
    "from sklearn.feature_extraction.text import TfidfVectorizer\n",
    "from sklearn.preprocessing import OneHotEncoder\n",
    "from sklearn.model_selection import train_test_split\n",
    "from sklearn.metrics import confusion_matrix, accuracy_score, balanced_accuracy_score\n",
    "\n",
    "from imblearn import over_sampling\n",
    "from imblearn import under_sampling\n",
    "\n",
    "np.random.seed(23)\n",
    "\n",
    "# Set up sns\n",
    "sns.set(rc = {'figure.figsize':(10,10)})\n",
    "sns.set_style(\"whitegrid\")"
   ]
  },
  {
   "cell_type": "code",
   "execution_count": 29,
   "id": "185dcdd0",
   "metadata": {},
   "outputs": [
    {
     "name": "stderr",
     "output_type": "stream",
     "text": [
      "C:\\Users\\Nick\\AppData\\Local\\Temp/ipykernel_2608/3815770650.py:6: DtypeWarning: Columns (0,1) have mixed types. Specify dtype option on import or set low_memory=False.\n",
      "  dfs.append(pd.read_csv(base_dir + f))\n"
     ]
    },
    {
     "data": {
      "text/html": [
       "<div>\n",
       "<style scoped>\n",
       "    .dataframe tbody tr th:only-of-type {\n",
       "        vertical-align: middle;\n",
       "    }\n",
       "\n",
       "    .dataframe tbody tr th {\n",
       "        vertical-align: top;\n",
       "    }\n",
       "\n",
       "    .dataframe thead th {\n",
       "        text-align: right;\n",
       "    }\n",
       "</style>\n",
       "<table border=\"1\" class=\"dataframe\">\n",
       "  <thead>\n",
       "    <tr style=\"text-align: right;\">\n",
       "      <th></th>\n",
       "      <th>id</th>\n",
       "      <th>author_id</th>\n",
       "      <th>text</th>\n",
       "      <th>geo</th>\n",
       "      <th>created_at</th>\n",
       "      <th>lat</th>\n",
       "      <th>lon</th>\n",
       "    </tr>\n",
       "  </thead>\n",
       "  <tbody>\n",
       "    <tr>\n",
       "      <th>0</th>\n",
       "      <td>968999128641323008</td>\n",
       "      <td>25624940</td>\n",
       "      <td>@Volker_E Am I hallucinating that you are walk...</td>\n",
       "      <td>{'place_id': '5a110d312052166f'}</td>\n",
       "      <td>2018-02-28 23:59:30</td>\n",
       "      <td>37.708075</td>\n",
       "      <td>-122.514926</td>\n",
       "    </tr>\n",
       "    <tr>\n",
       "      <th>1</th>\n",
       "      <td>968999100757680128</td>\n",
       "      <td>8888</td>\n",
       "      <td>There’s just something weird about living in N...</td>\n",
       "      <td>{'place_id': '5ef5b7f391e30aff'}</td>\n",
       "      <td>2018-02-28 23:59:23</td>\n",
       "      <td>37.845953</td>\n",
       "      <td>-122.324818</td>\n",
       "    </tr>\n",
       "    <tr>\n",
       "      <th>2</th>\n",
       "      <td>968999065273774080</td>\n",
       "      <td>1557223812</td>\n",
       "      <td>Tomorrow’s March sheeeesh I’m basically 24 😕 t...</td>\n",
       "      <td>{'place_id': '5ecbd073f39c00fa'}</td>\n",
       "      <td>2018-02-28 23:59:14</td>\n",
       "      <td>37.592632</td>\n",
       "      <td>-122.160814</td>\n",
       "    </tr>\n",
       "    <tr>\n",
       "      <th>3</th>\n",
       "      <td>968999056537088000</td>\n",
       "      <td>1164993320</td>\n",
       "      <td>Wednesday really be draining 6-6 school day 😴</td>\n",
       "      <td>{'place_id': '5ecbd073f39c00fa'}</td>\n",
       "      <td>2018-02-28 23:59:12</td>\n",
       "      <td>37.592632</td>\n",
       "      <td>-122.160814</td>\n",
       "    </tr>\n",
       "    <tr>\n",
       "      <th>4</th>\n",
       "      <td>968999038493245440</td>\n",
       "      <td>18650764</td>\n",
       "      <td>@remedy415 @Brycesavoy510 This hella dope</td>\n",
       "      <td>{'place_id': 'ab2f2fac83aa388d'}</td>\n",
       "      <td>2018-02-28 23:59:08</td>\n",
       "      <td>37.699279</td>\n",
       "      <td>-122.342660</td>\n",
       "    </tr>\n",
       "  </tbody>\n",
       "</table>\n",
       "</div>"
      ],
      "text/plain": [
       "                   id   author_id  \\\n",
       "0  968999128641323008    25624940   \n",
       "1  968999100757680128        8888   \n",
       "2  968999065273774080  1557223812   \n",
       "3  968999056537088000  1164993320   \n",
       "4  968999038493245440    18650764   \n",
       "\n",
       "                                                text  \\\n",
       "0  @Volker_E Am I hallucinating that you are walk...   \n",
       "1  There’s just something weird about living in N...   \n",
       "2  Tomorrow’s March sheeeesh I’m basically 24 😕 t...   \n",
       "3      Wednesday really be draining 6-6 school day 😴   \n",
       "4          @remedy415 @Brycesavoy510 This hella dope   \n",
       "\n",
       "                                geo           created_at        lat  \\\n",
       "0  {'place_id': '5a110d312052166f'}  2018-02-28 23:59:30  37.708075   \n",
       "1  {'place_id': '5ef5b7f391e30aff'}  2018-02-28 23:59:23  37.845953   \n",
       "2  {'place_id': '5ecbd073f39c00fa'}  2018-02-28 23:59:14  37.592632   \n",
       "3  {'place_id': '5ecbd073f39c00fa'}  2018-02-28 23:59:12  37.592632   \n",
       "4  {'place_id': 'ab2f2fac83aa388d'}  2018-02-28 23:59:08  37.699279   \n",
       "\n",
       "          lon  \n",
       "0 -122.514926  \n",
       "1 -122.324818  \n",
       "2 -122.160814  \n",
       "3 -122.160814  \n",
       "4 -122.342660  "
      ]
     },
     "execution_count": 29,
     "metadata": {},
     "output_type": "execute_result"
    }
   ],
   "source": [
    "# Reads files in a directory as csv and returns dataframe\n",
    "def concat_data(base_dir):\n",
    "    files = os.listdir(base_dir)\n",
    "    dfs = []\n",
    "    for f in files:\n",
    "        dfs.append(pd.read_csv(base_dir + f))\n",
    "        \n",
    "    return pd.concat(dfs)\n",
    "\n",
    "sf_df_raw = concat_data('../data/san_francisco/')\n",
    "\n",
    "# Turn into a TwitterDataFrame and zoom in on san francisco\n",
    "sf_df_raw = TwitterDataFrame(sf_df_raw)\n",
    "\n",
    "sf_df_raw.head()"
   ]
  },
  {
   "cell_type": "code",
   "execution_count": 30,
   "id": "45dfe2e3",
   "metadata": {},
   "outputs": [
    {
     "data": {
      "text/html": [
       "<div>\n",
       "<style scoped>\n",
       "    .dataframe tbody tr th:only-of-type {\n",
       "        vertical-align: middle;\n",
       "    }\n",
       "\n",
       "    .dataframe tbody tr th {\n",
       "        vertical-align: top;\n",
       "    }\n",
       "\n",
       "    .dataframe thead th {\n",
       "        text-align: right;\n",
       "    }\n",
       "</style>\n",
       "<table border=\"1\" class=\"dataframe\">\n",
       "  <thead>\n",
       "    <tr style=\"text-align: right;\">\n",
       "      <th></th>\n",
       "      <th>id</th>\n",
       "      <th>author_id</th>\n",
       "      <th>text</th>\n",
       "      <th>geo</th>\n",
       "      <th>created_at</th>\n",
       "      <th>lat</th>\n",
       "      <th>lon</th>\n",
       "      <th>date</th>\n",
       "    </tr>\n",
       "  </thead>\n",
       "  <tbody>\n",
       "    <tr>\n",
       "      <th>439249</th>\n",
       "      <td>1002338864273346561</td>\n",
       "      <td>1637084264</td>\n",
       "      <td>mines the 86 for MBTA and the 33 for MUNI</td>\n",
       "      <td>{'place_id': '5a110d312052166f'}</td>\n",
       "      <td>2018-05-31 23:59:42</td>\n",
       "      <td>37.708075</td>\n",
       "      <td>-122.514926</td>\n",
       "      <td>2018-05-31</td>\n",
       "    </tr>\n",
       "    <tr>\n",
       "      <th>439250</th>\n",
       "      <td>1002338849979187201</td>\n",
       "      <td>2276720725</td>\n",
       "      <td>If you don’t need work over the summer conside...</td>\n",
       "      <td>{'place_id': '5a110d312052166f'}</td>\n",
       "      <td>2018-05-31 23:59:39</td>\n",
       "      <td>37.708075</td>\n",
       "      <td>-122.514926</td>\n",
       "      <td>2018-05-31</td>\n",
       "    </tr>\n",
       "    <tr>\n",
       "      <th>439251</th>\n",
       "      <td>1002338749919870976</td>\n",
       "      <td>391204136</td>\n",
       "      <td>@varadhjain 1. Practice 2. Observe those who a...</td>\n",
       "      <td>{'place_id': '5a110d312052166f'}</td>\n",
       "      <td>2018-05-31 23:59:15</td>\n",
       "      <td>37.708075</td>\n",
       "      <td>-122.514926</td>\n",
       "      <td>2018-05-31</td>\n",
       "    </tr>\n",
       "    <tr>\n",
       "      <th>439252</th>\n",
       "      <td>1002338701127573504</td>\n",
       "      <td>111136252</td>\n",
       "      <td>I heard one of the coldest things in a long ti...</td>\n",
       "      <td>{'place_id': '5a110d312052166f'}</td>\n",
       "      <td>2018-05-31 23:59:03</td>\n",
       "      <td>37.708075</td>\n",
       "      <td>-122.514926</td>\n",
       "      <td>2018-05-31</td>\n",
       "    </tr>\n",
       "    <tr>\n",
       "      <th>439253</th>\n",
       "      <td>1002338641505443841</td>\n",
       "      <td>783713395</td>\n",
       "      <td>@realDonaldTrump Talking about being treated u...</td>\n",
       "      <td>{'place_id': 'a769d8f00b12878d'}</td>\n",
       "      <td>2018-05-31 23:58:49</td>\n",
       "      <td>37.565624</td>\n",
       "      <td>-122.515276</td>\n",
       "      <td>2018-05-31</td>\n",
       "    </tr>\n",
       "  </tbody>\n",
       "</table>\n",
       "</div>"
      ],
      "text/plain": [
       "                         id   author_id  \\\n",
       "439249  1002338864273346561  1637084264   \n",
       "439250  1002338849979187201  2276720725   \n",
       "439251  1002338749919870976   391204136   \n",
       "439252  1002338701127573504   111136252   \n",
       "439253  1002338641505443841   783713395   \n",
       "\n",
       "                                                     text  \\\n",
       "439249          mines the 86 for MBTA and the 33 for MUNI   \n",
       "439250  If you don’t need work over the summer conside...   \n",
       "439251  @varadhjain 1. Practice 2. Observe those who a...   \n",
       "439252  I heard one of the coldest things in a long ti...   \n",
       "439253  @realDonaldTrump Talking about being treated u...   \n",
       "\n",
       "                                     geo          created_at        lat  \\\n",
       "439249  {'place_id': '5a110d312052166f'} 2018-05-31 23:59:42  37.708075   \n",
       "439250  {'place_id': '5a110d312052166f'} 2018-05-31 23:59:39  37.708075   \n",
       "439251  {'place_id': '5a110d312052166f'} 2018-05-31 23:59:15  37.708075   \n",
       "439252  {'place_id': '5a110d312052166f'} 2018-05-31 23:59:03  37.708075   \n",
       "439253  {'place_id': 'a769d8f00b12878d'} 2018-05-31 23:58:49  37.565624   \n",
       "\n",
       "               lon       date  \n",
       "439249 -122.514926 2018-05-31  \n",
       "439250 -122.514926 2018-05-31  \n",
       "439251 -122.514926 2018-05-31  \n",
       "439252 -122.514926 2018-05-31  \n",
       "439253 -122.515276 2018-05-31  "
      ]
     },
     "execution_count": 30,
     "metadata": {},
     "output_type": "execute_result"
    }
   ],
   "source": [
    "sf_df_raw = sf_df_raw.dropna().reset_index(drop=True)\n",
    " \n",
    "sf_df_raw['created_at'] = [datetime.strptime(d,'%Y-%m-%d %H:%M:%S') for d in sf_df_raw['created_at']]\n",
    "\n",
    "# Subset 5/2018-12/2018\n",
    "sf_df_raw = sf_df_raw[sf_df_raw['created_at'] > datetime(2018, 4, 30)]\n",
    "\n",
    "# Change date quantum to day\n",
    "sf_df_raw['date'] = sf_df_raw['created_at'].dt.floor('d')\n",
    "\n",
    "sf_df = TwitterDataFrame(sf_df_raw)\n",
    "sf_df.head()"
   ]
  },
  {
   "cell_type": "code",
   "execution_count": 33,
   "id": "0f7edbc9",
   "metadata": {},
   "outputs": [
    {
     "name": "stderr",
     "output_type": "stream",
     "text": [
      "C:\\Users\\Nick\\AppData\\Local\\Temp/ipykernel_2608/2893133138.py:6: SettingWithCopyWarning: \n",
      "A value is trying to be set on a copy of a slice from a DataFrame.\n",
      "Try using .loc[row_indexer,col_indexer] = value instead\n",
      "\n",
      "See the caveats in the documentation: https://pandas.pydata.org/pandas-docs/stable/user_guide/indexing.html#returning-a-view-versus-a-copy\n",
      "  sf_aqi['Date'] = pd.to_datetime(sf_aqi['Date'])\n"
     ]
    },
    {
     "data": {
      "text/html": [
       "<div>\n",
       "<style scoped>\n",
       "    .dataframe tbody tr th:only-of-type {\n",
       "        vertical-align: middle;\n",
       "    }\n",
       "\n",
       "    .dataframe tbody tr th {\n",
       "        vertical-align: top;\n",
       "    }\n",
       "\n",
       "    .dataframe thead th {\n",
       "        text-align: right;\n",
       "    }\n",
       "</style>\n",
       "<table border=\"1\" class=\"dataframe\">\n",
       "  <thead>\n",
       "    <tr style=\"text-align: right;\">\n",
       "      <th></th>\n",
       "      <th>State Name</th>\n",
       "      <th>county Name</th>\n",
       "      <th>State Code</th>\n",
       "      <th>County Code</th>\n",
       "      <th>Date</th>\n",
       "      <th>AQI</th>\n",
       "      <th>Category</th>\n",
       "      <th>Defining Parameter</th>\n",
       "      <th>Defining Site</th>\n",
       "      <th>Number of Sites Reporting</th>\n",
       "    </tr>\n",
       "  </thead>\n",
       "  <tbody>\n",
       "    <tr>\n",
       "      <th>27443</th>\n",
       "      <td>California</td>\n",
       "      <td>San Francisco</td>\n",
       "      <td>6</td>\n",
       "      <td>75</td>\n",
       "      <td>2018-01-01</td>\n",
       "      <td>72</td>\n",
       "      <td>Moderate</td>\n",
       "      <td>PM2.5</td>\n",
       "      <td>06-075-0005</td>\n",
       "      <td>1</td>\n",
       "    </tr>\n",
       "    <tr>\n",
       "      <th>27444</th>\n",
       "      <td>California</td>\n",
       "      <td>San Francisco</td>\n",
       "      <td>6</td>\n",
       "      <td>75</td>\n",
       "      <td>2018-01-02</td>\n",
       "      <td>82</td>\n",
       "      <td>Moderate</td>\n",
       "      <td>PM2.5</td>\n",
       "      <td>06-075-0005</td>\n",
       "      <td>1</td>\n",
       "    </tr>\n",
       "    <tr>\n",
       "      <th>27445</th>\n",
       "      <td>California</td>\n",
       "      <td>San Francisco</td>\n",
       "      <td>6</td>\n",
       "      <td>75</td>\n",
       "      <td>2018-01-03</td>\n",
       "      <td>111</td>\n",
       "      <td>Unhealthy for Sensitive Groups</td>\n",
       "      <td>PM2.5</td>\n",
       "      <td>06-075-0005</td>\n",
       "      <td>1</td>\n",
       "    </tr>\n",
       "    <tr>\n",
       "      <th>27446</th>\n",
       "      <td>California</td>\n",
       "      <td>San Francisco</td>\n",
       "      <td>6</td>\n",
       "      <td>75</td>\n",
       "      <td>2018-01-04</td>\n",
       "      <td>58</td>\n",
       "      <td>Moderate</td>\n",
       "      <td>PM2.5</td>\n",
       "      <td>06-075-0005</td>\n",
       "      <td>1</td>\n",
       "    </tr>\n",
       "    <tr>\n",
       "      <th>27447</th>\n",
       "      <td>California</td>\n",
       "      <td>San Francisco</td>\n",
       "      <td>6</td>\n",
       "      <td>75</td>\n",
       "      <td>2018-01-05</td>\n",
       "      <td>26</td>\n",
       "      <td>Good</td>\n",
       "      <td>NO2</td>\n",
       "      <td>06-075-0005</td>\n",
       "      <td>1</td>\n",
       "    </tr>\n",
       "  </tbody>\n",
       "</table>\n",
       "</div>"
      ],
      "text/plain": [
       "       State Name    county Name  State Code  County Code       Date  AQI  \\\n",
       "27443  California  San Francisco           6           75 2018-01-01   72   \n",
       "27444  California  San Francisco           6           75 2018-01-02   82   \n",
       "27445  California  San Francisco           6           75 2018-01-03  111   \n",
       "27446  California  San Francisco           6           75 2018-01-04   58   \n",
       "27447  California  San Francisco           6           75 2018-01-05   26   \n",
       "\n",
       "                             Category Defining Parameter Defining Site  \\\n",
       "27443                        Moderate              PM2.5   06-075-0005   \n",
       "27444                        Moderate              PM2.5   06-075-0005   \n",
       "27445  Unhealthy for Sensitive Groups              PM2.5   06-075-0005   \n",
       "27446                        Moderate              PM2.5   06-075-0005   \n",
       "27447                            Good                NO2   06-075-0005   \n",
       "\n",
       "       Number of Sites Reporting  \n",
       "27443                          1  \n",
       "27444                          1  \n",
       "27445                          1  \n",
       "27446                          1  \n",
       "27447                          1  "
      ]
     },
     "execution_count": 33,
     "metadata": {},
     "output_type": "execute_result"
    }
   ],
   "source": [
    "# Read in the daily AQI in 2018 California\n",
    "aqi_2018 = pd.read_csv('../data/daily_aqi_by_county_2018.csv')\n",
    "\n",
    "# Subset just SF country and extract dates\n",
    "sf_aqi = aqi_2018[(aqi_2018['State Name']=='California') & (aqi_2018['county Name']=='San Francisco')]\n",
    "sf_aqi['Date'] = pd.to_datetime(sf_aqi['Date'])\n",
    "\n",
    "sf_aqi.head()"
   ]
  },
  {
   "cell_type": "code",
   "execution_count": 8,
   "id": "c5aeca8a",
   "metadata": {},
   "outputs": [
    {
     "name": "stdout",
     "output_type": "stream",
     "text": [
      "Lenth:  1801077\n",
      "Per day : 4934.457534246575\n"
     ]
    }
   ],
   "source": [
    "# What are the basics of tlos data set?\n",
    "print(\"Lenth: \", len(sf_df))\n",
    "print(\"Per day :\", len(sf_df)/365)"
   ]
  },
  {
   "cell_type": "code",
   "execution_count": 31,
   "id": "e4172ab3",
   "metadata": {},
   "outputs": [
    {
     "data": {
      "text/html": [
       "<div>\n",
       "<style scoped>\n",
       "    .dataframe tbody tr th:only-of-type {\n",
       "        vertical-align: middle;\n",
       "    }\n",
       "\n",
       "    .dataframe tbody tr th {\n",
       "        vertical-align: top;\n",
       "    }\n",
       "\n",
       "    .dataframe thead th {\n",
       "        text-align: right;\n",
       "    }\n",
       "</style>\n",
       "<table border=\"1\" class=\"dataframe\">\n",
       "  <thead>\n",
       "    <tr style=\"text-align: right;\">\n",
       "      <th></th>\n",
       "      <th>id</th>\n",
       "      <th>author_id</th>\n",
       "      <th>text</th>\n",
       "      <th>geo</th>\n",
       "      <th>created_at</th>\n",
       "      <th>lat</th>\n",
       "      <th>lon</th>\n",
       "      <th>date</th>\n",
       "    </tr>\n",
       "  </thead>\n",
       "  <tbody>\n",
       "    <tr>\n",
       "      <th>439249</th>\n",
       "      <td>1002338864273346561</td>\n",
       "      <td>1637084264</td>\n",
       "      <td>mine the 86 for mbta and the 33 for muni</td>\n",
       "      <td>{'place_id': '5a110d312052166f'}</td>\n",
       "      <td>2018-05-31 23:59:42</td>\n",
       "      <td>37.708075</td>\n",
       "      <td>-122.514926</td>\n",
       "      <td>2018-05-31</td>\n",
       "    </tr>\n",
       "    <tr>\n",
       "      <th>439250</th>\n",
       "      <td>1002338849979187201</td>\n",
       "      <td>2276720725</td>\n",
       "      <td>if you don t need work over the summer consid ...</td>\n",
       "      <td>{'place_id': '5a110d312052166f'}</td>\n",
       "      <td>2018-05-31 23:59:39</td>\n",
       "      <td>37.708075</td>\n",
       "      <td>-122.514926</td>\n",
       "      <td>2018-05-31</td>\n",
       "    </tr>\n",
       "    <tr>\n",
       "      <th>439251</th>\n",
       "      <td>1002338749919870976</td>\n",
       "      <td>391204136</td>\n",
       "      <td>1 practic 2 observ those who are good at it 3 ...</td>\n",
       "      <td>{'place_id': '5a110d312052166f'}</td>\n",
       "      <td>2018-05-31 23:59:15</td>\n",
       "      <td>37.708075</td>\n",
       "      <td>-122.514926</td>\n",
       "      <td>2018-05-31</td>\n",
       "    </tr>\n",
       "    <tr>\n",
       "      <th>439252</th>\n",
       "      <td>1002338701127573504</td>\n",
       "      <td>111136252</td>\n",
       "      <td>i heard one of the coldest thing in a long tim...</td>\n",
       "      <td>{'place_id': '5a110d312052166f'}</td>\n",
       "      <td>2018-05-31 23:59:03</td>\n",
       "      <td>37.708075</td>\n",
       "      <td>-122.514926</td>\n",
       "      <td>2018-05-31</td>\n",
       "    </tr>\n",
       "    <tr>\n",
       "      <th>439253</th>\n",
       "      <td>1002338641505443841</td>\n",
       "      <td>783713395</td>\n",
       "      <td>talk about be treat unfair what are you do to ...</td>\n",
       "      <td>{'place_id': 'a769d8f00b12878d'}</td>\n",
       "      <td>2018-05-31 23:58:49</td>\n",
       "      <td>37.565624</td>\n",
       "      <td>-122.515276</td>\n",
       "      <td>2018-05-31</td>\n",
       "    </tr>\n",
       "  </tbody>\n",
       "</table>\n",
       "</div>"
      ],
      "text/plain": [
       "                         id   author_id  \\\n",
       "439249  1002338864273346561  1637084264   \n",
       "439250  1002338849979187201  2276720725   \n",
       "439251  1002338749919870976   391204136   \n",
       "439252  1002338701127573504   111136252   \n",
       "439253  1002338641505443841   783713395   \n",
       "\n",
       "                                                     text  \\\n",
       "439249           mine the 86 for mbta and the 33 for muni   \n",
       "439250  if you don t need work over the summer consid ...   \n",
       "439251  1 practic 2 observ those who are good at it 3 ...   \n",
       "439252  i heard one of the coldest thing in a long tim...   \n",
       "439253  talk about be treat unfair what are you do to ...   \n",
       "\n",
       "                                     geo          created_at        lat  \\\n",
       "439249  {'place_id': '5a110d312052166f'} 2018-05-31 23:59:42  37.708075   \n",
       "439250  {'place_id': '5a110d312052166f'} 2018-05-31 23:59:39  37.708075   \n",
       "439251  {'place_id': '5a110d312052166f'} 2018-05-31 23:59:15  37.708075   \n",
       "439252  {'place_id': '5a110d312052166f'} 2018-05-31 23:59:03  37.708075   \n",
       "439253  {'place_id': 'a769d8f00b12878d'} 2018-05-31 23:58:49  37.565624   \n",
       "\n",
       "               lon       date  \n",
       "439249 -122.514926 2018-05-31  \n",
       "439250 -122.514926 2018-05-31  \n",
       "439251 -122.514926 2018-05-31  \n",
       "439252 -122.514926 2018-05-31  \n",
       "439253 -122.515276 2018-05-31  "
      ]
     },
     "execution_count": 31,
     "metadata": {},
     "output_type": "execute_result"
    }
   ],
   "source": [
    "# Currently removes the @ but not the usrnm\n",
    "text_cleaning_re = \"(@\\S+)|(https?:\\S+)|(http?:\\S)|([^A-Za-z0-9\\?\\!]+)\"\n",
    "stemmer = SnowballStemmer('english')\n",
    "\n",
    "def process_tweet(tweet):\n",
    "    tweet = str(tweet).lower()\n",
    "    tweet = re.sub(text_cleaning_re, ' ', tweet)\n",
    "    tokens = []\n",
    "    for token in tweet.split():\n",
    "        tokens.append(stemmer.stem(token))\n",
    "        \n",
    "    tweet = ' '.join(tokens)\n",
    "    tweet = re.sub(r'\\s+', ' ', tweet).strip()\n",
    "    return tweet\n",
    "\n",
    "sf_df['text'] = sf_df['text'].apply(process_tweet)\n",
    "\n",
    "sf_df.head()"
   ]
  },
  {
   "cell_type": "code",
   "execution_count": 39,
   "id": "b1855583",
   "metadata": {},
   "outputs": [
    {
     "data": {
      "text/plain": [
       "(1923, 2)"
      ]
     },
     "execution_count": 39,
     "metadata": {},
     "output_type": "execute_result"
    }
   ],
   "source": [
    "sf_batch = TwitterDataFrame(sf_df).group_by_days_and_batch(1000)\n",
    "sf_batch.shape"
   ]
  },
  {
   "cell_type": "code",
   "execution_count": 45,
   "id": "73fd8432",
   "metadata": {},
   "outputs": [],
   "source": [
    "sf_mrg = pd.merge(left=sf_batch, right=sf_aqi, left_on='date', right_on='Date', how='inner')"
   ]
  },
  {
   "cell_type": "code",
   "execution_count": 46,
   "id": "57df2ab5",
   "metadata": {},
   "outputs": [
    {
     "data": {
      "text/plain": [
       "Index(['date', 'text', 'State Name', 'county Name', 'State Code',\n",
       "       'County Code', 'Date', 'AQI', 'Category', 'Defining Parameter',\n",
       "       'Defining Site', 'Number of Sites Reporting'],\n",
       "      dtype='object')"
      ]
     },
     "execution_count": 46,
     "metadata": {},
     "output_type": "execute_result"
    }
   ],
   "source": [
    "sf_mrg.columns"
   ]
  },
  {
   "cell_type": "code",
   "execution_count": 48,
   "id": "4b9036a4",
   "metadata": {},
   "outputs": [
    {
     "data": {
      "text/html": [
       "<div>\n",
       "<style scoped>\n",
       "    .dataframe tbody tr th:only-of-type {\n",
       "        vertical-align: middle;\n",
       "    }\n",
       "\n",
       "    .dataframe tbody tr th {\n",
       "        vertical-align: top;\n",
       "    }\n",
       "\n",
       "    .dataframe thead th {\n",
       "        text-align: right;\n",
       "    }\n",
       "</style>\n",
       "<table border=\"1\" class=\"dataframe\">\n",
       "  <thead>\n",
       "    <tr style=\"text-align: right;\">\n",
       "      <th></th>\n",
       "      <th>date</th>\n",
       "      <th>text</th>\n",
       "      <th>AQI</th>\n",
       "      <th>Category</th>\n",
       "    </tr>\n",
       "  </thead>\n",
       "  <tbody>\n",
       "    <tr>\n",
       "      <th>0</th>\n",
       "      <td>2018-05-01</td>\n",
       "      <td>coolghost101 realdonaldtrump hold your condol ...</td>\n",
       "      <td>37</td>\n",
       "      <td>Good</td>\n",
       "    </tr>\n",
       "    <tr>\n",
       "      <th>1</th>\n",
       "      <td>2018-05-01</td>\n",
       "      <td>i never have street park at home i can relat b...</td>\n",
       "      <td>37</td>\n",
       "      <td>Good</td>\n",
       "    </tr>\n",
       "    <tr>\n",
       "      <th>2</th>\n",
       "      <td>2018-05-01</td>\n",
       "      <td>accid right lane block in oakland on i 580 wb ...</td>\n",
       "      <td>37</td>\n",
       "      <td>Good</td>\n",
       "    </tr>\n",
       "    <tr>\n",
       "      <th>3</th>\n",
       "      <td>2018-05-01</td>\n",
       "      <td>get that bah bro! starbuck shame about the dry...</td>\n",
       "      <td>37</td>\n",
       "      <td>Good</td>\n",
       "    </tr>\n",
       "    <tr>\n",
       "      <th>4</th>\n",
       "      <td>2018-05-01</td>\n",
       "      <td>i would love to hear more about his stori i m ...</td>\n",
       "      <td>37</td>\n",
       "      <td>Good</td>\n",
       "    </tr>\n",
       "  </tbody>\n",
       "</table>\n",
       "</div>"
      ],
      "text/plain": [
       "        date                                               text  AQI Category\n",
       "0 2018-05-01  coolghost101 realdonaldtrump hold your condol ...   37     Good\n",
       "1 2018-05-01  i never have street park at home i can relat b...   37     Good\n",
       "2 2018-05-01  accid right lane block in oakland on i 580 wb ...   37     Good\n",
       "3 2018-05-01  get that bah bro! starbuck shame about the dry...   37     Good\n",
       "4 2018-05-01  i would love to hear more about his stori i m ...   37     Good"
      ]
     },
     "execution_count": 48,
     "metadata": {},
     "output_type": "execute_result"
    }
   ],
   "source": [
    "sf_clean = sf_mrg.drop(columns=['State Name', 'county Name', 'State Code', 'County Code', 'Date', \"Defining Parameter\", \"Defining Site\", \"Number of Sites Reporting\"])\n",
    "\n",
    "sf_clean.to_csv(\"../data/sf_cleaned.csv\", index=False)\n",
    "\n",
    "sf_clean.head()"
   ]
  },
  {
   "cell_type": "code",
   "execution_count": 3,
   "id": "50c1c16e",
   "metadata": {},
   "outputs": [
    {
     "data": {
      "text/html": [
       "<div>\n",
       "<style scoped>\n",
       "    .dataframe tbody tr th:only-of-type {\n",
       "        vertical-align: middle;\n",
       "    }\n",
       "\n",
       "    .dataframe tbody tr th {\n",
       "        vertical-align: top;\n",
       "    }\n",
       "\n",
       "    .dataframe thead th {\n",
       "        text-align: right;\n",
       "    }\n",
       "</style>\n",
       "<table border=\"1\" class=\"dataframe\">\n",
       "  <thead>\n",
       "    <tr style=\"text-align: right;\">\n",
       "      <th></th>\n",
       "      <th>date</th>\n",
       "      <th>text</th>\n",
       "      <th>AQI</th>\n",
       "      <th>Category</th>\n",
       "    </tr>\n",
       "  </thead>\n",
       "  <tbody>\n",
       "    <tr>\n",
       "      <th>0</th>\n",
       "      <td>2018-05-01</td>\n",
       "      <td>coolghost101 realdonaldtrump hold your condol ...</td>\n",
       "      <td>37</td>\n",
       "      <td>Good</td>\n",
       "    </tr>\n",
       "    <tr>\n",
       "      <th>1</th>\n",
       "      <td>2018-05-01</td>\n",
       "      <td>i never have street park at home i can relat b...</td>\n",
       "      <td>37</td>\n",
       "      <td>Good</td>\n",
       "    </tr>\n",
       "    <tr>\n",
       "      <th>2</th>\n",
       "      <td>2018-05-01</td>\n",
       "      <td>accid right lane block in oakland on i 580 wb ...</td>\n",
       "      <td>37</td>\n",
       "      <td>Good</td>\n",
       "    </tr>\n",
       "    <tr>\n",
       "      <th>3</th>\n",
       "      <td>2018-05-01</td>\n",
       "      <td>get that bah bro! starbuck shame about the dry...</td>\n",
       "      <td>37</td>\n",
       "      <td>Good</td>\n",
       "    </tr>\n",
       "    <tr>\n",
       "      <th>4</th>\n",
       "      <td>2018-05-01</td>\n",
       "      <td>i would love to hear more about his stori i m ...</td>\n",
       "      <td>37</td>\n",
       "      <td>Good</td>\n",
       "    </tr>\n",
       "  </tbody>\n",
       "</table>\n",
       "</div>"
      ],
      "text/plain": [
       "         date                                               text  AQI Category\n",
       "0  2018-05-01  coolghost101 realdonaldtrump hold your condol ...   37     Good\n",
       "1  2018-05-01  i never have street park at home i can relat b...   37     Good\n",
       "2  2018-05-01  accid right lane block in oakland on i 580 wb ...   37     Good\n",
       "3  2018-05-01  get that bah bro! starbuck shame about the dry...   37     Good\n",
       "4  2018-05-01  i would love to hear more about his stori i m ...   37     Good"
      ]
     },
     "execution_count": 3,
     "metadata": {},
     "output_type": "execute_result"
    }
   ],
   "source": [
    "sf_clean = pd.read_csv(\"../data/sf_cleaned.csv\")\n",
    "sf_clean.head()"
   ]
  },
  {
   "cell_type": "markdown",
   "id": "1a51c3ab",
   "metadata": {},
   "source": [
    "### Model Code below"
   ]
  },
  {
   "cell_type": "code",
   "execution_count": 4,
   "id": "8795d9ae",
   "metadata": {},
   "outputs": [],
   "source": [
    "train_df, test_df = train_test_split(sf_clean, test_size=0.2, random_state=23)\n",
    "train_df = train_df.reset_index(drop=True)\n",
    "test_df = test_df.reset_index(drop=True)"
   ]
  },
  {
   "cell_type": "code",
   "execution_count": 5,
   "id": "94c45678",
   "metadata": {},
   "outputs": [
    {
     "data": {
      "text/html": [
       "<div>\n",
       "<style scoped>\n",
       "    .dataframe tbody tr th:only-of-type {\n",
       "        vertical-align: middle;\n",
       "    }\n",
       "\n",
       "    .dataframe tbody tr th {\n",
       "        vertical-align: top;\n",
       "    }\n",
       "\n",
       "    .dataframe thead th {\n",
       "        text-align: right;\n",
       "    }\n",
       "</style>\n",
       "<table border=\"1\" class=\"dataframe\">\n",
       "  <thead>\n",
       "    <tr style=\"text-align: right;\">\n",
       "      <th></th>\n",
       "      <th>date</th>\n",
       "      <th>text</th>\n",
       "      <th>AQI</th>\n",
       "      <th>Category</th>\n",
       "    </tr>\n",
       "  </thead>\n",
       "  <tbody>\n",
       "    <tr>\n",
       "      <th>0</th>\n",
       "      <td>2018-08-28</td>\n",
       "      <td>ok like flour or corn one or whet bummer the w...</td>\n",
       "      <td>32</td>\n",
       "      <td>Good</td>\n",
       "    </tr>\n",
       "    <tr>\n",
       "      <th>1</th>\n",
       "      <td>2018-11-19</td>\n",
       "      <td>you good champ! t hiskid the window on his car...</td>\n",
       "      <td>174</td>\n",
       "      <td>Unhealthy</td>\n",
       "    </tr>\n",
       "    <tr>\n",
       "      <th>2</th>\n",
       "      <td>2018-07-16</td>\n",
       "      <td>cancel cancel amp cancel sfgate so sorri mikel...</td>\n",
       "      <td>26</td>\n",
       "      <td>Good</td>\n",
       "    </tr>\n",
       "    <tr>\n",
       "      <th>3</th>\n",
       "      <td>2018-07-25</td>\n",
       "      <td>i couldn t imagin my life without you acheung2...</td>\n",
       "      <td>31</td>\n",
       "      <td>Good</td>\n",
       "    </tr>\n",
       "    <tr>\n",
       "      <th>4</th>\n",
       "      <td>2018-11-11</td>\n",
       "      <td>we appreci it! whaaaaaat!!! what an amaz fight...</td>\n",
       "      <td>167</td>\n",
       "      <td>Unhealthy</td>\n",
       "    </tr>\n",
       "  </tbody>\n",
       "</table>\n",
       "</div>"
      ],
      "text/plain": [
       "         date                                               text  AQI  \\\n",
       "0  2018-08-28  ok like flour or corn one or whet bummer the w...   32   \n",
       "1  2018-11-19  you good champ! t hiskid the window on his car...  174   \n",
       "2  2018-07-16  cancel cancel amp cancel sfgate so sorri mikel...   26   \n",
       "3  2018-07-25  i couldn t imagin my life without you acheung2...   31   \n",
       "4  2018-11-11  we appreci it! whaaaaaat!!! what an amaz fight...  167   \n",
       "\n",
       "    Category  \n",
       "0       Good  \n",
       "1  Unhealthy  \n",
       "2       Good  \n",
       "3       Good  \n",
       "4  Unhealthy  "
      ]
     },
     "execution_count": 5,
     "metadata": {},
     "output_type": "execute_result"
    }
   ],
   "source": [
    "train_df.head()"
   ]
  },
  {
   "cell_type": "code",
   "execution_count": 6,
   "id": "902fa58f",
   "metadata": {},
   "outputs": [],
   "source": [
    "X_train = train_df['text']\n",
    "X_test = test_df['text']\n",
    "\n",
    "y_train = train_df['AQI']\n",
    "y_test = test_df['AQI']"
   ]
  },
  {
   "cell_type": "markdown",
   "id": "fde0b144",
   "metadata": {},
   "source": [
    "### Experiment 1: Finding a baseline with TFIDI and Bayes"
   ]
  },
  {
   "cell_type": "code",
   "execution_count": 7,
   "id": "518d798b",
   "metadata": {},
   "outputs": [],
   "source": [
    "# min_df sets the min document frequency for accepted words\n",
    "tf_vect = TfidfVectorizer(min_df=2).fit(X_train)\n",
    "X_train_enc = tf_vect.transform(X_train)\n",
    "X_test_enc = tf_vect.transform(X_test)"
   ]
  },
  {
   "cell_type": "code",
   "execution_count": 8,
   "id": "ab6c0761",
   "metadata": {},
   "outputs": [
    {
     "data": {
      "text/plain": [
       "((1538, 155973), (1538,))"
      ]
     },
     "execution_count": 8,
     "metadata": {},
     "output_type": "execute_result"
    }
   ],
   "source": [
    "X_train_enc.shape, X_train.shape"
   ]
  },
  {
   "cell_type": "code",
   "execution_count": 9,
   "id": "bc803656",
   "metadata": {},
   "outputs": [],
   "source": [
    "from sklearn.neighbors import KNeighborsRegressor\n",
    "\n",
    "# Fit Regression model\n",
    "knn_model = KNeighborsRegressor(n_neighbors=5, n_jobs=-1).fit(X_train_enc, y_train)"
   ]
  },
  {
   "cell_type": "code",
   "execution_count": 10,
   "id": "a93c799c",
   "metadata": {},
   "outputs": [
    {
     "data": {
      "text/plain": [
       "0.9562487253230453"
      ]
     },
     "execution_count": 10,
     "metadata": {},
     "output_type": "execute_result"
    }
   ],
   "source": [
    "y_pred = knn_model.predict(X_train_enc)\n",
    "knn_model.score(X_train_enc, y_train)\n"
   ]
  },
  {
   "cell_type": "code",
   "execution_count": 26,
   "id": "96581f83",
   "metadata": {},
   "outputs": [
    {
     "data": {
      "text/plain": [
       "0.9285020507714923"
      ]
     },
     "execution_count": 26,
     "metadata": {},
     "output_type": "execute_result"
    }
   ],
   "source": [
    "y_pred_test = knn_model.predict(X_test_enc)\n",
    "knn_model.score(X_test_enc, y_test)\n"
   ]
  },
  {
   "cell_type": "code",
   "execution_count": 27,
   "id": "eaf4e859",
   "metadata": {},
   "outputs": [
    {
     "data": {
      "image/png": "[encoded data removed]",
      "text/plain": [
       "<Figure size 720x720 with 1 Axes>"
      ]
     },
     "metadata": {},
     "output_type": "display_data"
    }
   ],
   "source": [
    "# Plots predictions by their true value\n",
    "def plot_reference(y_pred, y_train, draw_ref=True):\n",
    "    # Draw reference lines\n",
    "    if draw_ref:\n",
    "        X = np.linspace(0, 240, 240)\n",
    "        plt.plot(X, X, '--', color=\"#cc2727\", linewidth=2)\n",
    "\n",
    "    plot = sns.scatterplot(x=y_pred, y=y_train)\n",
    "\n",
    "    # Set plot style\n",
    "    plot.set(ylim=(0, 240))\n",
    "    plot.set(xlim=(0,240))\n",
    "\n",
    "    plot.set_title(\"Sensor AQI by Predicted AQI\")\n",
    "    plot.set_ylabel(\"Sensor AQI\", fontsize = 12)\n",
    "    plot.set_xlabel(\"Model AQI\", fontsize = 12)\n",
    "\n",
    "# plot_reference(y_pred, y_train)\n",
    "plot_reference(y_pred_test, y_test)"
   ]
  },
  {
   "cell_type": "code",
   "execution_count": 12,
   "id": "779a8dba",
   "metadata": {},
   "outputs": [],
   "source": [
    "# 0. Ensure the X_train, X_train_enc all have 0-len indexing\n",
    "# 1. Find the date of 5 days with extreme variance\n",
    "# 2. Find the X_train of the min and max predict vals of those days\n",
    "# 3. Compare the distributions of the 5 min and the 5 max\n",
    "from sklearn.feature_extraction.text import CountVectorizer\n",
    "\n",
    "dates = []\n",
    "for idx in np.argpartition(np.abs(y_pred - y_train), -5)[-5:]:\n",
    "    dates.append(train_df.iloc[idx]['date'])\n",
    "dates = set(dates)\n",
    "\n",
    "hi_vals = []\n",
    "lo_vals = []\n",
    "\n",
    "for date in dates:\n",
    "    date_batches = train_df[train_df['date'] == date]\n",
    "    hi_vals.append(X_train[np.argmax(y_pred[date_batches.index])])\n",
    "    lo_vals.append(X_train[np.argmin(y_pred[date_batches.index])])\n",
    "\n",
    "hi_vals = [' '.join(hi_vals)]\n",
    "lo_vals = [' '.join(lo_vals)]\n",
    "\n",
    "words = CountVectorizer().fit(hi_vals)\n",
    "hi_dist = words.transform(hi_vals).toarray()\n",
    "lo_dist = words.transform(lo_vals).toarray()\n",
    "\n",
    "hi_idx = np.fliplr(hi_dist.argsort())\n",
    "lo_idx = np.fliplr(lo_dist.argsort())\n",
    "\n",
    "words = words.get_feature_names_out()[hi_idx].reshape((-1,))\n",
    "\n",
    "hi_dist = hi_dist.T[hi_idx].reshape((-1,))\n",
    "lo_dist = lo_dist.T[lo_idx].reshape((-1,))"
   ]
  },
  {
   "cell_type": "code",
   "execution_count": 13,
   "id": "91bd4424",
   "metadata": {},
   "outputs": [
    {
     "data": {
      "text/plain": [
       "((7136,), (7136,), (7136,))"
      ]
     },
     "execution_count": 13,
     "metadata": {},
     "output_type": "execute_result"
    }
   ],
   "source": [
    "#plt.bar(words.tolist(), hi_dist)\n",
    "words.shape, hi_dist.shape, lo_dist.shape"
   ]
  },
  {
   "cell_type": "code",
   "execution_count": 14,
   "id": "98f99053",
   "metadata": {},
   "outputs": [
    {
     "name": "stdout",
     "output_type": "stream",
     "text": [
      "controversi\n",
      "ima\n",
      "dugout\n",
      "herd\n",
      "automat\n",
      "beyond\n",
      "basketballimo\n",
      "blast\n",
      "tank\n",
      "hung\n"
     ]
    }
   ],
   "source": [
    "hi_dist_norm = np.divide(np.abs(hi_dist - lo_dist - 1), hi_dist)\n",
    "# hi_dist_norm = np.abs(hi_dist/np.sum(hi_dist) - lo_dist/np.sum(lo_dist))\n",
    "for idx in np.argpartition(hi_dist_norm, -10)[-10:]:\n",
    "    print(words[idx])"
   ]
  },
  {
   "cell_type": "markdown",
   "id": "49c27419",
   "metadata": {},
   "source": [
    "### Experiment 1b: Testing batch sizes"
   ]
  },
  {
   "cell_type": "code",
   "execution_count": 48,
   "id": "874b478b",
   "metadata": {},
   "outputs": [],
   "source": [
    "scores = []\n",
    "batch_sizes = [800, 1000, 1200, 1400, 1600, 1800, 2000]\n",
    "for batch_size in batch_sizes:\n",
    "    batch = TwitterDataFrame(sf_df).group_by_days_and_batch(batch_size)\n",
    "    batch.shape\n",
    "\n",
    "    mrg = pd.merge(left=batch, right=sf_aqi, left_on='date', right_on='Date', how='inner')\n",
    "\n",
    "    clean = mrg.drop(columns=['State Name', 'county Name', 'State Code', 'County Code', 'Date', \"Defining Parameter\", \"Defining Site\", \"Number of Sites Reporting\"])\n",
    "\n",
    "    train_df, test_df = train_test_split(clean, test_size=0.2, random_state=23)\n",
    "    train_df = train_df.reset_index(drop=True)\n",
    "    test_df = test_df.reset_index(drop=True)\n",
    "\n",
    "    X_train = train_df['text']\n",
    "    X_test = test_df['text']\n",
    "\n",
    "    y_train = train_df['AQI']\n",
    "    y_test = test_df['AQI']\n",
    "\n",
    "    # min_df sets the min document frequency for accepted words\n",
    "    tf_vect = TfidfVectorizer(min_df=2).fit(X_train)\n",
    "    X_train_enc = tf_vect.transform(X_train)\n",
    "    X_test_enc = tf_vect.transform(X_test)\n",
    "\n",
    "    # Fit Regression model\n",
    "    knn_model = KNeighborsRegressor(n_neighbors=5, n_jobs=-1).fit(X_train_enc, y_train)\n",
    "    y_pred = knn_model.predict(X_train_enc)\n",
    "    y_pred_test = knn_model.predict(X_test_enc)\n",
    "    \n",
    "    scores.append((knn_model.score(X_train_enc, y_train), knn_model.score(X_test_enc, y_test)))\n",
    "\n"
   ]
  },
  {
   "cell_type": "code",
   "execution_count": 49,
   "id": "4389b241",
   "metadata": {},
   "outputs": [
    {
     "data": {
      "text/plain": [
       "Text(0.5, 1.0, '$R^2$ by Batch Size')"
      ]
     },
     "execution_count": 49,
     "metadata": {},
     "output_type": "execute_result"
    },
    {
     "data": {
      "image/png": "[encoded data removed]",
      "text/plain": [
       "<Figure size 720x720 with 1 Axes>"
      ]
     },
     "metadata": {},
     "output_type": "display_data"
    }
   ],
   "source": [
    "score_df = pd.DataFrame(data=scores, index=batch_sizes, columns=[\"Training R^2\", \"Testing R^2\"])\n",
    "plt = sns.lineplot(data=score_df)\n",
    "plt.set_title(\"$R^2$ by Batch Size\")"
   ]
  },
  {
   "cell_type": "markdown",
   "id": "97e8b8dd",
   "metadata": {},
   "source": [
    "### Experiment 2: Using BERT\n",
    "\n",
    "TODO: Use same data cleaning as in orig paper https://aclanthology.org/2020.emnlp-demos.2.pdf\n"
   ]
  },
  {
   "cell_type": "code",
   "execution_count": 41,
   "id": "5d4a7417",
   "metadata": {},
   "outputs": [
    {
     "ename": "OSError",
     "evalue": "[WinError 182] The operating system cannot run %1. Error loading \"C:\\Users\\Nick\\miniconda3\\envs\\bergin\\lib\\site-packages\\torch\\lib\\shm.dll\" or one of its dependencies.",
     "output_type": "error",
     "traceback": [
      "\u001b[1;31m---------------------------------------------------------------------------\u001b[0m",
      "\u001b[1;31mOSError\u001b[0m                                   Traceback (most recent call last)",
      "\u001b[1;32m~\\AppData\\Local\\Temp/ipykernel_2608/142743889.py\u001b[0m in \u001b[0;36m<module>\u001b[1;34m\u001b[0m\n\u001b[1;32m----> 1\u001b[1;33m \u001b[1;32mimport\u001b[0m \u001b[0mtorch\u001b[0m\u001b[1;33m\u001b[0m\u001b[1;33m\u001b[0m\u001b[0m\n\u001b[0m\u001b[0;32m      2\u001b[0m \u001b[1;32mfrom\u001b[0m \u001b[0mtransformers\u001b[0m \u001b[1;32mimport\u001b[0m \u001b[0mAutoModel\u001b[0m\u001b[1;33m,\u001b[0m \u001b[0mAutoTokenizer\u001b[0m\u001b[1;33m\u001b[0m\u001b[1;33m\u001b[0m\u001b[0m\n",
      "\u001b[1;32m~\\miniconda3\\envs\\bergin\\lib\\site-packages\\torch\\__init__.py\u001b[0m in \u001b[0;36m<module>\u001b[1;34m\u001b[0m\n\u001b[0;32m    124\u001b[0m                 \u001b[0merr\u001b[0m \u001b[1;33m=\u001b[0m \u001b[0mctypes\u001b[0m\u001b[1;33m.\u001b[0m\u001b[0mWinError\u001b[0m\u001b[1;33m(\u001b[0m\u001b[0mlast_error\u001b[0m\u001b[1;33m)\u001b[0m\u001b[1;33m\u001b[0m\u001b[1;33m\u001b[0m\u001b[0m\n\u001b[0;32m    125\u001b[0m                 \u001b[0merr\u001b[0m\u001b[1;33m.\u001b[0m\u001b[0mstrerror\u001b[0m \u001b[1;33m+=\u001b[0m \u001b[1;34mf' Error loading \"{dll}\" or one of its dependencies.'\u001b[0m\u001b[1;33m\u001b[0m\u001b[1;33m\u001b[0m\u001b[0m\n\u001b[1;32m--> 126\u001b[1;33m                 \u001b[1;32mraise\u001b[0m \u001b[0merr\u001b[0m\u001b[1;33m\u001b[0m\u001b[1;33m\u001b[0m\u001b[0m\n\u001b[0m\u001b[0;32m    127\u001b[0m             \u001b[1;32melif\u001b[0m \u001b[0mres\u001b[0m \u001b[1;32mis\u001b[0m \u001b[1;32mnot\u001b[0m \u001b[1;32mNone\u001b[0m\u001b[1;33m:\u001b[0m\u001b[1;33m\u001b[0m\u001b[1;33m\u001b[0m\u001b[0m\n\u001b[0;32m    128\u001b[0m                 \u001b[0mis_loaded\u001b[0m \u001b[1;33m=\u001b[0m \u001b[1;32mTrue\u001b[0m\u001b[1;33m\u001b[0m\u001b[1;33m\u001b[0m\u001b[0m\n",
      "\u001b[1;31mOSError\u001b[0m: [WinError 182] The operating system cannot run %1. Error loading \"C:\\Users\\Nick\\miniconda3\\envs\\bergin\\lib\\site-packages\\torch\\lib\\shm.dll\" or one of its dependencies."
     ]
    }
   ],
   "source": [
    "import torch\n",
    "from transformers import AutoModel, AutoTokenizer"
   ]
  },
  {
   "cell_type": "code",
   "execution_count": null,
   "id": "7ead6cb7",
   "metadata": {},
   "outputs": [],
   "source": [
    "bertweet = AutoModel.from_pretrained(\"vinai/bertweet-base\")\n",
    "tokenizer = AutoTokenizer.from_pretrained(\"vinai/bertweet-base\", use_fast=False)"
   ]
  },
  {
   "cell_type": "code",
   "execution_count": null,
   "id": "7398b92f",
   "metadata": {},
   "outputs": [
    {
     "data": {
      "image/png": "[encoded data removed]",
      "text/plain": [
       "<Figure size 720x432 with 1 Axes>"
      ]
     },
     "metadata": {},
     "output_type": "display_data"
    },
    {
     "data": {
      "image/png": "[encoded data removed]",
      "text/plain": [
       "<Figure size 720x432 with 1 Axes>"
      ]
     },
     "metadata": {},
     "output_type": "display_data"
    }
   ],
   "source": [
    "# show the learning process\n",
    "accuracy = history.history['accuracy']\n",
    "val_accuracy = history.history['val_accuracy']\n",
    "loss = history.history['loss']\n",
    "val_loss = history.history['val_loss']\n",
    "epoch_range = range(len(accuracy))\n",
    "\n",
    "plt.figure(figsize=(10, 6))\n",
    "plt.plot(epoch_range, accuracy, 'bo', label='Training')\n",
    "plt.plot(epoch_range, val_accuracy, 'r', label='Test')\n",
    "plt.xlabel('Epoch', size=18)\n",
    "plt.ylabel('Accuracy', size=18)\n",
    "plt.legend()\n",
    "plt.show()\n",
    "\n",
    "plt.figure(figsize=(10, 6))\n",
    "plt.plot(epoch_range, loss, 'bo', label='Training')\n",
    "plt.plot(epoch_range, val_loss, 'r', label='Test')\n",
    "plt.xlabel('Epoch', size=18)\n",
    "plt.ylabel('Loss', size=18)\n",
    "plt.legend()\n",
    "plt.show()"
   ]
  },
  {
   "cell_type": "code",
   "execution_count": null,
   "id": "af0ccd97",
   "metadata": {},
   "outputs": [],
   "source": [
    "y_pred = cnn_model.predict(X_test)"
   ]
  },
  {
   "cell_type": "code",
   "execution_count": null,
   "id": "7d90ef03",
   "metadata": {},
   "outputs": [
    {
     "data": {
      "text/plain": [
       "(0.18770672546857772, 0.3719006145066571)"
      ]
     },
     "execution_count": 75,
     "metadata": {},
     "output_type": "execute_result"
    }
   ],
   "source": [
    "y_test_ = np.argmax(y_test, axis = 1)\n",
    "y_pred_ = np.argmax(y_pred, axis = 1)\n",
    "\n",
    "\n",
    "accuracy_score(y_test_, y_pred_), balanced_accuracy_score(y_test_, y_pred_)"
   ]
  },
  {
   "cell_type": "code",
   "execution_count": null,
   "id": "c4597aa3",
   "metadata": {},
   "outputs": [
    {
     "data": {
      "image/png": "[encoded data removed]",
      "text/plain": [
       "<Figure size 648x648 with 2 Axes>"
      ]
     },
     "metadata": {},
     "output_type": "display_data"
    }
   ],
   "source": [
    "cm1 = confusion_matrix(y_test_, y_pred_)\n",
    "\n",
    "plt.figure(figsize=(9,9))\n",
    "sns.heatmap(cm1, annot=True, fmt=\".0f\", linewidths=.5, square=True, cmap='Blues_r')\n",
    "plt.ylabel('true number', size=17)\n",
    "plt.xlabel('predicted number', size=17)\n",
    "plt.show()\n",
    "\n"
   ]
  }
 ],
 "metadata": {
  "kernelspec": {
   "display_name": "Python 3 (ipykernel)",
   "language": "python",
   "name": "python3"
  },
  "language_info": {
   "codemirror_mode": {
    "name": "ipython",
    "version": 3
   },
   "file_extension": ".py",
   "mimetype": "text/x-python",
   "name": "python",
   "nbconvert_exporter": "python",
   "pygments_lexer": "ipython3",
   "version": "3.9.7"
  }
 },
 "nbformat": 4,
 "nbformat_minor": 5
}
