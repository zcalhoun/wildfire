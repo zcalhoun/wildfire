{
 "cells": [
  {
   "cell_type": "markdown",
   "id": "494f4c0e",
   "metadata": {},
   "source": [
    "# This file is used to test out functionality in scripts"
   ]
  },
  {
   "cell_type": "markdown",
   "id": "7bda4511",
   "metadata": {},
   "source": [
    "## 1 - Let's test out the relative directory structure"
   ]
  },
  {
   "cell_type": "code",
   "execution_count": 1,
   "id": "b391db10",
   "metadata": {},
   "outputs": [],
   "source": [
    "import sys\n",
    "sys.path.append(\"../scripts/twitter\")\n",
    "from searchTwitter import TwitterDataFrame, TwitterSearchTerm"
   ]
  },
  {
   "cell_type": "markdown",
   "id": "684fa062",
   "metadata": {},
   "source": [
    "## 2 - Let's test out TwitterSearchTerm"
   ]
  },
  {
   "cell_type": "code",
   "execution_count": 2,
   "id": "abe5b115",
   "metadata": {},
   "outputs": [],
   "source": [
    "class Hospital():\n",
    "    def __init__(self, name, lat, lon):\n",
    "        self.name = name\n",
    "        self.lat = lat\n",
    "        self.lon = lon\n",
    "        self.count = None\n",
    "        \n",
    "    def get_tweet_count(self,):\n",
    "        query_term = f\"-has:links lang:en -is:retweet has:geo point_radius:[{self.lon} {self.lat} 5mi] -has:media place_country:us\"\n",
    "        self.search = TwitterSearchTerm(query_term, \"2018-01-01T00:00:00z\",\"2019-01-01T00:00:00z\")\n",
    "        self.count = self.search.get_term_count()\n",
    "        return self.count"
   ]
  },
  {
   "cell_type": "code",
   "execution_count": 3,
   "id": "527b7cc4",
   "metadata": {},
   "outputs": [],
   "source": [
    "f = Hospital(\"Frank R Howard Memorial Hospital\", 39.42657865316148, -123.3289731870925)"
   ]
  },
  {
   "cell_type": "code",
   "execution_count": 4,
   "id": "5f053bc0",
   "metadata": {},
   "outputs": [
    {
     "name": "stdout",
     "output_type": "stream",
     "text": [
      "===========================================\n",
      "Total tweets for query -has:links lang:en -is:retweet has:geo point_radius:[-123.3289731870925 39.42657865316148 5mi] -has:media place_country:us :\n",
      "1450\n",
      "===========================================\n"
     ]
    },
    {
     "data": {
      "text/html": [
       "<div>\n",
       "<style scoped>\n",
       "    .dataframe tbody tr th:only-of-type {\n",
       "        vertical-align: middle;\n",
       "    }\n",
       "\n",
       "    .dataframe tbody tr th {\n",
       "        vertical-align: top;\n",
       "    }\n",
       "\n",
       "    .dataframe thead th {\n",
       "        text-align: right;\n",
       "    }\n",
       "</style>\n",
       "<table border=\"1\" class=\"dataframe\">\n",
       "  <thead>\n",
       "    <tr style=\"text-align: right;\">\n",
       "      <th></th>\n",
       "      <th>end</th>\n",
       "      <th>start</th>\n",
       "      <th>tweet_count</th>\n",
       "    </tr>\n",
       "  </thead>\n",
       "  <tbody>\n",
       "    <tr>\n",
       "      <th>0</th>\n",
       "      <td>2018-12-02T00:00:00.000Z</td>\n",
       "      <td>2018-12-01T00:00:00.000Z</td>\n",
       "      <td>5</td>\n",
       "    </tr>\n",
       "    <tr>\n",
       "      <th>1</th>\n",
       "      <td>2018-12-03T00:00:00.000Z</td>\n",
       "      <td>2018-12-02T00:00:00.000Z</td>\n",
       "      <td>21</td>\n",
       "    </tr>\n",
       "    <tr>\n",
       "      <th>2</th>\n",
       "      <td>2018-12-04T00:00:00.000Z</td>\n",
       "      <td>2018-12-03T00:00:00.000Z</td>\n",
       "      <td>1</td>\n",
       "    </tr>\n",
       "    <tr>\n",
       "      <th>3</th>\n",
       "      <td>2018-12-05T00:00:00.000Z</td>\n",
       "      <td>2018-12-04T00:00:00.000Z</td>\n",
       "      <td>4</td>\n",
       "    </tr>\n",
       "    <tr>\n",
       "      <th>4</th>\n",
       "      <td>2018-12-06T00:00:00.000Z</td>\n",
       "      <td>2018-12-05T00:00:00.000Z</td>\n",
       "      <td>1</td>\n",
       "    </tr>\n",
       "    <tr>\n",
       "      <th>...</th>\n",
       "      <td>...</td>\n",
       "      <td>...</td>\n",
       "      <td>...</td>\n",
       "    </tr>\n",
       "    <tr>\n",
       "      <th>19</th>\n",
       "      <td>2018-01-21T00:00:00.000Z</td>\n",
       "      <td>2018-01-20T00:00:00.000Z</td>\n",
       "      <td>2</td>\n",
       "    </tr>\n",
       "    <tr>\n",
       "      <th>20</th>\n",
       "      <td>2018-01-22T00:00:00.000Z</td>\n",
       "      <td>2018-01-21T00:00:00.000Z</td>\n",
       "      <td>5</td>\n",
       "    </tr>\n",
       "    <tr>\n",
       "      <th>21</th>\n",
       "      <td>2018-01-23T00:00:00.000Z</td>\n",
       "      <td>2018-01-22T00:00:00.000Z</td>\n",
       "      <td>4</td>\n",
       "    </tr>\n",
       "    <tr>\n",
       "      <th>22</th>\n",
       "      <td>2018-01-24T00:00:00.000Z</td>\n",
       "      <td>2018-01-23T00:00:00.000Z</td>\n",
       "      <td>2</td>\n",
       "    </tr>\n",
       "    <tr>\n",
       "      <th>23</th>\n",
       "      <td>2018-01-25T00:00:00.000Z</td>\n",
       "      <td>2018-01-24T00:00:00.000Z</td>\n",
       "      <td>0</td>\n",
       "    </tr>\n",
       "  </tbody>\n",
       "</table>\n",
       "<p>365 rows × 3 columns</p>\n",
       "</div>"
      ],
      "text/plain": [
       "                         end                     start  tweet_count\n",
       "0   2018-12-02T00:00:00.000Z  2018-12-01T00:00:00.000Z            5\n",
       "1   2018-12-03T00:00:00.000Z  2018-12-02T00:00:00.000Z           21\n",
       "2   2018-12-04T00:00:00.000Z  2018-12-03T00:00:00.000Z            1\n",
       "3   2018-12-05T00:00:00.000Z  2018-12-04T00:00:00.000Z            4\n",
       "4   2018-12-06T00:00:00.000Z  2018-12-05T00:00:00.000Z            1\n",
       "..                       ...                       ...          ...\n",
       "19  2018-01-21T00:00:00.000Z  2018-01-20T00:00:00.000Z            2\n",
       "20  2018-01-22T00:00:00.000Z  2018-01-21T00:00:00.000Z            5\n",
       "21  2018-01-23T00:00:00.000Z  2018-01-22T00:00:00.000Z            4\n",
       "22  2018-01-24T00:00:00.000Z  2018-01-23T00:00:00.000Z            2\n",
       "23  2018-01-25T00:00:00.000Z  2018-01-24T00:00:00.000Z            0\n",
       "\n",
       "[365 rows x 3 columns]"
      ]
     },
     "execution_count": 4,
     "metadata": {},
     "output_type": "execute_result"
    }
   ],
   "source": [
    "f.get_tweet_count()"
   ]
  },
  {
   "cell_type": "code",
   "execution_count": 5,
   "id": "948764c7",
   "metadata": {},
   "outputs": [
    {
     "name": "stdout",
     "output_type": "stream",
     "text": [
      "Making request 1 of 3\n",
      "Making request 2 of 3\n",
      "Making request 3 of 3\n",
      "Query finished\n"
     ]
    }
   ],
   "source": [
    "df = f.search.get_tweets()"
   ]
  },
  {
   "cell_type": "markdown",
   "id": "2f5db972",
   "metadata": {},
   "source": [
    "## 3 - Let's test out this new TwitterDataFrame package\n"
   ]
  },
  {
   "cell_type": "code",
   "execution_count": 6,
   "id": "ab576255",
   "metadata": {},
   "outputs": [],
   "source": [
    "df = TwitterDataFrame(df)"
   ]
  },
  {
   "cell_type": "code",
   "execution_count": 7,
   "id": "0850e4bc",
   "metadata": {},
   "outputs": [
    {
     "name": "stdout",
     "output_type": "stream",
     "text": [
      "1450\n",
      "{'lat': (39.376929, 39.4230571), 'lon': (-123.402512, -123.3483657836914)}\n"
     ]
    }
   ],
   "source": [
    "print(len(df))\n",
    "print(df.get_coords())\n"
   ]
  },
  {
   "cell_type": "code",
   "execution_count": 8,
   "id": "829903ad",
   "metadata": {},
   "outputs": [
    {
     "data": {
      "text/plain": [
       "[<matplotlib.lines.Line2D at 0x7fc7caecfe80>]"
      ]
     },
     "execution_count": 8,
     "metadata": {},
     "output_type": "execute_result"
    },
    {
     "data": {
      "image/png": "[encoded data removed]",
      "text/plain": [
       "<Figure size 432x288 with 1 Axes>"
      ]
     },
     "metadata": {
      "needs_background": "light"
     },
     "output_type": "display_data"
    }
   ],
   "source": [
    "import matplotlib.pyplot as plt\n",
    "plt.plot(df.count_by_day())"
   ]
  },
  {
   "cell_type": "code",
   "execution_count": 9,
   "id": "0b1617ff",
   "metadata": {},
   "outputs": [],
   "source": [
    "new_df = df.zoom_in((39.4,39.5),(-123.4,-123.5))"
   ]
  },
  {
   "cell_type": "code",
   "execution_count": 10,
   "id": "f650f4ec",
   "metadata": {},
   "outputs": [
    {
     "name": "stdout",
     "output_type": "stream",
     "text": [
      "190\n"
     ]
    },
    {
     "data": {
      "text/plain": [
       "{'lat': (39.4230571, 39.4230571), 'lon': (-123.402512, -123.402512)}"
      ]
     },
     "execution_count": 10,
     "metadata": {},
     "output_type": "execute_result"
    }
   ],
   "source": [
    "print(len(new_df))\n",
    "new_df.get_coords()"
   ]
  }
 ],
 "metadata": {
  "kernelspec": {
   "display_name": "Python 3",
   "language": "python",
   "name": "python3"
  },
  "language_info": {
   "codemirror_mode": {
    "name": "ipython",
    "version": 3
   },
   "file_extension": ".py",
   "mimetype": "text/x-python",
   "name": "python",
   "nbconvert_exporter": "python",
   "pygments_lexer": "ipython3",
   "version": "3.8.8"
  }
 },
 "nbformat": 4,
 "nbformat_minor": 5
}
