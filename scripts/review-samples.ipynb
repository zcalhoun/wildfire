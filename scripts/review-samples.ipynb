{
 "cells": [
  {
   "cell_type": "markdown",
   "id": "d03f1312",
   "metadata": {},
   "source": [
    "# In this notebook\n",
    "I have a theory that the restrictiveness of the count vector and the sampling rate are linked. When we restrict the count vector, we need fewer samples to predict AQI well. However, if we restrict the count vector too much, we might not see words that we are actually interested in.\n",
    "\n",
    "In this notebook, I'm going to confirm that my sampling method makes sense, and I'm going to look at how we can improve this method."
   ]
  },
  {
   "cell_type": "code",
   "execution_count": 1,
   "id": "9cab6af3",
   "metadata": {},
   "outputs": [],
   "source": [
    "import os\n",
    "from datetime import datetime\n",
    "import pandas as pd\n",
    "import torch\n",
    "import joblib\n",
    "import numpy as np\n",
    "from functools import lru_cache\n",
    "\n",
    "from torch import nn, optim\n",
    "from torch.nn import functional as F\n",
    "from torch.utils.data import Dataset, DataLoader\n",
    "\n",
    "from sklearn.model_selection import train_test_split\n",
    "from sklearn.feature_extraction.text import CountVectorizer\n",
    "\n",
    "# For NLP\n",
    "import spacy\n",
    "from nltk.tokenize import TweetTokenizer\n",
    "\n",
    "import matplotlib.pyplot as plt"
   ]
  },
  {
   "cell_type": "code",
   "execution_count": 2,
   "id": "fced517f",
   "metadata": {},
   "outputs": [],
   "source": [
    "import vae"
   ]
  },
  {
   "cell_type": "code",
   "execution_count": 4,
   "id": "511f619a",
   "metadata": {},
   "outputs": [],
   "source": [
    "AQI_PATH = \"../data/aqi_data/daily_aqi_by_county_2018.csv\"\n",
    "TWEET_PATH = \"../data/san_francisco/\""
   ]
  },
  {
   "cell_type": "markdown",
   "id": "8016d230",
   "metadata": {},
   "source": [
    "# First, let's confirm that the sampling method yields the expected results"
   ]
  },
  {
   "cell_type": "code",
   "execution_count": 223,
   "id": "dc553a8f",
   "metadata": {},
   "outputs": [],
   "source": [
    "class Tweets:\n",
    "    \"\"\"Tweets class. This class handles the data and preprocesses\n",
    "    so that the data can be loaded easily into whatever format\n",
    "    is needed.\n",
    "    \"\"\"\n",
    "\n",
    "    def __init__(\n",
    "        self,\n",
    "        path,\n",
    "        agg_count=1000,\n",
    "        sample_rate=5,\n",
    "        verbose=False,\n",
    "        min_df=100,\n",
    "        max_df=0.1,\n",
    "        test_size=0.2,\n",
    "        random_state=42,\n",
    "    ):\n",
    "        \"\"\"\n",
    "        Input:\n",
    "            path: directory of twitter files, unprocessed.\n",
    "\n",
    "            agg_count: the number of tweets to aggregate by.\n",
    "\n",
    "            sample_rate: the number of total samples that we want\n",
    "            to get for each day.\n",
    "\n",
    "            verbose: whether to print out steps of loading the data.\n",
    "\n",
    "            min_df: passed to the count_vec. This determines the amount\n",
    "                of tweets that the word must appear in to be included.\n",
    "\n",
    "            max_df: pass to the count_vec. This indicates the max\n",
    "                number of tweets that the word can occur in.\n",
    "\n",
    "            test_size: The percentage of tweets that are held out for\n",
    "                the test set.\n",
    "\n",
    "        This class should build a count vector from the tweets themselves,\n",
    "        then store the tweets in an array that can be sampled from.\n",
    "\n",
    "        \"\"\"\n",
    "        self.path = path\n",
    "        self.test_size = test_size\n",
    "        self.random_state = random_state\n",
    "\n",
    "        # Load in each of the CSVs.\n",
    "        print(\"Loading in the data...\")\n",
    "        tweets = self._load_data()\n",
    "\n",
    "        # Remove values without date or tweet\n",
    "        tweets = tweets.dropna()\n",
    "        # Perform some preprocessing as an intermediate step\n",
    "        # This is a very expensive line of code (takes a long time\n",
    "        # and I am going to cache the results to use between runs.\n",
    "        if cached(path, \"lemmatized.joblib\"):\n",
    "            print(\n",
    "                \"Cached file was found...loading lemmatized\", \"tweets from the cache.\"\n",
    "            )\n",
    "            tweets[\"clean_tweets\"] = load_cached(path, \"lemmatized.joblib\")\n",
    "        else:\n",
    "            print(\"No cache found. Loading now\")\n",
    "            tweets[\"clean_tweets\"] = self._preprocess(tweets)\n",
    "\n",
    "        tweets[\"date\"] = [\n",
    "            datetime.strptime(d, \"%Y-%m-%d %H:%M:%S\").date()\n",
    "            for d in tweets[\"created_at\"]\n",
    "        ]\n",
    "\n",
    "        # Create the count vector to process the tweets\n",
    "        print(\"Creating the count vector\")\n",
    "        self.count_vec = CountVectorizer(\n",
    "            stop_words=\"english\", min_df=min_df, max_df=max_df\n",
    "        )\n",
    "        if test_size > 0:\n",
    "            self.x, self.x_test = train_test_split(\n",
    "                tweets, test_size=test_size, random_state=random_state,\n",
    "                stratify=tweets['date']\n",
    "            )\n",
    "        else:\n",
    "            self.x = tweets\n",
    "\n",
    "        # Create the count vectors\n",
    "        x_cv = self.count_vec.fit_transform(self.x[\"clean_tweets\"])\n",
    "        # Remove unnecessary information and insert the count vector\n",
    "        # into the x array\n",
    "        self.x = np.array(list(zip(self.x[\"date\"], x_cv)))\n",
    "\n",
    "        # Save the cached count vector for future comparison\n",
    "        if not cached(path, \"lemmatized.joblib\"):\n",
    "            save_to_cache(self.path, self.count_vec, \"count_vec.joblib\")\n",
    "\n",
    "        if test_size > 0:\n",
    "            x_test_cv = self.count_vec.transform(self.x_test[\"clean_tweets\"])\n",
    "            self.x_test = np.array(list(zip(self.x_test[\"date\"], x_test_cv)))\n",
    "\n",
    "        self.agg_count = agg_count\n",
    "        self.sample_rate = sample_rate\n",
    "        self.data = None\n",
    "        self.vocab_size = len(self.count_vec.get_feature_names_out())\n",
    "\n",
    "    def _load_data(self):\n",
    "        \"\"\"\n",
    "        This function reads the files from the path\n",
    "        and returns a concatenated version of the data.\n",
    "        \"\"\"\n",
    "        data_frame = []\n",
    "        # Load the data\n",
    "        files = os.listdir(self.path)\n",
    "        # If there is a cached file, then remove from\n",
    "        # the list\n",
    "        if \"cached\" in files:\n",
    "            files.pop(files.index(\"cached\"))\n",
    "\n",
    "        for file in files:\n",
    "            data_frame.append(pd.read_csv(self.path + file))\n",
    "\n",
    "        return pd.concat(data_frame)\n",
    "\n",
    "    def _preprocess(self, tweets):\n",
    "        \"\"\"\n",
    "        This function is used to handle lemmatizing the data\n",
    "        prior to its use.\n",
    "        \"\"\"\n",
    "        tweet_tokenizer = TweetTokenizer()\n",
    "        nlp = spacy.load(\"en_core_web_sm\", disable=[\"parser\", \"ner\"])\n",
    "        lemmatized = []\n",
    "\n",
    "        for tweet in tweets[\"text\"]:\n",
    "            clean_tweet = [\n",
    "                w for w in tweet_tokenizer.tokenize(tweet.lower()) if w.isalpha()\n",
    "            ]\n",
    "            doc = nlp(\" \".join(clean_tweet))\n",
    "            lemmatized.append(\" \".join([token.lemma_ for token in doc]))\n",
    "\n",
    "        # Save this to the cached folder\n",
    "        # Try to save the file to the cached folder.\n",
    "        # If it doesn't exist...create the cache.\n",
    "        try:\n",
    "            joblib.dump(lemmatized, self.path + \"cached/lemmatized.joblib\")\n",
    "        except FileNotFoundError:\n",
    "            os.mkdir(self.path + \"/cached/\")\n",
    "            joblib.dump(lemmatized, self.path + \"cached/lemmatized.joblib\")\n",
    "        return lemmatized\n",
    "\n",
    "    def load(self, test=False):\n",
    "        \"\"\" This function handles loading the data from the count vector data.\"\"\"\n",
    "        if test:\n",
    "            return TweetDataset(\n",
    "                self.x_test, agg_count=self.agg_count, sample_rate=self.sample_rate\n",
    "            )\n",
    "\n",
    "        return TweetDataset(self.x, sample_rate=self.sample_rate)"
   ]
  },
  {
   "cell_type": "code",
   "execution_count": 224,
   "id": "f3a4af04",
   "metadata": {},
   "outputs": [],
   "source": [
    "class TweetDataset(Dataset):\n",
    "    \"\"\"This class converts the pandas dataframe into a tensor\n",
    "        that will be loaded into the VAE\"\"\"\n",
    "\n",
    "    def __init__(self, df, agg_count=1000, sample_rate=5, random_state=42):\n",
    "        \"\"\"\n",
    "            Inputs:\n",
    "                df - the dataframe object with the \"count_vec\" column and the date column.\n",
    "                acc_count - the number of tweets to aggregate by\n",
    "                sample_rate - the number of times to sample each day\n",
    "        \"\"\"\n",
    "        # Define the objects used in the two functions below\n",
    "        self.dates = list(set(df[:, 0]))\n",
    "        self.agg_count = agg_count\n",
    "        self.sample_rate = sample_rate\n",
    "        self.generator = np.random.default_rng(seed=random_state)\n",
    "        self.df = df\n",
    "\n",
    "        # Added to support looking up aqi\n",
    "        self.aqi = load_aqi()\n",
    "\n",
    "    def __len__(self):\n",
    "        \"\"\"Return the length of the dataset\"\"\"\n",
    "        return len(self.dates) * self.sample_rate\n",
    "\n",
    "    @lru_cache(maxsize=None)  # Save results of this function for quicker access\n",
    "    def __getitem__(self, idx):\n",
    "        \"\"\"\n",
    "        This function selects the date at the index\n",
    "        provided. If the index is greater than the length\n",
    "        of the array (i.e., we are sampling multiple examples\n",
    "        from a date), then wraparound and keep sampling.\n",
    "        \"\"\"\n",
    "        # Select the date\n",
    "        date = self.dates[idx % len(self.dates)]\n",
    "        # Randomly sample from this date.\n",
    "        #  1. Only look at count_vecs on this date.\n",
    "        #  2. Sample agg_count number of tweets, sum the count vectors,\n",
    "        #     and return\n",
    "\n",
    "        count_vecs = self.df[np.where(self.df[:, 0] == date)][:, 1]\n",
    "\n",
    "        # Sample using the generator\n",
    "        sample = self.generator.choice(count_vecs, self.agg_count, replace=False)\n",
    "\n",
    "        # Load the aqi to return\n",
    "        # Return the numpy array, summed along its axis.\n",
    "        return (\n",
    "            torch.from_numpy(sample.sum().toarray()).float().requires_grad_(False),\n",
    "            torch.tensor(self.aqi.get(date)),\n",
    "        )"
   ]
  },
  {
   "cell_type": "code",
   "execution_count": 9,
   "id": "d08286b8",
   "metadata": {},
   "outputs": [],
   "source": [
    "# Other helpful functions\n",
    "def load_aqi():\n",
    "    \"\"\"\n",
    "    This function returns a dictionary containing AQI with the \n",
    "    date object as the keys.\n",
    "    \"\"\"\n",
    "    df = pd.read_csv(AQI_PATH)\n",
    "\n",
    "    df = df[\n",
    "        (df[\"State Name\"] == \"California\") & (df[\"county Name\"] == \"San Francisco\")\n",
    "    ][[\"Date\", \"AQI\"]]\n",
    "\n",
    "    df[\"Date\"] = pd.to_datetime(df[\"Date\"], format=\"%Y-%m-%d\").apply(datetime.date)\n",
    "\n",
    "    df[\"AQI\"] = np.log10(df[\"AQI\"])\n",
    "\n",
    "    return df.set_index(\"Date\").to_dict().get(\"AQI\")\n",
    "\n",
    "def cached(path, doc_type):\n",
    "    \"\"\"\n",
    "    This function looks for the path in the list of cached\n",
    "    objects and returns true if the line exists.\"\"\"\n",
    "    files = os.listdir(path)\n",
    "    if \"cached\" in files:\n",
    "        cached_files = os.listdir(path + \"cached/\")\n",
    "        if doc_type in cached_files:\n",
    "            return True\n",
    "    return False\n",
    "\n",
    "\n",
    "def load_cached(path, doc_type):\n",
    "    \"\"\"This function loads cached data, assuming\n",
    "        it exists. This data is return as it was\n",
    "        saved in the file.\"\"\"\n",
    "    return joblib.load(path + \"cached/\" + doc_type)\n",
    "\n",
    "\n",
    "def save_to_cache(path, doc, file_name):\n",
    "    \"\"\"This saves a document to the a cache\"\"\"\n",
    "    joblib.dump(doc, path + \"cached/\" + file_name)"
   ]
  },
  {
   "cell_type": "code",
   "execution_count": 34,
   "id": "0ce1d125",
   "metadata": {},
   "outputs": [
    {
     "name": "stdout",
     "output_type": "stream",
     "text": [
      "Loading in the data...\n"
     ]
    },
    {
     "name": "stderr",
     "output_type": "stream",
     "text": [
      "/opt/conda/lib/python3.7/site-packages/ipykernel_launcher.py:48: DtypeWarning: Columns (0,1) have mixed types.Specify dtype option on import or set low_memory=False.\n"
     ]
    },
    {
     "name": "stdout",
     "output_type": "stream",
     "text": [
      "Cached file was found...loading lemmatized tweets from the cache.\n",
      "Creating the count vector\n"
     ]
    }
   ],
   "source": [
    "tweets = Tweets(TWEET_PATH, max_df=0.01, agg_count=1000, sample_rate=50)"
   ]
  },
  {
   "cell_type": "code",
   "execution_count": 35,
   "id": "11d94840",
   "metadata": {},
   "outputs": [],
   "source": [
    "x_train = tweets.load()"
   ]
  },
  {
   "cell_type": "code",
   "execution_count": 36,
   "id": "469a7992",
   "metadata": {},
   "outputs": [],
   "source": [
    "x_test = tweets.load(test=True)"
   ]
  },
  {
   "cell_type": "code",
   "execution_count": 37,
   "id": "2e4c10ee",
   "metadata": {},
   "outputs": [],
   "source": [
    "# To confirm that x_train samples look good, we want to look at\n",
    "# the sampled data and compare to the count vector\n",
    "date = x_train.dates[0]\n",
    "count_vecs = x_train.df[np.where(x_train.df[:, 0] == date)][:, 1]"
   ]
  },
  {
   "cell_type": "code",
   "execution_count": 38,
   "id": "95a23dce",
   "metadata": {},
   "outputs": [
    {
     "data": {
      "text/plain": [
       "5436"
      ]
     },
     "execution_count": 38,
     "metadata": {},
     "output_type": "execute_result"
    }
   ],
   "source": [
    "len(count_vecs)"
   ]
  },
  {
   "cell_type": "code",
   "execution_count": 29,
   "id": "7fe84de8",
   "metadata": {},
   "outputs": [],
   "source": [
    "# Let's see how many tweets we are getting per date\n",
    "sample_sizes = []\n",
    "for d in x_train.dates:\n",
    "    count_vecs = x_train.df[np.where(x_train.df[:, 0] == d)][:, 1]\n",
    "    sample_sizes.append(len(count_vecs))"
   ]
  },
  {
   "cell_type": "code",
   "execution_count": 30,
   "id": "3dda5d1a",
   "metadata": {},
   "outputs": [
    {
     "data": {
      "text/plain": [
       "(array([ 1.,  5., 24., 63., 78., 45., 18.,  7.,  3.,  1.]),\n",
       " array([3585. , 4101.6, 4618.2, 5134.8, 5651.4, 6168. , 6684.6, 7201.2,\n",
       "        7717.8, 8234.4, 8751. ]),\n",
       " <BarContainer object of 10 artists>)"
      ]
     },
     "execution_count": 30,
     "metadata": {},
     "output_type": "execute_result"
    },
    {
     "data": {
      "image/png": "[encoded data removed]",
      "text/plain": [
       "<Figure size 432x288 with 1 Axes>"
      ]
     },
     "metadata": {
      "needs_background": "light"
     },
     "output_type": "display_data"
    }
   ],
   "source": [
    "plt.hist(sample_sizes)"
   ]
  },
  {
   "cell_type": "markdown",
   "id": "83c3b939",
   "metadata": {},
   "source": [
    "So, the above plot shows what the data looks like when the x_train and x_test samples are not stratified. I'm going to change the code to fix that so that we now get stratified samples. \n",
    "\n",
    "Let's see what that looks like:"
   ]
  },
  {
   "cell_type": "code",
   "execution_count": 40,
   "id": "5c4d3336",
   "metadata": {},
   "outputs": [
    {
     "data": {
      "text/plain": [
       "(array([ 1.,  5., 21., 63., 82., 40., 21.,  8.,  3.,  1.]),\n",
       " array([3552., 4071., 4590., 5109., 5628., 6147., 6666., 7185., 7704.,\n",
       "        8223., 8742.]),\n",
       " <BarContainer object of 10 artists>)"
      ]
     },
     "execution_count": 40,
     "metadata": {},
     "output_type": "execute_result"
    },
    {
     "data": {
      "image/png": "[encoded data removed]",
      "text/plain": [
       "<Figure size 432x288 with 1 Axes>"
      ]
     },
     "metadata": {
      "needs_background": "light"
     },
     "output_type": "display_data"
    }
   ],
   "source": [
    "# Let's see how many tweets we are getting per date\n",
    "sample_sizes = []\n",
    "for d in x_train.dates:\n",
    "    count_vecs = x_train.df[np.where(x_train.df[:, 0] == d)][:, 1]\n",
    "    sample_sizes.append(len(count_vecs))\n",
    "    \n",
    "plt.hist(sample_sizes)"
   ]
  },
  {
   "cell_type": "code",
   "execution_count": 50,
   "id": "40fbb724",
   "metadata": {},
   "outputs": [],
   "source": [
    "count = np.where(tweets.x[:, 0] == tweets.x[0, 0])"
   ]
  },
  {
   "cell_type": "code",
   "execution_count": 53,
   "id": "01e63eac",
   "metadata": {},
   "outputs": [
    {
     "data": {
      "text/plain": [
       "5590"
      ]
     },
     "execution_count": 53,
     "metadata": {},
     "output_type": "execute_result"
    }
   ],
   "source": [
    "len(count[0])"
   ]
  },
  {
   "cell_type": "code",
   "execution_count": 54,
   "id": "956bda0a",
   "metadata": {},
   "outputs": [
    {
     "data": {
      "text/plain": [
       "(array([ 1.,  5., 21., 63., 82., 40., 21.,  8.,  3.,  1.]),\n",
       " array([3552., 4071., 4590., 5109., 5628., 6147., 6666., 7185., 7704.,\n",
       "        8223., 8742.]),\n",
       " <BarContainer object of 10 artists>)"
      ]
     },
     "execution_count": 54,
     "metadata": {},
     "output_type": "execute_result"
    },
    {
     "data": {
      "image/png": "[encoded data removed]",
      "text/plain": [
       "<Figure size 432x288 with 1 Axes>"
      ]
     },
     "metadata": {
      "needs_background": "light"
     },
     "output_type": "display_data"
    }
   ],
   "source": [
    "sample_sizes = []\n",
    "for d in list(set(tweets.x[:,0])):\n",
    "    count = np.where(tweets.x[:, 0] == d)[0]\n",
    "    sample_sizes.append(len(count))\n",
    "    \n",
    "plt.hist(sample_sizes)"
   ]
  },
  {
   "cell_type": "code",
   "execution_count": 48,
   "id": "47adcf18",
   "metadata": {},
   "outputs": [
    {
     "data": {
      "text/plain": [
       "(array([ 1.,  5., 22., 62., 82., 40., 21.,  8.,  3.,  1.]),\n",
       " array([ 888. , 1017.8, 1147.6, 1277.4, 1407.2, 1537. , 1666.8, 1796.6,\n",
       "        1926.4, 2056.2, 2186. ]),\n",
       " <BarContainer object of 10 artists>)"
      ]
     },
     "execution_count": 48,
     "metadata": {},
     "output_type": "execute_result"
    },
    {
     "data": {
      "image/png": "[encoded data removed]",
      "text/plain": [
       "<Figure size 432x288 with 1 Axes>"
      ]
     },
     "metadata": {
      "needs_background": "light"
     },
     "output_type": "display_data"
    }
   ],
   "source": [
    "# Let's see how many tweets we are getting per date on the test set\n",
    "sample_sizes = []\n",
    "for d in x_test.dates:\n",
    "    count_vecs = x_test.df[np.where(x_test.df[:, 0] == d)][:, 1]\n",
    "    sample_sizes.append(len(count_vecs))\n",
    "    \n",
    "plt.hist(sample_sizes)"
   ]
  },
  {
   "cell_type": "markdown",
   "id": "c013064b",
   "metadata": {},
   "source": [
    "# On sampling.\n",
    "Looks like the sampling is slightly fixed by stratifying, so we should keep that part in the code...however, we shouldn't expect that to make a big fix.\n",
    "\n",
    "## Next up\n",
    "Let's look at how we can validate the generation method of tweets."
   ]
  },
  {
   "cell_type": "code",
   "execution_count": null,
   "id": "d7a2f571",
   "metadata": {},
   "outputs": [],
   "source": [
    "# Copied from above\n",
    "tweets = Tweets(TWEET_PATH, max_df=0.01, agg_count=1000, sample_rate=50)"
   ]
  },
  {
   "cell_type": "markdown",
   "id": "fff8de46",
   "metadata": {},
   "source": [
    "We will want to confirm that the generated tweets by the tweet dataset \n",
    "has the same mean as the actual mean of the count vector data.\n",
    "\n",
    "To do this, I will need to take the count vector for all of a specific date, sum the rows, and divide by the number of samples, then multiply by 1000. This will give the expected value of the count vector, when sampling 1000 tweets at a time."
   ]
  },
  {
   "cell_type": "code",
   "execution_count": 56,
   "id": "bf569442",
   "metadata": {},
   "outputs": [],
   "source": [
    "# Get the tweet dataset\n",
    "date = x_train.dates[0]\n",
    "count_vecs = x_train.df[np.where(x_train.df[:, 0] == date)][:, 1]"
   ]
  },
  {
   "cell_type": "code",
   "execution_count": 189,
   "id": "940b4bed",
   "metadata": {},
   "outputs": [],
   "source": [
    "exp_value = count_vecs.sum() / len(count_vecs) * 1000"
   ]
  },
  {
   "cell_type": "code",
   "execution_count": 59,
   "id": "67af1f53",
   "metadata": {},
   "outputs": [
    {
     "data": {
      "text/plain": [
       "array([[0.        , 0.36791759, 0.        , ..., 0.55187638, 0.18395879,\n",
       "        0.18395879]])"
      ]
     },
     "execution_count": 59,
     "metadata": {},
     "output_type": "execute_result"
    }
   ],
   "source": [
    "exp_value.toarray()"
   ]
  },
  {
   "cell_type": "code",
   "execution_count": 75,
   "id": "a7c78265",
   "metadata": {},
   "outputs": [
    {
     "data": {
      "text/plain": [
       "24.834437086092713"
      ]
     },
     "execution_count": 75,
     "metadata": {},
     "output_type": "execute_result"
    }
   ],
   "source": [
    "exp_value.max()"
   ]
  },
  {
   "cell_type": "code",
   "execution_count": 86,
   "id": "74084f58",
   "metadata": {},
   "outputs": [
    {
     "data": {
      "text/plain": [
       "(array([0, 0, 0, ..., 0, 0, 0]),\n",
       " array([   1,    3,    4, ..., 7361, 7362, 7363]))"
      ]
     },
     "execution_count": 86,
     "metadata": {},
     "output_type": "execute_result"
    }
   ],
   "source": [
    "np.where(exp_value.toarray() > 0)"
   ]
  },
  {
   "cell_type": "code",
   "execution_count": 77,
   "id": "dd5f16ad",
   "metadata": {},
   "outputs": [],
   "source": [
    "# Get the indices to look at that should all have these values\n",
    "indices = []\n",
    "for i in range(0, 100):\n",
    "    indices.append(i*245)"
   ]
  },
  {
   "cell_type": "code",
   "execution_count": 78,
   "id": "65ac9708",
   "metadata": {},
   "outputs": [],
   "source": [
    "x_train_samples = [x_train[i] for i in indices]"
   ]
  },
  {
   "cell_type": "code",
   "execution_count": 97,
   "id": "f750b3bc",
   "metadata": {},
   "outputs": [
    {
     "name": "stderr",
     "output_type": "stream",
     "text": [
      "/opt/conda/lib/python3.7/site-packages/ipykernel_launcher.py:1: FutureWarning: The input object of type 'Tensor' is an array-like implementing one of the corresponding protocols (`__array__`, `__array_interface__` or `__array_struct__`); but not a sequence (or 0-D). In the future, this object will be coerced as if it was first converted using `np.array(obj)`. To retain the old behaviour, you have to either modify the type 'Tensor', or assign to an empty array created with `np.empty(correct_shape, dtype=object)`.\n",
      "  \"\"\"Entry point for launching an IPython kernel.\n",
      "/opt/conda/lib/python3.7/site-packages/ipykernel_launcher.py:1: VisibleDeprecationWarning: Creating an ndarray from ragged nested sequences (which is a list-or-tuple of lists-or-tuples-or ndarrays with different lengths or shapes) is deprecated. If you meant to do this, you must specify 'dtype=object' when creating the ndarray.\n",
      "  \"\"\"Entry point for launching an IPython kernel.\n"
     ]
    }
   ],
   "source": [
    "xtrs = np.array(x_train_samples)[:,0]"
   ]
  },
  {
   "cell_type": "code",
   "execution_count": 110,
   "id": "ee61e65e",
   "metadata": {},
   "outputs": [
    {
     "data": {
      "text/plain": [
       "array([0.  , 0.3 , 0.  , ..., 0.54, 0.15, 0.24], dtype=float32)"
      ]
     },
     "execution_count": 110,
     "metadata": {},
     "output_type": "execute_result"
    }
   ],
   "source": [
    "xtrs.sum(axis=0)/100"
   ]
  },
  {
   "cell_type": "code",
   "execution_count": 98,
   "id": "58e763b2",
   "metadata": {},
   "outputs": [],
   "source": [
    "xtrs = np.array([t.numpy().flatten() for t in xtrs])"
   ]
  },
  {
   "cell_type": "code",
   "execution_count": 114,
   "id": "a50afe8f",
   "metadata": {},
   "outputs": [
    {
     "data": {
      "text/plain": [
       "0.51961523"
      ]
     },
     "execution_count": 114,
     "metadata": {},
     "output_type": "execute_result"
    }
   ],
   "source": [
    "xtrs[:,1].std()"
   ]
  },
  {
   "cell_type": "code",
   "execution_count": 113,
   "id": "2e66c0f5",
   "metadata": {},
   "outputs": [
    {
     "data": {
      "text/plain": [
       "0.3"
      ]
     },
     "execution_count": 113,
     "metadata": {},
     "output_type": "execute_result"
    }
   ],
   "source": [
    "xtrs[:,1].mean()"
   ]
  },
  {
   "cell_type": "markdown",
   "id": "9823b616",
   "metadata": {},
   "source": [
    "Based on this initial analysis, it looks like we might be oversampling the high probability regions, and undersampling the low probability regions. This is likely going to hurt performance. How can we confirm this? Well, if this was the case, we should see a higher mean for the most often seen words, and a lower mean than the lesser seen words."
   ]
  },
  {
   "cell_type": "code",
   "execution_count": 190,
   "id": "835c14cc",
   "metadata": {},
   "outputs": [
    {
     "data": {
      "text/plain": [
       "array([10.30169242, 10.8535688 , 11.22148639, 12.14128035, 12.32523915,\n",
       "       12.32523915, 13.79690949, 14.71670346, 18.76379691, 24.83443709])"
      ]
     },
     "execution_count": 190,
     "metadata": {},
     "output_type": "execute_result"
    }
   ],
   "source": [
    "exp_value.toarray().flatten()[exp_value.toarray().argsort().flatten()[-10:]]"
   ]
  },
  {
   "cell_type": "code",
   "execution_count": 191,
   "id": "1dac5a6c",
   "metadata": {},
   "outputs": [
    {
     "data": {
      "text/plain": [
       "array([10.24, 10.98, 11.22, 12.23, 12.37, 12.6 , 13.76, 14.42, 17.06,\n",
       "       25.75], dtype=float32)"
      ]
     },
     "execution_count": 191,
     "metadata": {},
     "output_type": "execute_result"
    }
   ],
   "source": [
    "xtrs.sum(axis=0)[xtrs.sum(axis=0).argsort()[-10:]]/100"
   ]
  },
  {
   "cell_type": "markdown",
   "id": "0e45c70b",
   "metadata": {},
   "source": [
    "So this actually doesn't look too bad...let's see how well the least seen words are. To do this, I will need to filter out the zero values."
   ]
  },
  {
   "cell_type": "code",
   "execution_count": 159,
   "id": "bb18c940",
   "metadata": {},
   "outputs": [
    {
     "data": {
      "text/plain": [
       "10402790"
      ]
     },
     "execution_count": 159,
     "metadata": {},
     "output_type": "execute_result"
    }
   ],
   "source": [
    "np.where(exp_value.toarray() == 0)[1].sum()"
   ]
  },
  {
   "cell_type": "code",
   "execution_count": 157,
   "id": "6c64e841",
   "metadata": {},
   "outputs": [
    {
     "data": {
      "text/plain": [
       "10402790"
      ]
     },
     "execution_count": 157,
     "metadata": {},
     "output_type": "execute_result"
    }
   ],
   "source": [
    "np.where(xtrs.sum(axis=0) == 0)[0].sum()"
   ]
  },
  {
   "cell_type": "markdown",
   "id": "a6ac2d6d",
   "metadata": {},
   "source": [
    "Ok...well they have the same number of zeros. Let's look at the least seen words now."
   ]
  },
  {
   "cell_type": "code",
   "execution_count": 217,
   "id": "6951c8a7",
   "metadata": {},
   "outputs": [],
   "source": [
    "exp_arr = exp_value.toarray().flatten()\n",
    "non_zero = np.where(exp_arr > 0)[0]\n",
    "exp_highest_100 = exp_arr[non_zero].argsort()[-100:]\n",
    "exp_lowest_1000 = exp_arr[non_zero].argsort()[:1000]"
   ]
  },
  {
   "cell_type": "code",
   "execution_count": 203,
   "id": "e7c1e50f",
   "metadata": {},
   "outputs": [
    {
     "data": {
      "text/plain": [
       "4575"
      ]
     },
     "execution_count": 203,
     "metadata": {},
     "output_type": "execute_result"
    }
   ],
   "source": [
    "len(non_zero)"
   ]
  },
  {
   "cell_type": "code",
   "execution_count": 218,
   "id": "6de7a65c",
   "metadata": {},
   "outputs": [],
   "source": [
    "est_exp = xtrs.sum(axis=0)/100\n",
    "non_zero = np.where(est_exp > 0)[0]\n",
    "est_exp[non_zero]\n",
    "est_highest_100 = est_exp[non_zero].argsort()[-100:]\n",
    "est_lowest_1000 = est_exp[non_zero].argsort()[:1000]"
   ]
  },
  {
   "cell_type": "markdown",
   "id": "9b4d1794",
   "metadata": {},
   "source": [
    "How many of the least sampled values are in the least expected?"
   ]
  },
  {
   "cell_type": "code",
   "execution_count": 220,
   "id": "174620d9",
   "metadata": {},
   "outputs": [
    {
     "name": "stdout",
     "output_type": "stream",
     "text": [
      "97 of the estimated highest 100 are in the expected highest 100\n",
      "585 of the estimated lowest 1000 are in the expected lowest\n"
     ]
    }
   ],
   "source": [
    "count = 0\n",
    "for l in est_highest_100:\n",
    "    if l in exp_highest_100:\n",
    "        count += 1\n",
    "print(f\"{count} of the estimated highest 100 are in the expected highest 100\")\n",
    "\n",
    "count = 0\n",
    "for l in est_lowest_1000:\n",
    "    if l in exp_lowest_1000:\n",
    "        count += 1\n",
    "print(f\"{count} of the estimated lowest 1000 are in the expected lowest\")"
   ]
  },
  {
   "cell_type": "markdown",
   "id": "fb7c318d",
   "metadata": {},
   "source": [
    "Guess the question is...how many times do we need to sample to get the right distribution?"
   ]
  },
  {
   "cell_type": "code",
   "execution_count": 221,
   "id": "19f9548d",
   "metadata": {},
   "outputs": [
    {
     "data": {
      "text/plain": [
       "(array([4.217e+03, 2.480e+02, 7.700e+01, 2.400e+01, 5.000e+00, 2.000e+00,\n",
       "        1.000e+00, 0.000e+00, 0.000e+00, 1.000e+00]),\n",
       " array([ 0.06 ,  2.629,  5.198,  7.767, 10.336, 12.905, 15.474, 18.043,\n",
       "        20.612, 23.181, 25.75 ], dtype=float32),\n",
       " <BarContainer object of 10 artists>)"
      ]
     },
     "execution_count": 221,
     "metadata": {},
     "output_type": "execute_result"
    },
    {
     "data": {
      "image/png": "[encoded data removed]",
      "text/plain": [
       "<Figure size 432x288 with 1 Axes>"
      ]
     },
     "metadata": {
      "needs_background": "light"
     },
     "output_type": "display_data"
    }
   ],
   "source": [
    "plt.hist(est_exp[non_zero])"
   ]
  },
  {
   "cell_type": "code",
   "execution_count": 222,
   "id": "2be13ced",
   "metadata": {},
   "outputs": [
    {
     "data": {
      "text/plain": [
       "(array([4.234e+03, 2.160e+02, 9.100e+01, 2.200e+01, 8.000e+00, 2.000e+00,\n",
       "        0.000e+00, 1.000e+00, 0.000e+00, 1.000e+00]),\n",
       " array([ 0.18395879,  2.64900662,  5.11405445,  7.57910228, 10.04415011,\n",
       "        12.50919794, 14.97424577, 17.4392936 , 19.90434143, 22.36938926,\n",
       "        24.83443709]),\n",
       " <BarContainer object of 10 artists>)"
      ]
     },
     "execution_count": 222,
     "metadata": {},
     "output_type": "execute_result"
    },
    {
     "data": {
      "image/png": "[encoded data removed]",
      "text/plain": [
       "<Figure size 432x288 with 1 Axes>"
      ]
     },
     "metadata": {
      "needs_background": "light"
     },
     "output_type": "display_data"
    }
   ],
   "source": [
    "plt.hist(exp_arr[non_zero])"
   ]
  },
  {
   "cell_type": "markdown",
   "id": "b010f862",
   "metadata": {},
   "source": [
    "Let's sample WITHOUT replacement, and see how well this fixes the problem"
   ]
  },
  {
   "cell_type": "code",
   "execution_count": 225,
   "id": "213125c4",
   "metadata": {},
   "outputs": [
    {
     "name": "stdout",
     "output_type": "stream",
     "text": [
      "Loading in the data...\n"
     ]
    },
    {
     "name": "stderr",
     "output_type": "stream",
     "text": [
      "/opt/conda/lib/python3.7/site-packages/ipykernel_launcher.py:48: DtypeWarning: Columns (0,1) have mixed types.Specify dtype option on import or set low_memory=False.\n"
     ]
    },
    {
     "name": "stdout",
     "output_type": "stream",
     "text": [
      "Cached file was found...loading lemmatized tweets from the cache.\n",
      "Creating the count vector\n"
     ]
    }
   ],
   "source": [
    "tweets = Tweets(TWEET_PATH, max_df=0.01, agg_count=1000, sample_rate=50)"
   ]
  },
  {
   "cell_type": "code",
   "execution_count": 226,
   "id": "7efb2a60",
   "metadata": {},
   "outputs": [
    {
     "data": {
      "text/plain": [
       "5436"
      ]
     },
     "execution_count": 226,
     "metadata": {},
     "output_type": "execute_result"
    }
   ],
   "source": [
    "x_train = tweets.load()\n",
    "date = x_train.dates[0]\n",
    "count_vecs = x_train.df[np.where(x_train.df[:, 0] == date)][:, 1]\n",
    "len(count_vecs)"
   ]
  },
  {
   "cell_type": "code",
   "execution_count": 227,
   "id": "58d81ee2",
   "metadata": {},
   "outputs": [],
   "source": [
    "exp_value = (count_vecs.sum() / len(count_vecs) * 1000).toarray().flatten()"
   ]
  },
  {
   "cell_type": "code",
   "execution_count": 327,
   "id": "f4a9c249",
   "metadata": {},
   "outputs": [],
   "source": [
    "indices = []\n",
    "n = 1000\n",
    "for i in range(0, n):\n",
    "    indices.append(i*245)\n",
    "    \n",
    "x_train_samples = [x_train[i] for i in indices]"
   ]
  },
  {
   "cell_type": "code",
   "execution_count": 328,
   "id": "e11ea11b",
   "metadata": {},
   "outputs": [
    {
     "name": "stderr",
     "output_type": "stream",
     "text": [
      "/opt/conda/lib/python3.7/site-packages/ipykernel_launcher.py:1: FutureWarning: The input object of type 'Tensor' is an array-like implementing one of the corresponding protocols (`__array__`, `__array_interface__` or `__array_struct__`); but not a sequence (or 0-D). In the future, this object will be coerced as if it was first converted using `np.array(obj)`. To retain the old behaviour, you have to either modify the type 'Tensor', or assign to an empty array created with `np.empty(correct_shape, dtype=object)`.\n",
      "  \"\"\"Entry point for launching an IPython kernel.\n",
      "/opt/conda/lib/python3.7/site-packages/ipykernel_launcher.py:1: VisibleDeprecationWarning: Creating an ndarray from ragged nested sequences (which is a list-or-tuple of lists-or-tuples-or ndarrays with different lengths or shapes) is deprecated. If you meant to do this, you must specify 'dtype=object' when creating the ndarray.\n",
      "  \"\"\"Entry point for launching an IPython kernel.\n"
     ]
    }
   ],
   "source": [
    "xtrs = np.array(x_train_samples)[:,0]"
   ]
  },
  {
   "cell_type": "code",
   "execution_count": 352,
   "id": "e13c23a7",
   "metadata": {},
   "outputs": [],
   "source": [
    "exp_arr = exp_value\n",
    "non_zero = np.where(exp_arr > 0)[0]\n",
    "exp_highest_100 = exp_arr[non_zero].argsort()[-100:]\n",
    "exp_lowest_2000 = exp_arr[non_zero].argsort()[:2000]\n",
    "exp_lowest_1000 = exp_arr[non_zero].argsort()[:1000]\n",
    "exp_lowest_500 = exp_arr[non_zero].argsort()[:500]"
   ]
  },
  {
   "cell_type": "code",
   "execution_count": 339,
   "id": "b44f7336",
   "metadata": {},
   "outputs": [],
   "source": [
    "est_exp = (xtrs.sum(axis=0)/n).numpy().flatten()\n",
    "non_zero = np.where(est_exp > 0)[0]\n",
    "est_exp[non_zero]\n",
    "est_highest_100 = est_exp[non_zero].argsort()[-100:]\n",
    "est_lowest_1000 = est_exp[non_zero].argsort()[:2000]"
   ]
  },
  {
   "cell_type": "code",
   "execution_count": 330,
   "id": "80ab226b",
   "metadata": {},
   "outputs": [
    {
     "name": "stdout",
     "output_type": "stream",
     "text": [
      "100 of the estimated highest 100 are in the expected highest 100\n",
      "578 of the estimated lowest 1000 are in the expected lowest\n"
     ]
    }
   ],
   "source": [
    "count = 0\n",
    "for l in est_highest_100:\n",
    "    if l in exp_highest_100:\n",
    "        count += 1\n",
    "print(f\"{count} of the estimated highest 100 are in the expected highest 100\")\n",
    "\n",
    "count = 0\n",
    "for l in est_lowest_1000:\n",
    "    if l in exp_lowest_1000:\n",
    "        count += 1\n",
    "print(f\"{count} of the estimated lowest 1000 are in the expected lowest\")"
   ]
  },
  {
   "cell_type": "code",
   "execution_count": 356,
   "id": "6da505d0",
   "metadata": {},
   "outputs": [
    {
     "name": "stderr",
     "output_type": "stream",
     "text": [
      "/opt/conda/lib/python3.7/site-packages/ipykernel_launcher.py:12: FutureWarning: The input object of type 'Tensor' is an array-like implementing one of the corresponding protocols (`__array__`, `__array_interface__` or `__array_struct__`); but not a sequence (or 0-D). In the future, this object will be coerced as if it was first converted using `np.array(obj)`. To retain the old behaviour, you have to either modify the type 'Tensor', or assign to an empty array created with `np.empty(correct_shape, dtype=object)`.\n",
      "  if sys.path[0] == '':\n",
      "/opt/conda/lib/python3.7/site-packages/ipykernel_launcher.py:12: VisibleDeprecationWarning: Creating an ndarray from ragged nested sequences (which is a list-or-tuple of lists-or-tuples-or ndarrays with different lengths or shapes) is deprecated. If you meant to do this, you must specify 'dtype=object' when creating the ndarray.\n",
      "  if sys.path[0] == '':\n"
     ]
    }
   ],
   "source": [
    "sample_size = [10, 20, 30, 40, 50, 100, 500, 1000, 5000]\n",
    "\n",
    "lowest_2000 = []\n",
    "lowest_1000 = []\n",
    "lowest_500 = []\n",
    "highest_100 = []\n",
    "for s in sample_size:\n",
    "    indices = []\n",
    "    for i in range(0, s):\n",
    "        indices.append(i*245)\n",
    "    x_train_samples = [x_train[i] for i in indices]\n",
    "    xtrs = np.array(x_train_samples)[:,0]\n",
    "    \n",
    "    est_exp = (xtrs.sum(axis=0)/s).numpy().flatten()\n",
    "    non_zero = np.where(est_exp > 0)[0]\n",
    "    est_exp[non_zero]\n",
    "    est_highest_100 = est_exp[non_zero].argsort()[-100:]\n",
    "    est_lowest_2000 = est_exp[non_zero].argsort()[:2000]\n",
    "    est_lowest_1000 = est_exp[non_zero].argsort()[:1000]\n",
    "    est_lowest_500 = est_exp[non_zero].argsort()[:500]\n",
    "    \n",
    "    count = 0\n",
    "    for l in exp_highest_100:\n",
    "        if l in est_highest_100:\n",
    "            count += 1\n",
    "            \n",
    "    highest_100.append(count/100)\n",
    "\n",
    "    count = 0\n",
    "    for l in exp_lowest_2000:\n",
    "        if l in est_lowest_2000:\n",
    "            count += 1\n",
    "    lowest_2000.append(count/2000)\n",
    "    \n",
    "    count = 0\n",
    "    for l in exp_lowest_1000:\n",
    "        if l in est_lowest_1000:\n",
    "            count += 1\n",
    "            \n",
    "    lowest_1000.append(count/1000)\n",
    "    count = 0\n",
    "    for l in exp_lowest_500:\n",
    "        if l in est_lowest_500:\n",
    "            count += 1\n",
    "    \n",
    "    lowest_500.append(count/500)"
   ]
  },
  {
   "cell_type": "code",
   "execution_count": 358,
   "id": "8cc1bbbf",
   "metadata": {},
   "outputs": [
    {
     "data": {
      "image/png": "[encoded data removed]",
      "text/plain": [
       "<Figure size 432x288 with 1 Axes>"
      ]
     },
     "metadata": {
      "needs_background": "light"
     },
     "output_type": "display_data"
    }
   ],
   "source": [
    "plt.plot(sample_size, lowest_2000, label=\"lowest 2000\")\n",
    "plt.plot(sample_size, lowest_1000, label=\"lowest 1000\")\n",
    "plt.plot(sample_size, lowest_500, label=\"lowest 500\")\n",
    "plt.plot(sample_size, highest_100, label=\"highest 100\")\n",
    "plt.legend()\n",
    "plt.xlabel(\"Number of samples\")\n",
    "plt.ylabel(\"% of estimates matching expected distribution\")\n",
    "plt.show()"
   ]
  },
  {
   "cell_type": "code",
   "execution_count": 362,
   "id": "b38eee5d",
   "metadata": {},
   "outputs": [
    {
     "data": {
      "text/plain": [
       "array([ 5.4844,  5.5012,  5.508 ,  5.5104,  5.519 ,  5.6704,  5.6764,\n",
       "        5.6848,  5.6892,  5.6998,  5.7156,  5.7244,  5.7306,  5.7768,\n",
       "        5.9136,  5.921 ,  5.9416,  6.0094,  6.0376,  6.0578,  6.0604,\n",
       "        6.0612,  6.0964,  6.1006,  6.1034,  6.1036,  6.1204,  6.1276,\n",
       "        6.2124,  6.2174,  6.2332,  6.2374,  6.2382,  6.2384,  6.248 ,\n",
       "        6.2542,  6.2578,  6.2594,  6.268 ,  6.3192,  6.3686,  6.4412,\n",
       "        6.4672,  6.4882,  6.5992,  6.6094,  6.6244,  6.6282,  6.6582,\n",
       "        6.7532,  6.7714,  6.779 ,  6.789 ,  6.845 ,  6.9782,  6.9952,\n",
       "        7.1546,  7.1786,  7.2074,  7.2372,  7.2376,  7.3262,  7.3516,\n",
       "        7.4906,  7.5662,  7.5708,  7.7156,  7.8914,  7.9266,  7.9962,\n",
       "        8.0614,  8.0616,  8.1066,  8.1372,  8.242 ,  8.429 ,  8.4624,\n",
       "        8.5014,  8.5894,  8.6404,  8.7768,  8.8246,  9.012 ,  9.1698,\n",
       "        9.4074,  9.4354,  9.5534,  9.9208, 10.1382, 10.1394, 10.2682,\n",
       "       10.8766, 11.3184, 12.1104, 12.2812, 12.3726, 13.867 , 14.8502,\n",
       "       18.7704, 24.8452], dtype=float32)"
      ]
     },
     "execution_count": 362,
     "metadata": {},
     "output_type": "execute_result"
    }
   ],
   "source": [
    "est_exp[non_zero][est_highest_100]"
   ]
  },
  {
   "cell_type": "code",
   "execution_count": 364,
   "id": "d6514ad0",
   "metadata": {},
   "outputs": [
    {
     "data": {
      "text/plain": [
       "array([0.18395879, 0.18395879, 0.18395879, ..., 0.36791759, 0.36791759,\n",
       "       0.36791759])"
      ]
     },
     "execution_count": 364,
     "metadata": {},
     "output_type": "execute_result"
    }
   ],
   "source": [
    "exp_arr[non_zero][est_lowest_2000]"
   ]
  },
  {
   "cell_type": "code",
   "execution_count": 365,
   "id": "3d2b58c2",
   "metadata": {},
   "outputs": [
    {
     "data": {
      "text/plain": [
       "5436"
      ]
     },
     "execution_count": 365,
     "metadata": {},
     "output_type": "execute_result"
    }
   ],
   "source": [
    "len(count_vecs)"
   ]
  },
  {
   "cell_type": "code",
   "execution_count": 366,
   "id": "412e7ee1",
   "metadata": {},
   "outputs": [
    {
     "data": {
      "text/plain": [
       "0.18395879323031641"
      ]
     },
     "execution_count": 366,
     "metadata": {},
     "output_type": "execute_result"
    }
   ],
   "source": [
    "1/5436*1000"
   ]
  },
  {
   "cell_type": "code",
   "execution_count": 369,
   "id": "5b56e7bd",
   "metadata": {},
   "outputs": [
    {
     "data": {
      "text/plain": [
       "4495"
      ]
     },
     "execution_count": 369,
     "metadata": {},
     "output_type": "execute_result"
    }
   ],
   "source": [
    "# The number of counts that appear once or zero\n",
    "len(exp_arr[exp_arr < 0.184])"
   ]
  },
  {
   "cell_type": "code",
   "execution_count": 374,
   "id": "4eea367e",
   "metadata": {},
   "outputs": [
    {
     "data": {
      "text/plain": [
       "1706"
      ]
     },
     "execution_count": 374,
     "metadata": {},
     "output_type": "execute_result"
    }
   ],
   "source": [
    "# Number of words only appearing once\n",
    "(exp_arr[non_zero] < 0.184).sum()"
   ]
  },
  {
   "cell_type": "code",
   "execution_count": 375,
   "id": "8f0a4a98",
   "metadata": {},
   "outputs": [
    {
     "data": {
      "text/plain": [
       "2789"
      ]
     },
     "execution_count": 375,
     "metadata": {},
     "output_type": "execute_result"
    }
   ],
   "source": [
    "# Number of words appearing zero times\n",
    "(exp_arr == 0).sum()"
   ]
  },
  {
   "cell_type": "code",
   "execution_count": 370,
   "id": "cc40d28b",
   "metadata": {},
   "outputs": [
    {
     "data": {
      "text/plain": [
       "2869"
      ]
     },
     "execution_count": 370,
     "metadata": {},
     "output_type": "execute_result"
    }
   ],
   "source": [
    "# Number of words appearing more than once\n",
    "len(exp_arr[exp_arr > 0.184])"
   ]
  },
  {
   "cell_type": "code",
   "execution_count": 371,
   "id": "fee6c354",
   "metadata": {},
   "outputs": [
    {
     "data": {
      "text/plain": [
       "7364"
      ]
     },
     "execution_count": 371,
     "metadata": {},
     "output_type": "execute_result"
    }
   ],
   "source": [
    "len(exp_arr)"
   ]
  },
  {
   "cell_type": "code",
   "execution_count": 372,
   "id": "8b7a427d",
   "metadata": {},
   "outputs": [
    {
     "data": {
      "text/plain": [
       "7364"
      ]
     },
     "execution_count": 372,
     "metadata": {},
     "output_type": "execute_result"
    }
   ],
   "source": [
    "len(exp_arr[exp_arr < 0.184])+len(exp_arr[exp_arr > 0.184])"
   ]
  },
  {
   "cell_type": "code",
   "execution_count": 376,
   "id": "ba82e62a",
   "metadata": {},
   "outputs": [
    {
     "data": {
      "text/plain": [
       "(array([6.982e+03, 2.420e+02, 1.030e+02, 2.400e+01, 9.000e+00, 2.000e+00,\n",
       "        0.000e+00, 1.000e+00, 0.000e+00, 1.000e+00]),\n",
       " array([ 0.        ,  2.48344371,  4.96688742,  7.45033113,  9.93377483,\n",
       "        12.41721854, 14.90066225, 17.38410596, 19.86754967, 22.35099338,\n",
       "        24.83443709]),\n",
       " <BarContainer object of 10 artists>)"
      ]
     },
     "execution_count": 376,
     "metadata": {},
     "output_type": "execute_result"
    },
    {
     "data": {
      "image/png": "[encoded data removed]",
      "text/plain": [
       "<Figure size 432x288 with 1 Axes>"
      ]
     },
     "metadata": {
      "needs_background": "light"
     },
     "output_type": "display_data"
    }
   ],
   "source": [
    "plt.hist(exp_arr)"
   ]
  },
  {
   "cell_type": "markdown",
   "id": "a7dde5be",
   "metadata": {},
   "source": [
    "# EUREKA\n",
    "So, after all that, it looks like the issue is because a TON of words are only appearing once on this date, which messes with the distribution.\n",
    "\n",
    "To get rid of this problem then, it looks like oversampling should be done to get tons of examples both with these words and without these words. If we don't oversample, our model will overfit to these one off occurrences that just so happens to occur."
   ]
  },
  {
   "cell_type": "code",
   "execution_count": 9,
   "id": "f4cdbd6e",
   "metadata": {},
   "outputs": [],
   "source": [
    "train_loader = DataLoader(x_train, batch_size=128)\n",
    "test_loader = DataLoader(x_test, batch_size=128)"
   ]
  },
  {
   "cell_type": "code",
   "execution_count": 10,
   "id": "b616368a",
   "metadata": {},
   "outputs": [],
   "source": [
    "class VAE(nn.Module):\n",
    "    \"\"\"\n",
    "    Should rename -- PFA for Poisson Factor Analysis\n",
    "    \"\"\"\n",
    "\n",
    "    def __init__(self, vocab, num_components=20, prior_mean=1, prior_logvar=0):\n",
    "        \"\"\"\n",
    "        Inputs\n",
    "        --------\n",
    "        vocab<int>: the size of the vocabulary\n",
    "\n",
    "        This model only has the variational layer, then the output\n",
    "        to the reconstruction. At this point, there are no hidden layers.\n",
    "        \"\"\"\n",
    "        super().__init__()\n",
    "        self.num_components = num_components\n",
    "\n",
    "        self.prior_mean = torch.tensor(prior_mean)\n",
    "        self.prior_logvar = torch.tensor(prior_logvar)\n",
    "\n",
    "        # Add in these layers to create a nonlinear function\n",
    "        # from the words to the latent space.\n",
    "        self.fc1 = nn.Linear(vocab, 1000)\n",
    "        self.fc21 = nn.Linear(1000, num_components)\n",
    "        self.fc22 = nn.Linear(1000, num_components)\n",
    "#         self.enc_logvar = nn.Linear(vocab, num_components, bias=False)\n",
    "#         self.enc_mu = nn.Linear(vocab, num_components, bias=False)\n",
    "        self.W_tilde = torch.rand(num_components, vocab, requires_grad=True)\n",
    "        self.pois_nll = nn.PoissonNLLLoss(log_input=False)\n",
    "        self.softplus = nn.Softplus()\n",
    "\n",
    "        self.beta = nn.Linear(num_components, num_components, bias=False)\n",
    "        self.beta1 = nn.Linear(num_components, 1, bias=True)\n",
    "\n",
    "    def reparameterize(self, mu, logvar):\n",
    "        std = torch.exp(0.5 * logvar)\n",
    "        eps = torch.randn_like(std)\n",
    "        return mu + eps * std\n",
    "\n",
    "    def encode(self, x):\n",
    "        h1 = F.relu(self.fc1(x))\n",
    "        return self.fc21(h1), self.fc22(h1)\n",
    "    \n",
    "    def forward(self, x):\n",
    "#         mu = self.enc_mu(x)\n",
    "#         logvar = self.enc_logvar(x)\n",
    "        \n",
    "        mu, logvar = self.encode(x)\n",
    "\n",
    "        s_tilde = self.reparameterize(mu, logvar)\n",
    "\n",
    "        s = self.softplus(s_tilde)\n",
    "        W = self.softplus(self.W_tilde)\n",
    "\n",
    "        # Predict y using the first node from s\n",
    "        y_hat = self.beta1(F.relu(self.beta(s)))\n",
    "\n",
    "        return s, W, mu, logvar, y_hat\n",
    "\n",
    "    def get_topic_dist(self, x):\n",
    "        \"\"\"\n",
    "        When it comes to looking at the norm, we want to calculate the\n",
    "        probability that a certain sample belongs to each topic.\n",
    "        \"\"\"\n",
    "        s, _ = self.encode(x)\n",
    "        W = self.parameters()  # TODO - figure out which parameters to add.\n",
    "        norm = torch.norm(s @ W, p=1)  # Return the L1 norm\n",
    "        # TODO -- add in the multinomial distribution.\n",
    "\n",
    "        # TODO - need to calculate elementwise product.\n",
    "        return s @ W / norm\n",
    "\n",
    "    def _kl_divergence(self, mean, logvar):\n",
    "        # see Appendix B from VAE paper:\n",
    "        # Kingma and Welling. Auto-Encoding Variational Bayes. ICLR, 2014\n",
    "        # https://arxiv.org/abs/1312.6114\n",
    "        # 0.5 * sum(1 + log(sigma^2) - mu^2 - sigma^2)\n",
    "        # BUT...\n",
    "        # Code extended to handle a more informative prior\n",
    "        # Referencing this derivation found here:\n",
    "        # https://stanford.edu/~jduchi/projects/general_notes.pdf\n",
    "        # Assume diagonal matrices for variance\n",
    "        KLD = -0.5 * torch.sum(\n",
    "            1\n",
    "            + logvar\n",
    "            - self.prior_logvar\n",
    "            - (mean - self.prior_mean) ** 2 / self.prior_logvar.exp()\n",
    "            - logvar.exp() / self.prior_logvar.exp()\n",
    "        )\n",
    "\n",
    "        return KLD\n",
    "\n",
    "    def loss_function(self, recon_x, x, mu, logvar, y, y_hat):\n",
    "        KLD = self._kl_divergence(mu, logvar)\n",
    "        PNLL = self.pois_nll(recon_x, x)\n",
    "        # This will disproportionately weight higher values of y\n",
    "        MSE = (y - y_hat).pow(2).mean()\n",
    "        return PNLL, MSE, KLD\n",
    "\n",
    "    @torch.no_grad()\n",
    "    def reconstruct(self, X):\n",
    "        s, W, mu, logvar = self.forward(X)\n",
    "\n",
    "        return s @ W"
   ]
  },
  {
   "cell_type": "code",
   "execution_count": 11,
   "id": "51bc7cb7",
   "metadata": {},
   "outputs": [],
   "source": [
    "if torch.cuda.is_available():\n",
    "    device = torch.device(\"cuda\")"
   ]
  },
  {
   "cell_type": "code",
   "execution_count": 29,
   "id": "5fa087c2",
   "metadata": {},
   "outputs": [],
   "source": [
    "model = VAE(tweets.vocab_size, num_components=1000, prior_mean=1, prior_logvar=0)\n",
    "model.to(device)\n",
    "\n",
    "EPOCHS = 100\n",
    "print_rate = 10\n",
    "optimizer = optim.Adam(model.parameters(), lr=1e-5)"
   ]
  },
  {
   "cell_type": "code",
   "execution_count": 13,
   "id": "6c79d4b9",
   "metadata": {},
   "outputs": [],
   "source": [
    "loss_results = {\n",
    "        \"train\": {\"pnll\": [], \"mse\": [], \"kld\": [], \"total\": []},\n",
    "        \"val\": {\"pnll\": [], \"mse\": [], \"kld\": [], \"total\": []},\n",
    "    }"
   ]
  },
  {
   "cell_type": "code",
   "execution_count": 30,
   "id": "1edb571a",
   "metadata": {},
   "outputs": [
    {
     "name": "stdout",
     "output_type": "stream",
     "text": [
      "Train epoch: 0 [0/9800 (0%)]\tLoss: 0.013342\n",
      "Train epoch: 0 [1280/9800 (13%)]\tLoss: 0.001311\n",
      "Train epoch: 0 [2560/9800 (26%)]\tLoss: 0.001141\n",
      "Train epoch: 0 [3840/9800 (39%)]\tLoss: 0.000765\n",
      "Train epoch: 0 [5120/9800 (52%)]\tLoss: 0.000551\n",
      "Train epoch: 0 [6400/9800 (65%)]\tLoss: 0.000469\n",
      "Train epoch: 0 [7680/9800 (78%)]\tLoss: 0.000439\n",
      "Train epoch: 0 [8960/9800 (91%)]\tLoss: 0.000481\n",
      "===> Epoch: 0 Average Loss: 0.0014\n",
      "PNLL:  816.4378493459601\n",
      "MSE:  0.18486817239930756\n",
      "KLD:  75941.02395148027\n",
      "Train epoch: 1 [0/9800 (0%)]\tLoss: 0.000462\n",
      "Train epoch: 1 [1280/9800 (13%)]\tLoss: 0.000437\n",
      "Train epoch: 1 [2560/9800 (26%)]\tLoss: 0.000498\n",
      "Train epoch: 1 [3840/9800 (39%)]\tLoss: 0.000552\n",
      "Train epoch: 1 [5120/9800 (52%)]\tLoss: 0.000462\n",
      "Train epoch: 1 [6400/9800 (65%)]\tLoss: 0.000422\n",
      "Train epoch: 1 [7680/9800 (78%)]\tLoss: 0.000368\n",
      "Train epoch: 1 [8960/9800 (91%)]\tLoss: 0.000484\n",
      "===> Epoch: 1 Average Loss: 0.0005\n",
      "PNLL:  808.0621281674033\n",
      "MSE:  0.06032053969408337\n",
      "KLD:  77163.72769325657\n",
      "Train epoch: 2 [0/9800 (0%)]\tLoss: 0.000465\n",
      "Train epoch: 2 [1280/9800 (13%)]\tLoss: 0.000398\n",
      "Train epoch: 2 [2560/9800 (26%)]\tLoss: 0.000489\n",
      "Train epoch: 2 [3840/9800 (39%)]\tLoss: 0.000534\n",
      "Train epoch: 2 [5120/9800 (52%)]\tLoss: 0.000464\n",
      "Train epoch: 2 [6400/9800 (65%)]\tLoss: 0.000385\n",
      "Train epoch: 2 [7680/9800 (78%)]\tLoss: 0.000389\n",
      "Train epoch: 2 [8960/9800 (91%)]\tLoss: 0.000474\n",
      "===> Epoch: 2 Average Loss: 0.0005\n",
      "PNLL:  802.4725173147101\n",
      "MSE:  0.059173977835790106\n",
      "KLD:  79075.87212171052\n",
      "Train epoch: 3 [0/9800 (0%)]\tLoss: 0.000444\n",
      "Train epoch: 3 [1280/9800 (13%)]\tLoss: 0.000357\n",
      "Train epoch: 3 [2560/9800 (26%)]\tLoss: 0.000457\n",
      "Train epoch: 3 [3840/9800 (39%)]\tLoss: 0.000528\n",
      "Train epoch: 3 [5120/9800 (52%)]\tLoss: 0.000439\n",
      "Train epoch: 3 [6400/9800 (65%)]\tLoss: 0.000375\n",
      "Train epoch: 3 [7680/9800 (78%)]\tLoss: 0.000374\n",
      "Train epoch: 3 [8960/9800 (91%)]\tLoss: 0.000460\n",
      "===> Epoch: 3 Average Loss: 0.0004\n",
      "PNLL:  795.7686149195621\n",
      "MSE:  0.05701941462527765\n",
      "KLD:  82355.7189555921\n",
      "Train epoch: 4 [0/9800 (0%)]\tLoss: 0.000424\n",
      "Train epoch: 4 [1280/9800 (13%)]\tLoss: 0.000352\n",
      "Train epoch: 4 [2560/9800 (26%)]\tLoss: 0.000450\n",
      "Train epoch: 4 [3840/9800 (39%)]\tLoss: 0.000513\n",
      "Train epoch: 4 [5120/9800 (52%)]\tLoss: 0.000422\n",
      "Train epoch: 4 [6400/9800 (65%)]\tLoss: 0.000353\n",
      "Train epoch: 4 [7680/9800 (78%)]\tLoss: 0.000363\n",
      "Train epoch: 4 [8960/9800 (91%)]\tLoss: 0.000432\n",
      "===> Epoch: 4 Average Loss: 0.0004\n",
      "PNLL:  787.9141387939453\n",
      "MSE:  0.05562308773790535\n",
      "KLD:  87563.81527549343\n",
      "Train epoch: 5 [0/9800 (0%)]\tLoss: 0.000422\n",
      "Train epoch: 5 [1280/9800 (13%)]\tLoss: 0.000347\n",
      "Train epoch: 5 [2560/9800 (26%)]\tLoss: 0.000441\n",
      "Train epoch: 5 [3840/9800 (39%)]\tLoss: 0.000487\n",
      "Train epoch: 5 [5120/9800 (52%)]\tLoss: 0.000412\n",
      "Train epoch: 5 [6400/9800 (65%)]\tLoss: 0.000348\n",
      "Train epoch: 5 [7680/9800 (78%)]\tLoss: 0.000333\n",
      "Train epoch: 5 [8960/9800 (91%)]\tLoss: 0.000432\n",
      "===> Epoch: 5 Average Loss: 0.0004\n",
      "PNLL:  779.248017160516\n",
      "MSE:  0.05400612685633333\n",
      "KLD:  95185.82874177632\n",
      "Train epoch: 6 [0/9800 (0%)]\tLoss: 0.000394\n",
      "Train epoch: 6 [1280/9800 (13%)]\tLoss: 0.000336\n",
      "Train epoch: 6 [2560/9800 (26%)]\tLoss: 0.000419\n",
      "Train epoch: 6 [3840/9800 (39%)]\tLoss: 0.000485\n",
      "Train epoch: 6 [5120/9800 (52%)]\tLoss: 0.000409\n",
      "Train epoch: 6 [6400/9800 (65%)]\tLoss: 0.000335\n",
      "Train epoch: 6 [7680/9800 (78%)]\tLoss: 0.000333\n",
      "Train epoch: 6 [8960/9800 (91%)]\tLoss: 0.000427\n",
      "===> Epoch: 6 Average Loss: 0.0004\n",
      "PNLL:  770.0886254561575\n",
      "MSE:  0.052591581485773385\n",
      "KLD:  104694.18662623355\n",
      "Train epoch: 7 [0/9800 (0%)]\tLoss: 0.000400\n",
      "Train epoch: 7 [1280/9800 (13%)]\tLoss: 0.000341\n",
      "Train epoch: 7 [2560/9800 (26%)]\tLoss: 0.000408\n",
      "Train epoch: 7 [3840/9800 (39%)]\tLoss: 0.000484\n",
      "Train epoch: 7 [5120/9800 (52%)]\tLoss: 0.000397\n",
      "Train epoch: 7 [6400/9800 (65%)]\tLoss: 0.000334\n",
      "Train epoch: 7 [7680/9800 (78%)]\tLoss: 0.000321\n",
      "Train epoch: 7 [8960/9800 (91%)]\tLoss: 0.000411\n",
      "===> Epoch: 7 Average Loss: 0.0004\n",
      "PNLL:  759.6293318899054\n",
      "MSE:  0.051445131729307925\n",
      "KLD:  116541.44757401316\n",
      "Train epoch: 8 [0/9800 (0%)]\tLoss: 0.000381\n",
      "Train epoch: 8 [1280/9800 (13%)]\tLoss: 0.000313\n",
      "Train epoch: 8 [2560/9800 (26%)]\tLoss: 0.000410\n",
      "Train epoch: 8 [3840/9800 (39%)]\tLoss: 0.000466\n",
      "Train epoch: 8 [5120/9800 (52%)]\tLoss: 0.000384\n",
      "Train epoch: 8 [6400/9800 (65%)]\tLoss: 0.000319\n",
      "Train epoch: 8 [7680/9800 (78%)]\tLoss: 0.000316\n",
      "Train epoch: 8 [8960/9800 (91%)]\tLoss: 0.000402\n",
      "===> Epoch: 8 Average Loss: 0.0004\n",
      "PNLL:  750.4924886603104\n",
      "MSE:  0.050399858063380966\n",
      "KLD:  129086.45476973684\n",
      "Train epoch: 9 [0/9800 (0%)]\tLoss: 0.000373\n",
      "Train epoch: 9 [1280/9800 (13%)]\tLoss: 0.000318\n",
      "Train epoch: 9 [2560/9800 (26%)]\tLoss: 0.000412\n",
      "Train epoch: 9 [3840/9800 (39%)]\tLoss: 0.000459\n",
      "Train epoch: 9 [5120/9800 (52%)]\tLoss: 0.000386\n",
      "Train epoch: 9 [6400/9800 (65%)]\tLoss: 0.000311\n",
      "Train epoch: 9 [7680/9800 (78%)]\tLoss: 0.000309\n",
      "Train epoch: 9 [8960/9800 (91%)]\tLoss: 0.000398\n",
      "===> Epoch: 9 Average Loss: 0.0004\n",
      "PNLL:  741.3656704551295\n",
      "MSE:  0.0496888373929419\n",
      "KLD:  142134.669921875\n",
      "Train epoch: 10 [0/9800 (0%)]\tLoss: 0.000370\n",
      "Train epoch: 10 [1280/9800 (13%)]\tLoss: 0.000309\n",
      "Train epoch: 10 [2560/9800 (26%)]\tLoss: 0.000397\n",
      "Train epoch: 10 [3840/9800 (39%)]\tLoss: 0.000456\n",
      "Train epoch: 10 [5120/9800 (52%)]\tLoss: 0.000371\n",
      "Train epoch: 10 [6400/9800 (65%)]\tLoss: 0.000306\n",
      "Train epoch: 10 [7680/9800 (78%)]\tLoss: 0.000306\n",
      "Train epoch: 10 [8960/9800 (91%)]\tLoss: 0.000391\n",
      "===> Epoch: 10 Average Loss: 0.0004\n",
      "PNLL:  732.4014145700555\n",
      "MSE:  0.04910965724603126\n",
      "KLD:  155364.85382401315\n",
      "Train epoch: 11 [0/9800 (0%)]\tLoss: 0.000368\n",
      "Train epoch: 11 [1280/9800 (13%)]\tLoss: 0.000308\n",
      "Train epoch: 11 [2560/9800 (26%)]\tLoss: 0.000394\n",
      "Train epoch: 11 [3840/9800 (39%)]\tLoss: 0.000454\n",
      "Train epoch: 11 [5120/9800 (52%)]\tLoss: 0.000373\n",
      "Train epoch: 11 [6400/9800 (65%)]\tLoss: 0.000308\n",
      "Train epoch: 11 [7680/9800 (78%)]\tLoss: 0.000300\n",
      "Train epoch: 11 [8960/9800 (91%)]\tLoss: 0.000392\n",
      "===> Epoch: 11 Average Loss: 0.0004\n",
      "PNLL:  724.6101427580181\n",
      "MSE:  0.04859033016193854\n",
      "KLD:  168295.72645970396\n",
      "Train epoch: 12 [0/9800 (0%)]\tLoss: 0.000364\n",
      "Train epoch: 12 [1280/9800 (13%)]\tLoss: 0.000308\n",
      "Train epoch: 12 [2560/9800 (26%)]\tLoss: 0.000392\n",
      "Train epoch: 12 [3840/9800 (39%)]\tLoss: 0.000454\n",
      "Train epoch: 12 [5120/9800 (52%)]\tLoss: 0.000370\n",
      "Train epoch: 12 [6400/9800 (65%)]\tLoss: 0.000308\n",
      "Train epoch: 12 [7680/9800 (78%)]\tLoss: 0.000298\n",
      "Train epoch: 12 [8960/9800 (91%)]\tLoss: 0.000389\n",
      "===> Epoch: 12 Average Loss: 0.0004\n",
      "PNLL:  717.2602627402857\n",
      "MSE:  0.048237905200374756\n",
      "KLD:  181530.5347450658\n",
      "Train epoch: 13 [0/9800 (0%)]\tLoss: 0.000360\n",
      "Train epoch: 13 [1280/9800 (13%)]\tLoss: 0.000304\n",
      "Train epoch: 13 [2560/9800 (26%)]\tLoss: 0.000391\n",
      "Train epoch: 13 [3840/9800 (39%)]\tLoss: 0.000447\n",
      "Train epoch: 13 [5120/9800 (52%)]\tLoss: 0.000367\n",
      "Train epoch: 13 [6400/9800 (65%)]\tLoss: 0.000302\n",
      "Train epoch: 13 [7680/9800 (78%)]\tLoss: 0.000300\n",
      "Train epoch: 13 [8960/9800 (91%)]\tLoss: 0.000388\n",
      "===> Epoch: 13 Average Loss: 0.0004\n",
      "PNLL:  709.8929403204667\n",
      "MSE:  0.04792679071818527\n",
      "KLD:  194559.8869243421\n",
      "Train epoch: 14 [0/9800 (0%)]\tLoss: 0.000355\n",
      "Train epoch: 14 [1280/9800 (13%)]\tLoss: 0.000302\n",
      "Train epoch: 14 [2560/9800 (26%)]\tLoss: 0.000387\n",
      "Train epoch: 14 [3840/9800 (39%)]\tLoss: 0.000444\n",
      "Train epoch: 14 [5120/9800 (52%)]\tLoss: 0.000366\n",
      "Train epoch: 14 [6400/9800 (65%)]\tLoss: 0.000297\n",
      "Train epoch: 14 [7680/9800 (78%)]\tLoss: 0.000294\n",
      "Train epoch: 14 [8960/9800 (91%)]\tLoss: 0.000384\n",
      "===> Epoch: 14 Average Loss: 0.0004\n",
      "PNLL:  703.9309684351871\n",
      "MSE:  0.04761441424489021\n",
      "KLD:  207356.220703125\n",
      "Train epoch: 15 [0/9800 (0%)]\tLoss: 0.000354\n",
      "Train epoch: 15 [1280/9800 (13%)]\tLoss: 0.000295\n",
      "Train epoch: 15 [2560/9800 (26%)]\tLoss: 0.000386\n",
      "Train epoch: 15 [3840/9800 (39%)]\tLoss: 0.000440\n",
      "Train epoch: 15 [5120/9800 (52%)]\tLoss: 0.000362\n",
      "Train epoch: 15 [6400/9800 (65%)]\tLoss: 0.000300\n",
      "Train epoch: 15 [7680/9800 (78%)]\tLoss: 0.000292\n",
      "Train epoch: 15 [8960/9800 (91%)]\tLoss: 0.000384\n",
      "===> Epoch: 15 Average Loss: 0.0004\n",
      "PNLL:  698.321926719264\n",
      "MSE:  0.047459174829878305\n",
      "KLD:  219330.8240131579\n",
      "Train epoch: 16 [0/9800 (0%)]\tLoss: 0.000354\n",
      "Train epoch: 16 [1280/9800 (13%)]\tLoss: 0.000298\n",
      "Train epoch: 16 [2560/9800 (26%)]\tLoss: 0.000385\n",
      "Train epoch: 16 [3840/9800 (39%)]\tLoss: 0.000441\n",
      "Train epoch: 16 [5120/9800 (52%)]\tLoss: 0.000359\n",
      "Train epoch: 16 [6400/9800 (65%)]\tLoss: 0.000297\n",
      "Train epoch: 16 [7680/9800 (78%)]\tLoss: 0.000294\n"
     ]
    },
    {
     "name": "stdout",
     "output_type": "stream",
     "text": [
      "Train epoch: 16 [8960/9800 (91%)]\tLoss: 0.000384\n",
      "===> Epoch: 16 Average Loss: 0.0004\n",
      "PNLL:  692.5684517308285\n",
      "MSE:  0.04730771629041747\n",
      "KLD:  231094.51110197368\n",
      "Train epoch: 17 [0/9800 (0%)]\tLoss: 0.000353\n",
      "Train epoch: 17 [1280/9800 (13%)]\tLoss: 0.000295\n",
      "Train epoch: 17 [2560/9800 (26%)]\tLoss: 0.000385\n",
      "Train epoch: 17 [3840/9800 (39%)]\tLoss: 0.000440\n",
      "Train epoch: 17 [5120/9800 (52%)]\tLoss: 0.000359\n",
      "Train epoch: 17 [6400/9800 (65%)]\tLoss: 0.000296\n",
      "Train epoch: 17 [7680/9800 (78%)]\tLoss: 0.000292\n",
      "Train epoch: 17 [8960/9800 (91%)]\tLoss: 0.000381\n",
      "===> Epoch: 17 Average Loss: 0.0004\n",
      "PNLL:  688.0264948794717\n",
      "MSE:  0.04717904089116737\n",
      "KLD:  242945.26624177632\n",
      "Train epoch: 18 [0/9800 (0%)]\tLoss: 0.000353\n",
      "Train epoch: 18 [1280/9800 (13%)]\tLoss: 0.000295\n",
      "Train epoch: 18 [2560/9800 (26%)]\tLoss: 0.000385\n",
      "Train epoch: 18 [3840/9800 (39%)]\tLoss: 0.000439\n",
      "Train epoch: 18 [5120/9800 (52%)]\tLoss: 0.000358\n",
      "Train epoch: 18 [6400/9800 (65%)]\tLoss: 0.000295\n",
      "Train epoch: 18 [7680/9800 (78%)]\tLoss: 0.000291\n",
      "Train epoch: 18 [8960/9800 (91%)]\tLoss: 0.000382\n",
      "===> Epoch: 18 Average Loss: 0.0004\n",
      "PNLL:  683.1814270019531\n",
      "MSE:  0.047053959661800614\n",
      "KLD:  254365.65152138157\n",
      "Train epoch: 19 [0/9800 (0%)]\tLoss: 0.000353\n",
      "Train epoch: 19 [1280/9800 (13%)]\tLoss: 0.000295\n",
      "Train epoch: 19 [2560/9800 (26%)]\tLoss: 0.000383\n",
      "Train epoch: 19 [3840/9800 (39%)]\tLoss: 0.000440\n",
      "Train epoch: 19 [5120/9800 (52%)]\tLoss: 0.000360\n",
      "Train epoch: 19 [6400/9800 (65%)]\tLoss: 0.000294\n",
      "Train epoch: 19 [7680/9800 (78%)]\tLoss: 0.000291\n",
      "Train epoch: 19 [8960/9800 (91%)]\tLoss: 0.000381\n",
      "===> Epoch: 19 Average Loss: 0.0004\n",
      "PNLL:  678.8151100560239\n",
      "MSE:  0.0470038527426751\n",
      "KLD:  265410.5382401316\n",
      "Train epoch: 20 [0/9800 (0%)]\tLoss: 0.000352\n",
      "Train epoch: 20 [1280/9800 (13%)]\tLoss: 0.000293\n",
      "Train epoch: 20 [2560/9800 (26%)]\tLoss: 0.000384\n",
      "Train epoch: 20 [3840/9800 (39%)]\tLoss: 0.000438\n",
      "Train epoch: 20 [5120/9800 (52%)]\tLoss: 0.000359\n",
      "Train epoch: 20 [6400/9800 (65%)]\tLoss: 0.000294\n",
      "Train epoch: 20 [7680/9800 (78%)]\tLoss: 0.000290\n",
      "Train epoch: 20 [8960/9800 (91%)]\tLoss: 0.000380\n",
      "===> Epoch: 20 Average Loss: 0.0004\n",
      "PNLL:  674.6457704242907\n",
      "MSE:  0.04689028628758694\n",
      "KLD:  276258.05283717107\n",
      "Train epoch: 21 [0/9800 (0%)]\tLoss: 0.000352\n",
      "Train epoch: 21 [1280/9800 (13%)]\tLoss: 0.000292\n",
      "Train epoch: 21 [2560/9800 (26%)]\tLoss: 0.000382\n",
      "Train epoch: 21 [3840/9800 (39%)]\tLoss: 0.000437\n",
      "Train epoch: 21 [5120/9800 (52%)]\tLoss: 0.000359\n",
      "Train epoch: 21 [6400/9800 (65%)]\tLoss: 0.000292\n",
      "Train epoch: 21 [7680/9800 (78%)]\tLoss: 0.000289\n",
      "Train epoch: 21 [8960/9800 (91%)]\tLoss: 0.000380\n",
      "===> Epoch: 21 Average Loss: 0.0004\n",
      "PNLL:  670.9746230276007\n",
      "MSE:  0.04681106019569071\n",
      "KLD:  286781.00657894736\n",
      "Train epoch: 22 [0/9800 (0%)]\tLoss: 0.000351\n",
      "Train epoch: 22 [1280/9800 (13%)]\tLoss: 0.000291\n",
      "Train epoch: 22 [2560/9800 (26%)]\tLoss: 0.000381\n",
      "Train epoch: 22 [3840/9800 (39%)]\tLoss: 0.000436\n",
      "Train epoch: 22 [5120/9800 (52%)]\tLoss: 0.000358\n",
      "Train epoch: 22 [6400/9800 (65%)]\tLoss: 0.000291\n",
      "Train epoch: 22 [7680/9800 (78%)]\tLoss: 0.000289\n",
      "Train epoch: 22 [8960/9800 (91%)]\tLoss: 0.000380\n",
      "===> Epoch: 22 Average Loss: 0.0004\n",
      "PNLL:  667.6782604016756\n",
      "MSE:  0.046748759175993894\n",
      "KLD:  296587.5974506579\n",
      "Train epoch: 23 [0/9800 (0%)]\tLoss: 0.000350\n",
      "Train epoch: 23 [1280/9800 (13%)]\tLoss: 0.000290\n",
      "Train epoch: 23 [2560/9800 (26%)]\tLoss: 0.000380\n",
      "Train epoch: 23 [3840/9800 (39%)]\tLoss: 0.000436\n",
      "Train epoch: 23 [5120/9800 (52%)]\tLoss: 0.000356\n",
      "Train epoch: 23 [6400/9800 (65%)]\tLoss: 0.000294\n",
      "Train epoch: 23 [7680/9800 (78%)]\tLoss: 0.000288\n",
      "Train epoch: 23 [8960/9800 (91%)]\tLoss: 0.000380\n",
      "===> Epoch: 23 Average Loss: 0.0004\n",
      "PNLL:  664.4398851896588\n",
      "MSE:  0.046730074590366134\n",
      "KLD:  305921.1124588816\n",
      "Train epoch: 24 [0/9800 (0%)]\tLoss: 0.000351\n",
      "Train epoch: 24 [1280/9800 (13%)]\tLoss: 0.000290\n",
      "Train epoch: 24 [2560/9800 (26%)]\tLoss: 0.000381\n",
      "Train epoch: 24 [3840/9800 (39%)]\tLoss: 0.000436\n",
      "Train epoch: 24 [5120/9800 (52%)]\tLoss: 0.000357\n",
      "Train epoch: 24 [6400/9800 (65%)]\tLoss: 0.000291\n",
      "Train epoch: 24 [7680/9800 (78%)]\tLoss: 0.000289\n",
      "Train epoch: 24 [8960/9800 (91%)]\tLoss: 0.000379\n",
      "===> Epoch: 24 Average Loss: 0.0004\n",
      "PNLL:  661.1365774054276\n",
      "MSE:  0.04668440993287062\n",
      "KLD:  315096.7861842105\n",
      "Train epoch: 25 [0/9800 (0%)]\tLoss: 0.000350\n",
      "Train epoch: 25 [1280/9800 (13%)]\tLoss: 0.000289\n",
      "Train epoch: 25 [2560/9800 (26%)]\tLoss: 0.000380\n",
      "Train epoch: 25 [3840/9800 (39%)]\tLoss: 0.000436\n",
      "Train epoch: 25 [5120/9800 (52%)]\tLoss: 0.000356\n",
      "Train epoch: 25 [6400/9800 (65%)]\tLoss: 0.000292\n",
      "Train epoch: 25 [7680/9800 (78%)]\tLoss: 0.000288\n",
      "Train epoch: 25 [8960/9800 (91%)]\tLoss: 0.000379\n",
      "===> Epoch: 25 Average Loss: 0.0004\n",
      "PNLL:  658.0913953279194\n",
      "MSE:  0.0466331897401496\n",
      "KLD:  323712.7255345395\n",
      "Train epoch: 26 [0/9800 (0%)]\tLoss: 0.000350\n",
      "Train epoch: 26 [1280/9800 (13%)]\tLoss: 0.000290\n",
      "Train epoch: 26 [2560/9800 (26%)]\tLoss: 0.000379\n",
      "Train epoch: 26 [3840/9800 (39%)]\tLoss: 0.000436\n",
      "Train epoch: 26 [5120/9800 (52%)]\tLoss: 0.000356\n",
      "Train epoch: 26 [6400/9800 (65%)]\tLoss: 0.000291\n",
      "Train epoch: 26 [7680/9800 (78%)]\tLoss: 0.000288\n",
      "Train epoch: 26 [8960/9800 (91%)]\tLoss: 0.000379\n",
      "===> Epoch: 26 Average Loss: 0.0004\n",
      "PNLL:  655.3366008557772\n",
      "MSE:  0.04659265284671595\n",
      "KLD:  332441.24609375\n",
      "Train epoch: 27 [0/9800 (0%)]\tLoss: 0.000350\n",
      "Train epoch: 27 [1280/9800 (13%)]\tLoss: 0.000290\n",
      "Train epoch: 27 [2560/9800 (26%)]\tLoss: 0.000379\n",
      "Train epoch: 27 [3840/9800 (39%)]\tLoss: 0.000437\n",
      "Train epoch: 27 [5120/9800 (52%)]\tLoss: 0.000355\n",
      "Train epoch: 27 [6400/9800 (65%)]\tLoss: 0.000290\n",
      "Train epoch: 27 [7680/9800 (78%)]\tLoss: 0.000288\n",
      "Train epoch: 27 [8960/9800 (91%)]\tLoss: 0.000379\n",
      "===> Epoch: 27 Average Loss: 0.0004\n",
      "PNLL:  653.0700539036801\n",
      "MSE:  0.04656297885077564\n",
      "KLD:  340683.6398026316\n",
      "Train epoch: 28 [0/9800 (0%)]\tLoss: 0.000350\n",
      "Train epoch: 28 [1280/9800 (13%)]\tLoss: 0.000290\n",
      "Train epoch: 28 [2560/9800 (26%)]\tLoss: 0.000379\n",
      "Train epoch: 28 [3840/9800 (39%)]\tLoss: 0.000437\n",
      "Train epoch: 28 [5120/9800 (52%)]\tLoss: 0.000356\n",
      "Train epoch: 28 [6400/9800 (65%)]\tLoss: 0.000291\n",
      "Train epoch: 28 [7680/9800 (78%)]\tLoss: 0.000288\n",
      "Train epoch: 28 [8960/9800 (91%)]\tLoss: 0.000379\n",
      "===> Epoch: 28 Average Loss: 0.0004\n",
      "PNLL:  650.5742773758737\n",
      "MSE:  0.04655087351995079\n",
      "KLD:  348510.8053042763\n",
      "Train epoch: 29 [0/9800 (0%)]\tLoss: 0.000349\n",
      "Train epoch: 29 [1280/9800 (13%)]\tLoss: 0.000289\n",
      "Train epoch: 29 [2560/9800 (26%)]\tLoss: 0.000379\n",
      "Train epoch: 29 [3840/9800 (39%)]\tLoss: 0.000437\n",
      "Train epoch: 29 [5120/9800 (52%)]\tLoss: 0.000355\n",
      "Train epoch: 29 [6400/9800 (65%)]\tLoss: 0.000289\n",
      "Train epoch: 29 [7680/9800 (78%)]\tLoss: 0.000287\n",
      "Train epoch: 29 [8960/9800 (91%)]\tLoss: 0.000378\n",
      "===> Epoch: 29 Average Loss: 0.0004\n",
      "PNLL:  648.2340200323807\n",
      "MSE:  0.046515973725993386\n",
      "KLD:  356052.91221217107\n",
      "Train epoch: 30 [0/9800 (0%)]\tLoss: 0.000349\n",
      "Train epoch: 30 [1280/9800 (13%)]\tLoss: 0.000289\n",
      "Train epoch: 30 [2560/9800 (26%)]\tLoss: 0.000379\n",
      "Train epoch: 30 [3840/9800 (39%)]\tLoss: 0.000437\n",
      "Train epoch: 30 [5120/9800 (52%)]\tLoss: 0.000355\n",
      "Train epoch: 30 [6400/9800 (65%)]\tLoss: 0.000288\n",
      "Train epoch: 30 [7680/9800 (78%)]\tLoss: 0.000287\n",
      "Train epoch: 30 [8960/9800 (91%)]\tLoss: 0.000378\n",
      "===> Epoch: 30 Average Loss: 0.0004\n",
      "PNLL:  646.2205762361225\n",
      "MSE:  0.04649438924695316\n",
      "KLD:  363533.0470805921\n",
      "Train epoch: 31 [0/9800 (0%)]\tLoss: 0.000348\n",
      "Train epoch: 31 [1280/9800 (13%)]\tLoss: 0.000289\n",
      "Train epoch: 31 [2560/9800 (26%)]\tLoss: 0.000379\n",
      "Train epoch: 31 [3840/9800 (39%)]\tLoss: 0.000436\n",
      "Train epoch: 31 [5120/9800 (52%)]\tLoss: 0.000355\n",
      "Train epoch: 31 [6400/9800 (65%)]\tLoss: 0.000289\n",
      "Train epoch: 31 [7680/9800 (78%)]\tLoss: 0.000287\n",
      "Train epoch: 31 [8960/9800 (91%)]\tLoss: 0.000378\n",
      "===> Epoch: 31 Average Loss: 0.0004\n",
      "PNLL:  644.0878625167044\n",
      "MSE:  0.04645708320956481\n",
      "KLD:  370443.50616776315\n",
      "Train epoch: 32 [0/9800 (0%)]\tLoss: 0.000348\n",
      "Train epoch: 32 [1280/9800 (13%)]\tLoss: 0.000289\n",
      "Train epoch: 32 [2560/9800 (26%)]\tLoss: 0.000379\n",
      "Train epoch: 32 [3840/9800 (39%)]\tLoss: 0.000435\n",
      "Train epoch: 32 [5120/9800 (52%)]\tLoss: 0.000355\n",
      "Train epoch: 32 [6400/9800 (65%)]\tLoss: 0.000288\n",
      "Train epoch: 32 [7680/9800 (78%)]\tLoss: 0.000287\n",
      "Train epoch: 32 [8960/9800 (91%)]\tLoss: 0.000378\n",
      "===> Epoch: 32 Average Loss: 0.0004\n",
      "PNLL:  641.9703730532998\n",
      "MSE:  0.04644302077787487\n",
      "KLD:  377278.2964638158\n",
      "Train epoch: 33 [0/9800 (0%)]\tLoss: 0.000348\n"
     ]
    },
    {
     "name": "stdout",
     "output_type": "stream",
     "text": [
      "Train epoch: 33 [1280/9800 (13%)]\tLoss: 0.000289\n",
      "Train epoch: 33 [2560/9800 (26%)]\tLoss: 0.000378\n",
      "Train epoch: 33 [3840/9800 (39%)]\tLoss: 0.000435\n",
      "Train epoch: 33 [5120/9800 (52%)]\tLoss: 0.000354\n",
      "Train epoch: 33 [6400/9800 (65%)]\tLoss: 0.000289\n",
      "Train epoch: 33 [7680/9800 (78%)]\tLoss: 0.000286\n",
      "Train epoch: 33 [8960/9800 (91%)]\tLoss: 0.000377\n",
      "===> Epoch: 33 Average Loss: 0.0004\n",
      "PNLL:  640.2648516203228\n",
      "MSE:  0.04642450005600327\n",
      "KLD:  383982.1837993421\n",
      "Train epoch: 34 [0/9800 (0%)]\tLoss: 0.000348\n",
      "Train epoch: 34 [1280/9800 (13%)]\tLoss: 0.000289\n",
      "Train epoch: 34 [2560/9800 (26%)]\tLoss: 0.000378\n",
      "Train epoch: 34 [3840/9800 (39%)]\tLoss: 0.000435\n",
      "Train epoch: 34 [5120/9800 (52%)]\tLoss: 0.000354\n",
      "Train epoch: 34 [6400/9800 (65%)]\tLoss: 0.000288\n",
      "Train epoch: 34 [7680/9800 (78%)]\tLoss: 0.000287\n",
      "Train epoch: 34 [8960/9800 (91%)]\tLoss: 0.000377\n",
      "===> Epoch: 34 Average Loss: 0.0004\n",
      "PNLL:  638.3986342580695\n",
      "MSE:  0.04640994760158815\n",
      "KLD:  390708.7263569079\n",
      "Train epoch: 35 [0/9800 (0%)]\tLoss: 0.000348\n",
      "Train epoch: 35 [1280/9800 (13%)]\tLoss: 0.000289\n",
      "Train epoch: 35 [2560/9800 (26%)]\tLoss: 0.000379\n",
      "Train epoch: 35 [3840/9800 (39%)]\tLoss: 0.000435\n",
      "Train epoch: 35 [5120/9800 (52%)]\tLoss: 0.000355\n",
      "Train epoch: 35 [6400/9800 (65%)]\tLoss: 0.000289\n",
      "Train epoch: 35 [7680/9800 (78%)]\tLoss: 0.000287\n",
      "Train epoch: 35 [8960/9800 (91%)]\tLoss: 0.000378\n",
      "===> Epoch: 35 Average Loss: 0.0004\n",
      "PNLL:  636.7737049303556\n",
      "MSE:  0.04639925268527709\n",
      "KLD:  397382.6239720395\n",
      "Train epoch: 36 [0/9800 (0%)]\tLoss: 0.000347\n",
      "Train epoch: 36 [1280/9800 (13%)]\tLoss: 0.000288\n",
      "Train epoch: 36 [2560/9800 (26%)]\tLoss: 0.000379\n",
      "Train epoch: 36 [3840/9800 (39%)]\tLoss: 0.000435\n",
      "Train epoch: 36 [5120/9800 (52%)]\tLoss: 0.000354\n",
      "Train epoch: 36 [6400/9800 (65%)]\tLoss: 0.000289\n",
      "Train epoch: 36 [7680/9800 (78%)]\tLoss: 0.000286\n",
      "Train epoch: 36 [8960/9800 (91%)]\tLoss: 0.000377\n",
      "===> Epoch: 36 Average Loss: 0.0004\n",
      "PNLL:  635.1101941560444\n",
      "MSE:  0.046385041241975206\n",
      "KLD:  403649.19921875\n",
      "Train epoch: 37 [0/9800 (0%)]\tLoss: 0.000347\n",
      "Train epoch: 37 [1280/9800 (13%)]\tLoss: 0.000289\n",
      "Train epoch: 37 [2560/9800 (26%)]\tLoss: 0.000379\n",
      "Train epoch: 37 [3840/9800 (39%)]\tLoss: 0.000436\n",
      "Train epoch: 37 [5120/9800 (52%)]\tLoss: 0.000354\n",
      "Train epoch: 37 [6400/9800 (65%)]\tLoss: 0.000288\n",
      "Train epoch: 37 [7680/9800 (78%)]\tLoss: 0.000286\n",
      "Train epoch: 37 [8960/9800 (91%)]\tLoss: 0.000377\n",
      "===> Epoch: 37 Average Loss: 0.0004\n",
      "PNLL:  633.6129029926501\n",
      "MSE:  0.04638609260712799\n",
      "KLD:  410208.9897203947\n",
      "Train epoch: 38 [0/9800 (0%)]\tLoss: 0.000347\n",
      "Train epoch: 38 [1280/9800 (13%)]\tLoss: 0.000288\n",
      "Train epoch: 38 [2560/9800 (26%)]\tLoss: 0.000378\n",
      "Train epoch: 38 [3840/9800 (39%)]\tLoss: 0.000435\n",
      "Train epoch: 38 [5120/9800 (52%)]\tLoss: 0.000354\n",
      "Train epoch: 38 [6400/9800 (65%)]\tLoss: 0.000287\n",
      "Train epoch: 38 [7680/9800 (78%)]\tLoss: 0.000287\n",
      "Train epoch: 38 [8960/9800 (91%)]\tLoss: 0.000376\n",
      "===> Epoch: 38 Average Loss: 0.0004\n",
      "PNLL:  632.2894351356908\n",
      "MSE:  0.046366256612696145\n",
      "KLD:  416224.3153782895\n",
      "Train epoch: 39 [0/9800 (0%)]\tLoss: 0.000347\n",
      "Train epoch: 39 [1280/9800 (13%)]\tLoss: 0.000288\n",
      "Train epoch: 39 [2560/9800 (26%)]\tLoss: 0.000378\n",
      "Train epoch: 39 [3840/9800 (39%)]\tLoss: 0.000435\n",
      "Train epoch: 39 [5120/9800 (52%)]\tLoss: 0.000354\n",
      "Train epoch: 39 [6400/9800 (65%)]\tLoss: 0.000287\n",
      "Train epoch: 39 [7680/9800 (78%)]\tLoss: 0.000286\n",
      "Train epoch: 39 [8960/9800 (91%)]\tLoss: 0.000377\n",
      "===> Epoch: 39 Average Loss: 0.0004\n",
      "PNLL:  630.7315288342928\n",
      "MSE:  0.046361672446915976\n",
      "KLD:  421787.54111842107\n",
      "Train epoch: 40 [0/9800 (0%)]\tLoss: 0.000347\n",
      "Train epoch: 40 [1280/9800 (13%)]\tLoss: 0.000288\n",
      "Train epoch: 40 [2560/9800 (26%)]\tLoss: 0.000378\n",
      "Train epoch: 40 [3840/9800 (39%)]\tLoss: 0.000435\n",
      "Train epoch: 40 [5120/9800 (52%)]\tLoss: 0.000354\n",
      "Train epoch: 40 [6400/9800 (65%)]\tLoss: 0.000288\n",
      "Train epoch: 40 [7680/9800 (78%)]\tLoss: 0.000286\n",
      "Train epoch: 40 [8960/9800 (91%)]\tLoss: 0.000376\n",
      "===> Epoch: 40 Average Loss: 0.0004\n",
      "PNLL:  629.4034504137541\n",
      "MSE:  0.04634356812426919\n",
      "KLD:  427394.78782894736\n",
      "Train epoch: 41 [0/9800 (0%)]\tLoss: 0.000347\n",
      "Train epoch: 41 [1280/9800 (13%)]\tLoss: 0.000288\n",
      "Train epoch: 41 [2560/9800 (26%)]\tLoss: 0.000378\n",
      "Train epoch: 41 [3840/9800 (39%)]\tLoss: 0.000435\n",
      "Train epoch: 41 [5120/9800 (52%)]\tLoss: 0.000354\n",
      "Train epoch: 41 [6400/9800 (65%)]\tLoss: 0.000288\n",
      "Train epoch: 41 [7680/9800 (78%)]\tLoss: 0.000286\n",
      "Train epoch: 41 [8960/9800 (91%)]\tLoss: 0.000377\n",
      "===> Epoch: 41 Average Loss: 0.0004\n",
      "PNLL:  627.7258710359272\n",
      "MSE:  0.04633971190962352\n",
      "KLD:  433004.62726151315\n",
      "Train epoch: 42 [0/9800 (0%)]\tLoss: 0.000347\n",
      "Train epoch: 42 [1280/9800 (13%)]\tLoss: 0.000288\n",
      "Train epoch: 42 [2560/9800 (26%)]\tLoss: 0.000378\n",
      "Train epoch: 42 [3840/9800 (39%)]\tLoss: 0.000435\n",
      "Train epoch: 42 [5120/9800 (52%)]\tLoss: 0.000354\n",
      "Train epoch: 42 [6400/9800 (65%)]\tLoss: 0.000287\n",
      "Train epoch: 42 [7680/9800 (78%)]\tLoss: 0.000286\n",
      "Train epoch: 42 [8960/9800 (91%)]\tLoss: 0.000377\n",
      "===> Epoch: 42 Average Loss: 0.0004\n",
      "PNLL:  626.3847343043277\n",
      "MSE:  0.04632712209499196\n",
      "KLD:  438284.11492598685\n",
      "Train epoch: 43 [0/9800 (0%)]\tLoss: 0.000347\n",
      "Train epoch: 43 [1280/9800 (13%)]\tLoss: 0.000288\n",
      "Train epoch: 43 [2560/9800 (26%)]\tLoss: 0.000378\n",
      "Train epoch: 43 [3840/9800 (39%)]\tLoss: 0.000434\n",
      "Train epoch: 43 [5120/9800 (52%)]\tLoss: 0.000354\n",
      "Train epoch: 43 [6400/9800 (65%)]\tLoss: 0.000288\n",
      "Train epoch: 43 [7680/9800 (78%)]\tLoss: 0.000286\n",
      "Train epoch: 43 [8960/9800 (91%)]\tLoss: 0.000376\n",
      "===> Epoch: 43 Average Loss: 0.0004\n",
      "PNLL:  625.0935026469983\n",
      "MSE:  0.046319732246430295\n",
      "KLD:  443589.83819901315\n",
      "Train epoch: 44 [0/9800 (0%)]\tLoss: 0.000347\n",
      "Train epoch: 44 [1280/9800 (13%)]\tLoss: 0.000288\n",
      "Train epoch: 44 [2560/9800 (26%)]\tLoss: 0.000378\n",
      "Train epoch: 44 [3840/9800 (39%)]\tLoss: 0.000434\n",
      "Train epoch: 44 [5120/9800 (52%)]\tLoss: 0.000354\n",
      "Train epoch: 44 [6400/9800 (65%)]\tLoss: 0.000287\n",
      "Train epoch: 44 [7680/9800 (78%)]\tLoss: 0.000286\n",
      "Train epoch: 44 [8960/9800 (91%)]\tLoss: 0.000376\n",
      "===> Epoch: 44 Average Loss: 0.0004\n",
      "PNLL:  623.788354974044\n",
      "MSE:  0.046312415825301094\n",
      "KLD:  448923.9210526316\n",
      "Train epoch: 45 [0/9800 (0%)]\tLoss: 0.000347\n",
      "Train epoch: 45 [1280/9800 (13%)]\tLoss: 0.000288\n",
      "Train epoch: 45 [2560/9800 (26%)]\tLoss: 0.000378\n",
      "Train epoch: 45 [3840/9800 (39%)]\tLoss: 0.000434\n",
      "Train epoch: 45 [5120/9800 (52%)]\tLoss: 0.000354\n",
      "Train epoch: 45 [6400/9800 (65%)]\tLoss: 0.000287\n",
      "Train epoch: 45 [7680/9800 (78%)]\tLoss: 0.000286\n",
      "Train epoch: 45 [8960/9800 (91%)]\tLoss: 0.000376\n",
      "===> Epoch: 45 Average Loss: 0.0004\n",
      "PNLL:  622.6756093878495\n",
      "MSE:  0.046308634655648155\n",
      "KLD:  454023.2072368421\n",
      "Train epoch: 46 [0/9800 (0%)]\tLoss: 0.000347\n",
      "Train epoch: 46 [1280/9800 (13%)]\tLoss: 0.000288\n",
      "Train epoch: 46 [2560/9800 (26%)]\tLoss: 0.000378\n",
      "Train epoch: 46 [3840/9800 (39%)]\tLoss: 0.000434\n",
      "Train epoch: 46 [5120/9800 (52%)]\tLoss: 0.000354\n",
      "Train epoch: 46 [6400/9800 (65%)]\tLoss: 0.000287\n",
      "Train epoch: 46 [7680/9800 (78%)]\tLoss: 0.000286\n",
      "Train epoch: 46 [8960/9800 (91%)]\tLoss: 0.000376\n",
      "===> Epoch: 46 Average Loss: 0.0004\n",
      "PNLL:  621.1921523244757\n",
      "MSE:  0.04629938412261637\n",
      "KLD:  459049.91611842107\n",
      "Train epoch: 47 [0/9800 (0%)]\tLoss: 0.000347\n",
      "Train epoch: 47 [1280/9800 (13%)]\tLoss: 0.000288\n",
      "Train epoch: 47 [2560/9800 (26%)]\tLoss: 0.000378\n",
      "Train epoch: 47 [3840/9800 (39%)]\tLoss: 0.000435\n",
      "Train epoch: 47 [5120/9800 (52%)]\tLoss: 0.000354\n",
      "Train epoch: 47 [6400/9800 (65%)]\tLoss: 0.000288\n",
      "Train epoch: 47 [7680/9800 (78%)]\tLoss: 0.000286\n",
      "Train epoch: 47 [8960/9800 (91%)]\tLoss: 0.000376\n",
      "===> Epoch: 47 Average Loss: 0.0004\n",
      "PNLL:  620.0254243549548\n",
      "MSE:  0.04629396907004871\n",
      "KLD:  464231.60032894736\n",
      "Train epoch: 48 [0/9800 (0%)]\tLoss: 0.000346\n",
      "Train epoch: 48 [1280/9800 (13%)]\tLoss: 0.000288\n",
      "Train epoch: 48 [2560/9800 (26%)]\tLoss: 0.000378\n",
      "Train epoch: 48 [3840/9800 (39%)]\tLoss: 0.000434\n",
      "Train epoch: 48 [5120/9800 (52%)]\tLoss: 0.000354\n",
      "Train epoch: 48 [6400/9800 (65%)]\tLoss: 0.000287\n",
      "Train epoch: 48 [7680/9800 (78%)]\tLoss: 0.000286\n",
      "Train epoch: 48 [8960/9800 (91%)]\tLoss: 0.000376\n",
      "===> Epoch: 48 Average Loss: 0.0004\n",
      "PNLL:  618.6472400866056\n",
      "MSE:  0.046281491896431694\n",
      "KLD:  469120.46669407893\n",
      "Train epoch: 49 [0/9800 (0%)]\tLoss: 0.000347\n",
      "Train epoch: 49 [1280/9800 (13%)]\tLoss: 0.000288\n",
      "Train epoch: 49 [2560/9800 (26%)]\tLoss: 0.000378\n",
      "Train epoch: 49 [3840/9800 (39%)]\tLoss: 0.000434\n",
      "Train epoch: 49 [5120/9800 (52%)]\tLoss: 0.000354\n",
      "Train epoch: 49 [6400/9800 (65%)]\tLoss: 0.000287\n"
     ]
    },
    {
     "name": "stdout",
     "output_type": "stream",
     "text": [
      "Train epoch: 49 [7680/9800 (78%)]\tLoss: 0.000286\n",
      "Train epoch: 49 [8960/9800 (91%)]\tLoss: 0.000376\n",
      "===> Epoch: 49 Average Loss: 0.0004\n",
      "PNLL:  617.4864461798417\n",
      "MSE:  0.04628121872481547\n",
      "KLD:  473936.9333881579\n",
      "Train epoch: 50 [0/9800 (0%)]\tLoss: 0.000346\n",
      "Train epoch: 50 [1280/9800 (13%)]\tLoss: 0.000288\n",
      "Train epoch: 50 [2560/9800 (26%)]\tLoss: 0.000378\n",
      "Train epoch: 50 [3840/9800 (39%)]\tLoss: 0.000434\n",
      "Train epoch: 50 [5120/9800 (52%)]\tLoss: 0.000353\n",
      "Train epoch: 50 [6400/9800 (65%)]\tLoss: 0.000287\n",
      "Train epoch: 50 [7680/9800 (78%)]\tLoss: 0.000286\n",
      "Train epoch: 50 [8960/9800 (91%)]\tLoss: 0.000376\n",
      "===> Epoch: 50 Average Loss: 0.0004\n",
      "PNLL:  616.2895580090975\n",
      "MSE:  0.04627267795761949\n",
      "KLD:  478785.69407894736\n",
      "Train epoch: 51 [0/9800 (0%)]\tLoss: 0.000347\n",
      "Train epoch: 51 [1280/9800 (13%)]\tLoss: 0.000288\n",
      "Train epoch: 51 [2560/9800 (26%)]\tLoss: 0.000378\n",
      "Train epoch: 51 [3840/9800 (39%)]\tLoss: 0.000434\n",
      "Train epoch: 51 [5120/9800 (52%)]\tLoss: 0.000354\n",
      "Train epoch: 51 [6400/9800 (65%)]\tLoss: 0.000287\n",
      "Train epoch: 51 [7680/9800 (78%)]\tLoss: 0.000286\n",
      "Train epoch: 51 [8960/9800 (91%)]\tLoss: 0.000376\n",
      "===> Epoch: 51 Average Loss: 0.0004\n",
      "PNLL:  615.1431844610917\n",
      "MSE:  0.0462711736265766\n",
      "KLD:  483485.9958881579\n",
      "Train epoch: 52 [0/9800 (0%)]\tLoss: 0.000346\n",
      "Train epoch: 52 [1280/9800 (13%)]\tLoss: 0.000288\n",
      "Train epoch: 52 [2560/9800 (26%)]\tLoss: 0.000378\n",
      "Train epoch: 52 [3840/9800 (39%)]\tLoss: 0.000434\n",
      "Train epoch: 52 [5120/9800 (52%)]\tLoss: 0.000354\n",
      "Train epoch: 52 [6400/9800 (65%)]\tLoss: 0.000287\n",
      "Train epoch: 52 [7680/9800 (78%)]\tLoss: 0.000286\n",
      "Train epoch: 52 [8960/9800 (91%)]\tLoss: 0.000376\n",
      "===> Epoch: 52 Average Loss: 0.0004\n",
      "PNLL:  613.9045337877775\n",
      "MSE:  0.046266995027269185\n",
      "KLD:  488337.7886513158\n",
      "Train epoch: 53 [0/9800 (0%)]\tLoss: 0.000346\n",
      "Train epoch: 53 [1280/9800 (13%)]\tLoss: 0.000288\n",
      "Train epoch: 53 [2560/9800 (26%)]\tLoss: 0.000377\n",
      "Train epoch: 53 [3840/9800 (39%)]\tLoss: 0.000434\n",
      "Train epoch: 53 [5120/9800 (52%)]\tLoss: 0.000354\n",
      "Train epoch: 53 [6400/9800 (65%)]\tLoss: 0.000286\n",
      "Train epoch: 53 [7680/9800 (78%)]\tLoss: 0.000286\n",
      "Train epoch: 53 [8960/9800 (91%)]\tLoss: 0.000376\n",
      "===> Epoch: 53 Average Loss: 0.0004\n",
      "PNLL:  612.7949443616366\n",
      "MSE:  0.04626255948096514\n",
      "KLD:  493138.5699013158\n",
      "Train epoch: 54 [0/9800 (0%)]\tLoss: 0.000346\n",
      "Train epoch: 54 [1280/9800 (13%)]\tLoss: 0.000288\n",
      "Train epoch: 54 [2560/9800 (26%)]\tLoss: 0.000378\n",
      "Train epoch: 54 [3840/9800 (39%)]\tLoss: 0.000434\n",
      "Train epoch: 54 [5120/9800 (52%)]\tLoss: 0.000354\n",
      "Train epoch: 54 [6400/9800 (65%)]\tLoss: 0.000287\n",
      "Train epoch: 54 [7680/9800 (78%)]\tLoss: 0.000285\n",
      "Train epoch: 54 [8960/9800 (91%)]\tLoss: 0.000375\n",
      "===> Epoch: 54 Average Loss: 0.0004\n",
      "PNLL:  611.6041123239618\n",
      "MSE:  0.04625936327992301\n",
      "KLD:  497748.69654605264\n",
      "Train epoch: 55 [0/9800 (0%)]\tLoss: 0.000346\n",
      "Train epoch: 55 [1280/9800 (13%)]\tLoss: 0.000288\n",
      "Train epoch: 55 [2560/9800 (26%)]\tLoss: 0.000378\n",
      "Train epoch: 55 [3840/9800 (39%)]\tLoss: 0.000434\n",
      "Train epoch: 55 [5120/9800 (52%)]\tLoss: 0.000354\n",
      "Train epoch: 55 [6400/9800 (65%)]\tLoss: 0.000287\n",
      "Train epoch: 55 [7680/9800 (78%)]\tLoss: 0.000286\n",
      "Train epoch: 55 [8960/9800 (91%)]\tLoss: 0.000376\n",
      "===> Epoch: 55 Average Loss: 0.0004\n",
      "PNLL:  610.5174873753598\n",
      "MSE:  0.04625091172362629\n",
      "KLD:  502610.45518092107\n",
      "Train epoch: 56 [0/9800 (0%)]\tLoss: 0.000346\n",
      "Train epoch: 56 [1280/9800 (13%)]\tLoss: 0.000288\n",
      "Train epoch: 56 [2560/9800 (26%)]\tLoss: 0.000377\n",
      "Train epoch: 56 [3840/9800 (39%)]\tLoss: 0.000434\n",
      "Train epoch: 56 [5120/9800 (52%)]\tLoss: 0.000353\n",
      "Train epoch: 56 [6400/9800 (65%)]\tLoss: 0.000286\n",
      "Train epoch: 56 [7680/9800 (78%)]\tLoss: 0.000285\n",
      "Train epoch: 56 [8960/9800 (91%)]\tLoss: 0.000376\n",
      "===> Epoch: 56 Average Loss: 0.0004\n",
      "PNLL:  609.4800784462377\n",
      "MSE:  0.04624686953856757\n",
      "KLD:  507261.78782894736\n",
      "Train epoch: 57 [0/9800 (0%)]\tLoss: 0.000346\n",
      "Train epoch: 57 [1280/9800 (13%)]\tLoss: 0.000288\n",
      "Train epoch: 57 [2560/9800 (26%)]\tLoss: 0.000377\n",
      "Train epoch: 57 [3840/9800 (39%)]\tLoss: 0.000434\n",
      "Train epoch: 57 [5120/9800 (52%)]\tLoss: 0.000354\n",
      "Train epoch: 57 [6400/9800 (65%)]\tLoss: 0.000287\n",
      "Train epoch: 57 [7680/9800 (78%)]\tLoss: 0.000285\n",
      "Train epoch: 57 [8960/9800 (91%)]\tLoss: 0.000375\n",
      "===> Epoch: 57 Average Loss: 0.0004\n",
      "PNLL:  608.6161635549445\n",
      "MSE:  0.04624159055712976\n",
      "KLD:  511946.2976973684\n",
      "Train epoch: 58 [0/9800 (0%)]\tLoss: 0.000346\n",
      "Train epoch: 58 [1280/9800 (13%)]\tLoss: 0.000288\n",
      "Train epoch: 58 [2560/9800 (26%)]\tLoss: 0.000378\n",
      "Train epoch: 58 [3840/9800 (39%)]\tLoss: 0.000433\n",
      "Train epoch: 58 [5120/9800 (52%)]\tLoss: 0.000354\n",
      "Train epoch: 58 [6400/9800 (65%)]\tLoss: 0.000287\n",
      "Train epoch: 58 [7680/9800 (78%)]\tLoss: 0.000285\n",
      "Train epoch: 58 [8960/9800 (91%)]\tLoss: 0.000375\n",
      "===> Epoch: 58 Average Loss: 0.0004\n",
      "PNLL:  607.488191303454\n",
      "MSE:  0.04623958693915292\n",
      "KLD:  516345.1122532895\n",
      "Train epoch: 59 [0/9800 (0%)]\tLoss: 0.000346\n",
      "Train epoch: 59 [1280/9800 (13%)]\tLoss: 0.000287\n",
      "Train epoch: 59 [2560/9800 (26%)]\tLoss: 0.000378\n",
      "Train epoch: 59 [3840/9800 (39%)]\tLoss: 0.000433\n",
      "Train epoch: 59 [5120/9800 (52%)]\tLoss: 0.000354\n",
      "Train epoch: 59 [6400/9800 (65%)]\tLoss: 0.000286\n",
      "Train epoch: 59 [7680/9800 (78%)]\tLoss: 0.000285\n",
      "Train epoch: 59 [8960/9800 (91%)]\tLoss: 0.000376\n",
      "===> Epoch: 59 Average Loss: 0.0004\n",
      "PNLL:  606.3827161287006\n",
      "MSE:  0.046233870383155976\n",
      "KLD:  520537.1986019737\n",
      "Train epoch: 60 [0/9800 (0%)]\tLoss: 0.000346\n",
      "Train epoch: 60 [1280/9800 (13%)]\tLoss: 0.000288\n",
      "Train epoch: 60 [2560/9800 (26%)]\tLoss: 0.000377\n",
      "Train epoch: 60 [3840/9800 (39%)]\tLoss: 0.000434\n",
      "Train epoch: 60 [5120/9800 (52%)]\tLoss: 0.000353\n",
      "Train epoch: 60 [6400/9800 (65%)]\tLoss: 0.000286\n",
      "Train epoch: 60 [7680/9800 (78%)]\tLoss: 0.000285\n",
      "Train epoch: 60 [8960/9800 (91%)]\tLoss: 0.000375\n",
      "===> Epoch: 60 Average Loss: 0.0004\n",
      "PNLL:  605.4675533896998\n",
      "MSE:  0.04622943718966685\n",
      "KLD:  524638.4954769737\n",
      "Train epoch: 61 [0/9800 (0%)]\tLoss: 0.000346\n",
      "Train epoch: 61 [1280/9800 (13%)]\tLoss: 0.000287\n",
      "Train epoch: 61 [2560/9800 (26%)]\tLoss: 0.000377\n",
      "Train epoch: 61 [3840/9800 (39%)]\tLoss: 0.000434\n",
      "Train epoch: 61 [5120/9800 (52%)]\tLoss: 0.000353\n",
      "Train epoch: 61 [6400/9800 (65%)]\tLoss: 0.000286\n",
      "Train epoch: 61 [7680/9800 (78%)]\tLoss: 0.000285\n",
      "Train epoch: 61 [8960/9800 (91%)]\tLoss: 0.000375\n",
      "===> Epoch: 61 Average Loss: 0.0004\n",
      "PNLL:  604.3892878482217\n",
      "MSE:  0.04622927004177319\n",
      "KLD:  528877.6184210526\n",
      "Train epoch: 62 [0/9800 (0%)]\tLoss: 0.000346\n",
      "Train epoch: 62 [1280/9800 (13%)]\tLoss: 0.000287\n",
      "Train epoch: 62 [2560/9800 (26%)]\tLoss: 0.000377\n",
      "Train epoch: 62 [3840/9800 (39%)]\tLoss: 0.000433\n",
      "Train epoch: 62 [5120/9800 (52%)]\tLoss: 0.000353\n",
      "Train epoch: 62 [6400/9800 (65%)]\tLoss: 0.000286\n",
      "Train epoch: 62 [7680/9800 (78%)]\tLoss: 0.000285\n",
      "Train epoch: 62 [8960/9800 (91%)]\tLoss: 0.000375\n",
      "===> Epoch: 62 Average Loss: 0.0004\n",
      "PNLL:  603.2201682642886\n",
      "MSE:  0.04622394238647662\n",
      "KLD:  533116.5773026316\n",
      "Train epoch: 63 [0/9800 (0%)]\tLoss: 0.000346\n",
      "Train epoch: 63 [1280/9800 (13%)]\tLoss: 0.000287\n",
      "Train epoch: 63 [2560/9800 (26%)]\tLoss: 0.000377\n",
      "Train epoch: 63 [3840/9800 (39%)]\tLoss: 0.000433\n",
      "Train epoch: 63 [5120/9800 (52%)]\tLoss: 0.000353\n",
      "Train epoch: 63 [6400/9800 (65%)]\tLoss: 0.000286\n",
      "Train epoch: 63 [7680/9800 (78%)]\tLoss: 0.000285\n",
      "Train epoch: 63 [8960/9800 (91%)]\tLoss: 0.000376\n",
      "===> Epoch: 63 Average Loss: 0.0004\n",
      "PNLL:  602.395392970035\n",
      "MSE:  0.04622035184384961\n",
      "KLD:  537550.3782894737\n",
      "Train epoch: 64 [0/9800 (0%)]\tLoss: 0.000346\n",
      "Train epoch: 64 [1280/9800 (13%)]\tLoss: 0.000287\n",
      "Train epoch: 64 [2560/9800 (26%)]\tLoss: 0.000377\n",
      "Train epoch: 64 [3840/9800 (39%)]\tLoss: 0.000433\n",
      "Train epoch: 64 [5120/9800 (52%)]\tLoss: 0.000353\n",
      "Train epoch: 64 [6400/9800 (65%)]\tLoss: 0.000286\n",
      "Train epoch: 64 [7680/9800 (78%)]\tLoss: 0.000285\n",
      "Train epoch: 64 [8960/9800 (91%)]\tLoss: 0.000376\n",
      "===> Epoch: 64 Average Loss: 0.0004\n",
      "PNLL:  601.4805611058285\n",
      "MSE:  0.04621880133881381\n",
      "KLD:  541905.2882401316\n",
      "Train epoch: 65 [0/9800 (0%)]\tLoss: 0.000346\n",
      "Train epoch: 65 [1280/9800 (13%)]\tLoss: 0.000287\n",
      "Train epoch: 65 [2560/9800 (26%)]\tLoss: 0.000377\n",
      "Train epoch: 65 [3840/9800 (39%)]\tLoss: 0.000433\n",
      "Train epoch: 65 [5120/9800 (52%)]\tLoss: 0.000353\n",
      "Train epoch: 65 [6400/9800 (65%)]\tLoss: 0.000286\n",
      "Train epoch: 65 [7680/9800 (78%)]\tLoss: 0.000285\n",
      "Train epoch: 65 [8960/9800 (91%)]\tLoss: 0.000375\n",
      "===> Epoch: 65 Average Loss: 0.0004\n",
      "PNLL:  600.2429110878393\n",
      "MSE:  0.04621428658107394\n",
      "KLD:  546127.4938322369\n",
      "Train epoch: 66 [0/9800 (0%)]\tLoss: 0.000346\n"
     ]
    },
    {
     "name": "stdout",
     "output_type": "stream",
     "text": [
      "Train epoch: 66 [1280/9800 (13%)]\tLoss: 0.000287\n",
      "Train epoch: 66 [2560/9800 (26%)]\tLoss: 0.000377\n",
      "Train epoch: 66 [3840/9800 (39%)]\tLoss: 0.000433\n",
      "Train epoch: 66 [5120/9800 (52%)]\tLoss: 0.000353\n",
      "Train epoch: 66 [6400/9800 (65%)]\tLoss: 0.000286\n",
      "Train epoch: 66 [7680/9800 (78%)]\tLoss: 0.000285\n",
      "Train epoch: 66 [8960/9800 (91%)]\tLoss: 0.000375\n",
      "===> Epoch: 66 Average Loss: 0.0004\n",
      "PNLL:  599.2624270790502\n",
      "MSE:  0.046211157827393004\n",
      "KLD:  550248.8585526316\n",
      "Train epoch: 67 [0/9800 (0%)]\tLoss: 0.000346\n",
      "Train epoch: 67 [1280/9800 (13%)]\tLoss: 0.000287\n",
      "Train epoch: 67 [2560/9800 (26%)]\tLoss: 0.000377\n",
      "Train epoch: 67 [3840/9800 (39%)]\tLoss: 0.000433\n",
      "Train epoch: 67 [5120/9800 (52%)]\tLoss: 0.000353\n",
      "Train epoch: 67 [6400/9800 (65%)]\tLoss: 0.000286\n",
      "Train epoch: 67 [7680/9800 (78%)]\tLoss: 0.000285\n",
      "Train epoch: 67 [8960/9800 (91%)]\tLoss: 0.000375\n",
      "===> Epoch: 67 Average Loss: 0.0004\n",
      "PNLL:  598.3406604967619\n",
      "MSE:  0.04620883128556766\n",
      "KLD:  554301.0649671053\n",
      "Train epoch: 68 [0/9800 (0%)]\tLoss: 0.000346\n",
      "Train epoch: 68 [1280/9800 (13%)]\tLoss: 0.000287\n",
      "Train epoch: 68 [2560/9800 (26%)]\tLoss: 0.000377\n",
      "Train epoch: 68 [3840/9800 (39%)]\tLoss: 0.000433\n",
      "Train epoch: 68 [5120/9800 (52%)]\tLoss: 0.000353\n",
      "Train epoch: 68 [6400/9800 (65%)]\tLoss: 0.000286\n",
      "Train epoch: 68 [7680/9800 (78%)]\tLoss: 0.000285\n",
      "Train epoch: 68 [8960/9800 (91%)]\tLoss: 0.000375\n",
      "===> Epoch: 68 Average Loss: 0.0004\n",
      "PNLL:  597.3106874164782\n",
      "MSE:  0.04620954345323538\n",
      "KLD:  558470.7376644737\n",
      "Train epoch: 69 [0/9800 (0%)]\tLoss: 0.000346\n",
      "Train epoch: 69 [1280/9800 (13%)]\tLoss: 0.000287\n",
      "Train epoch: 69 [2560/9800 (26%)]\tLoss: 0.000377\n",
      "Train epoch: 69 [3840/9800 (39%)]\tLoss: 0.000433\n",
      "Train epoch: 69 [5120/9800 (52%)]\tLoss: 0.000353\n",
      "Train epoch: 69 [6400/9800 (65%)]\tLoss: 0.000286\n",
      "Train epoch: 69 [7680/9800 (78%)]\tLoss: 0.000285\n",
      "Train epoch: 69 [8960/9800 (91%)]\tLoss: 0.000376\n",
      "===> Epoch: 69 Average Loss: 0.0004\n",
      "PNLL:  596.1723014429996\n",
      "MSE:  0.0462082735703964\n",
      "KLD:  562403.7064144737\n",
      "Train epoch: 70 [0/9800 (0%)]\tLoss: 0.000346\n",
      "Train epoch: 70 [1280/9800 (13%)]\tLoss: 0.000287\n",
      "Train epoch: 70 [2560/9800 (26%)]\tLoss: 0.000377\n",
      "Train epoch: 70 [3840/9800 (39%)]\tLoss: 0.000433\n",
      "Train epoch: 70 [5120/9800 (52%)]\tLoss: 0.000353\n",
      "Train epoch: 70 [6400/9800 (65%)]\tLoss: 0.000286\n",
      "Train epoch: 70 [7680/9800 (78%)]\tLoss: 0.000285\n",
      "Train epoch: 70 [8960/9800 (91%)]\tLoss: 0.000376\n",
      "===> Epoch: 70 Average Loss: 0.0004\n",
      "PNLL:  594.8319766395971\n",
      "MSE:  0.046207803840699946\n",
      "KLD:  566196.9543585526\n",
      "Train epoch: 71 [0/9800 (0%)]\tLoss: 0.000346\n",
      "Train epoch: 71 [1280/9800 (13%)]\tLoss: 0.000287\n",
      "Train epoch: 71 [2560/9800 (26%)]\tLoss: 0.000377\n",
      "Train epoch: 71 [3840/9800 (39%)]\tLoss: 0.000433\n",
      "Train epoch: 71 [5120/9800 (52%)]\tLoss: 0.000353\n",
      "Train epoch: 71 [6400/9800 (65%)]\tLoss: 0.000286\n",
      "Train epoch: 71 [7680/9800 (78%)]\tLoss: 0.000285\n",
      "Train epoch: 71 [8960/9800 (91%)]\tLoss: 0.000376\n",
      "===> Epoch: 71 Average Loss: 0.0004\n",
      "PNLL:  593.6564395302221\n",
      "MSE:  0.04620532613051565\n",
      "KLD:  570180.4851973684\n",
      "Train epoch: 72 [0/9800 (0%)]\tLoss: 0.000346\n",
      "Train epoch: 72 [1280/9800 (13%)]\tLoss: 0.000287\n",
      "Train epoch: 72 [2560/9800 (26%)]\tLoss: 0.000377\n",
      "Train epoch: 72 [3840/9800 (39%)]\tLoss: 0.000433\n",
      "Train epoch: 72 [5120/9800 (52%)]\tLoss: 0.000353\n",
      "Train epoch: 72 [6400/9800 (65%)]\tLoss: 0.000286\n",
      "Train epoch: 72 [7680/9800 (78%)]\tLoss: 0.000285\n",
      "Train epoch: 72 [8960/9800 (91%)]\tLoss: 0.000376\n",
      "===> Epoch: 72 Average Loss: 0.0004\n",
      "PNLL:  591.962556537829\n",
      "MSE:  0.04621039061365943\n",
      "KLD:  573849.115131579\n",
      "Train epoch: 73 [0/9800 (0%)]\tLoss: 0.000346\n",
      "Train epoch: 73 [1280/9800 (13%)]\tLoss: 0.000288\n",
      "Train epoch: 73 [2560/9800 (26%)]\tLoss: 0.000377\n",
      "Train epoch: 73 [3840/9800 (39%)]\tLoss: 0.000433\n",
      "Train epoch: 73 [5120/9800 (52%)]\tLoss: 0.000353\n",
      "Train epoch: 73 [6400/9800 (65%)]\tLoss: 0.000286\n",
      "Train epoch: 73 [7680/9800 (78%)]\tLoss: 0.000285\n",
      "Train epoch: 73 [8960/9800 (91%)]\tLoss: 0.000376\n",
      "===> Epoch: 73 Average Loss: 0.0004\n",
      "PNLL:  589.9778795744244\n",
      "MSE:  0.046217082705544796\n",
      "KLD:  577401.8552631579\n",
      "Train epoch: 74 [0/9800 (0%)]\tLoss: 0.000346\n",
      "Train epoch: 74 [1280/9800 (13%)]\tLoss: 0.000288\n",
      "Train epoch: 74 [2560/9800 (26%)]\tLoss: 0.000377\n",
      "Train epoch: 74 [3840/9800 (39%)]\tLoss: 0.000433\n",
      "Train epoch: 74 [5120/9800 (52%)]\tLoss: 0.000353\n",
      "Train epoch: 74 [6400/9800 (65%)]\tLoss: 0.000286\n",
      "Train epoch: 74 [7680/9800 (78%)]\tLoss: 0.000286\n",
      "Train epoch: 74 [8960/9800 (91%)]\tLoss: 0.000375\n",
      "===> Epoch: 74 Average Loss: 0.0004\n",
      "PNLL:  587.22289557206\n",
      "MSE:  0.046242739466067995\n",
      "KLD:  580197.8199013158\n",
      "Train epoch: 75 [0/9800 (0%)]\tLoss: 0.000346\n",
      "Train epoch: 75 [1280/9800 (13%)]\tLoss: 0.000290\n",
      "Train epoch: 75 [2560/9800 (26%)]\tLoss: 0.000377\n",
      "Train epoch: 75 [3840/9800 (39%)]\tLoss: 0.000433\n",
      "Train epoch: 75 [5120/9800 (52%)]\tLoss: 0.000354\n",
      "Train epoch: 75 [6400/9800 (65%)]\tLoss: 0.000286\n",
      "Train epoch: 75 [7680/9800 (78%)]\tLoss: 0.000285\n",
      "Train epoch: 75 [8960/9800 (91%)]\tLoss: 0.000375\n",
      "===> Epoch: 75 Average Loss: 0.0004\n",
      "PNLL:  582.2370420757093\n",
      "MSE:  0.04628883439459299\n",
      "KLD:  581100.3149671053\n",
      "Train epoch: 76 [0/9800 (0%)]\tLoss: 0.000346\n",
      "Train epoch: 76 [1280/9800 (13%)]\tLoss: 0.000288\n",
      "Train epoch: 76 [2560/9800 (26%)]\tLoss: 0.000379\n",
      "Train epoch: 76 [3840/9800 (39%)]\tLoss: 0.000437\n",
      "Train epoch: 76 [5120/9800 (52%)]\tLoss: 0.000354\n",
      "Train epoch: 76 [6400/9800 (65%)]\tLoss: 0.000286\n",
      "Train epoch: 76 [7680/9800 (78%)]\tLoss: 0.000285\n",
      "Train epoch: 76 [8960/9800 (91%)]\tLoss: 0.000375\n",
      "===> Epoch: 76 Average Loss: 0.0004\n",
      "PNLL:  575.0950020237973\n",
      "MSE:  0.04630912320786401\n",
      "KLD:  580680.6578947369\n",
      "Train epoch: 77 [0/9800 (0%)]\tLoss: 0.000346\n",
      "Train epoch: 77 [1280/9800 (13%)]\tLoss: 0.000287\n",
      "Train epoch: 77 [2560/9800 (26%)]\tLoss: 0.000377\n",
      "Train epoch: 77 [3840/9800 (39%)]\tLoss: 0.000434\n",
      "Train epoch: 77 [5120/9800 (52%)]\tLoss: 0.000353\n",
      "Train epoch: 77 [6400/9800 (65%)]\tLoss: 0.000286\n",
      "Train epoch: 77 [7680/9800 (78%)]\tLoss: 0.000286\n",
      "Train epoch: 77 [8960/9800 (91%)]\tLoss: 0.000376\n",
      "===> Epoch: 77 Average Loss: 0.0004\n",
      "PNLL:  569.5807527240954\n",
      "MSE:  0.04631252116278598\n",
      "KLD:  582028.5394736842\n",
      "Train epoch: 78 [0/9800 (0%)]\tLoss: 0.000346\n",
      "Train epoch: 78 [1280/9800 (13%)]\tLoss: 0.000288\n",
      "Train epoch: 78 [2560/9800 (26%)]\tLoss: 0.000380\n",
      "Train epoch: 78 [3840/9800 (39%)]\tLoss: 0.000433\n",
      "Train epoch: 78 [5120/9800 (52%)]\tLoss: 0.000354\n",
      "Train epoch: 78 [6400/9800 (65%)]\tLoss: 0.000289\n",
      "Train epoch: 78 [7680/9800 (78%)]\tLoss: 0.000289\n",
      "Train epoch: 78 [8960/9800 (91%)]\tLoss: 0.000377\n",
      "===> Epoch: 78 Average Loss: 0.0004\n",
      "PNLL:  563.2414125141345\n",
      "MSE:  0.04635302555796347\n",
      "KLD:  583055.7273848684\n",
      "Train epoch: 79 [0/9800 (0%)]\tLoss: 0.000346\n",
      "Train epoch: 79 [1280/9800 (13%)]\tLoss: 0.000290\n",
      "Train epoch: 79 [2560/9800 (26%)]\tLoss: 0.000384\n",
      "Train epoch: 79 [3840/9800 (39%)]\tLoss: 0.000433\n",
      "Train epoch: 79 [5120/9800 (52%)]\tLoss: 0.000353\n",
      "Train epoch: 79 [6400/9800 (65%)]\tLoss: 0.000287\n",
      "Train epoch: 79 [7680/9800 (78%)]\tLoss: 0.000286\n",
      "Train epoch: 79 [8960/9800 (91%)]\tLoss: 0.000375\n",
      "===> Epoch: 79 Average Loss: 0.0004\n",
      "PNLL:  554.2992810701069\n",
      "MSE:  0.046410607762242616\n",
      "KLD:  582884.5559210526\n",
      "Train epoch: 80 [0/9800 (0%)]\tLoss: 0.000354\n",
      "Train epoch: 80 [1280/9800 (13%)]\tLoss: 0.000293\n",
      "Train epoch: 80 [2560/9800 (26%)]\tLoss: 0.000378\n",
      "Train epoch: 80 [3840/9800 (39%)]\tLoss: 0.000441\n",
      "Train epoch: 80 [5120/9800 (52%)]\tLoss: 0.000353\n",
      "Train epoch: 80 [6400/9800 (65%)]\tLoss: 0.000289\n",
      "Train epoch: 80 [7680/9800 (78%)]\tLoss: 0.000285\n",
      "Train epoch: 80 [8960/9800 (91%)]\tLoss: 0.000377\n",
      "===> Epoch: 80 Average Loss: 0.0004\n",
      "PNLL:  543.0436738666735\n",
      "MSE:  0.04653129584499096\n",
      "KLD:  582206.798930921\n",
      "Train epoch: 81 [0/9800 (0%)]\tLoss: 0.000358\n",
      "Train epoch: 81 [1280/9800 (13%)]\tLoss: 0.000289\n",
      "Train epoch: 81 [2560/9800 (26%)]\tLoss: 0.000378\n",
      "Train epoch: 81 [3840/9800 (39%)]\tLoss: 0.000434\n",
      "Train epoch: 81 [5120/9800 (52%)]\tLoss: 0.000356\n",
      "Train epoch: 81 [6400/9800 (65%)]\tLoss: 0.000286\n",
      "Train epoch: 81 [7680/9800 (78%)]\tLoss: 0.000286\n",
      "Train epoch: 81 [8960/9800 (91%)]\tLoss: 0.000375\n",
      "===> Epoch: 81 Average Loss: 0.0004\n",
      "PNLL:  533.4614522833573\n",
      "MSE:  0.04640507923537179\n",
      "KLD:  582534.0929276316\n",
      "Train epoch: 82 [0/9800 (0%)]\tLoss: 0.000351\n",
      "Train epoch: 82 [1280/9800 (13%)]\tLoss: 0.000290\n",
      "Train epoch: 82 [2560/9800 (26%)]\tLoss: 0.000377\n",
      "Train epoch: 82 [3840/9800 (39%)]\tLoss: 0.000434\n",
      "Train epoch: 82 [5120/9800 (52%)]\tLoss: 0.000355\n",
      "Train epoch: 82 [6400/9800 (65%)]\tLoss: 0.000286\n"
     ]
    },
    {
     "name": "stdout",
     "output_type": "stream",
     "text": [
      "Train epoch: 82 [7680/9800 (78%)]\tLoss: 0.000286\n",
      "Train epoch: 82 [8960/9800 (91%)]\tLoss: 0.000375\n",
      "===> Epoch: 82 Average Loss: 0.0004\n",
      "PNLL:  528.7516214471115\n",
      "MSE:  0.046321894924499486\n",
      "KLD:  584856.9185855263\n",
      "Train epoch: 83 [0/9800 (0%)]\tLoss: 0.000352\n",
      "Train epoch: 83 [1280/9800 (13%)]\tLoss: 0.000291\n",
      "Train epoch: 83 [2560/9800 (26%)]\tLoss: 0.000377\n",
      "Train epoch: 83 [3840/9800 (39%)]\tLoss: 0.000434\n",
      "Train epoch: 83 [5120/9800 (52%)]\tLoss: 0.000354\n",
      "Train epoch: 83 [6400/9800 (65%)]\tLoss: 0.000286\n",
      "Train epoch: 83 [7680/9800 (78%)]\tLoss: 0.000285\n",
      "Train epoch: 83 [8960/9800 (91%)]\tLoss: 0.000375\n",
      "===> Epoch: 83 Average Loss: 0.0004\n",
      "PNLL:  524.3465752852591\n",
      "MSE:  0.04633094757599266\n",
      "KLD:  587609.0394736842\n",
      "Train epoch: 84 [0/9800 (0%)]\tLoss: 0.000350\n",
      "Train epoch: 84 [1280/9800 (13%)]\tLoss: 0.000292\n",
      "Train epoch: 84 [2560/9800 (26%)]\tLoss: 0.000378\n",
      "Train epoch: 84 [3840/9800 (39%)]\tLoss: 0.000434\n",
      "Train epoch: 84 [5120/9800 (52%)]\tLoss: 0.000354\n",
      "Train epoch: 84 [6400/9800 (65%)]\tLoss: 0.000286\n",
      "Train epoch: 84 [7680/9800 (78%)]\tLoss: 0.000285\n",
      "Train epoch: 84 [8960/9800 (91%)]\tLoss: 0.000375\n",
      "===> Epoch: 84 Average Loss: 0.0004\n",
      "PNLL:  519.5743773610968\n",
      "MSE:  0.046350085323578434\n",
      "KLD:  589958.9884868421\n",
      "Train epoch: 85 [0/9800 (0%)]\tLoss: 0.000350\n",
      "Train epoch: 85 [1280/9800 (13%)]\tLoss: 0.000292\n",
      "Train epoch: 85 [2560/9800 (26%)]\tLoss: 0.000379\n",
      "Train epoch: 85 [3840/9800 (39%)]\tLoss: 0.000434\n",
      "Train epoch: 85 [5120/9800 (52%)]\tLoss: 0.000354\n",
      "Train epoch: 85 [6400/9800 (65%)]\tLoss: 0.000286\n",
      "Train epoch: 85 [7680/9800 (78%)]\tLoss: 0.000285\n",
      "Train epoch: 85 [8960/9800 (91%)]\tLoss: 0.000376\n",
      "===> Epoch: 85 Average Loss: 0.0004\n",
      "PNLL:  513.902179115697\n",
      "MSE:  0.046393869738829766\n",
      "KLD:  592210.1266447369\n",
      "Train epoch: 86 [0/9800 (0%)]\tLoss: 0.000349\n",
      "Train epoch: 86 [1280/9800 (13%)]\tLoss: 0.000292\n",
      "Train epoch: 86 [2560/9800 (26%)]\tLoss: 0.000379\n",
      "Train epoch: 86 [3840/9800 (39%)]\tLoss: 0.000434\n",
      "Train epoch: 86 [5120/9800 (52%)]\tLoss: 0.000354\n",
      "Train epoch: 86 [6400/9800 (65%)]\tLoss: 0.000286\n",
      "Train epoch: 86 [7680/9800 (78%)]\tLoss: 0.000285\n",
      "Train epoch: 86 [8960/9800 (91%)]\tLoss: 0.000376\n",
      "===> Epoch: 86 Average Loss: 0.0004\n",
      "PNLL:  506.90983220150594\n",
      "MSE:  0.046500744984338156\n",
      "KLD:  593870.4292763158\n",
      "Train epoch: 87 [0/9800 (0%)]\tLoss: 0.000347\n",
      "Train epoch: 87 [1280/9800 (13%)]\tLoss: 0.000290\n",
      "Train epoch: 87 [2560/9800 (26%)]\tLoss: 0.000378\n",
      "Train epoch: 87 [3840/9800 (39%)]\tLoss: 0.000433\n",
      "Train epoch: 87 [5120/9800 (52%)]\tLoss: 0.000354\n",
      "Train epoch: 87 [6400/9800 (65%)]\tLoss: 0.000288\n",
      "Train epoch: 87 [7680/9800 (78%)]\tLoss: 0.000288\n",
      "Train epoch: 87 [8960/9800 (91%)]\tLoss: 0.000375\n",
      "===> Epoch: 87 Average Loss: 0.0004\n",
      "PNLL:  497.1118288542095\n",
      "MSE:  0.046810239602468516\n",
      "KLD:  594192.9995888158\n",
      "Train epoch: 88 [0/9800 (0%)]\tLoss: 0.000346\n",
      "Train epoch: 88 [1280/9800 (13%)]\tLoss: 0.000288\n",
      "Train epoch: 88 [2560/9800 (26%)]\tLoss: 0.000381\n",
      "Train epoch: 88 [3840/9800 (39%)]\tLoss: 0.000442\n",
      "Train epoch: 88 [5120/9800 (52%)]\tLoss: 0.000372\n",
      "Train epoch: 88 [6400/9800 (65%)]\tLoss: 0.000309\n",
      "Train epoch: 88 [7680/9800 (78%)]\tLoss: 0.000294\n",
      "Train epoch: 88 [8960/9800 (91%)]\tLoss: 0.000375\n",
      "===> Epoch: 88 Average Loss: 0.0004\n",
      "PNLL:  484.737160130551\n",
      "MSE:  0.04725671084107537\n",
      "KLD:  593305.0189144737\n",
      "Train epoch: 89 [0/9800 (0%)]\tLoss: 0.000347\n",
      "Train epoch: 89 [1280/9800 (13%)]\tLoss: 0.000291\n",
      "Train epoch: 89 [2560/9800 (26%)]\tLoss: 0.000395\n",
      "Train epoch: 89 [3840/9800 (39%)]\tLoss: 0.000450\n",
      "Train epoch: 89 [5120/9800 (52%)]\tLoss: 0.000364\n",
      "Train epoch: 89 [6400/9800 (65%)]\tLoss: 0.000289\n",
      "Train epoch: 89 [7680/9800 (78%)]\tLoss: 0.000286\n",
      "Train epoch: 89 [8960/9800 (91%)]\tLoss: 0.000377\n",
      "===> Epoch: 89 Average Loss: 0.0004\n",
      "PNLL:  472.0402318050987\n",
      "MSE:  0.04703499357167043\n",
      "KLD:  593203.2216282894\n",
      "Train epoch: 90 [0/9800 (0%)]\tLoss: 0.000347\n",
      "Train epoch: 90 [1280/9800 (13%)]\tLoss: 0.000295\n",
      "Train epoch: 90 [2560/9800 (26%)]\tLoss: 0.000384\n",
      "Train epoch: 90 [3840/9800 (39%)]\tLoss: 0.000434\n",
      "Train epoch: 90 [5120/9800 (52%)]\tLoss: 0.000354\n",
      "Train epoch: 90 [6400/9800 (65%)]\tLoss: 0.000287\n",
      "Train epoch: 90 [7680/9800 (78%)]\tLoss: 0.000286\n",
      "Train epoch: 90 [8960/9800 (91%)]\tLoss: 0.000375\n",
      "===> Epoch: 90 Average Loss: 0.0004\n",
      "PNLL:  466.85867871736224\n",
      "MSE:  0.04644424046732878\n",
      "KLD:  595070.2857730263\n",
      "Train epoch: 91 [0/9800 (0%)]\tLoss: 0.000346\n",
      "Train epoch: 91 [1280/9800 (13%)]\tLoss: 0.000292\n",
      "Train epoch: 91 [2560/9800 (26%)]\tLoss: 0.000382\n",
      "Train epoch: 91 [3840/9800 (39%)]\tLoss: 0.000433\n",
      "Train epoch: 91 [5120/9800 (52%)]\tLoss: 0.000354\n",
      "Train epoch: 91 [6400/9800 (65%)]\tLoss: 0.000287\n",
      "Train epoch: 91 [7680/9800 (78%)]\tLoss: 0.000286\n",
      "Train epoch: 91 [8960/9800 (91%)]\tLoss: 0.000375\n",
      "===> Epoch: 91 Average Loss: 0.0004\n",
      "PNLL:  465.1238620155736\n",
      "MSE:  0.04637698500760292\n",
      "KLD:  598683.6685855263\n",
      "Train epoch: 92 [0/9800 (0%)]\tLoss: 0.000346\n",
      "Train epoch: 92 [1280/9800 (13%)]\tLoss: 0.000292\n",
      "Train epoch: 92 [2560/9800 (26%)]\tLoss: 0.000382\n",
      "Train epoch: 92 [3840/9800 (39%)]\tLoss: 0.000433\n",
      "Train epoch: 92 [5120/9800 (52%)]\tLoss: 0.000354\n",
      "Train epoch: 92 [6400/9800 (65%)]\tLoss: 0.000287\n",
      "Train epoch: 92 [7680/9800 (78%)]\tLoss: 0.000285\n",
      "Train epoch: 92 [8960/9800 (91%)]\tLoss: 0.000375\n",
      "===> Epoch: 92 Average Loss: 0.0004\n",
      "PNLL:  463.5993427477385\n",
      "MSE:  0.046359261742940076\n",
      "KLD:  602484.0797697369\n",
      "Train epoch: 93 [0/9800 (0%)]\tLoss: 0.000346\n",
      "Train epoch: 93 [1280/9800 (13%)]\tLoss: 0.000292\n",
      "Train epoch: 93 [2560/9800 (26%)]\tLoss: 0.000381\n",
      "Train epoch: 93 [3840/9800 (39%)]\tLoss: 0.000433\n",
      "Train epoch: 93 [5120/9800 (52%)]\tLoss: 0.000354\n",
      "Train epoch: 93 [6400/9800 (65%)]\tLoss: 0.000287\n",
      "Train epoch: 93 [7680/9800 (78%)]\tLoss: 0.000285\n",
      "Train epoch: 93 [8960/9800 (91%)]\tLoss: 0.000375\n",
      "===> Epoch: 93 Average Loss: 0.0004\n",
      "PNLL:  461.98595508776214\n",
      "MSE:  0.04634723709406037\n",
      "KLD:  605820.8758223684\n",
      "Train epoch: 94 [0/9800 (0%)]\tLoss: 0.000346\n",
      "Train epoch: 94 [1280/9800 (13%)]\tLoss: 0.000292\n",
      "Train epoch: 94 [2560/9800 (26%)]\tLoss: 0.000381\n",
      "Train epoch: 94 [3840/9800 (39%)]\tLoss: 0.000433\n",
      "Train epoch: 94 [5120/9800 (52%)]\tLoss: 0.000354\n",
      "Train epoch: 94 [6400/9800 (65%)]\tLoss: 0.000286\n",
      "Train epoch: 94 [7680/9800 (78%)]\tLoss: 0.000285\n",
      "Train epoch: 94 [8960/9800 (91%)]\tLoss: 0.000375\n",
      "===> Epoch: 94 Average Loss: 0.0004\n",
      "PNLL:  460.567343059339\n",
      "MSE:  0.0463312734898768\n",
      "KLD:  609070.4498355263\n",
      "Train epoch: 95 [0/9800 (0%)]\tLoss: 0.000346\n",
      "Train epoch: 95 [1280/9800 (13%)]\tLoss: 0.000291\n",
      "Train epoch: 95 [2560/9800 (26%)]\tLoss: 0.000381\n",
      "Train epoch: 95 [3840/9800 (39%)]\tLoss: 0.000433\n",
      "Train epoch: 95 [5120/9800 (52%)]\tLoss: 0.000354\n",
      "Train epoch: 95 [6400/9800 (65%)]\tLoss: 0.000286\n",
      "Train epoch: 95 [7680/9800 (78%)]\tLoss: 0.000286\n",
      "Train epoch: 95 [8960/9800 (91%)]\tLoss: 0.000375\n",
      "===> Epoch: 95 Average Loss: 0.0004\n",
      "PNLL:  459.0442577161287\n",
      "MSE:  0.04632905615787757\n",
      "KLD:  612662.587993421\n",
      "Train epoch: 96 [0/9800 (0%)]\tLoss: 0.000346\n",
      "Train epoch: 96 [1280/9800 (13%)]\tLoss: 0.000291\n",
      "Train epoch: 96 [2560/9800 (26%)]\tLoss: 0.000380\n",
      "Train epoch: 96 [3840/9800 (39%)]\tLoss: 0.000433\n",
      "Train epoch: 96 [5120/9800 (52%)]\tLoss: 0.000354\n",
      "Train epoch: 96 [6400/9800 (65%)]\tLoss: 0.000286\n",
      "Train epoch: 96 [7680/9800 (78%)]\tLoss: 0.000285\n",
      "Train epoch: 96 [8960/9800 (91%)]\tLoss: 0.000375\n",
      "===> Epoch: 96 Average Loss: 0.0004\n",
      "PNLL:  457.75144356175474\n",
      "MSE:  0.04631841574844561\n",
      "KLD:  615799.8569078947\n",
      "Train epoch: 97 [0/9800 (0%)]\tLoss: 0.000346\n",
      "Train epoch: 97 [1280/9800 (13%)]\tLoss: 0.000291\n",
      "Train epoch: 97 [2560/9800 (26%)]\tLoss: 0.000380\n",
      "Train epoch: 97 [3840/9800 (39%)]\tLoss: 0.000433\n",
      "Train epoch: 97 [5120/9800 (52%)]\tLoss: 0.000354\n",
      "Train epoch: 97 [6400/9800 (65%)]\tLoss: 0.000286\n",
      "Train epoch: 97 [7680/9800 (78%)]\tLoss: 0.000286\n",
      "Train epoch: 97 [8960/9800 (91%)]\tLoss: 0.000375\n",
      "===> Epoch: 97 Average Loss: 0.0004\n",
      "PNLL:  456.2706210487767\n",
      "MSE:  0.0463134290552453\n",
      "KLD:  619237.1143092106\n",
      "Train epoch: 98 [0/9800 (0%)]\tLoss: 0.000346\n",
      "Train epoch: 98 [1280/9800 (13%)]\tLoss: 0.000291\n",
      "Train epoch: 98 [2560/9800 (26%)]\tLoss: 0.000380\n",
      "Train epoch: 98 [3840/9800 (39%)]\tLoss: 0.000433\n",
      "Train epoch: 98 [5120/9800 (52%)]\tLoss: 0.000353\n",
      "Train epoch: 98 [6400/9800 (65%)]\tLoss: 0.000286\n",
      "Train epoch: 98 [7680/9800 (78%)]\tLoss: 0.000285\n",
      "Train epoch: 98 [8960/9800 (91%)]\tLoss: 0.000375\n",
      "===> Epoch: 98 Average Loss: 0.0004\n",
      "PNLL:  454.854835911801\n",
      "MSE:  0.04629878650762533\n",
      "KLD:  623068.2705592106\n",
      "Train epoch: 99 [0/9800 (0%)]\tLoss: 0.000346\n"
     ]
    },
    {
     "name": "stdout",
     "output_type": "stream",
     "text": [
      "Train epoch: 99 [1280/9800 (13%)]\tLoss: 0.000290\n",
      "Train epoch: 99 [2560/9800 (26%)]\tLoss: 0.000380\n",
      "Train epoch: 99 [3840/9800 (39%)]\tLoss: 0.000433\n",
      "Train epoch: 99 [5120/9800 (52%)]\tLoss: 0.000353\n",
      "Train epoch: 99 [6400/9800 (65%)]\tLoss: 0.000286\n",
      "Train epoch: 99 [7680/9800 (78%)]\tLoss: 0.000285\n",
      "Train epoch: 99 [8960/9800 (91%)]\tLoss: 0.000375\n",
      "===> Epoch: 99 Average Loss: 0.0004\n",
      "PNLL:  453.62384233976667\n",
      "MSE:  0.046289389413830484\n",
      "KLD:  626233.8824013158\n"
     ]
    }
   ],
   "source": [
    "for epoch in range(EPOCHS):\n",
    "    epoch_train_loss = 0\n",
    "    epoch_test_loss = 0\n",
    "    # Run method on training\n",
    "    model.train()\n",
    "    avg_pnll = 0\n",
    "    avg_mse = 0\n",
    "    avg_kld = 0\n",
    "    for batch_idx, (data, y) in enumerate(train_loader):\n",
    "        # Add training data to GPU\n",
    "        data = data.to(device)\n",
    "        y = y.to(device)\n",
    "        optimizer.zero_grad()\n",
    "        s, W, mu, logvar, y_hat = model(data)\n",
    "        s = s.to(device)\n",
    "        W = W.to(device)\n",
    "        y_hat = y_hat.to(device)\n",
    "        recon_batch = s @ W  # Calculate the reconstructed matrix\n",
    "        recon_batch = recon_batch.to(device)\n",
    "        mu = mu.to(device)\n",
    "        logvar = logvar.to(device)\n",
    "        PNLL, MSE, KLD = model.loss_function(\n",
    "            recon_batch, data, mu, logvar, y, y_hat\n",
    "        )\n",
    "\n",
    "        loss = torch.mean(MSE )#+ 0.00001*PNLL + 0.000001*KLD)\n",
    "        loss.backward()\n",
    "        optimizer.step()\n",
    "        with torch.no_grad():\n",
    "            avg_pnll += torch.mean(PNLL).item()\n",
    "            avg_mse += torch.mean(MSE).item()\n",
    "            avg_kld += torch.mean(KLD).item()\n",
    "        epoch_train_loss += loss.item()\n",
    "\n",
    "        if batch_idx % print_rate == 0:\n",
    "            print(\n",
    "                \"Train epoch: {} [{}/{} ({:.0f}%)]\\tLoss: {:.6f}\".format(\n",
    "                    epoch,\n",
    "                    batch_idx * len(data),\n",
    "                    len(train_loader.dataset),\n",
    "                    100.0 * batch_idx / len(train_loader),\n",
    "                    loss.item() / len(data),\n",
    "                )\n",
    "            )\n",
    "    print(\n",
    "        \"===> Epoch: {} Average Loss: {:.4f}\".format(\n",
    "            epoch, epoch_train_loss / len(train_loader.dataset)\n",
    "        )\n",
    "    )\n",
    "    print(\"PNLL: \", avg_pnll / batch_idx)\n",
    "    print(\"MSE: \", avg_mse / batch_idx)\n",
    "    print(\"KLD: \", avg_kld / batch_idx)"
   ]
  },
  {
   "cell_type": "code",
   "execution_count": 15,
   "id": "deab90c4",
   "metadata": {},
   "outputs": [
    {
     "data": {
      "text/plain": [
       "9800"
      ]
     },
     "execution_count": 15,
     "metadata": {},
     "output_type": "execute_result"
    }
   ],
   "source": [
    "len(train_loader.dataset)"
   ]
  },
  {
   "cell_type": "code",
   "execution_count": null,
   "id": "e2872d39",
   "metadata": {},
   "outputs": [],
   "source": [
    "plt.plot(range(EPOCHS), loss)"
   ]
  },
  {
   "cell_type": "code",
   "execution_count": 31,
   "id": "d9f19dc8",
   "metadata": {},
   "outputs": [
    {
     "data": {
      "text/plain": [
       "<matplotlib.collections.PathCollection at 0x7efb8930a590>"
      ]
     },
     "execution_count": 31,
     "metadata": {},
     "output_type": "execute_result"
    },
    {
     "data": {
      "image/png": "[encoded data removed]",
      "text/plain": [
       "<Figure size 432x288 with 1 Axes>"
      ]
     },
     "metadata": {
      "needs_background": "light"
     },
     "output_type": "display_data"
    }
   ],
   "source": [
    "y_vals = []\n",
    "y_preds = []\n",
    "for x, y in train_loader:\n",
    "    x = x.to(device)\n",
    "    y_vals.append(y)\n",
    "    s, W, mu, logvar, y_hat = model(x)\n",
    "    y_preds.append(y_hat)\n",
    "\n",
    "y_vals = torch.cat(y_vals).cpu().detach()\n",
    "y_preds = torch.cat(y_preds).cpu().detach()\n",
    "perfect = np.linspace(min(y), max(y), 100)\n",
    "plt.plot(perfect, perfect, '--', color='red')\n",
    "plt.xlabel(\"Predicted value\")\n",
    "plt.ylabel(\"Actual value\")\n",
    "plt.scatter(y_preds, y_vals)"
   ]
  },
  {
   "cell_type": "code",
   "execution_count": 120,
   "id": "4f1c67f3",
   "metadata": {},
   "outputs": [
    {
     "data": {
      "text/plain": [
       "2450"
      ]
     },
     "execution_count": 120,
     "metadata": {},
     "output_type": "execute_result"
    }
   ],
   "source": [
    "len(y_vals)"
   ]
  },
  {
   "cell_type": "code",
   "execution_count": 100,
   "id": "761015c6",
   "metadata": {},
   "outputs": [
    {
     "data": {
      "text/plain": [
       "tensor([1.3010, 1.7160, 1.7324,  ..., 1.5563, 1.5441, 1.7243])"
      ]
     },
     "execution_count": 100,
     "metadata": {},
     "output_type": "execute_result"
    }
   ],
   "source": [
    "y_vals"
   ]
  },
  {
   "cell_type": "code",
   "execution_count": 102,
   "id": "1853727c",
   "metadata": {},
   "outputs": [
    {
     "data": {
      "text/plain": [
       "tensor([1.0444, 0.7814, 0.8331,  ..., 1.0684, 0.7575, 0.7051])"
      ]
     },
     "execution_count": 102,
     "metadata": {},
     "output_type": "execute_result"
    }
   ],
   "source": [
    "y_preds.flatten()"
   ]
  },
  {
   "cell_type": "code",
   "execution_count": 135,
   "id": "3976fd39",
   "metadata": {},
   "outputs": [
    {
     "data": {
      "text/plain": [
       "-0.010582941580409733"
      ]
     },
     "execution_count": 135,
     "metadata": {},
     "output_type": "execute_result"
    }
   ],
   "source": [
    "from sklearn.metrics import r2_score\n",
    "\n",
    "r2_score(y_vals, y_preds.flatten())"
   ]
  },
  {
   "cell_type": "code",
   "execution_count": 136,
   "id": "e341196d",
   "metadata": {},
   "outputs": [
    {
     "data": {
      "text/plain": [
       "0.046129625"
      ]
     },
     "execution_count": 136,
     "metadata": {},
     "output_type": "execute_result"
    }
   ],
   "source": [
    "from sklearn.metrics import mean_squared_error\n",
    "mean_squared_error(y_vals, y_preds.flatten())"
   ]
  },
  {
   "cell_type": "code",
   "execution_count": 137,
   "id": "8942fe4d",
   "metadata": {},
   "outputs": [
    {
     "data": {
      "text/plain": [
       "array([[1.        , 0.03892555],\n",
       "       [0.03892555, 1.        ]])"
      ]
     },
     "execution_count": 137,
     "metadata": {},
     "output_type": "execute_result"
    }
   ],
   "source": [
    "np.corrcoef(y_vals, y_preds.flatten())"
   ]
  },
  {
   "cell_type": "code",
   "execution_count": 17,
   "id": "9f07a311",
   "metadata": {},
   "outputs": [],
   "source": [
    "model.eval()\n",
    "log_vals = []\n",
    "mu_vals = []\n",
    "for x, y in train_loader:\n",
    "    x = x.to(device)\n",
    "    s, W, mu, logvar, y_hat = model(x)\n",
    "    log_vals.append(logvar)\n",
    "    mu_vals.append(mu)"
   ]
  },
  {
   "cell_type": "code",
   "execution_count": 18,
   "id": "9a39993f",
   "metadata": {},
   "outputs": [],
   "source": [
    "mu_vals = torch.cat(mu_vals).detach().cpu().numpy()"
   ]
  },
  {
   "cell_type": "code",
   "execution_count": 19,
   "id": "d8bdbb94",
   "metadata": {},
   "outputs": [],
   "source": [
    "log_vals = torch.cat(log_vals).detach().cpu().numpy()"
   ]
  },
  {
   "cell_type": "code",
   "execution_count": 22,
   "id": "b7df8276",
   "metadata": {},
   "outputs": [
    {
     "data": {
      "image/png": "[encoded data removed]",
      "text/plain": [
       "<Figure size 432x288 with 1 Axes>"
      ]
     },
     "metadata": {
      "needs_background": "light"
     },
     "output_type": "display_data"
    }
   ],
   "source": [
    "for i in range(20):\n",
    "    plt.hist(mu_vals[:,0, i])"
   ]
  },
  {
   "cell_type": "code",
   "execution_count": 23,
   "id": "d48ffdf4",
   "metadata": {},
   "outputs": [
    {
     "data": {
      "image/png": "[encoded data removed]",
      "text/plain": [
       "<Figure size 432x288 with 1 Axes>"
      ]
     },
     "metadata": {
      "needs_background": "light"
     },
     "output_type": "display_data"
    }
   ],
   "source": [
    "for i in range(20):\n",
    "    plt.hist(log_vals[:,0, i])"
   ]
  },
  {
   "cell_type": "code",
   "execution_count": 83,
   "id": "1ab1c004",
   "metadata": {},
   "outputs": [
    {
     "name": "stdout",
     "output_type": "stream",
     "text": [
      "1.364013671875 | 0.4771212637424469 | tensor([[0.7866]], device='cuda:0')\n",
      "1.3105111122131348 | 1.556302547454834 | tensor([[0.0604]], device='cuda:0')\n",
      "1.7251465320587158 | 1.6720978021621704 | tensor([[0.0028]], device='cuda:0')\n",
      "1.75349760055542 | 1.6127839088439941 | tensor([[0.0198]], device='cuda:0')\n",
      "1.6532137393951416 | 1.4471579790115356 | tensor([[0.0425]], device='cuda:0')\n",
      "1.3493053913116455 | 1.3617278337478638 | tensor([[0.0002]], device='cuda:0')\n",
      "1.480534553527832 | 1.3424227237701416 | tensor([[0.0191]], device='cuda:0')\n",
      "1.259460687637329 | 1.6434526443481445 | tensor([[0.1474]], device='cuda:0')\n",
      "1.2042808532714844 | 1.6020599603652954 | tensor([[0.1582]], device='cuda:0')\n",
      "1.8668303489685059 | 1.9493900537490845 | tensor([[0.0068]], device='cuda:0')\n",
      "1.4541853666305542 | 2.2355284690856934 | tensor([[0.6105]], device='cuda:0')\n",
      "1.4478633403778076 | 1.3424227237701416 | tensor([[0.0111]], device='cuda:0')\n",
      "1.301031470298767 | 1.5440680980682373 | tensor([[0.0591]], device='cuda:0')\n",
      "1.868943691253662 | 1.431363821029663 | tensor([[0.1915]], device='cuda:0')\n",
      "1.1816657781600952 | 1.5682017803192139 | tensor([[0.1494]], device='cuda:0')\n",
      "1.7809972763061523 | 1.556302547454834 | tensor([[0.0505]], device='cuda:0')\n",
      "1.063045620918274 | 1.5440680980682373 | tensor([[0.2314]], device='cuda:0')\n",
      "2.2448108196258545 | 1.724275827407837 | tensor([[0.2710]], device='cuda:0')\n",
      "\n",
      "tensor(0.2710, device='cuda:0')\n"
     ]
    }
   ],
   "source": [
    "n = 2\n",
    "with torch.no_grad():\n",
    "    for yh, y_a in zip(y_hat, y):\n",
    "        print(f'{yh.detach().item()} | {y_a} | {(yh-y_a).pow(n)}')\n",
    "\n",
    "    print()\n",
    "    print((yh-y_a).pow(n).mean())"
   ]
  },
  {
   "cell_type": "code",
   "execution_count": 115,
   "id": "169679d9",
   "metadata": {},
   "outputs": [
    {
     "name": "stdout",
     "output_type": "stream",
     "text": [
      "===> Test set loss: 0.0004\n",
      "======> Test set frobenius norm: 902.3006\n",
      "======> Test set mean squared error: 0.0004\n",
      "======> Test set kl divergence: 8.2761\n",
      "======> Test set poisson: 0.0811\n"
     ]
    }
   ],
   "source": [
    "# Capture testing performance.\n",
    "model.eval()\n",
    "frobenius_norms = []\n",
    "poisson = []\n",
    "mean_squared_error = []\n",
    "kl_divergence = []\n",
    "avg_pnll = 0\n",
    "avg_mse = 0\n",
    "avg_kld = 0\n",
    "with torch.no_grad():\n",
    "    for batch_idx, (data, y) in enumerate(test_loader):\n",
    "        # Add to GPU\n",
    "        data = data.to(device)\n",
    "        y = y.to(device)\n",
    "        s, W, mu, logvar, y_hat = model(data)\n",
    "        W = W.to(device)\n",
    "        recon_batch = s @ W\n",
    "        PNLL, MSE, KLD = model.loss_function(\n",
    "            recon_batch, data, mu, logvar, y, y_hat\n",
    "        )\n",
    "        loss = torch.mean(MSE)#PNLL + MSE + 0.1 * KLD)\n",
    "        avg_pnll += torch.mean(PNLL).item()\n",
    "        avg_mse += torch.mean(MSE).item()\n",
    "        avg_kld += torch.mean(KLD).item()\n",
    "        epoch_test_loss += loss.item()\n",
    "\n",
    "        # Calculate frobenius norm of the reconstructed matrix\n",
    "        frobenius_norms.append(\n",
    "            torch.norm(recon_batch - data, p=\"fro\", dim=2).mean().item()\n",
    "        )\n",
    "        mean_squared_error.append(MSE)\n",
    "        kl_divergence.append(KLD)\n",
    "\n",
    "avg_mse /= len(test_loader.dataset)\n",
    "avg_pnll /= len(test_loader.dataset)\n",
    "avg_kld /= len(test_loader.dataset)\n",
    "epoch_test_loss /= len(test_loader.dataset)\n",
    "\n",
    "# # Append results to the json\n",
    "# loss[\"val\"][\"pnll\"].append(avg_pnll)\n",
    "# loss[\"val\"][\"mse\"].append(avg_mse)\n",
    "# loss[\"val\"][\"kld\"].append(avg_kld)\n",
    "# loss[\"val\"][\"total\"].append(epoch_test_loss)\n",
    "\n",
    "avg_f_norm = sum(frobenius_norms) / len(frobenius_norms)\n",
    "print(\"===> Test set loss: {:.4f}\".format(epoch_test_loss))\n",
    "# Print frobenius norm\n",
    "print(\"======> Test set frobenius norm: {:.4f}\".format(avg_f_norm))\n",
    "print(\"======> Test set mean squared error: {:.4f}\".format(avg_mse))\n",
    "print(\"======> Test set kl divergence: {:.4f}\".format(avg_kld))\n",
    "print(\"======> Test set poisson: {:.4f}\".format(avg_pnll))"
   ]
  },
  {
   "cell_type": "code",
   "execution_count": 85,
   "id": "07f3765a",
   "metadata": {},
   "outputs": [],
   "source": [
    "import matplotlib.pyplot as plt"
   ]
  },
  {
   "cell_type": "code",
   "execution_count": 116,
   "id": "362952d5",
   "metadata": {},
   "outputs": [
    {
     "data": {
      "text/plain": [
       "<matplotlib.collections.PathCollection at 0x7f7a444bb650>"
      ]
     },
     "execution_count": 116,
     "metadata": {},
     "output_type": "execute_result"
    },
    {
     "data": {
      "image/png": "[encoded data removed]",
      "text/plain": [
       "<Figure size 432x288 with 1 Axes>"
      ]
     },
     "metadata": {
      "needs_background": "light"
     },
     "output_type": "display_data"
    }
   ],
   "source": [
    "y_hat = y_hat.to('cpu').detach()\n",
    "y = y.to('cpu').detach()\n",
    "perfect = np.linspace(min(y), max(y), 100)\n",
    "plt.plot(perfect, perfect, '--', color='red')\n",
    "plt.scatter(y_hat, y)"
   ]
  },
  {
   "cell_type": "code",
   "execution_count": 117,
   "id": "d8a8c629",
   "metadata": {},
   "outputs": [],
   "source": [
    "y_vals = []\n",
    "y_preds = []\n",
    "for x, y in test_loader:\n",
    "    x = x.to(device)\n",
    "    y_vals.append(y)\n",
    "    s, W, mu, logvar, y_hat = model(x)\n",
    "    y_preds.append(y_hat)\n"
   ]
  },
  {
   "cell_type": "code",
   "execution_count": 118,
   "id": "d2f86d79",
   "metadata": {},
   "outputs": [
    {
     "data": {
      "text/plain": [
       "<matplotlib.collections.PathCollection at 0x7f7a4446c8d0>"
      ]
     },
     "execution_count": 118,
     "metadata": {},
     "output_type": "execute_result"
    },
    {
     "data": {
      "image/png": "[encoded data removed]",
      "text/plain": [
       "<Figure size 432x288 with 1 Axes>"
      ]
     },
     "metadata": {
      "needs_background": "light"
     },
     "output_type": "display_data"
    }
   ],
   "source": [
    "y_vals = torch.cat(y_vals).cpu().detach()\n",
    "y_preds = torch.cat(y_preds).cpu().detach()\n",
    "perfect = np.linspace(min(y), max(y), 100)\n",
    "plt.plot(perfect, perfect, '--', color='red')\n",
    "plt.xlabel(\"Predicted value\")\n",
    "plt.ylabel(\"Actual value\")\n",
    "plt.scatter(y_preds, y_vals)"
   ]
  },
  {
   "cell_type": "markdown",
   "id": "5930a4e8",
   "metadata": {},
   "source": [
    "# let's see if we can simply overfit a model...why can't we get this model to be good???"
   ]
  },
  {
   "cell_type": "code",
   "execution_count": 117,
   "id": "d496d715",
   "metadata": {},
   "outputs": [],
   "source": [
    "class overfit(nn.Module):\n",
    "    \"\"\"\n",
    "    I'm creating this model to see if we can just overfit a model to\n",
    "    predict the AQI on a given day using count vectors.\n",
    "    \"\"\"\n",
    "    def __init__(self, vocab):\n",
    "        super().__init__()\n",
    "        self.fc1 = nn.Linear(vocab, 5000, bias=True)\n",
    "        self.fc2 = nn.Linear(5000, 2000, bias=True)\n",
    "        self.fc3 = nn.Linear(2000, 1000, bias=True)\n",
    "        self.fc4 = nn.Linear(1000, 1)\n",
    "        \n",
    "    def forward(self, x):\n",
    "        h1 = F.relu(self.fc1(x))\n",
    "        h2 = F.relu(self.fc2(h1))\n",
    "        h3 = F.relu(self.fc3(h2))\n",
    "        h4 = self.fc4(h3)\n",
    "        \n",
    "        return h4\n",
    "    \n",
    "    def loss_function(self, y, y_hat):\n",
    "        mse = (y-y_hat).pow(2).mean()\n",
    "        return mse\n",
    "    "
   ]
  },
  {
   "cell_type": "code",
   "execution_count": 118,
   "id": "86f58968",
   "metadata": {},
   "outputs": [],
   "source": [
    "model = overfit(tweets.vocab_size)\n",
    "model.to(device)\n",
    "\n",
    "EPOCHS = 100\n",
    "print_rate = 10\n",
    "optimizer = optim.Adam(model.parameters(), lr=1e-3)"
   ]
  },
  {
   "cell_type": "code",
   "execution_count": 119,
   "id": "b40d37e4",
   "metadata": {},
   "outputs": [
    {
     "name": "stdout",
     "output_type": "stream",
     "text": [
      "Train epoch: 0 [0/9800 (0%)]\tLoss: 0.021266\n",
      "Train epoch: 0 [1280/9800 (13%)]\tLoss: 0.002524\n",
      "Train epoch: 0 [2560/9800 (26%)]\tLoss: 0.000430\n",
      "Train epoch: 0 [3840/9800 (39%)]\tLoss: 0.000483\n",
      "Train epoch: 0 [5120/9800 (52%)]\tLoss: 0.000404\n",
      "Train epoch: 0 [6400/9800 (65%)]\tLoss: 0.000336\n",
      "Train epoch: 0 [7680/9800 (78%)]\tLoss: 0.000333\n",
      "Train epoch: 0 [8960/9800 (91%)]\tLoss: 0.000407\n",
      "===> Epoch: 0 Average Loss: 0.5964\n",
      "MSE:  0.045076619735673853\n",
      "Train epoch: 1 [0/9800 (0%)]\tLoss: 0.000431\n",
      "Train epoch: 1 [1280/9800 (13%)]\tLoss: 0.000314\n",
      "Train epoch: 1 [2560/9800 (26%)]\tLoss: 0.000426\n",
      "Train epoch: 1 [3840/9800 (39%)]\tLoss: 0.000462\n",
      "Train epoch: 1 [5120/9800 (52%)]\tLoss: 0.000382\n",
      "Train epoch: 1 [6400/9800 (65%)]\tLoss: 0.000323\n",
      "Train epoch: 1 [7680/9800 (78%)]\tLoss: 0.000312\n",
      "Train epoch: 1 [8960/9800 (91%)]\tLoss: 0.000399\n",
      "===> Epoch: 1 Average Loss: 0.0004\n",
      "MSE:  0.045076619735673853\n",
      "Train epoch: 2 [0/9800 (0%)]\tLoss: 0.000372\n",
      "Train epoch: 2 [1280/9800 (13%)]\tLoss: 0.000322\n",
      "Train epoch: 2 [2560/9800 (26%)]\tLoss: 0.000405\n",
      "Train epoch: 2 [3840/9800 (39%)]\tLoss: 0.000455\n",
      "Train epoch: 2 [5120/9800 (52%)]\tLoss: 0.000375\n",
      "Train epoch: 2 [6400/9800 (65%)]\tLoss: 0.000320\n",
      "Train epoch: 2 [7680/9800 (78%)]\tLoss: 0.000307\n",
      "Train epoch: 2 [8960/9800 (91%)]\tLoss: 0.000394\n",
      "===> Epoch: 2 Average Loss: 0.0004\n",
      "MSE:  0.045076619735673853\n",
      "Train epoch: 3 [0/9800 (0%)]\tLoss: 0.000368\n",
      "Train epoch: 3 [1280/9800 (13%)]\tLoss: 0.000322\n",
      "Train epoch: 3 [2560/9800 (26%)]\tLoss: 0.000398\n",
      "Train epoch: 3 [3840/9800 (39%)]\tLoss: 0.000457\n",
      "Train epoch: 3 [5120/9800 (52%)]\tLoss: 0.000372\n",
      "Train epoch: 3 [6400/9800 (65%)]\tLoss: 0.000317\n",
      "Train epoch: 3 [7680/9800 (78%)]\tLoss: 0.000305\n",
      "Train epoch: 3 [8960/9800 (91%)]\tLoss: 0.000391\n",
      "===> Epoch: 3 Average Loss: 0.0004\n",
      "MSE:  0.045076619735673853\n",
      "Train epoch: 4 [0/9800 (0%)]\tLoss: 0.000362\n",
      "Train epoch: 4 [1280/9800 (13%)]\tLoss: 0.000312\n",
      "Train epoch: 4 [2560/9800 (26%)]\tLoss: 0.000395\n",
      "Train epoch: 4 [3840/9800 (39%)]\tLoss: 0.000451\n",
      "Train epoch: 4 [5120/9800 (52%)]\tLoss: 0.000370\n",
      "Train epoch: 4 [6400/9800 (65%)]\tLoss: 0.000312\n",
      "Train epoch: 4 [7680/9800 (78%)]\tLoss: 0.000304\n",
      "Train epoch: 4 [8960/9800 (91%)]\tLoss: 0.000390\n",
      "===> Epoch: 4 Average Loss: 0.0004\n",
      "MSE:  0.045076619735673853\n",
      "Train epoch: 5 [0/9800 (0%)]\tLoss: 0.000360\n",
      "Train epoch: 5 [1280/9800 (13%)]\tLoss: 0.000307\n",
      "Train epoch: 5 [2560/9800 (26%)]\tLoss: 0.000394\n",
      "Train epoch: 5 [3840/9800 (39%)]\tLoss: 0.000448\n",
      "Train epoch: 5 [5120/9800 (52%)]\tLoss: 0.000369\n",
      "Train epoch: 5 [6400/9800 (65%)]\tLoss: 0.000315\n",
      "Train epoch: 5 [7680/9800 (78%)]\tLoss: 0.000304\n",
      "Train epoch: 5 [8960/9800 (91%)]\tLoss: 0.000389\n",
      "===> Epoch: 5 Average Loss: 0.0004\n",
      "MSE:  0.045076619735673853\n",
      "Train epoch: 6 [0/9800 (0%)]\tLoss: 0.000359\n",
      "Train epoch: 6 [1280/9800 (13%)]\tLoss: 0.000303\n",
      "Train epoch: 6 [2560/9800 (26%)]\tLoss: 0.000392\n",
      "Train epoch: 6 [3840/9800 (39%)]\tLoss: 0.000446\n",
      "Train epoch: 6 [5120/9800 (52%)]\tLoss: 0.000367\n",
      "Train epoch: 6 [6400/9800 (65%)]\tLoss: 0.000311\n",
      "Train epoch: 6 [7680/9800 (78%)]\tLoss: 0.000302\n",
      "Train epoch: 6 [8960/9800 (91%)]\tLoss: 0.000387\n",
      "===> Epoch: 6 Average Loss: 0.0004\n",
      "MSE:  0.045076619735673853\n",
      "Train epoch: 7 [0/9800 (0%)]\tLoss: 0.000357\n",
      "Train epoch: 7 [1280/9800 (13%)]\tLoss: 0.000301\n",
      "Train epoch: 7 [2560/9800 (26%)]\tLoss: 0.000390\n",
      "Train epoch: 7 [3840/9800 (39%)]\tLoss: 0.000444\n",
      "Train epoch: 7 [5120/9800 (52%)]\tLoss: 0.000366\n",
      "Train epoch: 7 [6400/9800 (65%)]\tLoss: 0.000308\n",
      "Train epoch: 7 [7680/9800 (78%)]\tLoss: 0.000301\n",
      "Train epoch: 7 [8960/9800 (91%)]\tLoss: 0.000386\n",
      "===> Epoch: 7 Average Loss: 0.0004\n",
      "MSE:  0.045076619735673853\n",
      "Train epoch: 8 [0/9800 (0%)]\tLoss: 0.000356\n",
      "Train epoch: 8 [1280/9800 (13%)]\tLoss: 0.000299\n",
      "Train epoch: 8 [2560/9800 (26%)]\tLoss: 0.000389\n",
      "Train epoch: 8 [3840/9800 (39%)]\tLoss: 0.000443\n",
      "Train epoch: 8 [5120/9800 (52%)]\tLoss: 0.000365\n",
      "Train epoch: 8 [6400/9800 (65%)]\tLoss: 0.000307\n",
      "Train epoch: 8 [7680/9800 (78%)]\tLoss: 0.000299\n",
      "Train epoch: 8 [8960/9800 (91%)]\tLoss: 0.000385\n",
      "===> Epoch: 8 Average Loss: 0.0004\n",
      "MSE:  0.045076619735673853\n",
      "Train epoch: 9 [0/9800 (0%)]\tLoss: 0.000356\n",
      "Train epoch: 9 [1280/9800 (13%)]\tLoss: 0.000298\n",
      "Train epoch: 9 [2560/9800 (26%)]\tLoss: 0.000388\n",
      "Train epoch: 9 [3840/9800 (39%)]\tLoss: 0.000442\n",
      "Train epoch: 9 [5120/9800 (52%)]\tLoss: 0.000364\n",
      "Train epoch: 9 [6400/9800 (65%)]\tLoss: 0.000307\n",
      "Train epoch: 9 [7680/9800 (78%)]\tLoss: 0.000298\n",
      "Train epoch: 9 [8960/9800 (91%)]\tLoss: 0.000384\n",
      "===> Epoch: 9 Average Loss: 0.0004\n",
      "MSE:  0.045076619735673853\n",
      "Train epoch: 10 [0/9800 (0%)]\tLoss: 0.000355\n",
      "Train epoch: 10 [1280/9800 (13%)]\tLoss: 0.000298\n",
      "Train epoch: 10 [2560/9800 (26%)]\tLoss: 0.000387\n",
      "Train epoch: 10 [3840/9800 (39%)]\tLoss: 0.000441\n",
      "Train epoch: 10 [5120/9800 (52%)]\tLoss: 0.000363\n",
      "Train epoch: 10 [6400/9800 (65%)]\tLoss: 0.000306\n",
      "Train epoch: 10 [7680/9800 (78%)]\tLoss: 0.000297\n",
      "Train epoch: 10 [8960/9800 (91%)]\tLoss: 0.000384\n",
      "===> Epoch: 10 Average Loss: 0.0004\n",
      "MSE:  0.045076619735673853\n",
      "Train epoch: 11 [0/9800 (0%)]\tLoss: 0.000354\n",
      "Train epoch: 11 [1280/9800 (13%)]\tLoss: 0.000297\n",
      "Train epoch: 11 [2560/9800 (26%)]\tLoss: 0.000387\n",
      "Train epoch: 11 [3840/9800 (39%)]\tLoss: 0.000441\n",
      "Train epoch: 11 [5120/9800 (52%)]\tLoss: 0.000362\n",
      "Train epoch: 11 [6400/9800 (65%)]\tLoss: 0.000304\n",
      "Train epoch: 11 [7680/9800 (78%)]\tLoss: 0.000296\n",
      "Train epoch: 11 [8960/9800 (91%)]\tLoss: 0.000384\n",
      "===> Epoch: 11 Average Loss: 0.0004\n",
      "MSE:  0.045076619735673853\n",
      "Train epoch: 12 [0/9800 (0%)]\tLoss: 0.000354\n",
      "Train epoch: 12 [1280/9800 (13%)]\tLoss: 0.000296\n",
      "Train epoch: 12 [2560/9800 (26%)]\tLoss: 0.000386\n",
      "Train epoch: 12 [3840/9800 (39%)]\tLoss: 0.000441\n",
      "Train epoch: 12 [5120/9800 (52%)]\tLoss: 0.000362\n",
      "Train epoch: 12 [6400/9800 (65%)]\tLoss: 0.000302\n",
      "Train epoch: 12 [7680/9800 (78%)]\tLoss: 0.000296\n",
      "Train epoch: 12 [8960/9800 (91%)]\tLoss: 0.000384\n",
      "===> Epoch: 12 Average Loss: 0.0004\n",
      "MSE:  0.045076619735673853\n",
      "Train epoch: 13 [0/9800 (0%)]\tLoss: 0.000353\n",
      "Train epoch: 13 [1280/9800 (13%)]\tLoss: 0.000296\n",
      "Train epoch: 13 [2560/9800 (26%)]\tLoss: 0.000386\n",
      "Train epoch: 13 [3840/9800 (39%)]\tLoss: 0.000441\n",
      "Train epoch: 13 [5120/9800 (52%)]\tLoss: 0.000361\n",
      "Train epoch: 13 [6400/9800 (65%)]\tLoss: 0.000301\n",
      "Train epoch: 13 [7680/9800 (78%)]\tLoss: 0.000296\n",
      "Train epoch: 13 [8960/9800 (91%)]\tLoss: 0.000384\n",
      "===> Epoch: 13 Average Loss: 0.0004\n",
      "MSE:  0.045076619735673853\n",
      "Train epoch: 14 [0/9800 (0%)]\tLoss: 0.000353\n",
      "Train epoch: 14 [1280/9800 (13%)]\tLoss: 0.000296\n",
      "Train epoch: 14 [2560/9800 (26%)]\tLoss: 0.000386\n",
      "Train epoch: 14 [3840/9800 (39%)]\tLoss: 0.000441\n",
      "Train epoch: 14 [5120/9800 (52%)]\tLoss: 0.000361\n",
      "Train epoch: 14 [6400/9800 (65%)]\tLoss: 0.000299\n",
      "Train epoch: 14 [7680/9800 (78%)]\tLoss: 0.000295\n",
      "Train epoch: 14 [8960/9800 (91%)]\tLoss: 0.000385\n",
      "===> Epoch: 14 Average Loss: 0.0004\n",
      "MSE:  0.045076619735673853\n",
      "Train epoch: 15 [0/9800 (0%)]\tLoss: 0.000353\n",
      "Train epoch: 15 [1280/9800 (13%)]\tLoss: 0.000296\n",
      "Train epoch: 15 [2560/9800 (26%)]\tLoss: 0.000386\n",
      "Train epoch: 15 [3840/9800 (39%)]\tLoss: 0.000440\n",
      "Train epoch: 15 [5120/9800 (52%)]\tLoss: 0.000362\n",
      "Train epoch: 15 [6400/9800 (65%)]\tLoss: 0.000301\n",
      "Train epoch: 15 [7680/9800 (78%)]\tLoss: 0.000296\n",
      "Train epoch: 15 [8960/9800 (91%)]\tLoss: 0.000386\n",
      "===> Epoch: 15 Average Loss: 0.0004\n",
      "MSE:  0.045076619735673853\n",
      "Train epoch: 16 [0/9800 (0%)]\tLoss: 0.000353\n",
      "Train epoch: 16 [1280/9800 (13%)]\tLoss: 0.000296\n",
      "Train epoch: 16 [2560/9800 (26%)]\tLoss: 0.000386\n",
      "Train epoch: 16 [3840/9800 (39%)]\tLoss: 0.000440\n",
      "Train epoch: 16 [5120/9800 (52%)]\tLoss: 0.000362\n",
      "Train epoch: 16 [6400/9800 (65%)]\tLoss: 0.000295\n",
      "Train epoch: 16 [7680/9800 (78%)]\tLoss: 0.000303\n",
      "Train epoch: 16 [8960/9800 (91%)]\tLoss: 0.000400\n",
      "===> Epoch: 16 Average Loss: 0.0004\n",
      "MSE:  0.045076619735673853\n",
      "Train epoch: 17 [0/9800 (0%)]\tLoss: 0.000353\n",
      "Train epoch: 17 [1280/9800 (13%)]\tLoss: 0.000294\n",
      "Train epoch: 17 [2560/9800 (26%)]\tLoss: 0.000386\n",
      "Train epoch: 17 [3840/9800 (39%)]\tLoss: 0.000441\n",
      "Train epoch: 17 [5120/9800 (52%)]\tLoss: 0.000367\n",
      "Train epoch: 17 [6400/9800 (65%)]\tLoss: 0.000296\n",
      "Train epoch: 17 [7680/9800 (78%)]\tLoss: 0.000295\n",
      "Train epoch: 17 [8960/9800 (91%)]\tLoss: 0.000536\n",
      "===> Epoch: 17 Average Loss: 0.0004\n",
      "MSE:  0.045076619735673853\n",
      "Train epoch: 18 [0/9800 (0%)]\tLoss: 0.000475\n",
      "Train epoch: 18 [1280/9800 (13%)]\tLoss: 0.000406\n",
      "Train epoch: 18 [2560/9800 (26%)]\tLoss: 0.000388\n",
      "Train epoch: 18 [3840/9800 (39%)]\tLoss: 0.000443\n"
     ]
    },
    {
     "name": "stdout",
     "output_type": "stream",
     "text": [
      "Train epoch: 18 [5120/9800 (52%)]\tLoss: 0.000422\n",
      "Train epoch: 18 [6400/9800 (65%)]\tLoss: 0.000450\n",
      "Train epoch: 18 [7680/9800 (78%)]\tLoss: 0.000342\n",
      "Train epoch: 18 [8960/9800 (91%)]\tLoss: 0.000682\n",
      "===> Epoch: 18 Average Loss: 0.0004\n",
      "MSE:  0.045076619735673853\n",
      "Train epoch: 19 [0/9800 (0%)]\tLoss: 0.000460\n",
      "Train epoch: 19 [1280/9800 (13%)]\tLoss: 0.000298\n",
      "Train epoch: 19 [2560/9800 (26%)]\tLoss: 0.000423\n",
      "Train epoch: 19 [3840/9800 (39%)]\tLoss: 0.000463\n",
      "Train epoch: 19 [5120/9800 (52%)]\tLoss: 0.000463\n",
      "Train epoch: 19 [6400/9800 (65%)]\tLoss: 0.000304\n",
      "Train epoch: 19 [7680/9800 (78%)]\tLoss: 0.000314\n",
      "Train epoch: 19 [8960/9800 (91%)]\tLoss: 0.000385\n",
      "===> Epoch: 19 Average Loss: 0.0004\n",
      "MSE:  0.045076619735673853\n",
      "Train epoch: 20 [0/9800 (0%)]\tLoss: 0.000378\n",
      "Train epoch: 20 [1280/9800 (13%)]\tLoss: 0.000296\n",
      "Train epoch: 20 [2560/9800 (26%)]\tLoss: 0.000425\n",
      "Train epoch: 20 [3840/9800 (39%)]\tLoss: 0.000440\n",
      "Train epoch: 20 [5120/9800 (52%)]\tLoss: 0.000372\n",
      "Train epoch: 20 [6400/9800 (65%)]\tLoss: 0.000297\n",
      "Train epoch: 20 [7680/9800 (78%)]\tLoss: 0.000312\n",
      "Train epoch: 20 [8960/9800 (91%)]\tLoss: 0.000431\n",
      "===> Epoch: 20 Average Loss: 0.0004\n",
      "MSE:  0.045076619735673853\n",
      "Train epoch: 21 [0/9800 (0%)]\tLoss: 0.000366\n",
      "Train epoch: 21 [1280/9800 (13%)]\tLoss: 0.000305\n",
      "Train epoch: 21 [2560/9800 (26%)]\tLoss: 0.000432\n",
      "Train epoch: 21 [3840/9800 (39%)]\tLoss: 0.000469\n",
      "Train epoch: 21 [5120/9800 (52%)]\tLoss: 0.000375\n",
      "Train epoch: 21 [6400/9800 (65%)]\tLoss: 0.000294\n",
      "Train epoch: 21 [7680/9800 (78%)]\tLoss: 0.000308\n",
      "Train epoch: 21 [8960/9800 (91%)]\tLoss: 0.000532\n",
      "===> Epoch: 21 Average Loss: 0.0004\n",
      "MSE:  0.045076619735673853\n",
      "Train epoch: 22 [0/9800 (0%)]\tLoss: 0.000546\n",
      "Train epoch: 22 [1280/9800 (13%)]\tLoss: 0.000405\n",
      "Train epoch: 22 [2560/9800 (26%)]\tLoss: 0.000417\n",
      "Train epoch: 22 [3840/9800 (39%)]\tLoss: 0.000472\n",
      "Train epoch: 22 [5120/9800 (52%)]\tLoss: 0.000400\n",
      "Train epoch: 22 [6400/9800 (65%)]\tLoss: 0.000326\n",
      "Train epoch: 22 [7680/9800 (78%)]\tLoss: 0.000349\n",
      "Train epoch: 22 [8960/9800 (91%)]\tLoss: 0.000415\n",
      "===> Epoch: 22 Average Loss: 0.0004\n",
      "MSE:  0.045076619735673853\n",
      "Train epoch: 23 [0/9800 (0%)]\tLoss: 0.000392\n",
      "Train epoch: 23 [1280/9800 (13%)]\tLoss: 0.000298\n",
      "Train epoch: 23 [2560/9800 (26%)]\tLoss: 0.000399\n",
      "Train epoch: 23 [3840/9800 (39%)]\tLoss: 0.000530\n",
      "Train epoch: 23 [5120/9800 (52%)]\tLoss: 0.000427\n",
      "Train epoch: 23 [6400/9800 (65%)]\tLoss: 0.000295\n",
      "Train epoch: 23 [7680/9800 (78%)]\tLoss: 0.000293\n",
      "Train epoch: 23 [8960/9800 (91%)]\tLoss: 0.000384\n",
      "===> Epoch: 23 Average Loss: 0.0004\n",
      "MSE:  0.045076619735673853\n",
      "Train epoch: 24 [0/9800 (0%)]\tLoss: 0.000358\n",
      "Train epoch: 24 [1280/9800 (13%)]\tLoss: 0.000293\n",
      "Train epoch: 24 [2560/9800 (26%)]\tLoss: 0.000399\n",
      "Train epoch: 24 [3840/9800 (39%)]\tLoss: 0.000502\n",
      "Train epoch: 24 [5120/9800 (52%)]\tLoss: 0.000376\n",
      "Train epoch: 24 [6400/9800 (65%)]\tLoss: 0.000318\n",
      "Train epoch: 24 [7680/9800 (78%)]\tLoss: 0.000304\n",
      "Train epoch: 24 [8960/9800 (91%)]\tLoss: 0.000385\n",
      "===> Epoch: 24 Average Loss: 0.0004\n",
      "MSE:  0.045076619735673853\n",
      "Train epoch: 25 [0/9800 (0%)]\tLoss: 0.000369\n",
      "Train epoch: 25 [1280/9800 (13%)]\tLoss: 0.000293\n",
      "Train epoch: 25 [2560/9800 (26%)]\tLoss: 0.000400\n",
      "Train epoch: 25 [3840/9800 (39%)]\tLoss: 0.000478\n",
      "Train epoch: 25 [5120/9800 (52%)]\tLoss: 0.000360\n",
      "Train epoch: 25 [6400/9800 (65%)]\tLoss: 0.000374\n",
      "Train epoch: 25 [7680/9800 (78%)]\tLoss: 0.000301\n",
      "Train epoch: 25 [8960/9800 (91%)]\tLoss: 0.000424\n",
      "===> Epoch: 25 Average Loss: 0.0004\n",
      "MSE:  0.045076619735673853\n",
      "Train epoch: 26 [0/9800 (0%)]\tLoss: 0.000373\n",
      "Train epoch: 26 [1280/9800 (13%)]\tLoss: 0.000296\n",
      "Train epoch: 26 [2560/9800 (26%)]\tLoss: 0.000419\n",
      "Train epoch: 26 [3840/9800 (39%)]\tLoss: 0.000441\n",
      "Train epoch: 26 [5120/9800 (52%)]\tLoss: 0.000420\n",
      "Train epoch: 26 [6400/9800 (65%)]\tLoss: 0.000379\n",
      "Train epoch: 26 [7680/9800 (78%)]\tLoss: 0.000328\n",
      "Train epoch: 26 [8960/9800 (91%)]\tLoss: 0.000487\n",
      "===> Epoch: 26 Average Loss: 0.0004\n",
      "MSE:  0.045076619735673853\n",
      "Train epoch: 27 [0/9800 (0%)]\tLoss: 0.000404\n",
      "Train epoch: 27 [1280/9800 (13%)]\tLoss: 0.000353\n",
      "Train epoch: 27 [2560/9800 (26%)]\tLoss: 0.000388\n",
      "Train epoch: 27 [3840/9800 (39%)]\tLoss: 0.000478\n",
      "Train epoch: 27 [5120/9800 (52%)]\tLoss: 0.000374\n",
      "Train epoch: 27 [6400/9800 (65%)]\tLoss: 0.000296\n",
      "Train epoch: 27 [7680/9800 (78%)]\tLoss: 0.000363\n",
      "Train epoch: 27 [8960/9800 (91%)]\tLoss: 0.000383\n",
      "===> Epoch: 27 Average Loss: 0.0004\n",
      "MSE:  0.045076619735673853\n",
      "Train epoch: 28 [0/9800 (0%)]\tLoss: 0.000449\n",
      "Train epoch: 28 [1280/9800 (13%)]\tLoss: 0.000314\n",
      "Train epoch: 28 [2560/9800 (26%)]\tLoss: 0.000398\n",
      "Train epoch: 28 [3840/9800 (39%)]\tLoss: 0.000439\n",
      "Train epoch: 28 [5120/9800 (52%)]\tLoss: 0.000360\n",
      "Train epoch: 28 [6400/9800 (65%)]\tLoss: 0.000292\n",
      "Train epoch: 28 [7680/9800 (78%)]\tLoss: 0.000335\n",
      "Train epoch: 28 [8960/9800 (91%)]\tLoss: 0.000383\n",
      "===> Epoch: 28 Average Loss: 0.0004\n",
      "MSE:  0.045076619735673853\n",
      "Train epoch: 29 [0/9800 (0%)]\tLoss: 0.000400\n",
      "Train epoch: 29 [1280/9800 (13%)]\tLoss: 0.000327\n",
      "Train epoch: 29 [2560/9800 (26%)]\tLoss: 0.000383\n",
      "Train epoch: 29 [3840/9800 (39%)]\tLoss: 0.000441\n",
      "Train epoch: 29 [5120/9800 (52%)]\tLoss: 0.000363\n",
      "Train epoch: 29 [6400/9800 (65%)]\tLoss: 0.000292\n",
      "Train epoch: 29 [7680/9800 (78%)]\tLoss: 0.000323\n",
      "Train epoch: 29 [8960/9800 (91%)]\tLoss: 0.000396\n",
      "===> Epoch: 29 Average Loss: 0.0004\n",
      "MSE:  0.045076619735673853\n",
      "Train epoch: 30 [0/9800 (0%)]\tLoss: 0.000367\n",
      "Train epoch: 30 [1280/9800 (13%)]\tLoss: 0.000338\n",
      "Train epoch: 30 [2560/9800 (26%)]\tLoss: 0.000389\n",
      "Train epoch: 30 [3840/9800 (39%)]\tLoss: 0.000438\n",
      "Train epoch: 30 [5120/9800 (52%)]\tLoss: 0.000367\n",
      "Train epoch: 30 [6400/9800 (65%)]\tLoss: 0.000299\n",
      "Train epoch: 30 [7680/9800 (78%)]\tLoss: 0.000305\n",
      "Train epoch: 30 [8960/9800 (91%)]\tLoss: 0.000415\n",
      "===> Epoch: 30 Average Loss: 0.0004\n",
      "MSE:  0.045076619735673853\n",
      "Train epoch: 31 [0/9800 (0%)]\tLoss: 0.000351\n",
      "Train epoch: 31 [1280/9800 (13%)]\tLoss: 0.000332\n",
      "Train epoch: 31 [2560/9800 (26%)]\tLoss: 0.000417\n",
      "Train epoch: 31 [3840/9800 (39%)]\tLoss: 0.000444\n",
      "Train epoch: 31 [5120/9800 (52%)]\tLoss: 0.000366\n",
      "Train epoch: 31 [6400/9800 (65%)]\tLoss: 0.000314\n",
      "Train epoch: 31 [7680/9800 (78%)]\tLoss: 0.000291\n",
      "Train epoch: 31 [8960/9800 (91%)]\tLoss: 0.000414\n",
      "===> Epoch: 31 Average Loss: 0.0004\n",
      "MSE:  0.045076619735673853\n",
      "Train epoch: 32 [0/9800 (0%)]\tLoss: 0.000367\n",
      "Train epoch: 32 [1280/9800 (13%)]\tLoss: 0.000300\n",
      "Train epoch: 32 [2560/9800 (26%)]\tLoss: 0.000432\n",
      "Train epoch: 32 [3840/9800 (39%)]\tLoss: 0.000483\n",
      "Train epoch: 32 [5120/9800 (52%)]\tLoss: 0.000365\n",
      "Train epoch: 32 [6400/9800 (65%)]\tLoss: 0.000307\n",
      "Train epoch: 32 [7680/9800 (78%)]\tLoss: 0.000326\n",
      "Train epoch: 32 [8960/9800 (91%)]\tLoss: 0.000381\n",
      "===> Epoch: 32 Average Loss: 0.0004\n",
      "MSE:  0.045076619735673853\n",
      "Train epoch: 33 [0/9800 (0%)]\tLoss: 0.000375\n",
      "Train epoch: 33 [1280/9800 (13%)]\tLoss: 0.000301\n",
      "Train epoch: 33 [2560/9800 (26%)]\tLoss: 0.000389\n",
      "Train epoch: 33 [3840/9800 (39%)]\tLoss: 0.000500\n",
      "Train epoch: 33 [5120/9800 (52%)]\tLoss: 0.000437\n",
      "Train epoch: 33 [6400/9800 (65%)]\tLoss: 0.000304\n",
      "Train epoch: 33 [7680/9800 (78%)]\tLoss: 0.000308\n",
      "Train epoch: 33 [8960/9800 (91%)]\tLoss: 0.000398\n",
      "===> Epoch: 33 Average Loss: 0.0004\n",
      "MSE:  0.045076619735673853\n",
      "Train epoch: 34 [0/9800 (0%)]\tLoss: 0.000350\n",
      "Train epoch: 34 [1280/9800 (13%)]\tLoss: 0.000303\n",
      "Train epoch: 34 [2560/9800 (26%)]\tLoss: 0.000384\n",
      "Train epoch: 34 [3840/9800 (39%)]\tLoss: 0.000456\n",
      "Train epoch: 34 [5120/9800 (52%)]\tLoss: 0.000440\n",
      "Train epoch: 34 [6400/9800 (65%)]\tLoss: 0.000348\n",
      "Train epoch: 34 [7680/9800 (78%)]\tLoss: 0.000291\n",
      "Train epoch: 34 [8960/9800 (91%)]\tLoss: 0.000386\n",
      "===> Epoch: 34 Average Loss: 0.0004\n",
      "MSE:  0.045076619735673853\n",
      "Train epoch: 35 [0/9800 (0%)]\tLoss: 0.000360\n",
      "Train epoch: 35 [1280/9800 (13%)]\tLoss: 0.000291\n",
      "Train epoch: 35 [2560/9800 (26%)]\tLoss: 0.000385\n",
      "Train epoch: 35 [3840/9800 (39%)]\tLoss: 0.000439\n",
      "Train epoch: 35 [5120/9800 (52%)]\tLoss: 0.000404\n",
      "Train epoch: 35 [6400/9800 (65%)]\tLoss: 0.000355\n",
      "Train epoch: 35 [7680/9800 (78%)]\tLoss: 0.000302\n",
      "Train epoch: 35 [8960/9800 (91%)]\tLoss: 0.000379\n",
      "===> Epoch: 35 Average Loss: 0.0004\n",
      "MSE:  0.045076619735673853\n",
      "Train epoch: 36 [0/9800 (0%)]\tLoss: 0.000357\n",
      "Train epoch: 36 [1280/9800 (13%)]\tLoss: 0.000290\n",
      "Train epoch: 36 [2560/9800 (26%)]\tLoss: 0.000383\n",
      "Train epoch: 36 [3840/9800 (39%)]\tLoss: 0.000436\n",
      "Train epoch: 36 [5120/9800 (52%)]\tLoss: 0.000383\n",
      "Train epoch: 36 [6400/9800 (65%)]\tLoss: 0.000347\n"
     ]
    },
    {
     "name": "stdout",
     "output_type": "stream",
     "text": [
      "Train epoch: 36 [7680/9800 (78%)]\tLoss: 0.000312\n",
      "Train epoch: 36 [8960/9800 (91%)]\tLoss: 0.000381\n",
      "===> Epoch: 36 Average Loss: 0.0004\n",
      "MSE:  0.045076619735673853\n",
      "Train epoch: 37 [0/9800 (0%)]\tLoss: 0.000352\n",
      "Train epoch: 37 [1280/9800 (13%)]\tLoss: 0.000291\n",
      "Train epoch: 37 [2560/9800 (26%)]\tLoss: 0.000382\n",
      "Train epoch: 37 [3840/9800 (39%)]\tLoss: 0.000436\n",
      "Train epoch: 37 [5120/9800 (52%)]\tLoss: 0.000370\n",
      "Train epoch: 37 [6400/9800 (65%)]\tLoss: 0.000337\n",
      "Train epoch: 37 [7680/9800 (78%)]\tLoss: 0.000317\n",
      "Train epoch: 37 [8960/9800 (91%)]\tLoss: 0.000389\n",
      "===> Epoch: 37 Average Loss: 0.0004\n",
      "MSE:  0.045076619735673853\n",
      "Train epoch: 38 [0/9800 (0%)]\tLoss: 0.000350\n",
      "Train epoch: 38 [1280/9800 (13%)]\tLoss: 0.000291\n",
      "Train epoch: 38 [2560/9800 (26%)]\tLoss: 0.000382\n",
      "Train epoch: 38 [3840/9800 (39%)]\tLoss: 0.000437\n",
      "Train epoch: 38 [5120/9800 (52%)]\tLoss: 0.000362\n",
      "Train epoch: 38 [6400/9800 (65%)]\tLoss: 0.000322\n",
      "Train epoch: 38 [7680/9800 (78%)]\tLoss: 0.000314\n",
      "Train epoch: 38 [8960/9800 (91%)]\tLoss: 0.000399\n",
      "===> Epoch: 38 Average Loss: 0.0004\n",
      "MSE:  0.045076619735673853\n",
      "Train epoch: 39 [0/9800 (0%)]\tLoss: 0.000358\n",
      "Train epoch: 39 [1280/9800 (13%)]\tLoss: 0.000296\n",
      "Train epoch: 39 [2560/9800 (26%)]\tLoss: 0.000387\n",
      "Train epoch: 39 [3840/9800 (39%)]\tLoss: 0.000441\n",
      "Train epoch: 39 [5120/9800 (52%)]\tLoss: 0.000358\n",
      "Train epoch: 39 [6400/9800 (65%)]\tLoss: 0.000302\n",
      "Train epoch: 39 [7680/9800 (78%)]\tLoss: 0.000295\n",
      "Train epoch: 39 [8960/9800 (91%)]\tLoss: 0.000395\n",
      "===> Epoch: 39 Average Loss: 0.0004\n",
      "MSE:  0.045076619735673853\n",
      "Train epoch: 40 [0/9800 (0%)]\tLoss: 0.000377\n",
      "Train epoch: 40 [1280/9800 (13%)]\tLoss: 0.000336\n",
      "Train epoch: 40 [2560/9800 (26%)]\tLoss: 0.000436\n",
      "Train epoch: 40 [3840/9800 (39%)]\tLoss: 0.000493\n",
      "Train epoch: 40 [5120/9800 (52%)]\tLoss: 0.000403\n",
      "Train epoch: 40 [6400/9800 (65%)]\tLoss: 0.000314\n",
      "Train epoch: 40 [7680/9800 (78%)]\tLoss: 0.000363\n",
      "Train epoch: 40 [8960/9800 (91%)]\tLoss: 0.000432\n",
      "===> Epoch: 40 Average Loss: 0.0004\n",
      "MSE:  0.045076619735673853\n",
      "Train epoch: 41 [0/9800 (0%)]\tLoss: 0.000365\n",
      "Train epoch: 41 [1280/9800 (13%)]\tLoss: 0.000292\n",
      "Train epoch: 41 [2560/9800 (26%)]\tLoss: 0.000400\n",
      "Train epoch: 41 [3840/9800 (39%)]\tLoss: 0.000497\n",
      "Train epoch: 41 [5120/9800 (52%)]\tLoss: 0.000444\n",
      "Train epoch: 41 [6400/9800 (65%)]\tLoss: 0.000429\n",
      "Train epoch: 41 [7680/9800 (78%)]\tLoss: 0.000495\n",
      "Train epoch: 41 [8960/9800 (91%)]\tLoss: 0.000556\n",
      "===> Epoch: 41 Average Loss: 0.0004\n",
      "MSE:  0.045076619735673853\n",
      "Train epoch: 42 [0/9800 (0%)]\tLoss: 0.000495\n",
      "Train epoch: 42 [1280/9800 (13%)]\tLoss: 0.000305\n",
      "Train epoch: 42 [2560/9800 (26%)]\tLoss: 0.000386\n",
      "Train epoch: 42 [3840/9800 (39%)]\tLoss: 0.000464\n",
      "Train epoch: 42 [5120/9800 (52%)]\tLoss: 0.000393\n",
      "Train epoch: 42 [6400/9800 (65%)]\tLoss: 0.000352\n",
      "Train epoch: 42 [7680/9800 (78%)]\tLoss: 0.000384\n",
      "Train epoch: 42 [8960/9800 (91%)]\tLoss: 0.000417\n",
      "===> Epoch: 42 Average Loss: 0.0004\n",
      "MSE:  0.045076619735673853\n",
      "Train epoch: 43 [0/9800 (0%)]\tLoss: 0.000380\n",
      "Train epoch: 43 [1280/9800 (13%)]\tLoss: 0.000301\n",
      "Train epoch: 43 [2560/9800 (26%)]\tLoss: 0.000427\n",
      "Train epoch: 43 [3840/9800 (39%)]\tLoss: 0.000465\n",
      "Train epoch: 43 [5120/9800 (52%)]\tLoss: 0.000366\n",
      "Train epoch: 43 [6400/9800 (65%)]\tLoss: 0.000298\n",
      "Train epoch: 43 [7680/9800 (78%)]\tLoss: 0.000309\n",
      "Train epoch: 43 [8960/9800 (91%)]\tLoss: 0.000379\n",
      "===> Epoch: 43 Average Loss: 0.0004\n",
      "MSE:  0.045076619735673853\n",
      "Train epoch: 44 [0/9800 (0%)]\tLoss: 0.000349\n",
      "Train epoch: 44 [1280/9800 (13%)]\tLoss: 0.000340\n",
      "Train epoch: 44 [2560/9800 (26%)]\tLoss: 0.000432\n",
      "Train epoch: 44 [3840/9800 (39%)]\tLoss: 0.000441\n",
      "Train epoch: 44 [5120/9800 (52%)]\tLoss: 0.000359\n",
      "Train epoch: 44 [6400/9800 (65%)]\tLoss: 0.000290\n",
      "Train epoch: 44 [7680/9800 (78%)]\tLoss: 0.000295\n",
      "Train epoch: 44 [8960/9800 (91%)]\tLoss: 0.000379\n",
      "===> Epoch: 44 Average Loss: 0.0004\n",
      "MSE:  0.045076619735673853\n",
      "Train epoch: 45 [0/9800 (0%)]\tLoss: 0.000352\n",
      "Train epoch: 45 [1280/9800 (13%)]\tLoss: 0.000348\n",
      "Train epoch: 45 [2560/9800 (26%)]\tLoss: 0.000413\n",
      "Train epoch: 45 [3840/9800 (39%)]\tLoss: 0.000437\n",
      "Train epoch: 45 [5120/9800 (52%)]\tLoss: 0.000371\n",
      "Train epoch: 45 [6400/9800 (65%)]\tLoss: 0.000290\n",
      "Train epoch: 45 [7680/9800 (78%)]\tLoss: 0.000294\n",
      "Train epoch: 45 [8960/9800 (91%)]\tLoss: 0.000379\n",
      "===> Epoch: 45 Average Loss: 0.0004\n",
      "MSE:  0.045076619735673853\n",
      "Train epoch: 46 [0/9800 (0%)]\tLoss: 0.000355\n",
      "Train epoch: 46 [1280/9800 (13%)]\tLoss: 0.000347\n",
      "Train epoch: 46 [2560/9800 (26%)]\tLoss: 0.000397\n",
      "Train epoch: 46 [3840/9800 (39%)]\tLoss: 0.000446\n",
      "Train epoch: 46 [5120/9800 (52%)]\tLoss: 0.000383\n",
      "Train epoch: 46 [6400/9800 (65%)]\tLoss: 0.000290\n",
      "Train epoch: 46 [7680/9800 (78%)]\tLoss: 0.000297\n",
      "Train epoch: 46 [8960/9800 (91%)]\tLoss: 0.000379\n",
      "===> Epoch: 46 Average Loss: 0.0004\n",
      "MSE:  0.045076619735673853\n",
      "Train epoch: 47 [0/9800 (0%)]\tLoss: 0.000358\n",
      "Train epoch: 47 [1280/9800 (13%)]\tLoss: 0.000342\n",
      "Train epoch: 47 [2560/9800 (26%)]\tLoss: 0.000386\n",
      "Train epoch: 47 [3840/9800 (39%)]\tLoss: 0.000462\n",
      "Train epoch: 47 [5120/9800 (52%)]\tLoss: 0.000388\n",
      "Train epoch: 47 [6400/9800 (65%)]\tLoss: 0.000289\n",
      "Train epoch: 47 [7680/9800 (78%)]\tLoss: 0.000302\n",
      "Train epoch: 47 [8960/9800 (91%)]\tLoss: 0.000380\n",
      "===> Epoch: 47 Average Loss: 0.0004\n",
      "MSE:  0.045076619735673853\n",
      "Train epoch: 48 [0/9800 (0%)]\tLoss: 0.000363\n",
      "Train epoch: 48 [1280/9800 (13%)]\tLoss: 0.000339\n",
      "Train epoch: 48 [2560/9800 (26%)]\tLoss: 0.000381\n",
      "Train epoch: 48 [3840/9800 (39%)]\tLoss: 0.000482\n",
      "Train epoch: 48 [5120/9800 (52%)]\tLoss: 0.000385\n",
      "Train epoch: 48 [6400/9800 (65%)]\tLoss: 0.000294\n",
      "Train epoch: 48 [7680/9800 (78%)]\tLoss: 0.000310\n",
      "Train epoch: 48 [8960/9800 (91%)]\tLoss: 0.000382\n",
      "===> Epoch: 48 Average Loss: 0.0004\n",
      "MSE:  0.045076619735673853\n",
      "Train epoch: 49 [0/9800 (0%)]\tLoss: 0.000374\n",
      "Train epoch: 49 [1280/9800 (13%)]\tLoss: 0.000335\n",
      "Train epoch: 49 [2560/9800 (26%)]\tLoss: 0.000385\n",
      "Train epoch: 49 [3840/9800 (39%)]\tLoss: 0.000500\n",
      "Train epoch: 49 [5120/9800 (52%)]\tLoss: 0.000371\n",
      "Train epoch: 49 [6400/9800 (65%)]\tLoss: 0.000312\n",
      "Train epoch: 49 [7680/9800 (78%)]\tLoss: 0.000315\n",
      "Train epoch: 49 [8960/9800 (91%)]\tLoss: 0.000393\n",
      "===> Epoch: 49 Average Loss: 0.0004\n",
      "MSE:  0.045076619735673853\n",
      "Train epoch: 50 [0/9800 (0%)]\tLoss: 0.000398\n",
      "Train epoch: 50 [1280/9800 (13%)]\tLoss: 0.000324\n",
      "Train epoch: 50 [2560/9800 (26%)]\tLoss: 0.000412\n",
      "Train epoch: 50 [3840/9800 (39%)]\tLoss: 0.000525\n",
      "Train epoch: 50 [5120/9800 (52%)]\tLoss: 0.000356\n",
      "Train epoch: 50 [6400/9800 (65%)]\tLoss: 0.000365\n",
      "Train epoch: 50 [7680/9800 (78%)]\tLoss: 0.000303\n",
      "Train epoch: 50 [8960/9800 (91%)]\tLoss: 0.000441\n",
      "===> Epoch: 50 Average Loss: 0.0004\n",
      "MSE:  0.045076619735673853\n",
      "Train epoch: 51 [0/9800 (0%)]\tLoss: 0.000444\n",
      "Train epoch: 51 [1280/9800 (13%)]\tLoss: 0.000294\n",
      "Train epoch: 51 [2560/9800 (26%)]\tLoss: 0.000504\n",
      "Train epoch: 51 [3840/9800 (39%)]\tLoss: 0.000489\n",
      "Train epoch: 51 [5120/9800 (52%)]\tLoss: 0.000412\n",
      "Train epoch: 51 [6400/9800 (65%)]\tLoss: 0.000361\n",
      "Train epoch: 51 [7680/9800 (78%)]\tLoss: 0.000305\n",
      "Train epoch: 51 [8960/9800 (91%)]\tLoss: 0.000493\n",
      "===> Epoch: 51 Average Loss: 0.0004\n",
      "MSE:  0.045076619735673853\n",
      "Train epoch: 52 [0/9800 (0%)]\tLoss: 0.000412\n",
      "Train epoch: 52 [1280/9800 (13%)]\tLoss: 0.000335\n",
      "Train epoch: 52 [2560/9800 (26%)]\tLoss: 0.000518\n",
      "Train epoch: 52 [3840/9800 (39%)]\tLoss: 0.000441\n",
      "Train epoch: 52 [5120/9800 (52%)]\tLoss: 0.000456\n",
      "Train epoch: 52 [6400/9800 (65%)]\tLoss: 0.000290\n",
      "Train epoch: 52 [7680/9800 (78%)]\tLoss: 0.000365\n",
      "Train epoch: 52 [8960/9800 (91%)]\tLoss: 0.000403\n",
      "===> Epoch: 52 Average Loss: 0.0004\n",
      "MSE:  0.045076619735673853\n",
      "Train epoch: 53 [0/9800 (0%)]\tLoss: 0.000349\n",
      "Train epoch: 53 [1280/9800 (13%)]\tLoss: 0.000345\n",
      "Train epoch: 53 [2560/9800 (26%)]\tLoss: 0.000413\n",
      "Train epoch: 53 [3840/9800 (39%)]\tLoss: 0.000469\n",
      "Train epoch: 53 [5120/9800 (52%)]\tLoss: 0.000398\n",
      "Train epoch: 53 [6400/9800 (65%)]\tLoss: 0.000300\n",
      "Train epoch: 53 [7680/9800 (78%)]\tLoss: 0.000329\n",
      "Train epoch: 53 [8960/9800 (91%)]\tLoss: 0.000381\n",
      "===> Epoch: 53 Average Loss: 0.0004\n",
      "MSE:  0.045076619735673853\n",
      "Train epoch: 54 [0/9800 (0%)]\tLoss: 0.000349\n",
      "Train epoch: 54 [1280/9800 (13%)]\tLoss: 0.000318\n",
      "Train epoch: 54 [2560/9800 (26%)]\tLoss: 0.000394\n",
      "Train epoch: 54 [3840/9800 (39%)]\tLoss: 0.000467\n",
      "Train epoch: 54 [5120/9800 (52%)]\tLoss: 0.000378\n",
      "Train epoch: 54 [6400/9800 (65%)]\tLoss: 0.000302\n",
      "Train epoch: 54 [7680/9800 (78%)]\tLoss: 0.000313\n",
      "Train epoch: 54 [8960/9800 (91%)]\tLoss: 0.000378\n"
     ]
    },
    {
     "name": "stdout",
     "output_type": "stream",
     "text": [
      "===> Epoch: 54 Average Loss: 0.0004\n",
      "MSE:  0.045076619735673853\n",
      "Train epoch: 55 [0/9800 (0%)]\tLoss: 0.000350\n",
      "Train epoch: 55 [1280/9800 (13%)]\tLoss: 0.000307\n",
      "Train epoch: 55 [2560/9800 (26%)]\tLoss: 0.000389\n",
      "Train epoch: 55 [3840/9800 (39%)]\tLoss: 0.000463\n",
      "Train epoch: 55 [5120/9800 (52%)]\tLoss: 0.000370\n",
      "Train epoch: 55 [6400/9800 (65%)]\tLoss: 0.000302\n",
      "Train epoch: 55 [7680/9800 (78%)]\tLoss: 0.000305\n",
      "Train epoch: 55 [8960/9800 (91%)]\tLoss: 0.000377\n",
      "===> Epoch: 55 Average Loss: 0.0004\n",
      "MSE:  0.045076619735673853\n",
      "Train epoch: 56 [0/9800 (0%)]\tLoss: 0.000350\n",
      "Train epoch: 56 [1280/9800 (13%)]\tLoss: 0.000301\n",
      "Train epoch: 56 [2560/9800 (26%)]\tLoss: 0.000386\n",
      "Train epoch: 56 [3840/9800 (39%)]\tLoss: 0.000460\n",
      "Train epoch: 56 [5120/9800 (52%)]\tLoss: 0.000366\n",
      "Train epoch: 56 [6400/9800 (65%)]\tLoss: 0.000301\n",
      "Train epoch: 56 [7680/9800 (78%)]\tLoss: 0.000300\n",
      "Train epoch: 56 [8960/9800 (91%)]\tLoss: 0.000377\n",
      "===> Epoch: 56 Average Loss: 0.0004\n",
      "MSE:  0.045076619735673853\n",
      "Train epoch: 57 [0/9800 (0%)]\tLoss: 0.000350\n",
      "Train epoch: 57 [1280/9800 (13%)]\tLoss: 0.000298\n",
      "Train epoch: 57 [2560/9800 (26%)]\tLoss: 0.000384\n",
      "Train epoch: 57 [3840/9800 (39%)]\tLoss: 0.000457\n",
      "Train epoch: 57 [5120/9800 (52%)]\tLoss: 0.000363\n",
      "Train epoch: 57 [6400/9800 (65%)]\tLoss: 0.000301\n",
      "Train epoch: 57 [7680/9800 (78%)]\tLoss: 0.000296\n",
      "Train epoch: 57 [8960/9800 (91%)]\tLoss: 0.000377\n",
      "===> Epoch: 57 Average Loss: 0.0004\n",
      "MSE:  0.045076619735673853\n",
      "Train epoch: 58 [0/9800 (0%)]\tLoss: 0.000350\n",
      "Train epoch: 58 [1280/9800 (13%)]\tLoss: 0.000295\n",
      "Train epoch: 58 [2560/9800 (26%)]\tLoss: 0.000382\n",
      "Train epoch: 58 [3840/9800 (39%)]\tLoss: 0.000455\n",
      "Train epoch: 58 [5120/9800 (52%)]\tLoss: 0.000361\n",
      "Train epoch: 58 [6400/9800 (65%)]\tLoss: 0.000300\n",
      "Train epoch: 58 [7680/9800 (78%)]\tLoss: 0.000294\n",
      "Train epoch: 58 [8960/9800 (91%)]\tLoss: 0.000377\n",
      "===> Epoch: 58 Average Loss: 0.0004\n",
      "MSE:  0.045076619735673853\n",
      "Train epoch: 59 [0/9800 (0%)]\tLoss: 0.000350\n",
      "Train epoch: 59 [1280/9800 (13%)]\tLoss: 0.000293\n",
      "Train epoch: 59 [2560/9800 (26%)]\tLoss: 0.000381\n",
      "Train epoch: 59 [3840/9800 (39%)]\tLoss: 0.000453\n",
      "Train epoch: 59 [5120/9800 (52%)]\tLoss: 0.000359\n",
      "Train epoch: 59 [6400/9800 (65%)]\tLoss: 0.000299\n",
      "Train epoch: 59 [7680/9800 (78%)]\tLoss: 0.000292\n",
      "Train epoch: 59 [8960/9800 (91%)]\tLoss: 0.000377\n",
      "===> Epoch: 59 Average Loss: 0.0004\n",
      "MSE:  0.045076619735673853\n",
      "Train epoch: 60 [0/9800 (0%)]\tLoss: 0.000350\n",
      "Train epoch: 60 [1280/9800 (13%)]\tLoss: 0.000292\n",
      "Train epoch: 60 [2560/9800 (26%)]\tLoss: 0.000381\n",
      "Train epoch: 60 [3840/9800 (39%)]\tLoss: 0.000451\n",
      "Train epoch: 60 [5120/9800 (52%)]\tLoss: 0.000358\n",
      "Train epoch: 60 [6400/9800 (65%)]\tLoss: 0.000299\n",
      "Train epoch: 60 [7680/9800 (78%)]\tLoss: 0.000291\n",
      "Train epoch: 60 [8960/9800 (91%)]\tLoss: 0.000377\n",
      "===> Epoch: 60 Average Loss: 0.0004\n",
      "MSE:  0.045076619735673853\n",
      "Train epoch: 61 [0/9800 (0%)]\tLoss: 0.000351\n",
      "Train epoch: 61 [1280/9800 (13%)]\tLoss: 0.000291\n",
      "Train epoch: 61 [2560/9800 (26%)]\tLoss: 0.000380\n",
      "Train epoch: 61 [3840/9800 (39%)]\tLoss: 0.000450\n",
      "Train epoch: 61 [5120/9800 (52%)]\tLoss: 0.000358\n",
      "Train epoch: 61 [6400/9800 (65%)]\tLoss: 0.000298\n",
      "Train epoch: 61 [7680/9800 (78%)]\tLoss: 0.000290\n",
      "Train epoch: 61 [8960/9800 (91%)]\tLoss: 0.000377\n",
      "===> Epoch: 61 Average Loss: 0.0004\n",
      "MSE:  0.045076619735673853\n",
      "Train epoch: 62 [0/9800 (0%)]\tLoss: 0.000351\n",
      "Train epoch: 62 [1280/9800 (13%)]\tLoss: 0.000291\n",
      "Train epoch: 62 [2560/9800 (26%)]\tLoss: 0.000380\n",
      "Train epoch: 62 [3840/9800 (39%)]\tLoss: 0.000449\n",
      "Train epoch: 62 [5120/9800 (52%)]\tLoss: 0.000357\n",
      "Train epoch: 62 [6400/9800 (65%)]\tLoss: 0.000298\n",
      "Train epoch: 62 [7680/9800 (78%)]\tLoss: 0.000289\n",
      "Train epoch: 62 [8960/9800 (91%)]\tLoss: 0.000377\n",
      "===> Epoch: 62 Average Loss: 0.0004\n",
      "MSE:  0.045076619735673853\n",
      "Train epoch: 63 [0/9800 (0%)]\tLoss: 0.000351\n",
      "Train epoch: 63 [1280/9800 (13%)]\tLoss: 0.000290\n",
      "Train epoch: 63 [2560/9800 (26%)]\tLoss: 0.000379\n",
      "Train epoch: 63 [3840/9800 (39%)]\tLoss: 0.000448\n",
      "Train epoch: 63 [5120/9800 (52%)]\tLoss: 0.000356\n",
      "Train epoch: 63 [6400/9800 (65%)]\tLoss: 0.000297\n",
      "Train epoch: 63 [7680/9800 (78%)]\tLoss: 0.000288\n",
      "Train epoch: 63 [8960/9800 (91%)]\tLoss: 0.000377\n",
      "===> Epoch: 63 Average Loss: 0.0004\n",
      "MSE:  0.045076619735673853\n",
      "Train epoch: 64 [0/9800 (0%)]\tLoss: 0.000351\n",
      "Train epoch: 64 [1280/9800 (13%)]\tLoss: 0.000290\n",
      "Train epoch: 64 [2560/9800 (26%)]\tLoss: 0.000379\n",
      "Train epoch: 64 [3840/9800 (39%)]\tLoss: 0.000447\n",
      "Train epoch: 64 [5120/9800 (52%)]\tLoss: 0.000356\n",
      "Train epoch: 64 [6400/9800 (65%)]\tLoss: 0.000297\n",
      "Train epoch: 64 [7680/9800 (78%)]\tLoss: 0.000288\n",
      "Train epoch: 64 [8960/9800 (91%)]\tLoss: 0.000377\n",
      "===> Epoch: 64 Average Loss: 0.0004\n",
      "MSE:  0.045076619735673853\n",
      "Train epoch: 65 [0/9800 (0%)]\tLoss: 0.000351\n",
      "Train epoch: 65 [1280/9800 (13%)]\tLoss: 0.000290\n",
      "Train epoch: 65 [2560/9800 (26%)]\tLoss: 0.000379\n",
      "Train epoch: 65 [3840/9800 (39%)]\tLoss: 0.000446\n",
      "Train epoch: 65 [5120/9800 (52%)]\tLoss: 0.000356\n",
      "Train epoch: 65 [6400/9800 (65%)]\tLoss: 0.000296\n",
      "Train epoch: 65 [7680/9800 (78%)]\tLoss: 0.000288\n",
      "Train epoch: 65 [8960/9800 (91%)]\tLoss: 0.000377\n",
      "===> Epoch: 65 Average Loss: 0.0004\n",
      "MSE:  0.045076619735673853\n",
      "Train epoch: 66 [0/9800 (0%)]\tLoss: 0.000351\n",
      "Train epoch: 66 [1280/9800 (13%)]\tLoss: 0.000289\n",
      "Train epoch: 66 [2560/9800 (26%)]\tLoss: 0.000379\n",
      "Train epoch: 66 [3840/9800 (39%)]\tLoss: 0.000445\n",
      "Train epoch: 66 [5120/9800 (52%)]\tLoss: 0.000356\n",
      "Train epoch: 66 [6400/9800 (65%)]\tLoss: 0.000296\n",
      "Train epoch: 66 [7680/9800 (78%)]\tLoss: 0.000287\n",
      "Train epoch: 66 [8960/9800 (91%)]\tLoss: 0.000377\n",
      "===> Epoch: 66 Average Loss: 0.0004\n",
      "MSE:  0.045076619735673853\n",
      "Train epoch: 67 [0/9800 (0%)]\tLoss: 0.000351\n",
      "Train epoch: 67 [1280/9800 (13%)]\tLoss: 0.000289\n",
      "Train epoch: 67 [2560/9800 (26%)]\tLoss: 0.000379\n",
      "Train epoch: 67 [3840/9800 (39%)]\tLoss: 0.000444\n",
      "Train epoch: 67 [5120/9800 (52%)]\tLoss: 0.000355\n",
      "Train epoch: 67 [6400/9800 (65%)]\tLoss: 0.000295\n",
      "Train epoch: 67 [7680/9800 (78%)]\tLoss: 0.000287\n",
      "Train epoch: 67 [8960/9800 (91%)]\tLoss: 0.000377\n",
      "===> Epoch: 67 Average Loss: 0.0004\n",
      "MSE:  0.045076619735673853\n",
      "Train epoch: 68 [0/9800 (0%)]\tLoss: 0.000351\n",
      "Train epoch: 68 [1280/9800 (13%)]\tLoss: 0.000289\n",
      "Train epoch: 68 [2560/9800 (26%)]\tLoss: 0.000379\n",
      "Train epoch: 68 [3840/9800 (39%)]\tLoss: 0.000444\n",
      "Train epoch: 68 [5120/9800 (52%)]\tLoss: 0.000355\n",
      "Train epoch: 68 [6400/9800 (65%)]\tLoss: 0.000295\n",
      "Train epoch: 68 [7680/9800 (78%)]\tLoss: 0.000287\n",
      "Train epoch: 68 [8960/9800 (91%)]\tLoss: 0.000377\n",
      "===> Epoch: 68 Average Loss: 0.0004\n",
      "MSE:  0.045076619735673853\n",
      "Train epoch: 69 [0/9800 (0%)]\tLoss: 0.000350\n",
      "Train epoch: 69 [1280/9800 (13%)]\tLoss: 0.000289\n",
      "Train epoch: 69 [2560/9800 (26%)]\tLoss: 0.000379\n",
      "Train epoch: 69 [3840/9800 (39%)]\tLoss: 0.000443\n"
     ]
    },
    {
     "ename": "KeyboardInterrupt",
     "evalue": "",
     "output_type": "error",
     "traceback": [
      "\u001b[0;31m---------------------------------------------------------------------------\u001b[0m",
      "\u001b[0;31mKeyboardInterrupt\u001b[0m                         Traceback (most recent call last)",
      "\u001b[0;32m/tmp/ipykernel_1419873/1001993505.py\u001b[0m in \u001b[0;36m<module>\u001b[0;34m\u001b[0m\n\u001b[1;32m      5\u001b[0m     \u001b[0mmodel\u001b[0m\u001b[0;34m.\u001b[0m\u001b[0mtrain\u001b[0m\u001b[0;34m(\u001b[0m\u001b[0;34m)\u001b[0m\u001b[0;34m\u001b[0m\u001b[0;34m\u001b[0m\u001b[0m\n\u001b[1;32m      6\u001b[0m     \u001b[0mavg_mse\u001b[0m \u001b[0;34m=\u001b[0m \u001b[0;36m0\u001b[0m\u001b[0;34m\u001b[0m\u001b[0;34m\u001b[0m\u001b[0m\n\u001b[0;32m----> 7\u001b[0;31m     \u001b[0;32mfor\u001b[0m \u001b[0mbatch_idx\u001b[0m\u001b[0;34m,\u001b[0m \u001b[0;34m(\u001b[0m\u001b[0mdata\u001b[0m\u001b[0;34m,\u001b[0m \u001b[0my\u001b[0m\u001b[0;34m)\u001b[0m \u001b[0;32min\u001b[0m \u001b[0menumerate\u001b[0m\u001b[0;34m(\u001b[0m\u001b[0mtrain_loader\u001b[0m\u001b[0;34m)\u001b[0m\u001b[0;34m:\u001b[0m\u001b[0;34m\u001b[0m\u001b[0;34m\u001b[0m\u001b[0m\n\u001b[0m\u001b[1;32m      8\u001b[0m         \u001b[0;31m# Add training data to GPU\u001b[0m\u001b[0;34m\u001b[0m\u001b[0;34m\u001b[0m\u001b[0;34m\u001b[0m\u001b[0m\n\u001b[1;32m      9\u001b[0m         \u001b[0mdata\u001b[0m \u001b[0;34m=\u001b[0m \u001b[0mdata\u001b[0m\u001b[0;34m.\u001b[0m\u001b[0mto\u001b[0m\u001b[0;34m(\u001b[0m\u001b[0mdevice\u001b[0m\u001b[0;34m)\u001b[0m\u001b[0;34m\u001b[0m\u001b[0;34m\u001b[0m\u001b[0m\n",
      "\u001b[0;32m/opt/conda/lib/python3.7/site-packages/torch/utils/data/dataloader.py\u001b[0m in \u001b[0;36m__next__\u001b[0;34m(self)\u001b[0m\n\u001b[1;32m    519\u001b[0m             \u001b[0;32mif\u001b[0m \u001b[0mself\u001b[0m\u001b[0;34m.\u001b[0m\u001b[0m_sampler_iter\u001b[0m \u001b[0;32mis\u001b[0m \u001b[0;32mNone\u001b[0m\u001b[0;34m:\u001b[0m\u001b[0;34m\u001b[0m\u001b[0;34m\u001b[0m\u001b[0m\n\u001b[1;32m    520\u001b[0m                 \u001b[0mself\u001b[0m\u001b[0;34m.\u001b[0m\u001b[0m_reset\u001b[0m\u001b[0;34m(\u001b[0m\u001b[0;34m)\u001b[0m\u001b[0;34m\u001b[0m\u001b[0;34m\u001b[0m\u001b[0m\n\u001b[0;32m--> 521\u001b[0;31m             \u001b[0mdata\u001b[0m \u001b[0;34m=\u001b[0m \u001b[0mself\u001b[0m\u001b[0;34m.\u001b[0m\u001b[0m_next_data\u001b[0m\u001b[0;34m(\u001b[0m\u001b[0;34m)\u001b[0m\u001b[0;34m\u001b[0m\u001b[0;34m\u001b[0m\u001b[0m\n\u001b[0m\u001b[1;32m    522\u001b[0m             \u001b[0mself\u001b[0m\u001b[0;34m.\u001b[0m\u001b[0m_num_yielded\u001b[0m \u001b[0;34m+=\u001b[0m \u001b[0;36m1\u001b[0m\u001b[0;34m\u001b[0m\u001b[0;34m\u001b[0m\u001b[0m\n\u001b[1;32m    523\u001b[0m             \u001b[0;32mif\u001b[0m \u001b[0mself\u001b[0m\u001b[0;34m.\u001b[0m\u001b[0m_dataset_kind\u001b[0m \u001b[0;34m==\u001b[0m \u001b[0m_DatasetKind\u001b[0m\u001b[0;34m.\u001b[0m\u001b[0mIterable\u001b[0m \u001b[0;32mand\u001b[0m\u001b[0;31m \u001b[0m\u001b[0;31m\\\u001b[0m\u001b[0;34m\u001b[0m\u001b[0;34m\u001b[0m\u001b[0m\n",
      "\u001b[0;32m/opt/conda/lib/python3.7/site-packages/torch/utils/data/dataloader.py\u001b[0m in \u001b[0;36m_next_data\u001b[0;34m(self)\u001b[0m\n\u001b[1;32m    559\u001b[0m     \u001b[0;32mdef\u001b[0m \u001b[0m_next_data\u001b[0m\u001b[0;34m(\u001b[0m\u001b[0mself\u001b[0m\u001b[0;34m)\u001b[0m\u001b[0;34m:\u001b[0m\u001b[0;34m\u001b[0m\u001b[0;34m\u001b[0m\u001b[0m\n\u001b[1;32m    560\u001b[0m         \u001b[0mindex\u001b[0m \u001b[0;34m=\u001b[0m \u001b[0mself\u001b[0m\u001b[0;34m.\u001b[0m\u001b[0m_next_index\u001b[0m\u001b[0;34m(\u001b[0m\u001b[0;34m)\u001b[0m  \u001b[0;31m# may raise StopIteration\u001b[0m\u001b[0;34m\u001b[0m\u001b[0;34m\u001b[0m\u001b[0m\n\u001b[0;32m--> 561\u001b[0;31m         \u001b[0mdata\u001b[0m \u001b[0;34m=\u001b[0m \u001b[0mself\u001b[0m\u001b[0;34m.\u001b[0m\u001b[0m_dataset_fetcher\u001b[0m\u001b[0;34m.\u001b[0m\u001b[0mfetch\u001b[0m\u001b[0;34m(\u001b[0m\u001b[0mindex\u001b[0m\u001b[0;34m)\u001b[0m  \u001b[0;31m# may raise StopIteration\u001b[0m\u001b[0;34m\u001b[0m\u001b[0;34m\u001b[0m\u001b[0m\n\u001b[0m\u001b[1;32m    562\u001b[0m         \u001b[0;32mif\u001b[0m \u001b[0mself\u001b[0m\u001b[0;34m.\u001b[0m\u001b[0m_pin_memory\u001b[0m\u001b[0;34m:\u001b[0m\u001b[0;34m\u001b[0m\u001b[0;34m\u001b[0m\u001b[0m\n\u001b[1;32m    563\u001b[0m             \u001b[0mdata\u001b[0m \u001b[0;34m=\u001b[0m \u001b[0m_utils\u001b[0m\u001b[0;34m.\u001b[0m\u001b[0mpin_memory\u001b[0m\u001b[0;34m.\u001b[0m\u001b[0mpin_memory\u001b[0m\u001b[0;34m(\u001b[0m\u001b[0mdata\u001b[0m\u001b[0;34m)\u001b[0m\u001b[0;34m\u001b[0m\u001b[0;34m\u001b[0m\u001b[0m\n",
      "\u001b[0;32m/opt/conda/lib/python3.7/site-packages/torch/utils/data/_utils/fetch.py\u001b[0m in \u001b[0;36mfetch\u001b[0;34m(self, possibly_batched_index)\u001b[0m\n\u001b[1;32m     50\u001b[0m         \u001b[0;32melse\u001b[0m\u001b[0;34m:\u001b[0m\u001b[0;34m\u001b[0m\u001b[0;34m\u001b[0m\u001b[0m\n\u001b[1;32m     51\u001b[0m             \u001b[0mdata\u001b[0m \u001b[0;34m=\u001b[0m \u001b[0mself\u001b[0m\u001b[0;34m.\u001b[0m\u001b[0mdataset\u001b[0m\u001b[0;34m[\u001b[0m\u001b[0mpossibly_batched_index\u001b[0m\u001b[0;34m]\u001b[0m\u001b[0;34m\u001b[0m\u001b[0;34m\u001b[0m\u001b[0m\n\u001b[0;32m---> 52\u001b[0;31m         \u001b[0;32mreturn\u001b[0m \u001b[0mself\u001b[0m\u001b[0;34m.\u001b[0m\u001b[0mcollate_fn\u001b[0m\u001b[0;34m(\u001b[0m\u001b[0mdata\u001b[0m\u001b[0;34m)\u001b[0m\u001b[0;34m\u001b[0m\u001b[0;34m\u001b[0m\u001b[0m\n\u001b[0m",
      "\u001b[0;32m/opt/conda/lib/python3.7/site-packages/torch/utils/data/_utils/collate.py\u001b[0m in \u001b[0;36mdefault_collate\u001b[0;34m(batch)\u001b[0m\n\u001b[1;32m     82\u001b[0m             \u001b[0;32mraise\u001b[0m \u001b[0mRuntimeError\u001b[0m\u001b[0;34m(\u001b[0m\u001b[0;34m'each element in list of batch should be of equal size'\u001b[0m\u001b[0;34m)\u001b[0m\u001b[0;34m\u001b[0m\u001b[0;34m\u001b[0m\u001b[0m\n\u001b[1;32m     83\u001b[0m         \u001b[0mtransposed\u001b[0m \u001b[0;34m=\u001b[0m \u001b[0mzip\u001b[0m\u001b[0;34m(\u001b[0m\u001b[0;34m*\u001b[0m\u001b[0mbatch\u001b[0m\u001b[0;34m)\u001b[0m\u001b[0;34m\u001b[0m\u001b[0;34m\u001b[0m\u001b[0m\n\u001b[0;32m---> 84\u001b[0;31m         \u001b[0;32mreturn\u001b[0m \u001b[0;34m[\u001b[0m\u001b[0mdefault_collate\u001b[0m\u001b[0;34m(\u001b[0m\u001b[0msamples\u001b[0m\u001b[0;34m)\u001b[0m \u001b[0;32mfor\u001b[0m \u001b[0msamples\u001b[0m \u001b[0;32min\u001b[0m \u001b[0mtransposed\u001b[0m\u001b[0;34m]\u001b[0m\u001b[0;34m\u001b[0m\u001b[0;34m\u001b[0m\u001b[0m\n\u001b[0m\u001b[1;32m     85\u001b[0m \u001b[0;34m\u001b[0m\u001b[0m\n\u001b[1;32m     86\u001b[0m     \u001b[0;32mraise\u001b[0m \u001b[0mTypeError\u001b[0m\u001b[0;34m(\u001b[0m\u001b[0mdefault_collate_err_msg_format\u001b[0m\u001b[0;34m.\u001b[0m\u001b[0mformat\u001b[0m\u001b[0;34m(\u001b[0m\u001b[0melem_type\u001b[0m\u001b[0;34m)\u001b[0m\u001b[0;34m)\u001b[0m\u001b[0;34m\u001b[0m\u001b[0;34m\u001b[0m\u001b[0m\n",
      "\u001b[0;32m/opt/conda/lib/python3.7/site-packages/torch/utils/data/_utils/collate.py\u001b[0m in \u001b[0;36m<listcomp>\u001b[0;34m(.0)\u001b[0m\n\u001b[1;32m     82\u001b[0m             \u001b[0;32mraise\u001b[0m \u001b[0mRuntimeError\u001b[0m\u001b[0;34m(\u001b[0m\u001b[0;34m'each element in list of batch should be of equal size'\u001b[0m\u001b[0;34m)\u001b[0m\u001b[0;34m\u001b[0m\u001b[0;34m\u001b[0m\u001b[0m\n\u001b[1;32m     83\u001b[0m         \u001b[0mtransposed\u001b[0m \u001b[0;34m=\u001b[0m \u001b[0mzip\u001b[0m\u001b[0;34m(\u001b[0m\u001b[0;34m*\u001b[0m\u001b[0mbatch\u001b[0m\u001b[0;34m)\u001b[0m\u001b[0;34m\u001b[0m\u001b[0;34m\u001b[0m\u001b[0m\n\u001b[0;32m---> 84\u001b[0;31m         \u001b[0;32mreturn\u001b[0m \u001b[0;34m[\u001b[0m\u001b[0mdefault_collate\u001b[0m\u001b[0;34m(\u001b[0m\u001b[0msamples\u001b[0m\u001b[0;34m)\u001b[0m \u001b[0;32mfor\u001b[0m \u001b[0msamples\u001b[0m \u001b[0;32min\u001b[0m \u001b[0mtransposed\u001b[0m\u001b[0;34m]\u001b[0m\u001b[0;34m\u001b[0m\u001b[0;34m\u001b[0m\u001b[0m\n\u001b[0m\u001b[1;32m     85\u001b[0m \u001b[0;34m\u001b[0m\u001b[0m\n\u001b[1;32m     86\u001b[0m     \u001b[0;32mraise\u001b[0m \u001b[0mTypeError\u001b[0m\u001b[0;34m(\u001b[0m\u001b[0mdefault_collate_err_msg_format\u001b[0m\u001b[0;34m.\u001b[0m\u001b[0mformat\u001b[0m\u001b[0;34m(\u001b[0m\u001b[0melem_type\u001b[0m\u001b[0;34m)\u001b[0m\u001b[0;34m)\u001b[0m\u001b[0;34m\u001b[0m\u001b[0;34m\u001b[0m\u001b[0m\n",
      "\u001b[0;32m/opt/conda/lib/python3.7/site-packages/torch/utils/data/_utils/collate.py\u001b[0m in \u001b[0;36mdefault_collate\u001b[0;34m(batch)\u001b[0m\n\u001b[1;32m     54\u001b[0m             \u001b[0mstorage\u001b[0m \u001b[0;34m=\u001b[0m \u001b[0melem\u001b[0m\u001b[0;34m.\u001b[0m\u001b[0mstorage\u001b[0m\u001b[0;34m(\u001b[0m\u001b[0;34m)\u001b[0m\u001b[0;34m.\u001b[0m\u001b[0m_new_shared\u001b[0m\u001b[0;34m(\u001b[0m\u001b[0mnumel\u001b[0m\u001b[0;34m)\u001b[0m\u001b[0;34m\u001b[0m\u001b[0;34m\u001b[0m\u001b[0m\n\u001b[1;32m     55\u001b[0m             \u001b[0mout\u001b[0m \u001b[0;34m=\u001b[0m \u001b[0melem\u001b[0m\u001b[0;34m.\u001b[0m\u001b[0mnew\u001b[0m\u001b[0;34m(\u001b[0m\u001b[0mstorage\u001b[0m\u001b[0;34m)\u001b[0m\u001b[0;34m\u001b[0m\u001b[0;34m\u001b[0m\u001b[0m\n\u001b[0;32m---> 56\u001b[0;31m         \u001b[0;32mreturn\u001b[0m \u001b[0mtorch\u001b[0m\u001b[0;34m.\u001b[0m\u001b[0mstack\u001b[0m\u001b[0;34m(\u001b[0m\u001b[0mbatch\u001b[0m\u001b[0;34m,\u001b[0m \u001b[0;36m0\u001b[0m\u001b[0;34m,\u001b[0m \u001b[0mout\u001b[0m\u001b[0;34m=\u001b[0m\u001b[0mout\u001b[0m\u001b[0;34m)\u001b[0m\u001b[0;34m\u001b[0m\u001b[0;34m\u001b[0m\u001b[0m\n\u001b[0m\u001b[1;32m     57\u001b[0m     \u001b[0;32melif\u001b[0m \u001b[0melem_type\u001b[0m\u001b[0;34m.\u001b[0m\u001b[0m__module__\u001b[0m \u001b[0;34m==\u001b[0m \u001b[0;34m'numpy'\u001b[0m \u001b[0;32mand\u001b[0m \u001b[0melem_type\u001b[0m\u001b[0;34m.\u001b[0m\u001b[0m__name__\u001b[0m \u001b[0;34m!=\u001b[0m \u001b[0;34m'str_'\u001b[0m\u001b[0;31m \u001b[0m\u001b[0;31m\\\u001b[0m\u001b[0;34m\u001b[0m\u001b[0;34m\u001b[0m\u001b[0m\n\u001b[1;32m     58\u001b[0m             \u001b[0;32mand\u001b[0m \u001b[0melem_type\u001b[0m\u001b[0;34m.\u001b[0m\u001b[0m__name__\u001b[0m \u001b[0;34m!=\u001b[0m \u001b[0;34m'string_'\u001b[0m\u001b[0;34m:\u001b[0m\u001b[0;34m\u001b[0m\u001b[0;34m\u001b[0m\u001b[0m\n",
      "\u001b[0;31mKeyboardInterrupt\u001b[0m: "
     ]
    }
   ],
   "source": [
    "for epoch in range(EPOCHS):\n",
    "    epoch_train_loss = 0\n",
    "    epoch_test_loss = 0\n",
    "    # Run method on training\n",
    "    model.train()\n",
    "    avg_mse = 0\n",
    "    for batch_idx, (data, y) in enumerate(train_loader):\n",
    "        # Add training data to GPU\n",
    "        data = data.to(device)\n",
    "        y = y.to(device)\n",
    "        optimizer.zero_grad()\n",
    "        y_hat = model(data)\n",
    "        y_hat = y_hat.to(device)\n",
    "        loss = model.loss_function(y, y_hat)\n",
    "        loss.backward()\n",
    "        optimizer.step()\n",
    "        with torch.no_grad():\n",
    "            avg_mse += torch.mean(MSE).item()\n",
    "        epoch_train_loss += loss.item()\n",
    "\n",
    "        if batch_idx % print_rate == 0:\n",
    "            print(\n",
    "                \"Train epoch: {} [{}/{} ({:.0f}%)]\\tLoss: {:.6f}\".format(\n",
    "                    epoch,\n",
    "                    batch_idx * len(data),\n",
    "                    len(train_loader.dataset),\n",
    "                    100.0 * batch_idx / len(train_loader),\n",
    "                    loss.item() / len(data),\n",
    "                )\n",
    "            )\n",
    "    print(\n",
    "        \"===> Epoch: {} Average Loss: {:.4f}\".format(\n",
    "            epoch, epoch_train_loss / len(train_loader.dataset)\n",
    "        )\n",
    "    )\n",
    "    print(\"MSE: \", avg_mse / batch_idx)"
   ]
  },
  {
   "cell_type": "code",
   "execution_count": 116,
   "id": "631ba251",
   "metadata": {},
   "outputs": [
    {
     "data": {
      "text/plain": [
       "<matplotlib.collections.PathCollection at 0x7efb6f5b5810>"
      ]
     },
     "execution_count": 116,
     "metadata": {},
     "output_type": "execute_result"
    },
    {
     "data": {
      "image/png": "[encoded data removed]",
      "text/plain": [
       "<Figure size 432x288 with 1 Axes>"
      ]
     },
     "metadata": {
      "needs_background": "light"
     },
     "output_type": "display_data"
    }
   ],
   "source": [
    "y_vals = []\n",
    "y_preds = []\n",
    "for x, y in train_loader:\n",
    "    x = x.to(device)\n",
    "    y_vals.append(y)\n",
    "    y_hat = model(x)\n",
    "    y_preds.append(y_hat)\n",
    "\n",
    "y_vals = torch.cat(y_vals).cpu().detach()\n",
    "y_preds = torch.cat(y_preds).cpu().detach()\n",
    "perfect = np.linspace(min(y_vals), max(y_vals), 100)\n",
    "plt.plot(perfect, perfect, '--', color='red')\n",
    "plt.xlabel(\"Predicted value\")\n",
    "plt.ylabel(\"Actual value\")\n",
    "plt.scatter(y_preds, y_vals)"
   ]
  },
  {
   "cell_type": "code",
   "execution_count": 50,
   "id": "31fe6186",
   "metadata": {},
   "outputs": [],
   "source": [
    "df = tweets.x"
   ]
  },
  {
   "cell_type": "code",
   "execution_count": 78,
   "id": "bf32b85a",
   "metadata": {},
   "outputs": [],
   "source": [
    "x_train_new = []\n",
    "y_train_new = []\n",
    "for x, y in train_loader:\n",
    "    x_train_new.append(x.detach().cpu().numpy().reshape(-1, 7244))\n",
    "    y_train_new.append(y.detach().cpu().numpy().reshape(-1,1))"
   ]
  },
  {
   "cell_type": "code",
   "execution_count": 87,
   "id": "bc3024d6",
   "metadata": {},
   "outputs": [],
   "source": [
    "x_train_new = np.concatenate(x_train_new)\n",
    "y_train_new = np.concatenate(y_train_new)"
   ]
  },
  {
   "cell_type": "code",
   "execution_count": 88,
   "id": "91a336aa",
   "metadata": {},
   "outputs": [],
   "source": [
    "from sklearn.neighbors import KNeighborsRegressor"
   ]
  },
  {
   "cell_type": "code",
   "execution_count": 89,
   "id": "ba5f58ec",
   "metadata": {},
   "outputs": [],
   "source": [
    "model = KNeighborsRegressor(n_neighbors=5).fit(x_train_new, y_train_new)"
   ]
  },
  {
   "cell_type": "code",
   "execution_count": 91,
   "id": "c9d34a37",
   "metadata": {},
   "outputs": [],
   "source": [
    "y_pred = model.predict(x_train_new)"
   ]
  },
  {
   "cell_type": "code",
   "execution_count": 92,
   "id": "d45d93f9",
   "metadata": {},
   "outputs": [
    {
     "data": {
      "text/plain": [
       "0.9999999999999606"
      ]
     },
     "execution_count": 92,
     "metadata": {},
     "output_type": "execute_result"
    }
   ],
   "source": [
    "model.score(x_train_new, y_train_new)"
   ]
  },
  {
   "cell_type": "code",
   "execution_count": 93,
   "id": "d1db28ad",
   "metadata": {},
   "outputs": [],
   "source": [
    "x_test_new = []\n",
    "y_test_new = []\n",
    "for x, y in test_loader:\n",
    "    x_test_new.append(x.detach().cpu().numpy().reshape(-1, 7244))\n",
    "    y_test_new.append(y.detach().cpu().numpy().reshape(-1,1))"
   ]
  },
  {
   "cell_type": "code",
   "execution_count": 96,
   "id": "7b1e7c7f",
   "metadata": {},
   "outputs": [],
   "source": [
    "x_test_new = np.concatenate(x_test_new)\n",
    "y_test_new = np.concatenate(y_test_new)"
   ]
  },
  {
   "cell_type": "code",
   "execution_count": 97,
   "id": "f5b97650",
   "metadata": {},
   "outputs": [
    {
     "data": {
      "text/plain": [
       "0.7806294117597303"
      ]
     },
     "execution_count": 97,
     "metadata": {},
     "output_type": "execute_result"
    }
   ],
   "source": [
    "model.score(x_test_new, y_test_new)"
   ]
  },
  {
   "cell_type": "code",
   "execution_count": 99,
   "id": "714802de",
   "metadata": {},
   "outputs": [],
   "source": [
    "y_preds = model.predict(x_test_new)"
   ]
  },
  {
   "cell_type": "code",
   "execution_count": 100,
   "id": "a0527c21",
   "metadata": {},
   "outputs": [
    {
     "data": {
      "image/png": "[encoded data removed]",
      "text/plain": [
       "<Figure size 432x288 with 1 Axes>"
      ]
     },
     "metadata": {
      "needs_background": "light"
     },
     "output_type": "display_data"
    }
   ],
   "source": [
    "perfect = np.linspace(min(y_test_new), max(y_test_new), 100)\n",
    "plt.scatter(y_preds, y_test_new)\n",
    "\n",
    "plt.plot(perfect, perfect, '--', color='red')\n",
    "plt.show()\n"
   ]
  }
 ],
 "metadata": {
  "kernelspec": {
   "display_name": "Python 3 (ipykernel)",
   "language": "python",
   "name": "python3"
  },
  "language_info": {
   "codemirror_mode": {
    "name": "ipython",
    "version": 3
   },
   "file_extension": ".py",
   "mimetype": "text/x-python",
   "name": "python",
   "nbconvert_exporter": "python",
   "pygments_lexer": "ipython3",
   "version": "3.7.11"
  }
 },
 "nbformat": 4,
 "nbformat_minor": 5
}
