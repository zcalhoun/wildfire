{
 "cells": [
  {
   "cell_type": "code",
   "execution_count": 1,
   "id": "7a098993",
   "metadata": {},
   "outputs": [],
   "source": [
    "from searchTwitter import TwitterSearchTerm\n"
   ]
  },
  {
   "cell_type": "code",
   "execution_count": 6,
   "id": "f17b6fee",
   "metadata": {},
   "outputs": [],
   "source": [
    "words = [\n",
    "    \"haze\",\n",
    "    \"smog\",\n",
    "    \"(air quality)\",\n",
    "    \"(air pollution)\",\n",
    "    \"breathe\",\n",
    "    \"asthma\",\n",
    "    \"toxic\",\n",
    "    \"lungs\",\n",
    "    \"cough\",\n",
    "    \"wildfire\",\n",
    "    \"(forest fire)\",\n",
    "    \"headache\",\n",
    "    \"(itchy eyes)\",\n",
    "    \"(sore throat)\"\n",
    "]\n",
    "query_term = \"(\"+\" OR \".join(words)+\") -has:links -is:retweet has:geo -has:media place_country:us\""
   ]
  },
  {
   "cell_type": "code",
   "execution_count": 7,
   "id": "84bbc779",
   "metadata": {},
   "outputs": [
    {
     "name": "stdout",
     "output_type": "stream",
     "text": [
      "===========================================\n",
      "Total tweets for query (haze OR smog OR (air quality) OR (air pollution) OR breathe OR asthma OR toxic OR lungs OR cough OR wildfire OR (forest fire) OR headache OR (itchy eyes) OR (sore throat)) -has:links -is:retweet has:geo -has:media place_country:us :\n",
      "1171134\n",
      "===========================================\n"
     ]
    }
   ],
   "source": [
    "searchQuery = TwitterSearchTerm(query_term, \"2018-01-01T00:00:00z\",\"2021-10-01T00:00:00z\")\n",
    "df = searchQuery.get_term_count()"
   ]
  }
 ],
 "metadata": {
  "kernelspec": {
   "display_name": "Python 3",
   "language": "python",
   "name": "python3"
  },
  "language_info": {
   "codemirror_mode": {
    "name": "ipython",
    "version": 3
   },
   "file_extension": ".py",
   "mimetype": "text/x-python",
   "name": "python",
   "nbconvert_exporter": "python",
   "pygments_lexer": "ipython3",
   "version": "3.8.8"
  }
 },
 "nbformat": 4,
 "nbformat_minor": 5
}
